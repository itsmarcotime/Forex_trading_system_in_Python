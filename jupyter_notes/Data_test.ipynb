{
 "cells": [
  {
   "cell_type": "code",
   "execution_count": 1,
   "metadata": {},
   "outputs": [],
   "source": [
    "import pandas as pd"
   ]
  },
  {
   "cell_type": "code",
   "execution_count": 14,
   "metadata": {},
   "outputs": [],
   "source": [
    "df = pd.read_pickle(\"../data/GBP_JPY_M5.pkl\")"
   ]
  },
  {
   "cell_type": "code",
   "execution_count": 15,
   "metadata": {},
   "outputs": [
    {
     "name": "stdout",
     "output_type": "stream",
     "text": [
      "<class 'pandas.core.frame.DataFrame'>\n",
      "RangeIndex: 446362 entries, 0 to 446361\n",
      "Data columns (total 14 columns):\n",
      " #   Column  Non-Null Count   Dtype                  \n",
      "---  ------  --------------   -----                  \n",
      " 0   time    446362 non-null  datetime64[ns, tzutc()]\n",
      " 1   volume  446362 non-null  int64                  \n",
      " 2   mid_o   446362 non-null  float64                \n",
      " 3   mid_h   446362 non-null  float64                \n",
      " 4   mid_l   446362 non-null  float64                \n",
      " 5   mid_c   446362 non-null  float64                \n",
      " 6   bid_o   446362 non-null  float64                \n",
      " 7   bid_h   446362 non-null  float64                \n",
      " 8   bid_l   446362 non-null  float64                \n",
      " 9   bid_c   446362 non-null  float64                \n",
      " 10  ask_o   446362 non-null  float64                \n",
      " 11  ask_h   446362 non-null  float64                \n",
      " 12  ask_l   446362 non-null  float64                \n",
      " 13  ask_c   446362 non-null  float64                \n",
      "dtypes: datetime64[ns, tzutc()](1), float64(12), int64(1)\n",
      "memory usage: 47.7 MB\n"
     ]
    }
   ],
   "source": [
    "df.info()"
   ]
  },
  {
   "cell_type": "code",
   "execution_count": 13,
   "metadata": {},
   "outputs": [
    {
     "data": {
      "text/html": [
       "<div>\n",
       "<style scoped>\n",
       "    .dataframe tbody tr th:only-of-type {\n",
       "        vertical-align: middle;\n",
       "    }\n",
       "\n",
       "    .dataframe tbody tr th {\n",
       "        vertical-align: top;\n",
       "    }\n",
       "\n",
       "    .dataframe thead th {\n",
       "        text-align: right;\n",
       "    }\n",
       "</style>\n",
       "<table border=\"1\" class=\"dataframe\">\n",
       "  <thead>\n",
       "    <tr style=\"text-align: right;\">\n",
       "      <th></th>\n",
       "      <th>time</th>\n",
       "      <th>volume</th>\n",
       "      <th>mid_o</th>\n",
       "      <th>mid_h</th>\n",
       "      <th>mid_l</th>\n",
       "      <th>mid_c</th>\n",
       "      <th>bid_o</th>\n",
       "      <th>bid_h</th>\n",
       "      <th>bid_l</th>\n",
       "      <th>bid_c</th>\n",
       "      <th>ask_o</th>\n",
       "      <th>ask_h</th>\n",
       "      <th>ask_l</th>\n",
       "      <th>ask_c</th>\n",
       "    </tr>\n",
       "  </thead>\n",
       "  <tbody>\n",
       "    <tr>\n",
       "      <th>0</th>\n",
       "      <td>2016-01-07 00:00:00+00:00</td>\n",
       "      <td>147</td>\n",
       "      <td>83.968</td>\n",
       "      <td>84.022</td>\n",
       "      <td>83.943</td>\n",
       "      <td>83.969</td>\n",
       "      <td>83.956</td>\n",
       "      <td>84.008</td>\n",
       "      <td>83.931</td>\n",
       "      <td>83.956</td>\n",
       "      <td>83.980</td>\n",
       "      <td>84.035</td>\n",
       "      <td>83.955</td>\n",
       "      <td>83.982</td>\n",
       "    </tr>\n",
       "    <tr>\n",
       "      <th>1</th>\n",
       "      <td>2016-01-07 00:05:00+00:00</td>\n",
       "      <td>126</td>\n",
       "      <td>83.971</td>\n",
       "      <td>84.056</td>\n",
       "      <td>83.960</td>\n",
       "      <td>84.030</td>\n",
       "      <td>83.959</td>\n",
       "      <td>84.044</td>\n",
       "      <td>83.947</td>\n",
       "      <td>84.018</td>\n",
       "      <td>83.983</td>\n",
       "      <td>84.069</td>\n",
       "      <td>83.971</td>\n",
       "      <td>84.042</td>\n",
       "    </tr>\n",
       "    <tr>\n",
       "      <th>2</th>\n",
       "      <td>2016-01-07 00:10:00+00:00</td>\n",
       "      <td>92</td>\n",
       "      <td>84.033</td>\n",
       "      <td>84.041</td>\n",
       "      <td>83.962</td>\n",
       "      <td>83.962</td>\n",
       "      <td>84.021</td>\n",
       "      <td>84.029</td>\n",
       "      <td>83.950</td>\n",
       "      <td>83.951</td>\n",
       "      <td>84.045</td>\n",
       "      <td>84.053</td>\n",
       "      <td>83.974</td>\n",
       "      <td>83.974</td>\n",
       "    </tr>\n",
       "    <tr>\n",
       "      <th>3</th>\n",
       "      <td>2016-01-07 00:15:00+00:00</td>\n",
       "      <td>98</td>\n",
       "      <td>83.960</td>\n",
       "      <td>84.000</td>\n",
       "      <td>83.940</td>\n",
       "      <td>84.000</td>\n",
       "      <td>83.948</td>\n",
       "      <td>83.989</td>\n",
       "      <td>83.928</td>\n",
       "      <td>83.989</td>\n",
       "      <td>83.973</td>\n",
       "      <td>84.010</td>\n",
       "      <td>83.953</td>\n",
       "      <td>84.010</td>\n",
       "    </tr>\n",
       "    <tr>\n",
       "      <th>4</th>\n",
       "      <td>2016-01-07 00:20:00+00:00</td>\n",
       "      <td>117</td>\n",
       "      <td>83.997</td>\n",
       "      <td>84.010</td>\n",
       "      <td>83.958</td>\n",
       "      <td>83.964</td>\n",
       "      <td>83.985</td>\n",
       "      <td>84.000</td>\n",
       "      <td>83.946</td>\n",
       "      <td>83.953</td>\n",
       "      <td>84.009</td>\n",
       "      <td>84.020</td>\n",
       "      <td>83.969</td>\n",
       "      <td>83.976</td>\n",
       "    </tr>\n",
       "  </tbody>\n",
       "</table>\n",
       "</div>"
      ],
      "text/plain": [
       "                       time  volume   mid_o   mid_h   mid_l   mid_c   bid_o  \\\n",
       "0 2016-01-07 00:00:00+00:00     147  83.968  84.022  83.943  83.969  83.956   \n",
       "1 2016-01-07 00:05:00+00:00     126  83.971  84.056  83.960  84.030  83.959   \n",
       "2 2016-01-07 00:10:00+00:00      92  84.033  84.041  83.962  83.962  84.021   \n",
       "3 2016-01-07 00:15:00+00:00      98  83.960  84.000  83.940  84.000  83.948   \n",
       "4 2016-01-07 00:20:00+00:00     117  83.997  84.010  83.958  83.964  83.985   \n",
       "\n",
       "    bid_h   bid_l   bid_c   ask_o   ask_h   ask_l   ask_c  \n",
       "0  84.008  83.931  83.956  83.980  84.035  83.955  83.982  \n",
       "1  84.044  83.947  84.018  83.983  84.069  83.971  84.042  \n",
       "2  84.029  83.950  83.951  84.045  84.053  83.974  83.974  \n",
       "3  83.989  83.928  83.989  83.973  84.010  83.953  84.010  \n",
       "4  84.000  83.946  83.953  84.009  84.020  83.969  83.976  "
      ]
     },
     "execution_count": 13,
     "metadata": {},
     "output_type": "execute_result"
    }
   ],
   "source": [
    "df.head()"
   ]
  },
  {
   "cell_type": "code",
   "execution_count": null,
   "metadata": {},
   "outputs": [],
   "source": []
  },
  {
   "cell_type": "code",
   "execution_count": null,
   "metadata": {},
   "outputs": [],
   "source": []
  },
  {
   "cell_type": "code",
   "execution_count": null,
   "metadata": {},
   "outputs": [],
   "source": []
  },
  {
   "cell_type": "code",
   "execution_count": null,
   "metadata": {},
   "outputs": [],
   "source": []
  }
 ],
 "metadata": {
  "kernelspec": {
   "display_name": "venv",
   "language": "python",
   "name": "python3"
  },
  "language_info": {
   "codemirror_mode": {
    "name": "ipython",
    "version": 3
   },
   "file_extension": ".py",
   "mimetype": "text/x-python",
   "name": "python",
   "nbconvert_exporter": "python",
   "pygments_lexer": "ipython3",
   "version": "3.11.1"
  },
  "orig_nbformat": 4
 },
 "nbformat": 4,
 "nbformat_minor": 2
}
