{
 "cells": [
  {
   "cell_type": "code",
   "execution_count": 2,
   "metadata": {},
   "outputs": [],
   "source": [
    "import sys\n",
    "sys.path.append(\"../\")"
   ]
  },
  {
   "cell_type": "code",
   "execution_count": 3,
   "metadata": {},
   "outputs": [],
   "source": [
    "import pandas as pd\n",
    "import plotly.graph_objects as go\n",
    "from technicals.indicators import RSI\n",
    "from technicals.patterns import apply_patterns\n",
    "from plotting import CandlePlot\n",
    "import datetime as dt"
   ]
  },
  {
   "cell_type": "code",
   "execution_count": 4,
   "metadata": {},
   "outputs": [],
   "source": [
    "df_raw = pd.read_pickle(\"../data/EUR_USD_H1.pkl\")"
   ]
  },
  {
   "cell_type": "code",
   "execution_count": 5,
   "metadata": {},
   "outputs": [
    {
     "data": {
      "text/plain": [
       "(37219, 14)"
      ]
     },
     "execution_count": 5,
     "metadata": {},
     "output_type": "execute_result"
    }
   ],
   "source": [
    "df_raw.shape"
   ]
  },
  {
   "cell_type": "code",
   "execution_count": 6,
   "metadata": {},
   "outputs": [],
   "source": [
    "df_an = df_raw.copy() #df_raw.iloc[-6000:].copy()\n",
    "df_an.reset_index(drop=True, inplace=True)"
   ]
  },
  {
   "cell_type": "code",
   "execution_count": 7,
   "metadata": {},
   "outputs": [
    {
     "data": {
      "text/plain": [
       "(37219, 14)"
      ]
     },
     "execution_count": 7,
     "metadata": {},
     "output_type": "execute_result"
    }
   ],
   "source": [
    "df_an.shape"
   ]
  },
  {
   "cell_type": "code",
   "execution_count": 8,
   "metadata": {},
   "outputs": [],
   "source": [
    "df_an = RSI(df_an)"
   ]
  },
  {
   "cell_type": "code",
   "execution_count": 9,
   "metadata": {},
   "outputs": [
    {
     "data": {
      "text/html": [
       "<div>\n",
       "<style scoped>\n",
       "    .dataframe tbody tr th:only-of-type {\n",
       "        vertical-align: middle;\n",
       "    }\n",
       "\n",
       "    .dataframe tbody tr th {\n",
       "        vertical-align: top;\n",
       "    }\n",
       "\n",
       "    .dataframe thead th {\n",
       "        text-align: right;\n",
       "    }\n",
       "</style>\n",
       "<table border=\"1\" class=\"dataframe\">\n",
       "  <thead>\n",
       "    <tr style=\"text-align: right;\">\n",
       "      <th></th>\n",
       "      <th>time</th>\n",
       "      <th>volume</th>\n",
       "      <th>mid_o</th>\n",
       "      <th>mid_h</th>\n",
       "      <th>mid_l</th>\n",
       "      <th>mid_c</th>\n",
       "      <th>bid_o</th>\n",
       "      <th>bid_h</th>\n",
       "      <th>bid_l</th>\n",
       "      <th>bid_c</th>\n",
       "      <th>ask_o</th>\n",
       "      <th>ask_h</th>\n",
       "      <th>ask_l</th>\n",
       "      <th>ask_c</th>\n",
       "      <th>RSI_14</th>\n",
       "    </tr>\n",
       "  </thead>\n",
       "  <tbody>\n",
       "    <tr>\n",
       "      <th>37214</th>\n",
       "      <td>2021-12-30 19:00:00+00:00</td>\n",
       "      <td>1063</td>\n",
       "      <td>1.13058</td>\n",
       "      <td>1.13298</td>\n",
       "      <td>1.13043</td>\n",
       "      <td>1.13274</td>\n",
       "      <td>1.13052</td>\n",
       "      <td>1.13291</td>\n",
       "      <td>1.13036</td>\n",
       "      <td>1.13267</td>\n",
       "      <td>1.13065</td>\n",
       "      <td>1.13306</td>\n",
       "      <td>1.13049</td>\n",
       "      <td>1.13280</td>\n",
       "      <td>51.407635</td>\n",
       "    </tr>\n",
       "    <tr>\n",
       "      <th>37215</th>\n",
       "      <td>2021-12-30 20:00:00+00:00</td>\n",
       "      <td>1092</td>\n",
       "      <td>1.13272</td>\n",
       "      <td>1.13304</td>\n",
       "      <td>1.13185</td>\n",
       "      <td>1.13193</td>\n",
       "      <td>1.13264</td>\n",
       "      <td>1.13297</td>\n",
       "      <td>1.13177</td>\n",
       "      <td>1.13186</td>\n",
       "      <td>1.13279</td>\n",
       "      <td>1.13311</td>\n",
       "      <td>1.13192</td>\n",
       "      <td>1.13200</td>\n",
       "      <td>48.671929</td>\n",
       "    </tr>\n",
       "    <tr>\n",
       "      <th>37216</th>\n",
       "      <td>2021-12-30 21:00:00+00:00</td>\n",
       "      <td>388</td>\n",
       "      <td>1.13195</td>\n",
       "      <td>1.13276</td>\n",
       "      <td>1.13194</td>\n",
       "      <td>1.13258</td>\n",
       "      <td>1.13188</td>\n",
       "      <td>1.13269</td>\n",
       "      <td>1.13187</td>\n",
       "      <td>1.13249</td>\n",
       "      <td>1.13202</td>\n",
       "      <td>1.13283</td>\n",
       "      <td>1.13201</td>\n",
       "      <td>1.13267</td>\n",
       "      <td>50.928675</td>\n",
       "    </tr>\n",
       "    <tr>\n",
       "      <th>37217</th>\n",
       "      <td>2021-12-30 22:00:00+00:00</td>\n",
       "      <td>118</td>\n",
       "      <td>1.13252</td>\n",
       "      <td>1.13264</td>\n",
       "      <td>1.13222</td>\n",
       "      <td>1.13230</td>\n",
       "      <td>1.13204</td>\n",
       "      <td>1.13236</td>\n",
       "      <td>1.13182</td>\n",
       "      <td>1.13218</td>\n",
       "      <td>1.13299</td>\n",
       "      <td>1.13299</td>\n",
       "      <td>1.13236</td>\n",
       "      <td>1.13243</td>\n",
       "      <td>49.910668</td>\n",
       "    </tr>\n",
       "    <tr>\n",
       "      <th>37218</th>\n",
       "      <td>2021-12-30 23:00:00+00:00</td>\n",
       "      <td>507</td>\n",
       "      <td>1.13227</td>\n",
       "      <td>1.13258</td>\n",
       "      <td>1.13190</td>\n",
       "      <td>1.13224</td>\n",
       "      <td>1.13214</td>\n",
       "      <td>1.13251</td>\n",
       "      <td>1.13183</td>\n",
       "      <td>1.13216</td>\n",
       "      <td>1.13240</td>\n",
       "      <td>1.13266</td>\n",
       "      <td>1.13198</td>\n",
       "      <td>1.13231</td>\n",
       "      <td>49.681497</td>\n",
       "    </tr>\n",
       "  </tbody>\n",
       "</table>\n",
       "</div>"
      ],
      "text/plain": [
       "                           time  volume    mid_o    mid_h    mid_l    mid_c  \\\n",
       "37214 2021-12-30 19:00:00+00:00    1063  1.13058  1.13298  1.13043  1.13274   \n",
       "37215 2021-12-30 20:00:00+00:00    1092  1.13272  1.13304  1.13185  1.13193   \n",
       "37216 2021-12-30 21:00:00+00:00     388  1.13195  1.13276  1.13194  1.13258   \n",
       "37217 2021-12-30 22:00:00+00:00     118  1.13252  1.13264  1.13222  1.13230   \n",
       "37218 2021-12-30 23:00:00+00:00     507  1.13227  1.13258  1.13190  1.13224   \n",
       "\n",
       "         bid_o    bid_h    bid_l    bid_c    ask_o    ask_h    ask_l    ask_c  \\\n",
       "37214  1.13052  1.13291  1.13036  1.13267  1.13065  1.13306  1.13049  1.13280   \n",
       "37215  1.13264  1.13297  1.13177  1.13186  1.13279  1.13311  1.13192  1.13200   \n",
       "37216  1.13188  1.13269  1.13187  1.13249  1.13202  1.13283  1.13201  1.13267   \n",
       "37217  1.13204  1.13236  1.13182  1.13218  1.13299  1.13299  1.13236  1.13243   \n",
       "37218  1.13214  1.13251  1.13183  1.13216  1.13240  1.13266  1.13198  1.13231   \n",
       "\n",
       "          RSI_14  \n",
       "37214  51.407635  \n",
       "37215  48.671929  \n",
       "37216  50.928675  \n",
       "37217  49.910668  \n",
       "37218  49.681497  "
      ]
     },
     "execution_count": 9,
     "metadata": {},
     "output_type": "execute_result"
    }
   ],
   "source": [
    "df_an.tail()"
   ]
  },
  {
   "cell_type": "code",
   "execution_count": 10,
   "metadata": {},
   "outputs": [],
   "source": [
    "df_an = apply_patterns(df_an)"
   ]
  },
  {
   "cell_type": "code",
   "execution_count": 11,
   "metadata": {},
   "outputs": [],
   "source": [
    "df_an['EMA_200'] = df_an.mid_c.ewm(span=200, min_periods=200).mean()"
   ]
  },
  {
   "cell_type": "code",
   "execution_count": 12,
   "metadata": {},
   "outputs": [
    {
     "data": {
      "text/plain": [
       "Index(['time', 'volume', 'mid_o', 'mid_h', 'mid_l', 'mid_c', 'bid_o', 'bid_h',\n",
       "       'bid_l', 'bid_c', 'ask_o', 'ask_h', 'ask_l', 'ask_c', 'RSI_14',\n",
       "       'body_lower', 'body_upper', 'body_bottom_perc', 'body_top_perc',\n",
       "       'body_perc', 'direction', 'body_size', 'low_change', 'high_change',\n",
       "       'body_size_change', 'mid_point', 'mid_point_prev_2', 'body_size_prev',\n",
       "       'direction_prev', 'direction_prev_2', 'body_perc_prev',\n",
       "       'body_perc_prev_2', 'HANGING_MAN', 'SHOOTING_STAR', 'SPINNING_TOP',\n",
       "       'MARUBOZU', 'ENGULFING', 'TWEEZER_TOP', 'TWEEZER_BOTTOM',\n",
       "       'MORNING_STAR', 'EVENING_STAR', 'EMA_200'],\n",
       "      dtype='object')"
      ]
     },
     "execution_count": 12,
     "metadata": {},
     "output_type": "execute_result"
    }
   ],
   "source": [
    "df_an.columns"
   ]
  },
  {
   "cell_type": "code",
   "execution_count": 13,
   "metadata": {},
   "outputs": [],
   "source": [
    "our_cols = ['time', 'mid_o', 'mid_h', 'mid_l', 'mid_c', 'bid_o', 'bid_h',\n",
    "       'bid_l', 'bid_c', 'ask_o', 'ask_h', 'ask_l', 'ask_c', 'ENGULFING', 'direction', 'EMA_200', 'RSI_14']"
   ]
  },
  {
   "cell_type": "code",
   "execution_count": 14,
   "metadata": {},
   "outputs": [],
   "source": [
    "df_slim = df_an[our_cols].copy()\n",
    "df_slim.dropna(inplace=True)\n",
    "df_slim.reset_index(drop=True, inplace=True)"
   ]
  },
  {
   "cell_type": "code",
   "execution_count": 15,
   "metadata": {},
   "outputs": [
    {
     "data": {
      "text/html": [
       "<div>\n",
       "<style scoped>\n",
       "    .dataframe tbody tr th:only-of-type {\n",
       "        vertical-align: middle;\n",
       "    }\n",
       "\n",
       "    .dataframe tbody tr th {\n",
       "        vertical-align: top;\n",
       "    }\n",
       "\n",
       "    .dataframe thead th {\n",
       "        text-align: right;\n",
       "    }\n",
       "</style>\n",
       "<table border=\"1\" class=\"dataframe\">\n",
       "  <thead>\n",
       "    <tr style=\"text-align: right;\">\n",
       "      <th></th>\n",
       "      <th>time</th>\n",
       "      <th>mid_o</th>\n",
       "      <th>mid_h</th>\n",
       "      <th>mid_l</th>\n",
       "      <th>mid_c</th>\n",
       "      <th>bid_o</th>\n",
       "      <th>bid_h</th>\n",
       "      <th>bid_l</th>\n",
       "      <th>bid_c</th>\n",
       "      <th>ask_o</th>\n",
       "      <th>ask_h</th>\n",
       "      <th>ask_l</th>\n",
       "      <th>ask_c</th>\n",
       "      <th>ENGULFING</th>\n",
       "      <th>direction</th>\n",
       "      <th>EMA_200</th>\n",
       "      <th>RSI_14</th>\n",
       "    </tr>\n",
       "  </thead>\n",
       "  <tbody>\n",
       "    <tr>\n",
       "      <th>0</th>\n",
       "      <td>2016-01-19 07:00:00+00:00</td>\n",
       "      <td>1.08736</td>\n",
       "      <td>1.08764</td>\n",
       "      <td>1.08595</td>\n",
       "      <td>1.08652</td>\n",
       "      <td>1.08726</td>\n",
       "      <td>1.08756</td>\n",
       "      <td>1.08587</td>\n",
       "      <td>1.08645</td>\n",
       "      <td>1.08745</td>\n",
       "      <td>1.08772</td>\n",
       "      <td>1.08603</td>\n",
       "      <td>1.08660</td>\n",
       "      <td>False</td>\n",
       "      <td>-1</td>\n",
       "      <td>1.088334</td>\n",
       "      <td>36.239350</td>\n",
       "    </tr>\n",
       "    <tr>\n",
       "      <th>1</th>\n",
       "      <td>2016-01-19 08:00:00+00:00</td>\n",
       "      <td>1.08654</td>\n",
       "      <td>1.08846</td>\n",
       "      <td>1.08636</td>\n",
       "      <td>1.08846</td>\n",
       "      <td>1.08647</td>\n",
       "      <td>1.08832</td>\n",
       "      <td>1.08629</td>\n",
       "      <td>1.08832</td>\n",
       "      <td>1.08662</td>\n",
       "      <td>1.08861</td>\n",
       "      <td>1.08644</td>\n",
       "      <td>1.08861</td>\n",
       "      <td>True</td>\n",
       "      <td>1</td>\n",
       "      <td>1.088336</td>\n",
       "      <td>47.615598</td>\n",
       "    </tr>\n",
       "    <tr>\n",
       "      <th>2</th>\n",
       "      <td>2016-01-19 09:00:00+00:00</td>\n",
       "      <td>1.08844</td>\n",
       "      <td>1.08890</td>\n",
       "      <td>1.08702</td>\n",
       "      <td>1.08724</td>\n",
       "      <td>1.08834</td>\n",
       "      <td>1.08883</td>\n",
       "      <td>1.08694</td>\n",
       "      <td>1.08699</td>\n",
       "      <td>1.08854</td>\n",
       "      <td>1.08898</td>\n",
       "      <td>1.08710</td>\n",
       "      <td>1.08749</td>\n",
       "      <td>False</td>\n",
       "      <td>-1</td>\n",
       "      <td>1.088323</td>\n",
       "      <td>42.482293</td>\n",
       "    </tr>\n",
       "    <tr>\n",
       "      <th>3</th>\n",
       "      <td>2016-01-19 10:00:00+00:00</td>\n",
       "      <td>1.08728</td>\n",
       "      <td>1.08834</td>\n",
       "      <td>1.08662</td>\n",
       "      <td>1.08730</td>\n",
       "      <td>1.08702</td>\n",
       "      <td>1.08827</td>\n",
       "      <td>1.08655</td>\n",
       "      <td>1.08722</td>\n",
       "      <td>1.08755</td>\n",
       "      <td>1.08842</td>\n",
       "      <td>1.08668</td>\n",
       "      <td>1.08737</td>\n",
       "      <td>False</td>\n",
       "      <td>1</td>\n",
       "      <td>1.088312</td>\n",
       "      <td>42.808846</td>\n",
       "    </tr>\n",
       "    <tr>\n",
       "      <th>4</th>\n",
       "      <td>2016-01-19 11:00:00+00:00</td>\n",
       "      <td>1.08728</td>\n",
       "      <td>1.08732</td>\n",
       "      <td>1.08599</td>\n",
       "      <td>1.08630</td>\n",
       "      <td>1.08721</td>\n",
       "      <td>1.08726</td>\n",
       "      <td>1.08593</td>\n",
       "      <td>1.08623</td>\n",
       "      <td>1.08734</td>\n",
       "      <td>1.08738</td>\n",
       "      <td>1.08605</td>\n",
       "      <td>1.08637</td>\n",
       "      <td>True</td>\n",
       "      <td>-1</td>\n",
       "      <td>1.088289</td>\n",
       "      <td>38.849941</td>\n",
       "    </tr>\n",
       "  </tbody>\n",
       "</table>\n",
       "</div>"
      ],
      "text/plain": [
       "                       time    mid_o    mid_h    mid_l    mid_c    bid_o  \\\n",
       "0 2016-01-19 07:00:00+00:00  1.08736  1.08764  1.08595  1.08652  1.08726   \n",
       "1 2016-01-19 08:00:00+00:00  1.08654  1.08846  1.08636  1.08846  1.08647   \n",
       "2 2016-01-19 09:00:00+00:00  1.08844  1.08890  1.08702  1.08724  1.08834   \n",
       "3 2016-01-19 10:00:00+00:00  1.08728  1.08834  1.08662  1.08730  1.08702   \n",
       "4 2016-01-19 11:00:00+00:00  1.08728  1.08732  1.08599  1.08630  1.08721   \n",
       "\n",
       "     bid_h    bid_l    bid_c    ask_o    ask_h    ask_l    ask_c  ENGULFING  \\\n",
       "0  1.08756  1.08587  1.08645  1.08745  1.08772  1.08603  1.08660      False   \n",
       "1  1.08832  1.08629  1.08832  1.08662  1.08861  1.08644  1.08861       True   \n",
       "2  1.08883  1.08694  1.08699  1.08854  1.08898  1.08710  1.08749      False   \n",
       "3  1.08827  1.08655  1.08722  1.08755  1.08842  1.08668  1.08737      False   \n",
       "4  1.08726  1.08593  1.08623  1.08734  1.08738  1.08605  1.08637       True   \n",
       "\n",
       "   direction   EMA_200     RSI_14  \n",
       "0         -1  1.088334  36.239350  \n",
       "1          1  1.088336  47.615598  \n",
       "2         -1  1.088323  42.482293  \n",
       "3          1  1.088312  42.808846  \n",
       "4         -1  1.088289  38.849941  "
      ]
     },
     "execution_count": 15,
     "metadata": {},
     "output_type": "execute_result"
    }
   ],
   "source": [
    "df_slim.head()"
   ]
  },
  {
   "cell_type": "code",
   "execution_count": 16,
   "metadata": {},
   "outputs": [],
   "source": [
    "BUY = 1\n",
    "SELL = -1\n",
    "NONE = 0\n",
    "RSI_LIMIT = 50.0\n",
    "\n",
    "# you can probaly change if statements into AND statements\n",
    "def apply_signal(row):\n",
    "    if row.ENGULFING == True:\n",
    "        if row.direction == BUY and row.mid_l > row.EMA_200:\n",
    "            if row.RSI_14 > RSI_LIMIT:\n",
    "                return BUY\n",
    "        if row.direction == SELL and row.mid_h < row.EMA_200:\n",
    "            if row.RSI_14 < RSI_LIMIT:\n",
    "                return SELL\n",
    "    return NONE"
   ]
  },
  {
   "cell_type": "code",
   "execution_count": 17,
   "metadata": {},
   "outputs": [],
   "source": [
    "df_slim[\"SIGNAL\"] = df_slim.apply(apply_signal, axis=1)"
   ]
  },
  {
   "cell_type": "code",
   "execution_count": 18,
   "metadata": {},
   "outputs": [
    {
     "data": {
      "text/plain": [
       "SIGNAL\n",
       " 0    33779\n",
       "-1     1635\n",
       " 1     1606\n",
       "Name: count, dtype: int64"
      ]
     },
     "execution_count": 18,
     "metadata": {},
     "output_type": "execute_result"
    }
   ],
   "source": [
    "df_slim[\"SIGNAL\"].value_counts()"
   ]
  },
  {
   "cell_type": "code",
   "execution_count": 19,
   "metadata": {},
   "outputs": [],
   "source": [
    "LOSS_FACTOR = -1.0\n",
    "PROFIT_FACTOR = 1.5\n",
    "\n",
    "def apply_take_profit(row):\n",
    "    if row.SIGNAL != NONE:\n",
    "        if row.SIGNAL == BUY:\n",
    "            return (row.ask_c - row.ask_o) * PROFIT_FACTOR + row.ask_c\n",
    "        else:\n",
    "            return (row.bid_c - row.bid_o) * PROFIT_FACTOR + row.bid_c\n",
    "    else:\n",
    "        return 0.0\n",
    "    \n",
    "def apply_stop_loss(row):\n",
    "    if row.SIGNAL != NONE:\n",
    "        if row.SIGNAL == BUY:\n",
    "            return row.ask_o\n",
    "        else:\n",
    "            return row.bid_o\n",
    "    else:\n",
    "        return 0.0"
   ]
  },
  {
   "cell_type": "code",
   "execution_count": 20,
   "metadata": {},
   "outputs": [],
   "source": [
    "df_slim[\"TP\"] = df_slim.apply(apply_take_profit, axis=1)\n",
    "df_slim[\"SL\"] = df_slim.apply(apply_stop_loss, axis=1)"
   ]
  },
  {
   "cell_type": "code",
   "execution_count": 21,
   "metadata": {},
   "outputs": [
    {
     "data": {
      "text/html": [
       "<div>\n",
       "<style scoped>\n",
       "    .dataframe tbody tr th:only-of-type {\n",
       "        vertical-align: middle;\n",
       "    }\n",
       "\n",
       "    .dataframe tbody tr th {\n",
       "        vertical-align: top;\n",
       "    }\n",
       "\n",
       "    .dataframe thead th {\n",
       "        text-align: right;\n",
       "    }\n",
       "</style>\n",
       "<table border=\"1\" class=\"dataframe\">\n",
       "  <thead>\n",
       "    <tr style=\"text-align: right;\">\n",
       "      <th></th>\n",
       "      <th>time</th>\n",
       "      <th>mid_o</th>\n",
       "      <th>mid_h</th>\n",
       "      <th>mid_l</th>\n",
       "      <th>mid_c</th>\n",
       "      <th>bid_o</th>\n",
       "      <th>bid_h</th>\n",
       "      <th>bid_l</th>\n",
       "      <th>bid_c</th>\n",
       "      <th>ask_o</th>\n",
       "      <th>ask_h</th>\n",
       "      <th>ask_l</th>\n",
       "      <th>ask_c</th>\n",
       "      <th>ENGULFING</th>\n",
       "      <th>direction</th>\n",
       "      <th>EMA_200</th>\n",
       "      <th>RSI_14</th>\n",
       "      <th>SIGNAL</th>\n",
       "      <th>TP</th>\n",
       "      <th>SL</th>\n",
       "    </tr>\n",
       "  </thead>\n",
       "  <tbody>\n",
       "    <tr>\n",
       "      <th>15</th>\n",
       "      <td>2016-01-19 22:00:00+00:00</td>\n",
       "      <td>1.09060</td>\n",
       "      <td>1.09143</td>\n",
       "      <td>1.09052</td>\n",
       "      <td>1.09140</td>\n",
       "      <td>1.09010</td>\n",
       "      <td>1.09130</td>\n",
       "      <td>1.09010</td>\n",
       "      <td>1.09127</td>\n",
       "      <td>1.09110</td>\n",
       "      <td>1.09156</td>\n",
       "      <td>1.09063</td>\n",
       "      <td>1.09153</td>\n",
       "      <td>True</td>\n",
       "      <td>1</td>\n",
       "      <td>1.088541</td>\n",
       "      <td>57.545307</td>\n",
       "      <td>1</td>\n",
       "      <td>1.092175</td>\n",
       "      <td>1.09110</td>\n",
       "    </tr>\n",
       "    <tr>\n",
       "      <th>17</th>\n",
       "      <td>2016-01-20 00:00:00+00:00</td>\n",
       "      <td>1.09112</td>\n",
       "      <td>1.09246</td>\n",
       "      <td>1.09100</td>\n",
       "      <td>1.09214</td>\n",
       "      <td>1.09104</td>\n",
       "      <td>1.09239</td>\n",
       "      <td>1.09091</td>\n",
       "      <td>1.09206</td>\n",
       "      <td>1.09120</td>\n",
       "      <td>1.09255</td>\n",
       "      <td>1.09108</td>\n",
       "      <td>1.09223</td>\n",
       "      <td>True</td>\n",
       "      <td>1</td>\n",
       "      <td>1.088610</td>\n",
       "      <td>59.970073</td>\n",
       "      <td>1</td>\n",
       "      <td>1.093775</td>\n",
       "      <td>1.09120</td>\n",
       "    </tr>\n",
       "    <tr>\n",
       "      <th>23</th>\n",
       "      <td>2016-01-20 06:00:00+00:00</td>\n",
       "      <td>1.09491</td>\n",
       "      <td>1.09635</td>\n",
       "      <td>1.09491</td>\n",
       "      <td>1.09546</td>\n",
       "      <td>1.09484</td>\n",
       "      <td>1.09628</td>\n",
       "      <td>1.09484</td>\n",
       "      <td>1.09538</td>\n",
       "      <td>1.09498</td>\n",
       "      <td>1.09643</td>\n",
       "      <td>1.09498</td>\n",
       "      <td>1.09554</td>\n",
       "      <td>True</td>\n",
       "      <td>1</td>\n",
       "      <td>1.088985</td>\n",
       "      <td>68.866726</td>\n",
       "      <td>1</td>\n",
       "      <td>1.096380</td>\n",
       "      <td>1.09498</td>\n",
       "    </tr>\n",
       "    <tr>\n",
       "      <th>25</th>\n",
       "      <td>2016-01-20 08:00:00+00:00</td>\n",
       "      <td>1.09398</td>\n",
       "      <td>1.09760</td>\n",
       "      <td>1.09397</td>\n",
       "      <td>1.09625</td>\n",
       "      <td>1.09390</td>\n",
       "      <td>1.09754</td>\n",
       "      <td>1.09390</td>\n",
       "      <td>1.09619</td>\n",
       "      <td>1.09405</td>\n",
       "      <td>1.09768</td>\n",
       "      <td>1.09403</td>\n",
       "      <td>1.09631</td>\n",
       "      <td>True</td>\n",
       "      <td>1</td>\n",
       "      <td>1.089121</td>\n",
       "      <td>67.087323</td>\n",
       "      <td>1</td>\n",
       "      <td>1.099700</td>\n",
       "      <td>1.09405</td>\n",
       "    </tr>\n",
       "    <tr>\n",
       "      <th>146</th>\n",
       "      <td>2016-01-27 09:00:00+00:00</td>\n",
       "      <td>1.08673</td>\n",
       "      <td>1.08764</td>\n",
       "      <td>1.08665</td>\n",
       "      <td>1.08726</td>\n",
       "      <td>1.08666</td>\n",
       "      <td>1.08756</td>\n",
       "      <td>1.08658</td>\n",
       "      <td>1.08719</td>\n",
       "      <td>1.08680</td>\n",
       "      <td>1.08771</td>\n",
       "      <td>1.08672</td>\n",
       "      <td>1.08732</td>\n",
       "      <td>True</td>\n",
       "      <td>1</td>\n",
       "      <td>1.085983</td>\n",
       "      <td>60.955020</td>\n",
       "      <td>1</td>\n",
       "      <td>1.088100</td>\n",
       "      <td>1.08680</td>\n",
       "    </tr>\n",
       "  </tbody>\n",
       "</table>\n",
       "</div>"
      ],
      "text/plain": [
       "                         time    mid_o    mid_h    mid_l    mid_c    bid_o  \\\n",
       "15  2016-01-19 22:00:00+00:00  1.09060  1.09143  1.09052  1.09140  1.09010   \n",
       "17  2016-01-20 00:00:00+00:00  1.09112  1.09246  1.09100  1.09214  1.09104   \n",
       "23  2016-01-20 06:00:00+00:00  1.09491  1.09635  1.09491  1.09546  1.09484   \n",
       "25  2016-01-20 08:00:00+00:00  1.09398  1.09760  1.09397  1.09625  1.09390   \n",
       "146 2016-01-27 09:00:00+00:00  1.08673  1.08764  1.08665  1.08726  1.08666   \n",
       "\n",
       "       bid_h    bid_l    bid_c    ask_o    ask_h    ask_l    ask_c  ENGULFING  \\\n",
       "15   1.09130  1.09010  1.09127  1.09110  1.09156  1.09063  1.09153       True   \n",
       "17   1.09239  1.09091  1.09206  1.09120  1.09255  1.09108  1.09223       True   \n",
       "23   1.09628  1.09484  1.09538  1.09498  1.09643  1.09498  1.09554       True   \n",
       "25   1.09754  1.09390  1.09619  1.09405  1.09768  1.09403  1.09631       True   \n",
       "146  1.08756  1.08658  1.08719  1.08680  1.08771  1.08672  1.08732       True   \n",
       "\n",
       "     direction   EMA_200     RSI_14  SIGNAL        TP       SL  \n",
       "15           1  1.088541  57.545307       1  1.092175  1.09110  \n",
       "17           1  1.088610  59.970073       1  1.093775  1.09120  \n",
       "23           1  1.088985  68.866726       1  1.096380  1.09498  \n",
       "25           1  1.089121  67.087323       1  1.099700  1.09405  \n",
       "146          1  1.085983  60.955020       1  1.088100  1.08680  "
      ]
     },
     "execution_count": 21,
     "metadata": {},
     "output_type": "execute_result"
    }
   ],
   "source": [
    "df_slim[df_slim.SIGNAL==BUY].head()"
   ]
  },
  {
   "cell_type": "code",
   "execution_count": 22,
   "metadata": {},
   "outputs": [
    {
     "data": {
      "application/vnd.plotly.v1+json": {
       "config": {
        "plotlyServerURL": "https://plot.ly"
       },
       "data": [
        {
         "close": [
          1.08312,
          1.08324,
          1.08319,
          1.08417,
          1.08362,
          1.0843,
          1.08314,
          1.08182,
          1.08145,
          1.08186,
          1.0824,
          1.08134,
          1.08126,
          1.07971,
          1.07902,
          1.07967,
          1.07983,
          1.07932,
          1.07969,
          1.07964,
          1.08044,
          1.08104,
          1.08133,
          1.08111,
          1.08172,
          1.08068,
          1.08146,
          1.08272,
          1.08156,
          1.08152
         ],
         "decreasing": {
          "fillcolor": "#CC2E3C",
          "line": {
           "color": "#FF3A4C"
          }
         },
         "high": [
          1.08364,
          1.08428,
          1.08326,
          1.08488,
          1.0863,
          1.08454,
          1.08434,
          1.08342,
          1.08204,
          1.08254,
          1.08378,
          1.08329,
          1.08179,
          1.08148,
          1.07987,
          1.0798,
          1.08016,
          1.07974,
          1.07976,
          1.08018,
          1.08147,
          1.08138,
          1.0817,
          1.0816,
          1.08192,
          1.08186,
          1.08231,
          1.08356,
          1.08326,
          1.08242
         ],
         "increasing": {
          "fillcolor": "#24A06B",
          "line": {
           "color": "#2EC886"
          }
         },
         "line": {
          "width": 1
         },
         "low": [
          1.08276,
          1.08282,
          1.08133,
          1.08268,
          1.08346,
          1.08336,
          1.08245,
          1.08144,
          1.07944,
          1.08034,
          1.08044,
          1.08059,
          1.08069,
          1.0793,
          1.07892,
          1.07896,
          1.07938,
          1.07874,
          1.079,
          1.07901,
          1.07939,
          1.07991,
          1.08086,
          1.08097,
          1.08108,
          1.0806,
          1.08066,
          1.0814,
          1.0815,
          1.08136
         ],
         "opacity": 1,
         "open": [
          1.0834,
          1.08309,
          1.08322,
          1.08317,
          1.08416,
          1.08359,
          1.08434,
          1.08312,
          1.08185,
          1.08148,
          1.08183,
          1.08242,
          1.08135,
          1.08128,
          1.07974,
          1.07905,
          1.0797,
          1.0793,
          1.07928,
          1.0797,
          1.07962,
          1.08042,
          1.081,
          1.0813,
          1.08114,
          1.08174,
          1.08068,
          1.08148,
          1.08268,
          1.08158
         ],
         "type": "candlestick",
         "x": [
          "s16-01-22 05:00",
          "s16-01-22 06:00",
          "s16-01-22 07:00",
          "s16-01-22 08:00",
          "s16-01-22 09:00",
          "s16-01-22 10:00",
          "s16-01-22 11:00",
          "s16-01-22 12:00",
          "s16-01-22 13:00",
          "s16-01-22 14:00",
          "s16-01-22 15:00",
          "s16-01-22 16:00",
          "s16-01-22 17:00",
          "s16-01-22 18:00",
          "s16-01-22 19:00",
          "s16-01-22 20:00",
          "s16-01-22 21:00",
          "s16-01-24 22:00",
          "s16-01-24 23:00",
          "s16-01-25 00:00",
          "s16-01-25 01:00",
          "s16-01-25 02:00",
          "s16-01-25 03:00",
          "s16-01-25 04:00",
          "s16-01-25 05:00",
          "s16-01-25 06:00",
          "s16-01-25 07:00",
          "s16-01-25 08:00",
          "s16-01-25 09:00",
          "s16-01-25 10:00"
         ]
        },
        {
         "marker": {
          "color": "#0000FF",
          "size": 12
         },
         "mode": "markers",
         "type": "scatter",
         "x": [
          "s16-01-22 11:00",
          "s16-01-22 16:00",
          "s16-01-25 06:00"
         ],
         "y": [
          1.08314,
          1.08134,
          1.08068
         ]
        },
        {
         "marker": {
          "color": "#00FF00",
          "size": 12
         },
         "mode": "markers",
         "type": "scatter",
         "x": [
          "s16-01-22 11:00",
          "s16-01-22 16:00",
          "s16-01-25 06:00"
         ],
         "y": [
          1.08127,
          1.0796199999999998,
          1.0790050000000002
         ]
        },
        {
         "marker": {
          "color": "#FF0000",
          "size": 12
         },
         "mode": "markers",
         "type": "scatter",
         "x": [
          "s16-01-22 11:00",
          "s16-01-22 16:00",
          "s16-01-25 06:00"
         ],
         "y": [
          1.08427,
          1.08237,
          1.08168
         ]
        },
        {
         "line": {
          "shape": "spline",
          "width": 2
         },
         "name": "EMA_200",
         "type": "scatter",
         "x": [
          "s16-01-22 05:00",
          "s16-01-22 06:00",
          "s16-01-22 07:00",
          "s16-01-22 08:00",
          "s16-01-22 09:00",
          "s16-01-22 10:00",
          "s16-01-22 11:00",
          "s16-01-22 12:00",
          "s16-01-22 13:00",
          "s16-01-22 14:00",
          "s16-01-22 15:00",
          "s16-01-22 16:00",
          "s16-01-22 17:00",
          "s16-01-22 18:00",
          "s16-01-22 19:00",
          "s16-01-22 20:00",
          "s16-01-22 21:00",
          "s16-01-24 22:00",
          "s16-01-24 23:00",
          "s16-01-25 00:00",
          "s16-01-25 01:00",
          "s16-01-25 02:00",
          "s16-01-25 03:00",
          "s16-01-25 04:00",
          "s16-01-25 05:00",
          "s16-01-25 06:00",
          "s16-01-25 07:00",
          "s16-01-25 08:00",
          "s16-01-25 09:00",
          "s16-01-25 10:00"
         ],
         "xaxis": "x",
         "y": [
          1.0885761785131265,
          1.0885192976221345,
          1.0884625303390272,
          1.088416838684931,
          1.0883658143638912,
          1.088322595685197,
          1.0882675432853268,
          1.088199099926709,
          1.0881275030426383,
          1.0880610588395585,
          1.0880010828364783,
          1.0879305575291025,
          1.08785997689604,
          1.0877737969967178,
          1.0876812898768693,
          1.0875966815550562,
          1.0875147066524142,
          1.0874282663262493,
          1.087346689463417,
          1.0872654935325285,
          1.0871936237634436,
          1.0871288660374019,
          1.0870678765710615,
          1.0870052502380805,
          1.0869497253940463,
          1.0868838945863277,
          1.086826976104631,
          1.086783900820795,
          1.0867291403370707,
          1.0866745636411528
         ],
         "yaxis": "y"
        },
        {
         "line": {
          "shape": "spline",
          "width": 2
         },
         "name": "RSI_14",
         "type": "scatter",
         "x": [
          "s16-01-22 05:00",
          "s16-01-22 06:00",
          "s16-01-22 07:00",
          "s16-01-22 08:00",
          "s16-01-22 09:00",
          "s16-01-22 10:00",
          "s16-01-22 11:00",
          "s16-01-22 12:00",
          "s16-01-22 13:00",
          "s16-01-22 14:00",
          "s16-01-22 15:00",
          "s16-01-22 16:00",
          "s16-01-22 17:00",
          "s16-01-22 18:00",
          "s16-01-22 19:00",
          "s16-01-22 20:00",
          "s16-01-22 21:00",
          "s16-01-24 22:00",
          "s16-01-24 23:00",
          "s16-01-25 00:00",
          "s16-01-25 01:00",
          "s16-01-25 02:00",
          "s16-01-25 03:00",
          "s16-01-25 04:00",
          "s16-01-25 05:00",
          "s16-01-25 06:00",
          "s16-01-25 07:00",
          "s16-01-25 08:00",
          "s16-01-25 09:00",
          "s16-01-25 10:00"
         ],
         "xaxis": "x",
         "y": [
          38.85057771298176,
          39.35258927746316,
          39.208154689100986,
          43.57913070146873,
          41.76420595354664,
          44.82379296713283,
          40.87831557364518,
          36.89819107838745,
          35.844675895730944,
          37.95857523022005,
          40.72864703002017,
          37.21599088394417,
          36.95693088573117,
          32.26992855049778,
          30.420379008847675,
          34.24381249438545,
          35.18791421291614,
          33.5351268150839,
          35.88789812048053,
          35.70396626098072,
          40.921254920509305,
          44.555114336091265,
          46.27517322023161,
          45.13132275994379,
          48.9027890584527,
          43.42266486060382,
          48.118523812851215,
          54.66446273237091,
          48.58663267565161,
          48.386850147037315
         ],
         "yaxis": "y2"
        }
       ],
       "layout": {
        "font": {
         "color": "#e1e1e1",
         "size": 12
        },
        "height": 250,
        "margin": {
         "b": 10,
         "l": 10,
         "r": 10,
         "t": 10
        },
        "paper_bgcolor": "#2c303c",
        "plot_bgcolor": "#2c303c",
        "template": {
         "data": {
          "bar": [
           {
            "error_x": {
             "color": "#2a3f5f"
            },
            "error_y": {
             "color": "#2a3f5f"
            },
            "marker": {
             "line": {
              "color": "#E5ECF6",
              "width": 0.5
             },
             "pattern": {
              "fillmode": "overlay",
              "size": 10,
              "solidity": 0.2
             }
            },
            "type": "bar"
           }
          ],
          "barpolar": [
           {
            "marker": {
             "line": {
              "color": "#E5ECF6",
              "width": 0.5
             },
             "pattern": {
              "fillmode": "overlay",
              "size": 10,
              "solidity": 0.2
             }
            },
            "type": "barpolar"
           }
          ],
          "carpet": [
           {
            "aaxis": {
             "endlinecolor": "#2a3f5f",
             "gridcolor": "white",
             "linecolor": "white",
             "minorgridcolor": "white",
             "startlinecolor": "#2a3f5f"
            },
            "baxis": {
             "endlinecolor": "#2a3f5f",
             "gridcolor": "white",
             "linecolor": "white",
             "minorgridcolor": "white",
             "startlinecolor": "#2a3f5f"
            },
            "type": "carpet"
           }
          ],
          "choropleth": [
           {
            "colorbar": {
             "outlinewidth": 0,
             "ticks": ""
            },
            "type": "choropleth"
           }
          ],
          "contour": [
           {
            "colorbar": {
             "outlinewidth": 0,
             "ticks": ""
            },
            "colorscale": [
             [
              0,
              "#0d0887"
             ],
             [
              0.1111111111111111,
              "#46039f"
             ],
             [
              0.2222222222222222,
              "#7201a8"
             ],
             [
              0.3333333333333333,
              "#9c179e"
             ],
             [
              0.4444444444444444,
              "#bd3786"
             ],
             [
              0.5555555555555556,
              "#d8576b"
             ],
             [
              0.6666666666666666,
              "#ed7953"
             ],
             [
              0.7777777777777778,
              "#fb9f3a"
             ],
             [
              0.8888888888888888,
              "#fdca26"
             ],
             [
              1,
              "#f0f921"
             ]
            ],
            "type": "contour"
           }
          ],
          "contourcarpet": [
           {
            "colorbar": {
             "outlinewidth": 0,
             "ticks": ""
            },
            "type": "contourcarpet"
           }
          ],
          "heatmap": [
           {
            "colorbar": {
             "outlinewidth": 0,
             "ticks": ""
            },
            "colorscale": [
             [
              0,
              "#0d0887"
             ],
             [
              0.1111111111111111,
              "#46039f"
             ],
             [
              0.2222222222222222,
              "#7201a8"
             ],
             [
              0.3333333333333333,
              "#9c179e"
             ],
             [
              0.4444444444444444,
              "#bd3786"
             ],
             [
              0.5555555555555556,
              "#d8576b"
             ],
             [
              0.6666666666666666,
              "#ed7953"
             ],
             [
              0.7777777777777778,
              "#fb9f3a"
             ],
             [
              0.8888888888888888,
              "#fdca26"
             ],
             [
              1,
              "#f0f921"
             ]
            ],
            "type": "heatmap"
           }
          ],
          "heatmapgl": [
           {
            "colorbar": {
             "outlinewidth": 0,
             "ticks": ""
            },
            "colorscale": [
             [
              0,
              "#0d0887"
             ],
             [
              0.1111111111111111,
              "#46039f"
             ],
             [
              0.2222222222222222,
              "#7201a8"
             ],
             [
              0.3333333333333333,
              "#9c179e"
             ],
             [
              0.4444444444444444,
              "#bd3786"
             ],
             [
              0.5555555555555556,
              "#d8576b"
             ],
             [
              0.6666666666666666,
              "#ed7953"
             ],
             [
              0.7777777777777778,
              "#fb9f3a"
             ],
             [
              0.8888888888888888,
              "#fdca26"
             ],
             [
              1,
              "#f0f921"
             ]
            ],
            "type": "heatmapgl"
           }
          ],
          "histogram": [
           {
            "marker": {
             "pattern": {
              "fillmode": "overlay",
              "size": 10,
              "solidity": 0.2
             }
            },
            "type": "histogram"
           }
          ],
          "histogram2d": [
           {
            "colorbar": {
             "outlinewidth": 0,
             "ticks": ""
            },
            "colorscale": [
             [
              0,
              "#0d0887"
             ],
             [
              0.1111111111111111,
              "#46039f"
             ],
             [
              0.2222222222222222,
              "#7201a8"
             ],
             [
              0.3333333333333333,
              "#9c179e"
             ],
             [
              0.4444444444444444,
              "#bd3786"
             ],
             [
              0.5555555555555556,
              "#d8576b"
             ],
             [
              0.6666666666666666,
              "#ed7953"
             ],
             [
              0.7777777777777778,
              "#fb9f3a"
             ],
             [
              0.8888888888888888,
              "#fdca26"
             ],
             [
              1,
              "#f0f921"
             ]
            ],
            "type": "histogram2d"
           }
          ],
          "histogram2dcontour": [
           {
            "colorbar": {
             "outlinewidth": 0,
             "ticks": ""
            },
            "colorscale": [
             [
              0,
              "#0d0887"
             ],
             [
              0.1111111111111111,
              "#46039f"
             ],
             [
              0.2222222222222222,
              "#7201a8"
             ],
             [
              0.3333333333333333,
              "#9c179e"
             ],
             [
              0.4444444444444444,
              "#bd3786"
             ],
             [
              0.5555555555555556,
              "#d8576b"
             ],
             [
              0.6666666666666666,
              "#ed7953"
             ],
             [
              0.7777777777777778,
              "#fb9f3a"
             ],
             [
              0.8888888888888888,
              "#fdca26"
             ],
             [
              1,
              "#f0f921"
             ]
            ],
            "type": "histogram2dcontour"
           }
          ],
          "mesh3d": [
           {
            "colorbar": {
             "outlinewidth": 0,
             "ticks": ""
            },
            "type": "mesh3d"
           }
          ],
          "parcoords": [
           {
            "line": {
             "colorbar": {
              "outlinewidth": 0,
              "ticks": ""
             }
            },
            "type": "parcoords"
           }
          ],
          "pie": [
           {
            "automargin": true,
            "type": "pie"
           }
          ],
          "scatter": [
           {
            "fillpattern": {
             "fillmode": "overlay",
             "size": 10,
             "solidity": 0.2
            },
            "type": "scatter"
           }
          ],
          "scatter3d": [
           {
            "line": {
             "colorbar": {
              "outlinewidth": 0,
              "ticks": ""
             }
            },
            "marker": {
             "colorbar": {
              "outlinewidth": 0,
              "ticks": ""
             }
            },
            "type": "scatter3d"
           }
          ],
          "scattercarpet": [
           {
            "marker": {
             "colorbar": {
              "outlinewidth": 0,
              "ticks": ""
             }
            },
            "type": "scattercarpet"
           }
          ],
          "scattergeo": [
           {
            "marker": {
             "colorbar": {
              "outlinewidth": 0,
              "ticks": ""
             }
            },
            "type": "scattergeo"
           }
          ],
          "scattergl": [
           {
            "marker": {
             "colorbar": {
              "outlinewidth": 0,
              "ticks": ""
             }
            },
            "type": "scattergl"
           }
          ],
          "scattermapbox": [
           {
            "marker": {
             "colorbar": {
              "outlinewidth": 0,
              "ticks": ""
             }
            },
            "type": "scattermapbox"
           }
          ],
          "scatterpolar": [
           {
            "marker": {
             "colorbar": {
              "outlinewidth": 0,
              "ticks": ""
             }
            },
            "type": "scatterpolar"
           }
          ],
          "scatterpolargl": [
           {
            "marker": {
             "colorbar": {
              "outlinewidth": 0,
              "ticks": ""
             }
            },
            "type": "scatterpolargl"
           }
          ],
          "scatterternary": [
           {
            "marker": {
             "colorbar": {
              "outlinewidth": 0,
              "ticks": ""
             }
            },
            "type": "scatterternary"
           }
          ],
          "surface": [
           {
            "colorbar": {
             "outlinewidth": 0,
             "ticks": ""
            },
            "colorscale": [
             [
              0,
              "#0d0887"
             ],
             [
              0.1111111111111111,
              "#46039f"
             ],
             [
              0.2222222222222222,
              "#7201a8"
             ],
             [
              0.3333333333333333,
              "#9c179e"
             ],
             [
              0.4444444444444444,
              "#bd3786"
             ],
             [
              0.5555555555555556,
              "#d8576b"
             ],
             [
              0.6666666666666666,
              "#ed7953"
             ],
             [
              0.7777777777777778,
              "#fb9f3a"
             ],
             [
              0.8888888888888888,
              "#fdca26"
             ],
             [
              1,
              "#f0f921"
             ]
            ],
            "type": "surface"
           }
          ],
          "table": [
           {
            "cells": {
             "fill": {
              "color": "#EBF0F8"
             },
             "line": {
              "color": "white"
             }
            },
            "header": {
             "fill": {
              "color": "#C8D4E3"
             },
             "line": {
              "color": "white"
             }
            },
            "type": "table"
           }
          ]
         },
         "layout": {
          "annotationdefaults": {
           "arrowcolor": "#2a3f5f",
           "arrowhead": 0,
           "arrowwidth": 1
          },
          "autotypenumbers": "strict",
          "coloraxis": {
           "colorbar": {
            "outlinewidth": 0,
            "ticks": ""
           }
          },
          "colorscale": {
           "diverging": [
            [
             0,
             "#8e0152"
            ],
            [
             0.1,
             "#c51b7d"
            ],
            [
             0.2,
             "#de77ae"
            ],
            [
             0.3,
             "#f1b6da"
            ],
            [
             0.4,
             "#fde0ef"
            ],
            [
             0.5,
             "#f7f7f7"
            ],
            [
             0.6,
             "#e6f5d0"
            ],
            [
             0.7,
             "#b8e186"
            ],
            [
             0.8,
             "#7fbc41"
            ],
            [
             0.9,
             "#4d9221"
            ],
            [
             1,
             "#276419"
            ]
           ],
           "sequential": [
            [
             0,
             "#0d0887"
            ],
            [
             0.1111111111111111,
             "#46039f"
            ],
            [
             0.2222222222222222,
             "#7201a8"
            ],
            [
             0.3333333333333333,
             "#9c179e"
            ],
            [
             0.4444444444444444,
             "#bd3786"
            ],
            [
             0.5555555555555556,
             "#d8576b"
            ],
            [
             0.6666666666666666,
             "#ed7953"
            ],
            [
             0.7777777777777778,
             "#fb9f3a"
            ],
            [
             0.8888888888888888,
             "#fdca26"
            ],
            [
             1,
             "#f0f921"
            ]
           ],
           "sequentialminus": [
            [
             0,
             "#0d0887"
            ],
            [
             0.1111111111111111,
             "#46039f"
            ],
            [
             0.2222222222222222,
             "#7201a8"
            ],
            [
             0.3333333333333333,
             "#9c179e"
            ],
            [
             0.4444444444444444,
             "#bd3786"
            ],
            [
             0.5555555555555556,
             "#d8576b"
            ],
            [
             0.6666666666666666,
             "#ed7953"
            ],
            [
             0.7777777777777778,
             "#fb9f3a"
            ],
            [
             0.8888888888888888,
             "#fdca26"
            ],
            [
             1,
             "#f0f921"
            ]
           ]
          },
          "colorway": [
           "#636efa",
           "#EF553B",
           "#00cc96",
           "#ab63fa",
           "#FFA15A",
           "#19d3f3",
           "#FF6692",
           "#B6E880",
           "#FF97FF",
           "#FECB52"
          ],
          "font": {
           "color": "#2a3f5f"
          },
          "geo": {
           "bgcolor": "white",
           "lakecolor": "white",
           "landcolor": "#E5ECF6",
           "showlakes": true,
           "showland": true,
           "subunitcolor": "white"
          },
          "hoverlabel": {
           "align": "left"
          },
          "hovermode": "closest",
          "mapbox": {
           "style": "light"
          },
          "paper_bgcolor": "white",
          "plot_bgcolor": "#E5ECF6",
          "polar": {
           "angularaxis": {
            "gridcolor": "white",
            "linecolor": "white",
            "ticks": ""
           },
           "bgcolor": "#E5ECF6",
           "radialaxis": {
            "gridcolor": "white",
            "linecolor": "white",
            "ticks": ""
           }
          },
          "scene": {
           "xaxis": {
            "backgroundcolor": "#E5ECF6",
            "gridcolor": "white",
            "gridwidth": 2,
            "linecolor": "white",
            "showbackground": true,
            "ticks": "",
            "zerolinecolor": "white"
           },
           "yaxis": {
            "backgroundcolor": "#E5ECF6",
            "gridcolor": "white",
            "gridwidth": 2,
            "linecolor": "white",
            "showbackground": true,
            "ticks": "",
            "zerolinecolor": "white"
           },
           "zaxis": {
            "backgroundcolor": "#E5ECF6",
            "gridcolor": "white",
            "gridwidth": 2,
            "linecolor": "white",
            "showbackground": true,
            "ticks": "",
            "zerolinecolor": "white"
           }
          },
          "shapedefaults": {
           "line": {
            "color": "#2a3f5f"
           }
          },
          "ternary": {
           "aaxis": {
            "gridcolor": "white",
            "linecolor": "white",
            "ticks": ""
           },
           "baxis": {
            "gridcolor": "white",
            "linecolor": "white",
            "ticks": ""
           },
           "bgcolor": "#E5ECF6",
           "caxis": {
            "gridcolor": "white",
            "linecolor": "white",
            "ticks": ""
           }
          },
          "title": {
           "x": 0.05
          },
          "xaxis": {
           "automargin": true,
           "gridcolor": "white",
           "linecolor": "white",
           "ticks": "",
           "title": {
            "standoff": 15
           },
           "zerolinecolor": "white",
           "zerolinewidth": 2
          },
          "yaxis": {
           "automargin": true,
           "gridcolor": "white",
           "linecolor": "white",
           "ticks": "",
           "title": {
            "standoff": 15
           },
           "zerolinecolor": "white",
           "zerolinewidth": 2
          }
         }
        },
        "width": 900,
        "xaxis": {
         "anchor": "y",
         "domain": [
          0,
          0.94
         ],
         "gridcolor": "#1f292f",
         "nticks": 5,
         "rangeslider": {
          "visible": false
         }
        },
        "yaxis": {
         "anchor": "x",
         "domain": [
          0,
          1
         ],
         "gridcolor": "#1f292f"
        },
        "yaxis2": {
         "anchor": "x",
         "gridcolor": "#1f292f",
         "overlaying": "y",
         "side": "right"
        }
       }
      }
     },
     "metadata": {},
     "output_type": "display_data"
    }
   ],
   "source": [
    "df_plot = df_slim.iloc[70:100]\n",
    "cp = CandlePlot(df_plot, candles=True)\n",
    "\n",
    "trades = cp.df_plot[cp.df_plot.SIGNAL != NONE]\n",
    "\n",
    "markers = ['mid_c', \"TP\", \"SL\"]\n",
    "marker_colors = [\"#0000FF\", '#00FF00', '#FF0000']\n",
    "\n",
    "for i in range(3):\n",
    "    cp.fig.add_trace(go.Scatter(\n",
    "        x = trades.sTime,\n",
    "        y = trades[markers[i]],\n",
    "        mode = 'markers',\n",
    "        marker=dict(color=marker_colors[i], size=12)\n",
    "    ))\n",
    "\n",
    "cp.show_plot(line_traces=[\"EMA_200\"], sec_traces=['RSI_14'], height=250)\n"
   ]
  },
  {
   "cell_type": "code",
   "execution_count": null,
   "metadata": {},
   "outputs": [],
   "source": [
    "#df_results[df_results.SIGNAL == BUY].head()"
   ]
  },
  {
   "cell_type": "code",
   "execution_count": 23,
   "metadata": {},
   "outputs": [],
   "source": [
    "class Trade:\n",
    "    def __init__(self, row):\n",
    "        self.running = True\n",
    "        self.start_index = row.name\n",
    "\n",
    "        if row.SIGNAL == BUY: \n",
    "            self.start_price = row.ask_c\n",
    "            self.trigger_price = row.ask_c\n",
    "        else:\n",
    "            self.start_price = row.bid_c\n",
    "            self.trigger_price = row.bid_c\n",
    "\n",
    "        self.SIGNAL = row.SIGNAL\n",
    "        self.TP = row.TP\n",
    "        self.SL = row.SL\n",
    "        self.result = 0.0\n",
    "        self.end_time = row.time\n",
    "        self.start_time = row.time\n",
    "        self.duration = 0\n",
    "\n",
    "\n",
    "    def close_trade(self, row, result, trigger_price):\n",
    "        self.running = False\n",
    "        self.result = result\n",
    "        self.end_time = row.time\n",
    "        self.trigger_price = trigger_price\n",
    "\n",
    "    def update(self, row):\n",
    "        self.duration += 1\n",
    "        if self.SIGNAL == BUY:\n",
    "            if row.bid_h >= self.TP:\n",
    "                self.close_trade(row, PROFIT_FACTOR, row.bid_h)\n",
    "            elif row.bid_l <= self.SL:\n",
    "                self.close_trade(row, LOSS_FACTOR, row.bid_l)\n",
    "            # if row.mid_l <= self.SL:\n",
    "            #     self.close_trade(row, LOSS_FACTOR, row.mid_l)\n",
    "            # elif row.mid_h >= self.TP:\n",
    "            #     self.close_trade(row, PROFIT_FACTOR, row.mid_h)\n",
    "        if self.SIGNAL == SELL:\n",
    "            if row.ask_l <= self.TP:\n",
    "                self.close_trade(row, PROFIT_FACTOR, row.ask_l)\n",
    "            elif row.ask_h >= self.SL:\n",
    "                self.close_trade(row, LOSS_FACTOR, row.ask_h)\n",
    "            # if row.mid_h >= self.SL:\n",
    "            #     self.close_trade(row, LOSS_FACTOR, row.mid_h)\n",
    "            # elif row.mid_l <= self.TP:\n",
    "            #     self.close_trade(row, PROFIT_FACTOR, row.mid_l)"
   ]
  },
  {
   "cell_type": "code",
   "execution_count": 24,
   "metadata": {},
   "outputs": [],
   "source": [
    "open_trades = []\n",
    "closed_trades = []\n",
    "\n",
    "for index, row in df_slim.iterrows():\n",
    "    for ot in open_trades:\n",
    "        ot.update(row)\n",
    "        if ot.running == False:\n",
    "            closed_trades.append(ot)\n",
    "    open_trades = [x for x in open_trades if x.running == True]\n",
    "\n",
    "    if row.SIGNAL != NONE:\n",
    "        open_trades.append(Trade(row))"
   ]
  },
  {
   "cell_type": "code",
   "execution_count": 25,
   "metadata": {},
   "outputs": [],
   "source": [
    "df_results = pd.DataFrame.from_dict([vars(x) for x in closed_trades])"
   ]
  },
  {
   "cell_type": "code",
   "execution_count": 26,
   "metadata": {},
   "outputs": [
    {
     "data": {
      "text/plain": [
       "-396.0"
      ]
     },
     "execution_count": 26,
     "metadata": {},
     "output_type": "execute_result"
    }
   ],
   "source": [
    "df_results.result.sum()"
   ]
  },
  {
   "cell_type": "code",
   "execution_count": 27,
   "metadata": {},
   "outputs": [],
   "source": [
    "df_results.sort_values(by=\"start_index\", inplace=True)"
   ]
  },
  {
   "cell_type": "code",
   "execution_count": 28,
   "metadata": {},
   "outputs": [],
   "source": [
    "df_m5 = pd.read_pickle(\"../data/EUR_USD_M5.pkl\")"
   ]
  },
  {
   "cell_type": "code",
   "execution_count": 29,
   "metadata": {},
   "outputs": [
    {
     "data": {
      "text/plain": [
       "(445038, 14)"
      ]
     },
     "execution_count": 29,
     "metadata": {},
     "output_type": "execute_result"
    }
   ],
   "source": [
    "df_m5.shape"
   ]
  },
  {
   "cell_type": "code",
   "execution_count": 30,
   "metadata": {},
   "outputs": [],
   "source": [
    "df_m5_slim = df_m5[['time', 'bid_h', 'bid_l', 'ask_h', 'ask_l']].copy()"
   ]
  },
  {
   "cell_type": "code",
   "execution_count": 31,
   "metadata": {},
   "outputs": [
    {
     "data": {
      "text/html": [
       "<div>\n",
       "<style scoped>\n",
       "    .dataframe tbody tr th:only-of-type {\n",
       "        vertical-align: middle;\n",
       "    }\n",
       "\n",
       "    .dataframe tbody tr th {\n",
       "        vertical-align: top;\n",
       "    }\n",
       "\n",
       "    .dataframe thead th {\n",
       "        text-align: right;\n",
       "    }\n",
       "</style>\n",
       "<table border=\"1\" class=\"dataframe\">\n",
       "  <thead>\n",
       "    <tr style=\"text-align: right;\">\n",
       "      <th></th>\n",
       "      <th>time</th>\n",
       "      <th>bid_h</th>\n",
       "      <th>bid_l</th>\n",
       "      <th>ask_h</th>\n",
       "      <th>ask_l</th>\n",
       "    </tr>\n",
       "  </thead>\n",
       "  <tbody>\n",
       "    <tr>\n",
       "      <th>0</th>\n",
       "      <td>2016-01-07 00:00:00+00:00</td>\n",
       "      <td>1.07802</td>\n",
       "      <td>1.07750</td>\n",
       "      <td>1.07820</td>\n",
       "      <td>1.07768</td>\n",
       "    </tr>\n",
       "    <tr>\n",
       "      <th>1</th>\n",
       "      <td>2016-01-07 00:05:00+00:00</td>\n",
       "      <td>1.07811</td>\n",
       "      <td>1.07755</td>\n",
       "      <td>1.07827</td>\n",
       "      <td>1.07772</td>\n",
       "    </tr>\n",
       "    <tr>\n",
       "      <th>2</th>\n",
       "      <td>2016-01-07 00:10:00+00:00</td>\n",
       "      <td>1.07823</td>\n",
       "      <td>1.07803</td>\n",
       "      <td>1.07840</td>\n",
       "      <td>1.07822</td>\n",
       "    </tr>\n",
       "    <tr>\n",
       "      <th>3</th>\n",
       "      <td>2016-01-07 00:15:00+00:00</td>\n",
       "      <td>1.07821</td>\n",
       "      <td>1.07790</td>\n",
       "      <td>1.07838</td>\n",
       "      <td>1.07807</td>\n",
       "    </tr>\n",
       "    <tr>\n",
       "      <th>4</th>\n",
       "      <td>2016-01-07 00:20:00+00:00</td>\n",
       "      <td>1.07789</td>\n",
       "      <td>1.07768</td>\n",
       "      <td>1.07809</td>\n",
       "      <td>1.07784</td>\n",
       "    </tr>\n",
       "  </tbody>\n",
       "</table>\n",
       "</div>"
      ],
      "text/plain": [
       "                       time    bid_h    bid_l    ask_h    ask_l\n",
       "0 2016-01-07 00:00:00+00:00  1.07802  1.07750  1.07820  1.07768\n",
       "1 2016-01-07 00:05:00+00:00  1.07811  1.07755  1.07827  1.07772\n",
       "2 2016-01-07 00:10:00+00:00  1.07823  1.07803  1.07840  1.07822\n",
       "3 2016-01-07 00:15:00+00:00  1.07821  1.07790  1.07838  1.07807\n",
       "4 2016-01-07 00:20:00+00:00  1.07789  1.07768  1.07809  1.07784"
      ]
     },
     "execution_count": 31,
     "metadata": {},
     "output_type": "execute_result"
    }
   ],
   "source": [
    "df_m5_slim.head()"
   ]
  },
  {
   "cell_type": "code",
   "execution_count": 32,
   "metadata": {},
   "outputs": [],
   "source": [
    "df_signals = df_slim[df_slim.SIGNAL != NONE].copy()"
   ]
  },
  {
   "cell_type": "code",
   "execution_count": 33,
   "metadata": {},
   "outputs": [],
   "source": [
    "df_signals['m5_start'] = [x + dt.timedelta(hours=1) for x in df_signals.time]"
   ]
  },
  {
   "cell_type": "code",
   "execution_count": 34,
   "metadata": {},
   "outputs": [],
   "source": [
    "df_signals['start_index_h1'] = df_signals.index"
   ]
  },
  {
   "cell_type": "code",
   "execution_count": 35,
   "metadata": {},
   "outputs": [
    {
     "data": {
      "text/html": [
       "<div>\n",
       "<style scoped>\n",
       "    .dataframe tbody tr th:only-of-type {\n",
       "        vertical-align: middle;\n",
       "    }\n",
       "\n",
       "    .dataframe tbody tr th {\n",
       "        vertical-align: top;\n",
       "    }\n",
       "\n",
       "    .dataframe thead th {\n",
       "        text-align: right;\n",
       "    }\n",
       "</style>\n",
       "<table border=\"1\" class=\"dataframe\">\n",
       "  <thead>\n",
       "    <tr style=\"text-align: right;\">\n",
       "      <th></th>\n",
       "      <th>time</th>\n",
       "      <th>mid_o</th>\n",
       "      <th>mid_h</th>\n",
       "      <th>mid_l</th>\n",
       "      <th>mid_c</th>\n",
       "      <th>bid_o</th>\n",
       "      <th>bid_h</th>\n",
       "      <th>bid_l</th>\n",
       "      <th>bid_c</th>\n",
       "      <th>ask_o</th>\n",
       "      <th>...</th>\n",
       "      <th>ask_c</th>\n",
       "      <th>ENGULFING</th>\n",
       "      <th>direction</th>\n",
       "      <th>EMA_200</th>\n",
       "      <th>RSI_14</th>\n",
       "      <th>SIGNAL</th>\n",
       "      <th>TP</th>\n",
       "      <th>SL</th>\n",
       "      <th>m5_start</th>\n",
       "      <th>start_index_h1</th>\n",
       "    </tr>\n",
       "  </thead>\n",
       "  <tbody>\n",
       "    <tr>\n",
       "      <th>4</th>\n",
       "      <td>2016-01-19 11:00:00+00:00</td>\n",
       "      <td>1.08728</td>\n",
       "      <td>1.08732</td>\n",
       "      <td>1.08599</td>\n",
       "      <td>1.08630</td>\n",
       "      <td>1.08721</td>\n",
       "      <td>1.08726</td>\n",
       "      <td>1.08593</td>\n",
       "      <td>1.08623</td>\n",
       "      <td>1.08734</td>\n",
       "      <td>...</td>\n",
       "      <td>1.08637</td>\n",
       "      <td>True</td>\n",
       "      <td>-1</td>\n",
       "      <td>1.088289</td>\n",
       "      <td>38.849941</td>\n",
       "      <td>-1</td>\n",
       "      <td>1.084760</td>\n",
       "      <td>1.08721</td>\n",
       "      <td>2016-01-19 12:00:00+00:00</td>\n",
       "      <td>4</td>\n",
       "    </tr>\n",
       "    <tr>\n",
       "      <th>15</th>\n",
       "      <td>2016-01-19 22:00:00+00:00</td>\n",
       "      <td>1.09060</td>\n",
       "      <td>1.09143</td>\n",
       "      <td>1.09052</td>\n",
       "      <td>1.09140</td>\n",
       "      <td>1.09010</td>\n",
       "      <td>1.09130</td>\n",
       "      <td>1.09010</td>\n",
       "      <td>1.09127</td>\n",
       "      <td>1.09110</td>\n",
       "      <td>...</td>\n",
       "      <td>1.09153</td>\n",
       "      <td>True</td>\n",
       "      <td>1</td>\n",
       "      <td>1.088541</td>\n",
       "      <td>57.545307</td>\n",
       "      <td>1</td>\n",
       "      <td>1.092175</td>\n",
       "      <td>1.09110</td>\n",
       "      <td>2016-01-19 23:00:00+00:00</td>\n",
       "      <td>15</td>\n",
       "    </tr>\n",
       "    <tr>\n",
       "      <th>17</th>\n",
       "      <td>2016-01-20 00:00:00+00:00</td>\n",
       "      <td>1.09112</td>\n",
       "      <td>1.09246</td>\n",
       "      <td>1.09100</td>\n",
       "      <td>1.09214</td>\n",
       "      <td>1.09104</td>\n",
       "      <td>1.09239</td>\n",
       "      <td>1.09091</td>\n",
       "      <td>1.09206</td>\n",
       "      <td>1.09120</td>\n",
       "      <td>...</td>\n",
       "      <td>1.09223</td>\n",
       "      <td>True</td>\n",
       "      <td>1</td>\n",
       "      <td>1.088610</td>\n",
       "      <td>59.970073</td>\n",
       "      <td>1</td>\n",
       "      <td>1.093775</td>\n",
       "      <td>1.09120</td>\n",
       "      <td>2016-01-20 01:00:00+00:00</td>\n",
       "      <td>17</td>\n",
       "    </tr>\n",
       "    <tr>\n",
       "      <th>23</th>\n",
       "      <td>2016-01-20 06:00:00+00:00</td>\n",
       "      <td>1.09491</td>\n",
       "      <td>1.09635</td>\n",
       "      <td>1.09491</td>\n",
       "      <td>1.09546</td>\n",
       "      <td>1.09484</td>\n",
       "      <td>1.09628</td>\n",
       "      <td>1.09484</td>\n",
       "      <td>1.09538</td>\n",
       "      <td>1.09498</td>\n",
       "      <td>...</td>\n",
       "      <td>1.09554</td>\n",
       "      <td>True</td>\n",
       "      <td>1</td>\n",
       "      <td>1.088985</td>\n",
       "      <td>68.866726</td>\n",
       "      <td>1</td>\n",
       "      <td>1.096380</td>\n",
       "      <td>1.09498</td>\n",
       "      <td>2016-01-20 07:00:00+00:00</td>\n",
       "      <td>23</td>\n",
       "    </tr>\n",
       "    <tr>\n",
       "      <th>25</th>\n",
       "      <td>2016-01-20 08:00:00+00:00</td>\n",
       "      <td>1.09398</td>\n",
       "      <td>1.09760</td>\n",
       "      <td>1.09397</td>\n",
       "      <td>1.09625</td>\n",
       "      <td>1.09390</td>\n",
       "      <td>1.09754</td>\n",
       "      <td>1.09390</td>\n",
       "      <td>1.09619</td>\n",
       "      <td>1.09405</td>\n",
       "      <td>...</td>\n",
       "      <td>1.09631</td>\n",
       "      <td>True</td>\n",
       "      <td>1</td>\n",
       "      <td>1.089121</td>\n",
       "      <td>67.087323</td>\n",
       "      <td>1</td>\n",
       "      <td>1.099700</td>\n",
       "      <td>1.09405</td>\n",
       "      <td>2016-01-20 09:00:00+00:00</td>\n",
       "      <td>25</td>\n",
       "    </tr>\n",
       "  </tbody>\n",
       "</table>\n",
       "<p>5 rows × 22 columns</p>\n",
       "</div>"
      ],
      "text/plain": [
       "                        time    mid_o    mid_h    mid_l    mid_c    bid_o  \\\n",
       "4  2016-01-19 11:00:00+00:00  1.08728  1.08732  1.08599  1.08630  1.08721   \n",
       "15 2016-01-19 22:00:00+00:00  1.09060  1.09143  1.09052  1.09140  1.09010   \n",
       "17 2016-01-20 00:00:00+00:00  1.09112  1.09246  1.09100  1.09214  1.09104   \n",
       "23 2016-01-20 06:00:00+00:00  1.09491  1.09635  1.09491  1.09546  1.09484   \n",
       "25 2016-01-20 08:00:00+00:00  1.09398  1.09760  1.09397  1.09625  1.09390   \n",
       "\n",
       "      bid_h    bid_l    bid_c    ask_o  ...    ask_c  ENGULFING  direction  \\\n",
       "4   1.08726  1.08593  1.08623  1.08734  ...  1.08637       True         -1   \n",
       "15  1.09130  1.09010  1.09127  1.09110  ...  1.09153       True          1   \n",
       "17  1.09239  1.09091  1.09206  1.09120  ...  1.09223       True          1   \n",
       "23  1.09628  1.09484  1.09538  1.09498  ...  1.09554       True          1   \n",
       "25  1.09754  1.09390  1.09619  1.09405  ...  1.09631       True          1   \n",
       "\n",
       "     EMA_200     RSI_14  SIGNAL        TP       SL                  m5_start  \\\n",
       "4   1.088289  38.849941      -1  1.084760  1.08721 2016-01-19 12:00:00+00:00   \n",
       "15  1.088541  57.545307       1  1.092175  1.09110 2016-01-19 23:00:00+00:00   \n",
       "17  1.088610  59.970073       1  1.093775  1.09120 2016-01-20 01:00:00+00:00   \n",
       "23  1.088985  68.866726       1  1.096380  1.09498 2016-01-20 07:00:00+00:00   \n",
       "25  1.089121  67.087323       1  1.099700  1.09405 2016-01-20 09:00:00+00:00   \n",
       "\n",
       "    start_index_h1  \n",
       "4                4  \n",
       "15              15  \n",
       "17              17  \n",
       "23              23  \n",
       "25              25  \n",
       "\n",
       "[5 rows x 22 columns]"
      ]
     },
     "execution_count": 35,
     "metadata": {},
     "output_type": "execute_result"
    }
   ],
   "source": [
    "df_signals.head()"
   ]
  },
  {
   "cell_type": "code",
   "execution_count": 36,
   "metadata": {},
   "outputs": [
    {
     "data": {
      "text/plain": [
       "Index(['time', 'mid_o', 'mid_h', 'mid_l', 'mid_c', 'bid_o', 'bid_h', 'bid_l',\n",
       "       'bid_c', 'ask_o', 'ask_h', 'ask_l', 'ask_c', 'ENGULFING', 'direction',\n",
       "       'EMA_200', 'RSI_14', 'SIGNAL', 'TP', 'SL', 'm5_start',\n",
       "       'start_index_h1'],\n",
       "      dtype='object')"
      ]
     },
     "execution_count": 36,
     "metadata": {},
     "output_type": "execute_result"
    }
   ],
   "source": [
    "df_signals.columns"
   ]
  },
  {
   "cell_type": "code",
   "execution_count": 37,
   "metadata": {},
   "outputs": [],
   "source": [
    "df_signals.drop(['time', 'mid_o', 'mid_h', 'mid_l', 'mid_c', 'bid_o', 'bid_h', 'bid_l',\n",
    "       'ask_o', 'ask_h', 'ask_l', 'ENGULFING', 'direction',\n",
    "       'EMA_200', 'RSI_14'], axis=1, inplace=True)"
   ]
  },
  {
   "cell_type": "code",
   "execution_count": 38,
   "metadata": {},
   "outputs": [
    {
     "data": {
      "text/html": [
       "<div>\n",
       "<style scoped>\n",
       "    .dataframe tbody tr th:only-of-type {\n",
       "        vertical-align: middle;\n",
       "    }\n",
       "\n",
       "    .dataframe tbody tr th {\n",
       "        vertical-align: top;\n",
       "    }\n",
       "\n",
       "    .dataframe thead th {\n",
       "        text-align: right;\n",
       "    }\n",
       "</style>\n",
       "<table border=\"1\" class=\"dataframe\">\n",
       "  <thead>\n",
       "    <tr style=\"text-align: right;\">\n",
       "      <th></th>\n",
       "      <th>bid_c</th>\n",
       "      <th>ask_c</th>\n",
       "      <th>SIGNAL</th>\n",
       "      <th>TP</th>\n",
       "      <th>SL</th>\n",
       "      <th>m5_start</th>\n",
       "      <th>start_index_h1</th>\n",
       "    </tr>\n",
       "  </thead>\n",
       "  <tbody>\n",
       "    <tr>\n",
       "      <th>4</th>\n",
       "      <td>1.08623</td>\n",
       "      <td>1.08637</td>\n",
       "      <td>-1</td>\n",
       "      <td>1.084760</td>\n",
       "      <td>1.08721</td>\n",
       "      <td>2016-01-19 12:00:00+00:00</td>\n",
       "      <td>4</td>\n",
       "    </tr>\n",
       "    <tr>\n",
       "      <th>15</th>\n",
       "      <td>1.09127</td>\n",
       "      <td>1.09153</td>\n",
       "      <td>1</td>\n",
       "      <td>1.092175</td>\n",
       "      <td>1.09110</td>\n",
       "      <td>2016-01-19 23:00:00+00:00</td>\n",
       "      <td>15</td>\n",
       "    </tr>\n",
       "    <tr>\n",
       "      <th>17</th>\n",
       "      <td>1.09206</td>\n",
       "      <td>1.09223</td>\n",
       "      <td>1</td>\n",
       "      <td>1.093775</td>\n",
       "      <td>1.09120</td>\n",
       "      <td>2016-01-20 01:00:00+00:00</td>\n",
       "      <td>17</td>\n",
       "    </tr>\n",
       "    <tr>\n",
       "      <th>23</th>\n",
       "      <td>1.09538</td>\n",
       "      <td>1.09554</td>\n",
       "      <td>1</td>\n",
       "      <td>1.096380</td>\n",
       "      <td>1.09498</td>\n",
       "      <td>2016-01-20 07:00:00+00:00</td>\n",
       "      <td>23</td>\n",
       "    </tr>\n",
       "    <tr>\n",
       "      <th>25</th>\n",
       "      <td>1.09619</td>\n",
       "      <td>1.09631</td>\n",
       "      <td>1</td>\n",
       "      <td>1.099700</td>\n",
       "      <td>1.09405</td>\n",
       "      <td>2016-01-20 09:00:00+00:00</td>\n",
       "      <td>25</td>\n",
       "    </tr>\n",
       "  </tbody>\n",
       "</table>\n",
       "</div>"
      ],
      "text/plain": [
       "      bid_c    ask_c  SIGNAL        TP       SL                  m5_start  \\\n",
       "4   1.08623  1.08637      -1  1.084760  1.08721 2016-01-19 12:00:00+00:00   \n",
       "15  1.09127  1.09153       1  1.092175  1.09110 2016-01-19 23:00:00+00:00   \n",
       "17  1.09206  1.09223       1  1.093775  1.09120 2016-01-20 01:00:00+00:00   \n",
       "23  1.09538  1.09554       1  1.096380  1.09498 2016-01-20 07:00:00+00:00   \n",
       "25  1.09619  1.09631       1  1.099700  1.09405 2016-01-20 09:00:00+00:00   \n",
       "\n",
       "    start_index_h1  \n",
       "4                4  \n",
       "15              15  \n",
       "17              17  \n",
       "23              23  \n",
       "25              25  "
      ]
     },
     "execution_count": 38,
     "metadata": {},
     "output_type": "execute_result"
    }
   ],
   "source": [
    "df_signals.head()"
   ]
  },
  {
   "cell_type": "code",
   "execution_count": 39,
   "metadata": {},
   "outputs": [],
   "source": [
    "df_signals.rename(columns={\n",
    "    'bid_c' : 'start_price_BUY',\n",
    "    'ask_c' : 'start_price_SELL',\n",
    "    'm5_start' : 'time'\n",
    "}, inplace=True)"
   ]
  },
  {
   "cell_type": "code",
   "execution_count": 40,
   "metadata": {},
   "outputs": [
    {
     "data": {
      "text/html": [
       "<div>\n",
       "<style scoped>\n",
       "    .dataframe tbody tr th:only-of-type {\n",
       "        vertical-align: middle;\n",
       "    }\n",
       "\n",
       "    .dataframe tbody tr th {\n",
       "        vertical-align: top;\n",
       "    }\n",
       "\n",
       "    .dataframe thead th {\n",
       "        text-align: right;\n",
       "    }\n",
       "</style>\n",
       "<table border=\"1\" class=\"dataframe\">\n",
       "  <thead>\n",
       "    <tr style=\"text-align: right;\">\n",
       "      <th></th>\n",
       "      <th>start_price_BUY</th>\n",
       "      <th>start_price_SELL</th>\n",
       "      <th>SIGNAL</th>\n",
       "      <th>TP</th>\n",
       "      <th>SL</th>\n",
       "      <th>time</th>\n",
       "      <th>start_index_h1</th>\n",
       "    </tr>\n",
       "  </thead>\n",
       "  <tbody>\n",
       "    <tr>\n",
       "      <th>4</th>\n",
       "      <td>1.08623</td>\n",
       "      <td>1.08637</td>\n",
       "      <td>-1</td>\n",
       "      <td>1.084760</td>\n",
       "      <td>1.08721</td>\n",
       "      <td>2016-01-19 12:00:00+00:00</td>\n",
       "      <td>4</td>\n",
       "    </tr>\n",
       "    <tr>\n",
       "      <th>15</th>\n",
       "      <td>1.09127</td>\n",
       "      <td>1.09153</td>\n",
       "      <td>1</td>\n",
       "      <td>1.092175</td>\n",
       "      <td>1.09110</td>\n",
       "      <td>2016-01-19 23:00:00+00:00</td>\n",
       "      <td>15</td>\n",
       "    </tr>\n",
       "  </tbody>\n",
       "</table>\n",
       "</div>"
      ],
      "text/plain": [
       "    start_price_BUY  start_price_SELL  SIGNAL        TP       SL  \\\n",
       "4           1.08623           1.08637      -1  1.084760  1.08721   \n",
       "15          1.09127           1.09153       1  1.092175  1.09110   \n",
       "\n",
       "                        time  start_index_h1  \n",
       "4  2016-01-19 12:00:00+00:00               4  \n",
       "15 2016-01-19 23:00:00+00:00              15  "
      ]
     },
     "execution_count": 40,
     "metadata": {},
     "output_type": "execute_result"
    }
   ],
   "source": [
    "df_signals.head(2)"
   ]
  },
  {
   "cell_type": "code",
   "execution_count": 41,
   "metadata": {},
   "outputs": [
    {
     "data": {
      "text/html": [
       "<div>\n",
       "<style scoped>\n",
       "    .dataframe tbody tr th:only-of-type {\n",
       "        vertical-align: middle;\n",
       "    }\n",
       "\n",
       "    .dataframe tbody tr th {\n",
       "        vertical-align: top;\n",
       "    }\n",
       "\n",
       "    .dataframe thead th {\n",
       "        text-align: right;\n",
       "    }\n",
       "</style>\n",
       "<table border=\"1\" class=\"dataframe\">\n",
       "  <thead>\n",
       "    <tr style=\"text-align: right;\">\n",
       "      <th></th>\n",
       "      <th>time</th>\n",
       "      <th>bid_h</th>\n",
       "      <th>bid_l</th>\n",
       "      <th>ask_h</th>\n",
       "      <th>ask_l</th>\n",
       "    </tr>\n",
       "  </thead>\n",
       "  <tbody>\n",
       "    <tr>\n",
       "      <th>0</th>\n",
       "      <td>2016-01-07 00:00:00+00:00</td>\n",
       "      <td>1.07802</td>\n",
       "      <td>1.07750</td>\n",
       "      <td>1.07820</td>\n",
       "      <td>1.07768</td>\n",
       "    </tr>\n",
       "    <tr>\n",
       "      <th>1</th>\n",
       "      <td>2016-01-07 00:05:00+00:00</td>\n",
       "      <td>1.07811</td>\n",
       "      <td>1.07755</td>\n",
       "      <td>1.07827</td>\n",
       "      <td>1.07772</td>\n",
       "    </tr>\n",
       "  </tbody>\n",
       "</table>\n",
       "</div>"
      ],
      "text/plain": [
       "                       time    bid_h    bid_l    ask_h    ask_l\n",
       "0 2016-01-07 00:00:00+00:00  1.07802  1.07750  1.07820  1.07768\n",
       "1 2016-01-07 00:05:00+00:00  1.07811  1.07755  1.07827  1.07772"
      ]
     },
     "execution_count": 41,
     "metadata": {},
     "output_type": "execute_result"
    }
   ],
   "source": [
    "df_m5_slim.head(2)"
   ]
  },
  {
   "cell_type": "code",
   "execution_count": 42,
   "metadata": {},
   "outputs": [],
   "source": [
    "merged = pd.merge(left=df_m5_slim, right=df_signals, on='time', how='left')"
   ]
  },
  {
   "cell_type": "code",
   "execution_count": 43,
   "metadata": {},
   "outputs": [],
   "source": [
    "merged.fillna(0, inplace=True)"
   ]
  },
  {
   "cell_type": "code",
   "execution_count": 44,
   "metadata": {},
   "outputs": [],
   "source": [
    "merged.SIGNAL = merged.SIGNAL.astype(int)\n",
    "merged.start_index_h1 = merged.start_index_h1.astype(int)"
   ]
  },
  {
   "cell_type": "code",
   "execution_count": 45,
   "metadata": {},
   "outputs": [
    {
     "data": {
      "text/html": [
       "<div>\n",
       "<style scoped>\n",
       "    .dataframe tbody tr th:only-of-type {\n",
       "        vertical-align: middle;\n",
       "    }\n",
       "\n",
       "    .dataframe tbody tr th {\n",
       "        vertical-align: top;\n",
       "    }\n",
       "\n",
       "    .dataframe thead th {\n",
       "        text-align: right;\n",
       "    }\n",
       "</style>\n",
       "<table border=\"1\" class=\"dataframe\">\n",
       "  <thead>\n",
       "    <tr style=\"text-align: right;\">\n",
       "      <th></th>\n",
       "      <th>time</th>\n",
       "      <th>bid_h</th>\n",
       "      <th>bid_l</th>\n",
       "      <th>ask_h</th>\n",
       "      <th>ask_l</th>\n",
       "      <th>start_price_BUY</th>\n",
       "      <th>start_price_SELL</th>\n",
       "      <th>SIGNAL</th>\n",
       "      <th>TP</th>\n",
       "      <th>SL</th>\n",
       "      <th>start_index_h1</th>\n",
       "    </tr>\n",
       "  </thead>\n",
       "  <tbody>\n",
       "    <tr>\n",
       "      <th>0</th>\n",
       "      <td>2016-01-07 00:00:00+00:00</td>\n",
       "      <td>1.07802</td>\n",
       "      <td>1.07750</td>\n",
       "      <td>1.07820</td>\n",
       "      <td>1.07768</td>\n",
       "      <td>0.0</td>\n",
       "      <td>0.0</td>\n",
       "      <td>0</td>\n",
       "      <td>0.0</td>\n",
       "      <td>0.0</td>\n",
       "      <td>0</td>\n",
       "    </tr>\n",
       "    <tr>\n",
       "      <th>1</th>\n",
       "      <td>2016-01-07 00:05:00+00:00</td>\n",
       "      <td>1.07811</td>\n",
       "      <td>1.07755</td>\n",
       "      <td>1.07827</td>\n",
       "      <td>1.07772</td>\n",
       "      <td>0.0</td>\n",
       "      <td>0.0</td>\n",
       "      <td>0</td>\n",
       "      <td>0.0</td>\n",
       "      <td>0.0</td>\n",
       "      <td>0</td>\n",
       "    </tr>\n",
       "    <tr>\n",
       "      <th>2</th>\n",
       "      <td>2016-01-07 00:10:00+00:00</td>\n",
       "      <td>1.07823</td>\n",
       "      <td>1.07803</td>\n",
       "      <td>1.07840</td>\n",
       "      <td>1.07822</td>\n",
       "      <td>0.0</td>\n",
       "      <td>0.0</td>\n",
       "      <td>0</td>\n",
       "      <td>0.0</td>\n",
       "      <td>0.0</td>\n",
       "      <td>0</td>\n",
       "    </tr>\n",
       "    <tr>\n",
       "      <th>3</th>\n",
       "      <td>2016-01-07 00:15:00+00:00</td>\n",
       "      <td>1.07821</td>\n",
       "      <td>1.07790</td>\n",
       "      <td>1.07838</td>\n",
       "      <td>1.07807</td>\n",
       "      <td>0.0</td>\n",
       "      <td>0.0</td>\n",
       "      <td>0</td>\n",
       "      <td>0.0</td>\n",
       "      <td>0.0</td>\n",
       "      <td>0</td>\n",
       "    </tr>\n",
       "    <tr>\n",
       "      <th>4</th>\n",
       "      <td>2016-01-07 00:20:00+00:00</td>\n",
       "      <td>1.07789</td>\n",
       "      <td>1.07768</td>\n",
       "      <td>1.07809</td>\n",
       "      <td>1.07784</td>\n",
       "      <td>0.0</td>\n",
       "      <td>0.0</td>\n",
       "      <td>0</td>\n",
       "      <td>0.0</td>\n",
       "      <td>0.0</td>\n",
       "      <td>0</td>\n",
       "    </tr>\n",
       "  </tbody>\n",
       "</table>\n",
       "</div>"
      ],
      "text/plain": [
       "                       time    bid_h    bid_l    ask_h    ask_l  \\\n",
       "0 2016-01-07 00:00:00+00:00  1.07802  1.07750  1.07820  1.07768   \n",
       "1 2016-01-07 00:05:00+00:00  1.07811  1.07755  1.07827  1.07772   \n",
       "2 2016-01-07 00:10:00+00:00  1.07823  1.07803  1.07840  1.07822   \n",
       "3 2016-01-07 00:15:00+00:00  1.07821  1.07790  1.07838  1.07807   \n",
       "4 2016-01-07 00:20:00+00:00  1.07789  1.07768  1.07809  1.07784   \n",
       "\n",
       "   start_price_BUY  start_price_SELL  SIGNAL   TP   SL  start_index_h1  \n",
       "0              0.0               0.0       0  0.0  0.0               0  \n",
       "1              0.0               0.0       0  0.0  0.0               0  \n",
       "2              0.0               0.0       0  0.0  0.0               0  \n",
       "3              0.0               0.0       0  0.0  0.0               0  \n",
       "4              0.0               0.0       0  0.0  0.0               0  "
      ]
     },
     "execution_count": 45,
     "metadata": {},
     "output_type": "execute_result"
    }
   ],
   "source": [
    "merged.head()"
   ]
  },
  {
   "cell_type": "code",
   "execution_count": 48,
   "metadata": {},
   "outputs": [],
   "source": [
    "class TradeM5:\n",
    "    def __init__(self, row):\n",
    "        self.running = True\n",
    "        self.start_index_m5 = row.name\n",
    "        self.start_index_h1 = row.start_index_h1\n",
    "\n",
    "        if row.SIGNAL == BUY: \n",
    "            self.start_price = row.start_price_BUY\n",
    "            self.trigger_price = row.start_price_BUY\n",
    "        else: \n",
    "            self.start_price = row.start_price_SELL\n",
    "            self.trigger_price = row.start_price_SELL\n",
    "\n",
    "        self.SIGNAL = row.SIGNAL\n",
    "        self.TP = row.TP\n",
    "        self.SL = row.SL\n",
    "        self.result = 0.0\n",
    "        self.end_time = row.time\n",
    "        self.start_time = row.time\n",
    "        self.duration = 1\n",
    "\n",
    "\n",
    "    def close_trade(self, row, result, trigger_price):\n",
    "        self.running = False\n",
    "        self.result = result\n",
    "        self.end_time = row.time\n",
    "        self.trigger_price = trigger_price\n",
    "\n",
    "    def update(self, row):\n",
    "        self.duration += 1\n",
    "        if self.SIGNAL == BUY:\n",
    "            if row.bid_h >= self.TP:\n",
    "                self.close_trade(row, PROFIT_FACTOR, row.bid_h)\n",
    "            elif row.bid_l <= self.SL:\n",
    "                self.close_trade(row, LOSS_FACTOR, row.bid_l)\n",
    "            # if row.mid_l <= self.SL:\n",
    "            #     self.close_trade(row, LOSS_FACTOR, row.mid_l)\n",
    "            # elif row.mid_h >= self.TP:\n",
    "            #     self.close_trade(row, PROFIT_FACTOR, row.mid_h)\n",
    "        if self.SIGNAL == SELL:\n",
    "            if row.ask_l <= self.TP:\n",
    "                self.close_trade(row, PROFIT_FACTOR, row.ask_l)\n",
    "            elif row.ask_h >= self.SL:\n",
    "                self.close_trade(row, LOSS_FACTOR, row.ask_h)\n",
    "            # if row.mid_h >= self.SL:\n",
    "            #     self.close_trade(row, LOSS_FACTOR, row.mid_h)\n",
    "            # elif row.mid_l <= self.TP:\n",
    "            #     self.close_trade(row, PROFIT_FACTOR, row.mid_l)"
   ]
  },
  {
   "cell_type": "code",
   "execution_count": 49,
   "metadata": {},
   "outputs": [],
   "source": [
    "open_trades_m5 = []\n",
    "closed_trades_m5 = []\n",
    "\n",
    "for index, row in merged.iterrows():\n",
    "    if row.SIGNAL != NONE:\n",
    "        open_trades_m5.append(TradeM5(row))\n",
    "\n",
    "    for ot in open_trades_m5:\n",
    "        ot.update(row)\n",
    "        if ot.running == False:\n",
    "            closed_trades_m5.append(ot)\n",
    "    open_trades_m5 = [x for x in open_trades_m5 if x.running == True]\n",
    "    "
   ]
  },
  {
   "cell_type": "code",
   "execution_count": 50,
   "metadata": {},
   "outputs": [],
   "source": [
    "df_res_m5 = pd.DataFrame.from_dict([vars(x) for x in closed_trades_m5])"
   ]
  },
  {
   "cell_type": "code",
   "execution_count": 51,
   "metadata": {},
   "outputs": [
    {
     "data": {
      "text/html": [
       "<div>\n",
       "<style scoped>\n",
       "    .dataframe tbody tr th:only-of-type {\n",
       "        vertical-align: middle;\n",
       "    }\n",
       "\n",
       "    .dataframe tbody tr th {\n",
       "        vertical-align: top;\n",
       "    }\n",
       "\n",
       "    .dataframe thead th {\n",
       "        text-align: right;\n",
       "    }\n",
       "</style>\n",
       "<table border=\"1\" class=\"dataframe\">\n",
       "  <thead>\n",
       "    <tr style=\"text-align: right;\">\n",
       "      <th></th>\n",
       "      <th>running</th>\n",
       "      <th>start_index_m5</th>\n",
       "      <th>start_index_h1</th>\n",
       "      <th>start_price</th>\n",
       "      <th>trigger_price</th>\n",
       "      <th>SIGNAL</th>\n",
       "      <th>TP</th>\n",
       "      <th>SL</th>\n",
       "      <th>result</th>\n",
       "      <th>end_time</th>\n",
       "      <th>start_time</th>\n",
       "      <th>duration</th>\n",
       "    </tr>\n",
       "  </thead>\n",
       "  <tbody>\n",
       "    <tr>\n",
       "      <th>0</th>\n",
       "      <td>False</td>\n",
       "      <td>2445</td>\n",
       "      <td>4</td>\n",
       "      <td>1.08637</td>\n",
       "      <td>1.08746</td>\n",
       "      <td>-1</td>\n",
       "      <td>1.084760</td>\n",
       "      <td>1.08721</td>\n",
       "      <td>-1.0</td>\n",
       "      <td>2016-01-19 12:05:00+00:00</td>\n",
       "      <td>2016-01-19 12:00:00+00:00</td>\n",
       "      <td>3</td>\n",
       "    </tr>\n",
       "    <tr>\n",
       "      <th>1</th>\n",
       "      <td>False</td>\n",
       "      <td>2577</td>\n",
       "      <td>15</td>\n",
       "      <td>1.09127</td>\n",
       "      <td>1.09102</td>\n",
       "      <td>1</td>\n",
       "      <td>1.092175</td>\n",
       "      <td>1.09110</td>\n",
       "      <td>-1.0</td>\n",
       "      <td>2016-01-19 23:00:00+00:00</td>\n",
       "      <td>2016-01-19 23:00:00+00:00</td>\n",
       "      <td>2</td>\n",
       "    </tr>\n",
       "    <tr>\n",
       "      <th>2</th>\n",
       "      <td>False</td>\n",
       "      <td>2601</td>\n",
       "      <td>17</td>\n",
       "      <td>1.09206</td>\n",
       "      <td>1.09404</td>\n",
       "      <td>1</td>\n",
       "      <td>1.093775</td>\n",
       "      <td>1.09120</td>\n",
       "      <td>1.5</td>\n",
       "      <td>2016-01-20 03:00:00+00:00</td>\n",
       "      <td>2016-01-20 01:00:00+00:00</td>\n",
       "      <td>26</td>\n",
       "    </tr>\n",
       "    <tr>\n",
       "      <th>3</th>\n",
       "      <td>False</td>\n",
       "      <td>2673</td>\n",
       "      <td>23</td>\n",
       "      <td>1.09538</td>\n",
       "      <td>1.09488</td>\n",
       "      <td>1</td>\n",
       "      <td>1.096380</td>\n",
       "      <td>1.09498</td>\n",
       "      <td>-1.0</td>\n",
       "      <td>2016-01-20 07:20:00+00:00</td>\n",
       "      <td>2016-01-20 07:00:00+00:00</td>\n",
       "      <td>6</td>\n",
       "    </tr>\n",
       "    <tr>\n",
       "      <th>4</th>\n",
       "      <td>False</td>\n",
       "      <td>2697</td>\n",
       "      <td>25</td>\n",
       "      <td>1.09619</td>\n",
       "      <td>1.09362</td>\n",
       "      <td>1</td>\n",
       "      <td>1.099700</td>\n",
       "      <td>1.09405</td>\n",
       "      <td>-1.0</td>\n",
       "      <td>2016-01-20 09:20:00+00:00</td>\n",
       "      <td>2016-01-20 09:00:00+00:00</td>\n",
       "      <td>6</td>\n",
       "    </tr>\n",
       "  </tbody>\n",
       "</table>\n",
       "</div>"
      ],
      "text/plain": [
       "   running  start_index_m5  start_index_h1  start_price  trigger_price  \\\n",
       "0    False            2445               4      1.08637        1.08746   \n",
       "1    False            2577              15      1.09127        1.09102   \n",
       "2    False            2601              17      1.09206        1.09404   \n",
       "3    False            2673              23      1.09538        1.09488   \n",
       "4    False            2697              25      1.09619        1.09362   \n",
       "\n",
       "   SIGNAL        TP       SL  result                  end_time  \\\n",
       "0      -1  1.084760  1.08721    -1.0 2016-01-19 12:05:00+00:00   \n",
       "1       1  1.092175  1.09110    -1.0 2016-01-19 23:00:00+00:00   \n",
       "2       1  1.093775  1.09120     1.5 2016-01-20 03:00:00+00:00   \n",
       "3       1  1.096380  1.09498    -1.0 2016-01-20 07:20:00+00:00   \n",
       "4       1  1.099700  1.09405    -1.0 2016-01-20 09:20:00+00:00   \n",
       "\n",
       "                 start_time  duration  \n",
       "0 2016-01-19 12:00:00+00:00         3  \n",
       "1 2016-01-19 23:00:00+00:00         2  \n",
       "2 2016-01-20 01:00:00+00:00        26  \n",
       "3 2016-01-20 07:00:00+00:00         6  \n",
       "4 2016-01-20 09:00:00+00:00         6  "
      ]
     },
     "execution_count": 51,
     "metadata": {},
     "output_type": "execute_result"
    }
   ],
   "source": [
    "df_res_m5.head()"
   ]
  },
  {
   "cell_type": "code",
   "execution_count": 52,
   "metadata": {},
   "outputs": [
    {
     "data": {
      "text/plain": [
       "-915.0"
      ]
     },
     "execution_count": 52,
     "metadata": {},
     "output_type": "execute_result"
    }
   ],
   "source": [
    "df_res_m5.result.sum()"
   ]
  },
  {
   "cell_type": "code",
   "execution_count": null,
   "metadata": {},
   "outputs": [],
   "source": []
  },
  {
   "cell_type": "code",
   "execution_count": null,
   "metadata": {},
   "outputs": [],
   "source": []
  },
  {
   "cell_type": "code",
   "execution_count": null,
   "metadata": {},
   "outputs": [],
   "source": []
  },
  {
   "cell_type": "code",
   "execution_count": null,
   "metadata": {},
   "outputs": [],
   "source": []
  },
  {
   "cell_type": "code",
   "execution_count": null,
   "metadata": {},
   "outputs": [],
   "source": []
  },
  {
   "cell_type": "code",
   "execution_count": null,
   "metadata": {},
   "outputs": [],
   "source": []
  },
  {
   "cell_type": "code",
   "execution_count": null,
   "metadata": {},
   "outputs": [],
   "source": []
  }
 ],
 "metadata": {
  "kernelspec": {
   "display_name": "venv",
   "language": "python",
   "name": "python3"
  },
  "language_info": {
   "codemirror_mode": {
    "name": "ipython",
    "version": 3
   },
   "file_extension": ".py",
   "mimetype": "text/x-python",
   "name": "python",
   "nbconvert_exporter": "python",
   "pygments_lexer": "ipython3",
   "version": "3.11.1"
  },
  "orig_nbformat": 4
 },
 "nbformat": 4,
 "nbformat_minor": 2
}
