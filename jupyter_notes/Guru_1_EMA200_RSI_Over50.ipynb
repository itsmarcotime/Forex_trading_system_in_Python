{
 "cells": [
  {
   "cell_type": "code",
   "execution_count": 1,
   "metadata": {},
   "outputs": [],
   "source": [
    "import sys\n",
    "sys.path.append(\"../\")"
   ]
  },
  {
   "cell_type": "code",
   "execution_count": 2,
   "metadata": {},
   "outputs": [],
   "source": [
    "import pandas as pd\n",
    "import plotly.graph_objects as go\n",
    "from technicals.indicators import RSI\n",
    "from technicals.patterns import apply_patterns\n",
    "from plotting import CandlePlot"
   ]
  },
  {
   "cell_type": "code",
   "execution_count": 3,
   "metadata": {},
   "outputs": [],
   "source": [
    "df_raw = pd.read_pickle(\"../data/GBP_JPY_H1.pkl\")"
   ]
  },
  {
   "cell_type": "code",
   "execution_count": 5,
   "metadata": {},
   "outputs": [
    {
     "data": {
      "text/plain": [
       "(37224, 14)"
      ]
     },
     "execution_count": 5,
     "metadata": {},
     "output_type": "execute_result"
    }
   ],
   "source": [
    "df_raw.shape"
   ]
  },
  {
   "cell_type": "code",
   "execution_count": 10,
   "metadata": {},
   "outputs": [],
   "source": [
    "df_an = df_raw.iloc[-6000:].copy()\n",
    "df_an.reset_index(drop=True, inplace=True)"
   ]
  },
  {
   "cell_type": "code",
   "execution_count": 11,
   "metadata": {},
   "outputs": [
    {
     "data": {
      "text/plain": [
       "(6000, 14)"
      ]
     },
     "execution_count": 11,
     "metadata": {},
     "output_type": "execute_result"
    }
   ],
   "source": [
    "df_an.shape"
   ]
  },
  {
   "cell_type": "code",
   "execution_count": 12,
   "metadata": {},
   "outputs": [],
   "source": [
    "df_an = RSI(df_an)"
   ]
  },
  {
   "cell_type": "code",
   "execution_count": 15,
   "metadata": {},
   "outputs": [
    {
     "data": {
      "text/html": [
       "<div>\n",
       "<style scoped>\n",
       "    .dataframe tbody tr th:only-of-type {\n",
       "        vertical-align: middle;\n",
       "    }\n",
       "\n",
       "    .dataframe tbody tr th {\n",
       "        vertical-align: top;\n",
       "    }\n",
       "\n",
       "    .dataframe thead th {\n",
       "        text-align: right;\n",
       "    }\n",
       "</style>\n",
       "<table border=\"1\" class=\"dataframe\">\n",
       "  <thead>\n",
       "    <tr style=\"text-align: right;\">\n",
       "      <th></th>\n",
       "      <th>time</th>\n",
       "      <th>volume</th>\n",
       "      <th>mid_o</th>\n",
       "      <th>mid_h</th>\n",
       "      <th>mid_l</th>\n",
       "      <th>mid_c</th>\n",
       "      <th>bid_o</th>\n",
       "      <th>bid_h</th>\n",
       "      <th>bid_l</th>\n",
       "      <th>bid_c</th>\n",
       "      <th>ask_o</th>\n",
       "      <th>ask_h</th>\n",
       "      <th>ask_l</th>\n",
       "      <th>ask_c</th>\n",
       "      <th>RSI_14</th>\n",
       "    </tr>\n",
       "  </thead>\n",
       "  <tbody>\n",
       "    <tr>\n",
       "      <th>5995</th>\n",
       "      <td>2021-12-30 19:00:00+00:00</td>\n",
       "      <td>721</td>\n",
       "      <td>155.312</td>\n",
       "      <td>155.444</td>\n",
       "      <td>155.274</td>\n",
       "      <td>155.444</td>\n",
       "      <td>155.296</td>\n",
       "      <td>155.432</td>\n",
       "      <td>155.260</td>\n",
       "      <td>155.432</td>\n",
       "      <td>155.328</td>\n",
       "      <td>155.458</td>\n",
       "      <td>155.289</td>\n",
       "      <td>155.457</td>\n",
       "      <td>61.286263</td>\n",
       "    </tr>\n",
       "    <tr>\n",
       "      <th>5996</th>\n",
       "      <td>2021-12-30 20:00:00+00:00</td>\n",
       "      <td>1001</td>\n",
       "      <td>155.442</td>\n",
       "      <td>155.470</td>\n",
       "      <td>155.289</td>\n",
       "      <td>155.312</td>\n",
       "      <td>155.429</td>\n",
       "      <td>155.458</td>\n",
       "      <td>155.275</td>\n",
       "      <td>155.298</td>\n",
       "      <td>155.456</td>\n",
       "      <td>155.484</td>\n",
       "      <td>155.303</td>\n",
       "      <td>155.326</td>\n",
       "      <td>55.345932</td>\n",
       "    </tr>\n",
       "    <tr>\n",
       "      <th>5997</th>\n",
       "      <td>2021-12-30 21:00:00+00:00</td>\n",
       "      <td>638</td>\n",
       "      <td>155.317</td>\n",
       "      <td>155.382</td>\n",
       "      <td>155.286</td>\n",
       "      <td>155.382</td>\n",
       "      <td>155.301</td>\n",
       "      <td>155.362</td>\n",
       "      <td>155.270</td>\n",
       "      <td>155.362</td>\n",
       "      <td>155.333</td>\n",
       "      <td>155.404</td>\n",
       "      <td>155.300</td>\n",
       "      <td>155.402</td>\n",
       "      <td>57.688104</td>\n",
       "    </tr>\n",
       "    <tr>\n",
       "      <th>5998</th>\n",
       "      <td>2021-12-30 22:00:00+00:00</td>\n",
       "      <td>623</td>\n",
       "      <td>155.353</td>\n",
       "      <td>155.381</td>\n",
       "      <td>155.282</td>\n",
       "      <td>155.329</td>\n",
       "      <td>155.278</td>\n",
       "      <td>155.315</td>\n",
       "      <td>155.207</td>\n",
       "      <td>155.254</td>\n",
       "      <td>155.428</td>\n",
       "      <td>155.456</td>\n",
       "      <td>155.357</td>\n",
       "      <td>155.404</td>\n",
       "      <td>55.322082</td>\n",
       "    </tr>\n",
       "    <tr>\n",
       "      <th>5999</th>\n",
       "      <td>2021-12-30 23:00:00+00:00</td>\n",
       "      <td>419</td>\n",
       "      <td>155.336</td>\n",
       "      <td>155.360</td>\n",
       "      <td>155.284</td>\n",
       "      <td>155.310</td>\n",
       "      <td>155.262</td>\n",
       "      <td>155.329</td>\n",
       "      <td>155.262</td>\n",
       "      <td>155.294</td>\n",
       "      <td>155.411</td>\n",
       "      <td>155.418</td>\n",
       "      <td>155.299</td>\n",
       "      <td>155.327</td>\n",
       "      <td>54.459758</td>\n",
       "    </tr>\n",
       "  </tbody>\n",
       "</table>\n",
       "</div>"
      ],
      "text/plain": [
       "                          time  volume    mid_o  ...    ask_l    ask_c     RSI_14\n",
       "5995 2021-12-30 19:00:00+00:00     721  155.312  ...  155.289  155.457  61.286263\n",
       "5996 2021-12-30 20:00:00+00:00    1001  155.442  ...  155.303  155.326  55.345932\n",
       "5997 2021-12-30 21:00:00+00:00     638  155.317  ...  155.300  155.402  57.688104\n",
       "5998 2021-12-30 22:00:00+00:00     623  155.353  ...  155.357  155.404  55.322082\n",
       "5999 2021-12-30 23:00:00+00:00     419  155.336  ...  155.299  155.327  54.459758\n",
       "\n",
       "[5 rows x 15 columns]"
      ]
     },
     "execution_count": 15,
     "metadata": {},
     "output_type": "execute_result"
    }
   ],
   "source": [
    "df_an.tail()"
   ]
  },
  {
   "cell_type": "code",
   "execution_count": 16,
   "metadata": {},
   "outputs": [],
   "source": [
    "df_an = apply_patterns(df_an)"
   ]
  },
  {
   "cell_type": "code",
   "execution_count": 17,
   "metadata": {},
   "outputs": [],
   "source": [
    "df_an['EMA_200'] = df_an.mid_c.ewm(span=200, min_periods=200).mean()"
   ]
  },
  {
   "cell_type": "code",
   "execution_count": 18,
   "metadata": {},
   "outputs": [
    {
     "data": {
      "text/plain": [
       "Index(['time', 'volume', 'mid_o', 'mid_h', 'mid_l', 'mid_c', 'bid_o', 'bid_h',\n",
       "       'bid_l', 'bid_c', 'ask_o', 'ask_h', 'ask_l', 'ask_c', 'RSI_14',\n",
       "       'body_lower', 'body_upper', 'body_bottom_perc', 'body_top_perc',\n",
       "       'body_perc', 'direction', 'body_size', 'low_change', 'high_change',\n",
       "       'body_size_change', 'mid_point', 'mid_point_prev_2', 'body_size_prev',\n",
       "       'direction_prev', 'direction_prev_2', 'body_perc_prev',\n",
       "       'body_perc_prev_2', 'HANGING_MAN', 'SHOOTING_STAR', 'SPINNING_TOP',\n",
       "       'MARUBOZU', 'ENGULFING', 'TWEEZER_TOP', 'TWEEZER_BOTTOM',\n",
       "       'MORNING_STAR', 'EVENING_STAR', 'EMA_200'],\n",
       "      dtype='object')"
      ]
     },
     "execution_count": 18,
     "metadata": {},
     "output_type": "execute_result"
    }
   ],
   "source": [
    "df_an.columns"
   ]
  },
  {
   "cell_type": "code",
   "execution_count": 25,
   "metadata": {},
   "outputs": [],
   "source": [
    "our_cols = ['time', 'mid_o', 'mid_h', 'mid_l', 'mid_c', 'ask_c', 'bid_c', 'ENGULFING', 'direction', 'EMA_200', 'RSI_14']"
   ]
  },
  {
   "cell_type": "code",
   "execution_count": 26,
   "metadata": {},
   "outputs": [],
   "source": [
    "df_slim = df_an[our_cols].copy()\n",
    "df_slim.dropna(inplace=True)\n",
    "df_slim.reset_index(drop=True, inplace=True)"
   ]
  },
  {
   "cell_type": "code",
   "execution_count": 27,
   "metadata": {},
   "outputs": [
    {
     "data": {
      "text/html": [
       "<div>\n",
       "<style scoped>\n",
       "    .dataframe tbody tr th:only-of-type {\n",
       "        vertical-align: middle;\n",
       "    }\n",
       "\n",
       "    .dataframe tbody tr th {\n",
       "        vertical-align: top;\n",
       "    }\n",
       "\n",
       "    .dataframe thead th {\n",
       "        text-align: right;\n",
       "    }\n",
       "</style>\n",
       "<table border=\"1\" class=\"dataframe\">\n",
       "  <thead>\n",
       "    <tr style=\"text-align: right;\">\n",
       "      <th></th>\n",
       "      <th>time</th>\n",
       "      <th>mid_o</th>\n",
       "      <th>mid_h</th>\n",
       "      <th>mid_l</th>\n",
       "      <th>mid_c</th>\n",
       "      <th>ask_c</th>\n",
       "      <th>bid_c</th>\n",
       "      <th>ENGULFING</th>\n",
       "      <th>direction</th>\n",
       "      <th>EMA_200</th>\n",
       "      <th>RSI_14</th>\n",
       "    </tr>\n",
       "  </thead>\n",
       "  <tbody>\n",
       "    <tr>\n",
       "      <th>0</th>\n",
       "      <td>2021-01-27 05:00:00+00:00</td>\n",
       "      <td>142.404</td>\n",
       "      <td>142.499</td>\n",
       "      <td>142.399</td>\n",
       "      <td>142.490</td>\n",
       "      <td>142.503</td>\n",
       "      <td>142.478</td>\n",
       "      <td>True</td>\n",
       "      <td>1</td>\n",
       "      <td>141.854528</td>\n",
       "      <td>67.293687</td>\n",
       "    </tr>\n",
       "    <tr>\n",
       "      <th>1</th>\n",
       "      <td>2021-01-27 06:00:00+00:00</td>\n",
       "      <td>142.488</td>\n",
       "      <td>142.496</td>\n",
       "      <td>142.402</td>\n",
       "      <td>142.476</td>\n",
       "      <td>142.490</td>\n",
       "      <td>142.463</td>\n",
       "      <td>False</td>\n",
       "      <td>-1</td>\n",
       "      <td>141.861668</td>\n",
       "      <td>66.115829</td>\n",
       "    </tr>\n",
       "    <tr>\n",
       "      <th>2</th>\n",
       "      <td>2021-01-27 07:00:00+00:00</td>\n",
       "      <td>142.474</td>\n",
       "      <td>142.663</td>\n",
       "      <td>142.426</td>\n",
       "      <td>142.596</td>\n",
       "      <td>142.608</td>\n",
       "      <td>142.583</td>\n",
       "      <td>True</td>\n",
       "      <td>1</td>\n",
       "      <td>141.870092</td>\n",
       "      <td>70.828951</td>\n",
       "    </tr>\n",
       "    <tr>\n",
       "      <th>3</th>\n",
       "      <td>2021-01-27 08:00:00+00:00</td>\n",
       "      <td>142.594</td>\n",
       "      <td>142.626</td>\n",
       "      <td>142.365</td>\n",
       "      <td>142.512</td>\n",
       "      <td>142.523</td>\n",
       "      <td>142.502</td>\n",
       "      <td>False</td>\n",
       "      <td>-1</td>\n",
       "      <td>141.877445</td>\n",
       "      <td>64.106935</td>\n",
       "    </tr>\n",
       "    <tr>\n",
       "      <th>4</th>\n",
       "      <td>2021-01-27 09:00:00+00:00</td>\n",
       "      <td>142.510</td>\n",
       "      <td>142.612</td>\n",
       "      <td>142.411</td>\n",
       "      <td>142.555</td>\n",
       "      <td>142.565</td>\n",
       "      <td>142.545</td>\n",
       "      <td>False</td>\n",
       "      <td>1</td>\n",
       "      <td>141.885195</td>\n",
       "      <td>65.891472</td>\n",
       "    </tr>\n",
       "  </tbody>\n",
       "</table>\n",
       "</div>"
      ],
      "text/plain": [
       "                       time    mid_o    mid_h  ...  direction     EMA_200     RSI_14\n",
       "0 2021-01-27 05:00:00+00:00  142.404  142.499  ...          1  141.854528  67.293687\n",
       "1 2021-01-27 06:00:00+00:00  142.488  142.496  ...         -1  141.861668  66.115829\n",
       "2 2021-01-27 07:00:00+00:00  142.474  142.663  ...          1  141.870092  70.828951\n",
       "3 2021-01-27 08:00:00+00:00  142.594  142.626  ...         -1  141.877445  64.106935\n",
       "4 2021-01-27 09:00:00+00:00  142.510  142.612  ...          1  141.885195  65.891472\n",
       "\n",
       "[5 rows x 11 columns]"
      ]
     },
     "execution_count": 27,
     "metadata": {},
     "output_type": "execute_result"
    }
   ],
   "source": [
    "df_slim.head()"
   ]
  },
  {
   "cell_type": "code",
   "execution_count": 28,
   "metadata": {},
   "outputs": [],
   "source": [
    "BUY = 1\n",
    "SELL = -1\n",
    "NONE = 0\n",
    "RSI_LIMIT = 50.0\n",
    "\n",
    "# you can probaly change if statements into AND statements\n",
    "def apply_signal(row):\n",
    "    if row.ENGULFING == True:\n",
    "        if row.direction == BUY and row.mid_l > row.EMA_200:\n",
    "            if row.RSI_14 > RSI_LIMIT:\n",
    "                return BUY\n",
    "        if row.direction == SELL and row.mid_h < row.EMA_200:\n",
    "            if row.RSI_14 < RSI_LIMIT:\n",
    "                return SELL\n",
    "    return NONE"
   ]
  },
  {
   "cell_type": "code",
   "execution_count": 29,
   "metadata": {},
   "outputs": [],
   "source": [
    "df_slim[\"SIGNAL\"] = df_slim.apply(apply_signal, axis=1)"
   ]
  },
  {
   "cell_type": "code",
   "execution_count": 30,
   "metadata": {},
   "outputs": [
    {
     "data": {
      "text/plain": [
       "SIGNAL\n",
       " 0    5252\n",
       " 1     337\n",
       "-1     212\n",
       "Name: count, dtype: int64"
      ]
     },
     "execution_count": 30,
     "metadata": {},
     "output_type": "execute_result"
    }
   ],
   "source": [
    "df_slim[\"SIGNAL\"].value_counts()"
   ]
  },
  {
   "cell_type": "code",
   "execution_count": 31,
   "metadata": {},
   "outputs": [],
   "source": [
    "LOSS_FACTOR = -1.0\n",
    "PROFIT_FACTOR = 1.5\n",
    "\n",
    "def apply_take_profit(row):\n",
    "    if row.SIGNAL != NONE:\n",
    "        return (row.mid_c - row.mid_o) * PROFIT_FACTOR + row.mid_c\n",
    "    else:\n",
    "        return 0.0\n",
    "    \n",
    "def apply_stop_loss(row):\n",
    "    if row.SIGNAL != NONE:\n",
    "        return row.mid_o\n",
    "    else:\n",
    "        return 0.0"
   ]
  },
  {
   "cell_type": "code",
   "execution_count": 32,
   "metadata": {},
   "outputs": [],
   "source": [
    "df_slim[\"TP\"] = df_slim.apply(apply_take_profit, axis=1)\n",
    "df_slim[\"SL\"] = df_slim.apply(apply_stop_loss, axis=1)"
   ]
  },
  {
   "cell_type": "code",
   "execution_count": 35,
   "metadata": {},
   "outputs": [
    {
     "data": {
      "text/html": [
       "<div>\n",
       "<style scoped>\n",
       "    .dataframe tbody tr th:only-of-type {\n",
       "        vertical-align: middle;\n",
       "    }\n",
       "\n",
       "    .dataframe tbody tr th {\n",
       "        vertical-align: top;\n",
       "    }\n",
       "\n",
       "    .dataframe thead th {\n",
       "        text-align: right;\n",
       "    }\n",
       "</style>\n",
       "<table border=\"1\" class=\"dataframe\">\n",
       "  <thead>\n",
       "    <tr style=\"text-align: right;\">\n",
       "      <th></th>\n",
       "      <th>time</th>\n",
       "      <th>mid_o</th>\n",
       "      <th>mid_h</th>\n",
       "      <th>mid_l</th>\n",
       "      <th>mid_c</th>\n",
       "      <th>ask_c</th>\n",
       "      <th>bid_c</th>\n",
       "      <th>ENGULFING</th>\n",
       "      <th>direction</th>\n",
       "      <th>EMA_200</th>\n",
       "      <th>RSI_14</th>\n",
       "      <th>SIGNAL</th>\n",
       "      <th>TP</th>\n",
       "      <th>SL</th>\n",
       "    </tr>\n",
       "  </thead>\n",
       "  <tbody>\n",
       "    <tr>\n",
       "      <th>902</th>\n",
       "      <td>2021-03-19 18:00:00+00:00</td>\n",
       "      <td>151.132</td>\n",
       "      <td>151.190</td>\n",
       "      <td>150.994</td>\n",
       "      <td>151.026</td>\n",
       "      <td>151.039</td>\n",
       "      <td>151.014</td>\n",
       "      <td>True</td>\n",
       "      <td>-1</td>\n",
       "      <td>151.324994</td>\n",
       "      <td>36.397838</td>\n",
       "      <td>-1</td>\n",
       "      <td>150.8670</td>\n",
       "      <td>151.132</td>\n",
       "    </tr>\n",
       "    <tr>\n",
       "      <th>909</th>\n",
       "      <td>2021-03-22 01:00:00+00:00</td>\n",
       "      <td>150.612</td>\n",
       "      <td>150.625</td>\n",
       "      <td>150.413</td>\n",
       "      <td>150.552</td>\n",
       "      <td>150.562</td>\n",
       "      <td>150.543</td>\n",
       "      <td>True</td>\n",
       "      <td>-1</td>\n",
       "      <td>151.281219</td>\n",
       "      <td>34.305156</td>\n",
       "      <td>-1</td>\n",
       "      <td>150.4620</td>\n",
       "      <td>150.612</td>\n",
       "    </tr>\n",
       "    <tr>\n",
       "      <th>936</th>\n",
       "      <td>2021-03-23 04:00:00+00:00</td>\n",
       "      <td>150.530</td>\n",
       "      <td>150.586</td>\n",
       "      <td>150.418</td>\n",
       "      <td>150.425</td>\n",
       "      <td>150.437</td>\n",
       "      <td>150.413</td>\n",
       "      <td>True</td>\n",
       "      <td>-1</td>\n",
       "      <td>151.133297</td>\n",
       "      <td>37.972246</td>\n",
       "      <td>-1</td>\n",
       "      <td>150.2675</td>\n",
       "      <td>150.530</td>\n",
       "    </tr>\n",
       "    <tr>\n",
       "      <th>940</th>\n",
       "      <td>2021-03-23 08:00:00+00:00</td>\n",
       "      <td>150.578</td>\n",
       "      <td>150.578</td>\n",
       "      <td>150.142</td>\n",
       "      <td>150.199</td>\n",
       "      <td>150.210</td>\n",
       "      <td>150.188</td>\n",
       "      <td>True</td>\n",
       "      <td>-1</td>\n",
       "      <td>151.104443</td>\n",
       "      <td>34.619073</td>\n",
       "      <td>-1</td>\n",
       "      <td>149.6305</td>\n",
       "      <td>150.578</td>\n",
       "    </tr>\n",
       "    <tr>\n",
       "      <th>951</th>\n",
       "      <td>2021-03-23 19:00:00+00:00</td>\n",
       "      <td>149.606</td>\n",
       "      <td>149.635</td>\n",
       "      <td>149.280</td>\n",
       "      <td>149.296</td>\n",
       "      <td>149.307</td>\n",
       "      <td>149.284</td>\n",
       "      <td>True</td>\n",
       "      <td>-1</td>\n",
       "      <td>150.950248</td>\n",
       "      <td>29.776586</td>\n",
       "      <td>-1</td>\n",
       "      <td>148.8310</td>\n",
       "      <td>149.606</td>\n",
       "    </tr>\n",
       "  </tbody>\n",
       "</table>\n",
       "</div>"
      ],
      "text/plain": [
       "                         time    mid_o    mid_h  ...  SIGNAL        TP       SL\n",
       "902 2021-03-19 18:00:00+00:00  151.132  151.190  ...      -1  150.8670  151.132\n",
       "909 2021-03-22 01:00:00+00:00  150.612  150.625  ...      -1  150.4620  150.612\n",
       "936 2021-03-23 04:00:00+00:00  150.530  150.586  ...      -1  150.2675  150.530\n",
       "940 2021-03-23 08:00:00+00:00  150.578  150.578  ...      -1  149.6305  150.578\n",
       "951 2021-03-23 19:00:00+00:00  149.606  149.635  ...      -1  148.8310  149.606\n",
       "\n",
       "[5 rows x 14 columns]"
      ]
     },
     "execution_count": 35,
     "metadata": {},
     "output_type": "execute_result"
    }
   ],
   "source": [
    "df_slim[df_slim.SIGNAL==SELL].head()"
   ]
  },
  {
   "cell_type": "code",
   "execution_count": null,
   "metadata": {},
   "outputs": [],
   "source": []
  }
 ],
 "metadata": {
  "kernelspec": {
   "display_name": "venv",
   "language": "python",
   "name": "python3"
  },
  "language_info": {
   "codemirror_mode": {
    "name": "ipython",
    "version": 3
   },
   "file_extension": ".py",
   "mimetype": "text/x-python",
   "name": "python",
   "nbconvert_exporter": "python",
   "pygments_lexer": "ipython3",
   "version": "3.11.1"
  },
  "orig_nbformat": 4
 },
 "nbformat": 4,
 "nbformat_minor": 2
}
