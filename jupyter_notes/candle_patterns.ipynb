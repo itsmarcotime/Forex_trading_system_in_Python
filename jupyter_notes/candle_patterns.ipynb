{
 "cells": [
  {
   "cell_type": "code",
   "execution_count": 1,
   "metadata": {},
   "outputs": [],
   "source": [
    "import sys\n",
    "sys.path.append('../')\n",
    "from plotting import CandlePlot\n",
    "import pandas as pd"
   ]
  },
  {
   "cell_type": "code",
   "execution_count": 2,
   "metadata": {},
   "outputs": [],
   "source": [
    "from technicals.patterns import apply_patterns"
   ]
  },
  {
   "cell_type": "code",
   "execution_count": 3,
   "metadata": {},
   "outputs": [],
   "source": [
    "df = pd.read_pickle('../data/GBP_JPY_H1.pkl')"
   ]
  },
  {
   "cell_type": "code",
   "execution_count": 4,
   "metadata": {},
   "outputs": [],
   "source": [
    "df_an = df[['time', 'mid_o','mid_h', 'mid_l', 'mid_c']].copy()"
   ]
  },
  {
   "cell_type": "code",
   "execution_count": 5,
   "metadata": {},
   "outputs": [
    {
     "data": {
      "text/html": [
       "<div>\n",
       "<style scoped>\n",
       "    .dataframe tbody tr th:only-of-type {\n",
       "        vertical-align: middle;\n",
       "    }\n",
       "\n",
       "    .dataframe tbody tr th {\n",
       "        vertical-align: top;\n",
       "    }\n",
       "\n",
       "    .dataframe thead th {\n",
       "        text-align: right;\n",
       "    }\n",
       "</style>\n",
       "<table border=\"1\" class=\"dataframe\">\n",
       "  <thead>\n",
       "    <tr style=\"text-align: right;\">\n",
       "      <th></th>\n",
       "      <th>time</th>\n",
       "      <th>mid_o</th>\n",
       "      <th>mid_h</th>\n",
       "      <th>mid_l</th>\n",
       "      <th>mid_c</th>\n",
       "    </tr>\n",
       "  </thead>\n",
       "  <tbody>\n",
       "    <tr>\n",
       "      <th>37219</th>\n",
       "      <td>2021-12-30 19:00:00+00:00</td>\n",
       "      <td>155.312</td>\n",
       "      <td>155.444</td>\n",
       "      <td>155.274</td>\n",
       "      <td>155.444</td>\n",
       "    </tr>\n",
       "    <tr>\n",
       "      <th>37220</th>\n",
       "      <td>2021-12-30 20:00:00+00:00</td>\n",
       "      <td>155.442</td>\n",
       "      <td>155.470</td>\n",
       "      <td>155.289</td>\n",
       "      <td>155.312</td>\n",
       "    </tr>\n",
       "    <tr>\n",
       "      <th>37221</th>\n",
       "      <td>2021-12-30 21:00:00+00:00</td>\n",
       "      <td>155.317</td>\n",
       "      <td>155.382</td>\n",
       "      <td>155.286</td>\n",
       "      <td>155.382</td>\n",
       "    </tr>\n",
       "    <tr>\n",
       "      <th>37222</th>\n",
       "      <td>2021-12-30 22:00:00+00:00</td>\n",
       "      <td>155.353</td>\n",
       "      <td>155.381</td>\n",
       "      <td>155.282</td>\n",
       "      <td>155.329</td>\n",
       "    </tr>\n",
       "    <tr>\n",
       "      <th>37223</th>\n",
       "      <td>2021-12-30 23:00:00+00:00</td>\n",
       "      <td>155.336</td>\n",
       "      <td>155.360</td>\n",
       "      <td>155.284</td>\n",
       "      <td>155.310</td>\n",
       "    </tr>\n",
       "  </tbody>\n",
       "</table>\n",
       "</div>"
      ],
      "text/plain": [
       "                           time    mid_o    mid_h    mid_l    mid_c\n",
       "37219 2021-12-30 19:00:00+00:00  155.312  155.444  155.274  155.444\n",
       "37220 2021-12-30 20:00:00+00:00  155.442  155.470  155.289  155.312\n",
       "37221 2021-12-30 21:00:00+00:00  155.317  155.382  155.286  155.382\n",
       "37222 2021-12-30 22:00:00+00:00  155.353  155.381  155.282  155.329\n",
       "37223 2021-12-30 23:00:00+00:00  155.336  155.360  155.284  155.310"
      ]
     },
     "execution_count": 5,
     "metadata": {},
     "output_type": "execute_result"
    }
   ],
   "source": [
    "df_an.tail()"
   ]
  },
  {
   "cell_type": "code",
   "execution_count": null,
   "metadata": {},
   "outputs": [],
   "source": [
    "# direction = df_an.mid_c - df_an.mid_o\n",
    "# body_size = abs(direction)\n",
    "# direction = [1 if x >= 0 else -1 for x in direction]\n",
    "# full_range = df_an.mid_h - df_an.mid_l\n",
    "# body_perc = (body_size / full_range) * 100\n",
    "# body_lower = df_an[['mid_c', 'mid_o']].min(axis=1)\n",
    "# body_upper = df_an[['mid_c', 'mid_o']].max(axis=1)\n",
    "# body_bottom_perc = ((body_lower - df_an.mid_l) / full_range) * 100\n",
    "# body_top_perc = 100 - (((df_an.mid_h - body_upper) / full_range) * 100)\n"
   ]
  },
  {
   "cell_type": "code",
   "execution_count": null,
   "metadata": {},
   "outputs": [],
   "source": [
    "# df_an['body_lower'] = body_lower\n",
    "# df_an['body_upper'] = body_upper\n",
    "# df_an['body_bottom_perc'] = body_bottom_perc\n",
    "# df_an['body_top_perc'] = body_top_perc\n",
    "# df_an['body_perc'] = body_perc"
   ]
  },
  {
   "cell_type": "code",
   "execution_count": 6,
   "metadata": {},
   "outputs": [],
   "source": [
    "df_an = apply_patterns(df_an)"
   ]
  },
  {
   "cell_type": "code",
   "execution_count": 8,
   "metadata": {},
   "outputs": [],
   "source": [
    "HANGING_MAN_BODY = 15.0\n",
    "HANGING_MAN_HEIGHT = 75.0\n",
    "SHOOTING_STAR_HEIGHT = 25.0\n",
    "SPINNING_TOP_MIN = 40.0\n",
    "SPINNING_TOP_MAX = 60.0\n",
    "MARUBOZU = 98.0\n",
    "ENGULFING_FACTOR = 1.1\n",
    "\n",
    "apply_marubozu = lambda x : x.body_perc > MARUBOZU\n",
    "\n",
    "def apply_hanging_man(row):\n",
    "    if row.body_bottom_perc > HANGING_MAN_HEIGHT:\n",
    "        if row.body_perc < HANGING_MAN_BODY:\n",
    "            return True\n",
    "    return False\n",
    "\n",
    "def apply_shooting_star(row):\n",
    "    if row.body_top_perc < SHOOTING_STAR_HEIGHT:\n",
    "        if row.body_perc < HANGING_MAN_BODY:\n",
    "            return True\n",
    "    return False\n",
    "\n",
    "def apply_spinning_top(row):\n",
    "    if row.body_top_perc < SPINNING_TOP_MAX:\n",
    "        if row.body_bottom_perc > SPINNING_TOP_MIN:\n",
    "            if row.body_perc < HANGING_MAN_BODY:\n",
    "                return True\n",
    "    return False\n",
    "\n",
    "def apply_engulfing(row):\n",
    "    if row.direction != row.direction_prev:\n",
    "        if row.body_size > row.body_size_prev * ENGULFING_FACTOR:\n",
    "            return True\n",
    "    return False\n",
    "\n",
    "TWEEZER_BODY = 15.0\n",
    "TWEEZER_HL = 0.01\n",
    "TWEEZER_TOP_BODY = 40.0\n",
    "\n",
    "def apply_tweezer_top(row):\n",
    "    if abs(row.body_size_change) < TWEEZER_BODY:\n",
    "        if row.direction == -1 and row.direction != row.direction_prev:\n",
    "            if abs(row.low_change) < TWEEZER_HL and abs(row.high_change) < TWEEZER_HL:\n",
    "                if row.body_top_perc < TWEEZER_TOP_BODY:\n",
    "                    return True\n",
    "    return False"
   ]
  },
  {
   "cell_type": "code",
   "execution_count": 9,
   "metadata": {},
   "outputs": [],
   "source": [
    "df_an['body_size_prev'] = df_an.body_size.shift(1)\n",
    "df_an['direction_prev'] = df_an.direction.shift(1)\n",
    "df_an['HANGING_MAN'] = df_an.apply(apply_hanging_man, axis=1)\n",
    "df_an['SHOOTING_STAR'] = df_an.apply(apply_shooting_star, axis=1)\n",
    "df_an['SPINNING_TOP'] = df_an.apply(apply_spinning_top, axis=1)\n",
    "df_an['MARUBOZU'] = df_an.apply(apply_marubozu, axis=1)\n",
    "df_an['ENGULFING'] = df_an.apply(apply_engulfing, axis=1)\n",
    "df_an['TWEEZER_TOP'] = df_an.apply(apply_tweezer_top, axis=1)"
   ]
  },
  {
   "cell_type": "code",
   "execution_count": 12,
   "metadata": {},
   "outputs": [
    {
     "data": {
      "text/html": [
       "<div>\n",
       "<style scoped>\n",
       "    .dataframe tbody tr th:only-of-type {\n",
       "        vertical-align: middle;\n",
       "    }\n",
       "\n",
       "    .dataframe tbody tr th {\n",
       "        vertical-align: top;\n",
       "    }\n",
       "\n",
       "    .dataframe thead th {\n",
       "        text-align: right;\n",
       "    }\n",
       "</style>\n",
       "<table border=\"1\" class=\"dataframe\">\n",
       "  <thead>\n",
       "    <tr style=\"text-align: right;\">\n",
       "      <th></th>\n",
       "      <th>time</th>\n",
       "      <th>mid_o</th>\n",
       "      <th>mid_h</th>\n",
       "      <th>mid_l</th>\n",
       "      <th>mid_c</th>\n",
       "      <th>body_lower</th>\n",
       "      <th>body_upper</th>\n",
       "      <th>body_bottom_perc</th>\n",
       "      <th>body_top_perc</th>\n",
       "      <th>body_perc</th>\n",
       "      <th>...</th>\n",
       "      <th>high_change</th>\n",
       "      <th>body_size_change</th>\n",
       "      <th>body_size_prev</th>\n",
       "      <th>direction_prev</th>\n",
       "      <th>HANGING_MAN</th>\n",
       "      <th>SHOOTING_STAR</th>\n",
       "      <th>SPINNING_TOP</th>\n",
       "      <th>MARUBOZU</th>\n",
       "      <th>ENGULFING</th>\n",
       "      <th>TWEEZER_TOP</th>\n",
       "    </tr>\n",
       "  </thead>\n",
       "  <tbody>\n",
       "    <tr>\n",
       "      <th>11115</th>\n",
       "      <td>2017-10-19 03:00:00+00:00</td>\n",
       "      <td>149.220</td>\n",
       "      <td>149.300</td>\n",
       "      <td>149.168</td>\n",
       "      <td>149.203</td>\n",
       "      <td>149.203</td>\n",
       "      <td>149.220</td>\n",
       "      <td>26.515152</td>\n",
       "      <td>39.393939</td>\n",
       "      <td>12.878788</td>\n",
       "      <td>...</td>\n",
       "      <td>-0.006697</td>\n",
       "      <td>-5.555556e+00</td>\n",
       "      <td>0.018</td>\n",
       "      <td>1.0</td>\n",
       "      <td>False</td>\n",
       "      <td>False</td>\n",
       "      <td>False</td>\n",
       "      <td>False</td>\n",
       "      <td>False</td>\n",
       "      <td>True</td>\n",
       "    </tr>\n",
       "    <tr>\n",
       "      <th>14705</th>\n",
       "      <td>2018-05-18 16:00:00+00:00</td>\n",
       "      <td>149.183</td>\n",
       "      <td>149.274</td>\n",
       "      <td>149.125</td>\n",
       "      <td>149.141</td>\n",
       "      <td>149.141</td>\n",
       "      <td>149.183</td>\n",
       "      <td>10.738255</td>\n",
       "      <td>38.926174</td>\n",
       "      <td>28.187919</td>\n",
       "      <td>...</td>\n",
       "      <td>0.006700</td>\n",
       "      <td>5.000000e+00</td>\n",
       "      <td>0.040</td>\n",
       "      <td>1.0</td>\n",
       "      <td>False</td>\n",
       "      <td>False</td>\n",
       "      <td>False</td>\n",
       "      <td>False</td>\n",
       "      <td>False</td>\n",
       "      <td>True</td>\n",
       "    </tr>\n",
       "    <tr>\n",
       "      <th>16032</th>\n",
       "      <td>2018-08-05 23:00:00+00:00</td>\n",
       "      <td>144.632</td>\n",
       "      <td>144.672</td>\n",
       "      <td>144.608</td>\n",
       "      <td>144.630</td>\n",
       "      <td>144.630</td>\n",
       "      <td>144.632</td>\n",
       "      <td>34.375000</td>\n",
       "      <td>37.500000</td>\n",
       "      <td>3.125000</td>\n",
       "      <td>...</td>\n",
       "      <td>-0.002765</td>\n",
       "      <td>1.421085e-09</td>\n",
       "      <td>0.002</td>\n",
       "      <td>1.0</td>\n",
       "      <td>False</td>\n",
       "      <td>False</td>\n",
       "      <td>False</td>\n",
       "      <td>False</td>\n",
       "      <td>False</td>\n",
       "      <td>True</td>\n",
       "    </tr>\n",
       "  </tbody>\n",
       "</table>\n",
       "<p>3 rows × 23 columns</p>\n",
       "</div>"
      ],
      "text/plain": [
       "                           time    mid_o    mid_h    mid_l    mid_c  \\\n",
       "11115 2017-10-19 03:00:00+00:00  149.220  149.300  149.168  149.203   \n",
       "14705 2018-05-18 16:00:00+00:00  149.183  149.274  149.125  149.141   \n",
       "16032 2018-08-05 23:00:00+00:00  144.632  144.672  144.608  144.630   \n",
       "\n",
       "       body_lower  body_upper  body_bottom_perc  body_top_perc  body_perc  \\\n",
       "11115     149.203     149.220         26.515152      39.393939  12.878788   \n",
       "14705     149.141     149.183         10.738255      38.926174  28.187919   \n",
       "16032     144.630     144.632         34.375000      37.500000   3.125000   \n",
       "\n",
       "       ...  high_change  body_size_change  body_size_prev  direction_prev  \\\n",
       "11115  ...    -0.006697     -5.555556e+00           0.018             1.0   \n",
       "14705  ...     0.006700      5.000000e+00           0.040             1.0   \n",
       "16032  ...    -0.002765      1.421085e-09           0.002             1.0   \n",
       "\n",
       "       HANGING_MAN  SHOOTING_STAR  SPINNING_TOP  MARUBOZU  ENGULFING  \\\n",
       "11115        False          False         False     False      False   \n",
       "14705        False          False         False     False      False   \n",
       "16032        False          False         False     False      False   \n",
       "\n",
       "       TWEEZER_TOP  \n",
       "11115         True  \n",
       "14705         True  \n",
       "16032         True  \n",
       "\n",
       "[3 rows x 23 columns]"
      ]
     },
     "execution_count": 12,
     "metadata": {},
     "output_type": "execute_result"
    }
   ],
   "source": [
    "df_an[df_an['TWEEZER_TOP'] == True]"
   ]
  },
  {
   "cell_type": "code",
   "execution_count": 10,
   "metadata": {},
   "outputs": [],
   "source": [
    "import plotly.graph_objects as go"
   ]
  },
  {
   "cell_type": "code",
   "execution_count": 15,
   "metadata": {},
   "outputs": [
    {
     "data": {
      "application/vnd.plotly.v1+json": {
       "config": {
        "plotlyServerURL": "https://plot.ly"
       },
       "data": [
        {
         "close": [
          148.576,
          148.641,
          148.788,
          148.886,
          148.891,
          148.93,
          149.022,
          148.985,
          149.124,
          149.136,
          149.352,
          149.306,
          149.214,
          149.2,
          149.22,
          149.203,
          149.334,
          149.246,
          149.31,
          148.621,
          148.146,
          148.23,
          148.112,
          148.24,
          148.188,
          148.274,
          148.547,
          148.332,
          148.144,
          148.056,
          148.192,
          148.102,
          148.104,
          148.04,
          148.13,
          148.2,
          148.261,
          148.524,
          148.328,
          148.338,
          148.343,
          148.36,
          148.573,
          148.82,
          148.786,
          149.016,
          149.274,
          149.203,
          149.296,
          149.406,
          149.598,
          149.578,
          149.59,
          149.62,
          149.725,
          149.677,
          149.708,
          149.708,
          150.116,
          150.117,
          150.466,
          150.044,
          150.091,
          150.062,
          150.134,
          150.114,
          150.208,
          150.156,
          150.095,
          149.996,
          150.053,
          149.98,
          149.843,
          149.971,
          150.004,
          149.906,
          150.027,
          150.088,
          150.163,
          150.114,
          149.563,
          149.703,
          149.768,
          149.702,
          149.636,
          149.655,
          149.798,
          149.83,
          149.809,
          149.918,
          149.975,
          150.014,
          149.878,
          150.054,
          149.776,
          149.906,
          149.914,
          149.962,
          149.651,
          149.484
         ],
         "decreasing": {
          "fillcolor": "#CC2E3C",
          "line": {
           "color": "#FF3A4C"
          }
         },
         "high": [
          148.648,
          148.74,
          148.87,
          148.971,
          148.996,
          148.938,
          149.12,
          149.074,
          149.138,
          149.187,
          149.358,
          149.412,
          149.359,
          149.288,
          149.31,
          149.3,
          149.356,
          149.4,
          149.446,
          149.31,
          148.634,
          148.356,
          148.26,
          148.33,
          148.31,
          148.376,
          148.644,
          148.592,
          148.347,
          148.194,
          148.235,
          148.202,
          148.209,
          148.185,
          148.132,
          148.2,
          148.27,
          148.589,
          148.548,
          148.414,
          148.392,
          148.482,
          148.639,
          148.867,
          149.036,
          149.044,
          149.376,
          149.404,
          149.366,
          149.442,
          149.678,
          149.74,
          149.66,
          149.636,
          149.832,
          149.756,
          149.812,
          149.708,
          150.198,
          150.262,
          150.498,
          150.463,
          150.29,
          150.198,
          150.182,
          150.238,
          150.266,
          150.318,
          150.215,
          150.109,
          150.096,
          150.207,
          150.086,
          150.07,
          150.128,
          150.2,
          150.06,
          150.096,
          150.272,
          150.21,
          150.156,
          149.742,
          149.779,
          149.814,
          149.793,
          149.738,
          149.831,
          149.847,
          149.91,
          149.926,
          149.988,
          150.086,
          150.032,
          150.068,
          150.058,
          149.948,
          149.968,
          150.093,
          150.002,
          149.749
         ],
         "increasing": {
          "fillcolor": "#24A06B",
          "line": {
           "color": "#2EC886"
          }
         },
         "line": {
          "width": 1
         },
         "low": [
          148.404,
          148.512,
          148.536,
          148.74,
          148.852,
          148.818,
          148.93,
          148.946,
          148.987,
          149.035,
          149.135,
          149.268,
          149.184,
          149.152,
          149.176,
          149.168,
          149.146,
          149.245,
          149.23,
          148.61,
          147.914,
          148.068,
          147.988,
          148.1,
          148.024,
          148.132,
          148.154,
          148.303,
          148.069,
          148.026,
          148.054,
          147.943,
          148.035,
          147.989,
          148.034,
          148.042,
          148.107,
          148.158,
          148.258,
          148.22,
          148.26,
          148.134,
          148.291,
          148.555,
          148.77,
          148.751,
          149.015,
          149.065,
          149.114,
          149.242,
          149.334,
          149.543,
          149.454,
          149.56,
          149.602,
          149.598,
          149.603,
          149.708,
          150.038,
          150.05,
          150.039,
          150.014,
          150.02,
          150.054,
          150.058,
          150.1,
          150.036,
          150.108,
          150.037,
          149.765,
          149.972,
          149.924,
          149.794,
          149.806,
          149.88,
          149.873,
          149.822,
          149.957,
          150.086,
          150.094,
          149.481,
          149.521,
          149.642,
          149.668,
          149.63,
          149.594,
          149.598,
          149.753,
          149.808,
          149.81,
          149.832,
          149.945,
          149.796,
          149.858,
          149.709,
          149.724,
          149.772,
          149.886,
          149.63,
          149.479
         ],
         "opacity": 1,
         "open": [
          148.574,
          148.576,
          148.641,
          148.788,
          148.885,
          148.891,
          148.932,
          149.02,
          148.987,
          149.12,
          149.137,
          149.351,
          149.306,
          149.206,
          149.202,
          149.22,
          149.203,
          149.334,
          149.248,
          149.31,
          148.62,
          148.147,
          148.23,
          148.109,
          148.242,
          148.188,
          148.276,
          148.547,
          148.332,
          148.145,
          148.058,
          148.19,
          148.102,
          148.086,
          148.041,
          148.12,
          148.2,
          148.262,
          148.524,
          148.331,
          148.336,
          148.343,
          148.362,
          148.57,
          148.819,
          148.788,
          149.016,
          149.275,
          149.201,
          149.297,
          149.393,
          149.601,
          149.576,
          149.592,
          149.619,
          149.724,
          149.678,
          149.708,
          150.121,
          150.112,
          150.118,
          150.463,
          150.048,
          150.092,
          150.064,
          150.128,
          150.112,
          150.216,
          150.156,
          150.094,
          149.996,
          150.052,
          149.986,
          149.84,
          149.969,
          150.003,
          149.906,
          150.025,
          150.09,
          150.164,
          150.115,
          149.563,
          149.704,
          149.766,
          149.702,
          149.634,
          149.654,
          149.798,
          149.837,
          149.81,
          149.916,
          149.972,
          150.014,
          149.88,
          150.056,
          149.776,
          149.904,
          149.914,
          149.965,
          149.65
         ],
         "type": "candlestick",
         "x": [
          "s17-10-18 12:00",
          "s17-10-18 13:00",
          "s17-10-18 14:00",
          "s17-10-18 15:00",
          "s17-10-18 16:00",
          "s17-10-18 17:00",
          "s17-10-18 18:00",
          "s17-10-18 19:00",
          "s17-10-18 20:00",
          "s17-10-18 21:00",
          "s17-10-18 22:00",
          "s17-10-18 23:00",
          "s17-10-19 00:00",
          "s17-10-19 01:00",
          "s17-10-19 02:00",
          "s17-10-19 03:00",
          "s17-10-19 04:00",
          "s17-10-19 05:00",
          "s17-10-19 06:00",
          "s17-10-19 07:00",
          "s17-10-19 08:00",
          "s17-10-19 09:00",
          "s17-10-19 10:00",
          "s17-10-19 11:00",
          "s17-10-19 12:00",
          "s17-10-19 13:00",
          "s17-10-19 14:00",
          "s17-10-19 15:00",
          "s17-10-19 16:00",
          "s17-10-19 17:00",
          "s17-10-19 18:00",
          "s17-10-19 19:00",
          "s17-10-19 20:00",
          "s17-10-19 21:00",
          "s17-10-19 22:00",
          "s17-10-19 23:00",
          "s17-10-20 00:00",
          "s17-10-20 01:00",
          "s17-10-20 02:00",
          "s17-10-20 03:00",
          "s17-10-20 04:00",
          "s17-10-20 05:00",
          "s17-10-20 06:00",
          "s17-10-20 07:00",
          "s17-10-20 08:00",
          "s17-10-20 09:00",
          "s17-10-20 10:00",
          "s17-10-20 11:00",
          "s17-10-20 12:00",
          "s17-10-20 13:00",
          "s17-10-20 14:00",
          "s17-10-20 15:00",
          "s17-10-20 16:00",
          "s17-10-20 17:00",
          "s17-10-20 18:00",
          "s17-10-20 19:00",
          "s17-10-20 20:00",
          "s17-10-20 21:00",
          "s17-10-22 21:00",
          "s17-10-22 22:00",
          "s17-10-22 23:00",
          "s17-10-23 00:00",
          "s17-10-23 01:00",
          "s17-10-23 02:00",
          "s17-10-23 03:00",
          "s17-10-23 04:00",
          "s17-10-23 05:00",
          "s17-10-23 06:00",
          "s17-10-23 07:00",
          "s17-10-23 08:00",
          "s17-10-23 09:00",
          "s17-10-23 10:00",
          "s17-10-23 11:00",
          "s17-10-23 12:00",
          "s17-10-23 13:00",
          "s17-10-23 14:00",
          "s17-10-23 15:00",
          "s17-10-23 16:00",
          "s17-10-23 17:00",
          "s17-10-23 18:00",
          "s17-10-23 19:00",
          "s17-10-23 20:00",
          "s17-10-23 21:00",
          "s17-10-23 22:00",
          "s17-10-23 23:00",
          "s17-10-24 00:00",
          "s17-10-24 01:00",
          "s17-10-24 02:00",
          "s17-10-24 03:00",
          "s17-10-24 04:00",
          "s17-10-24 05:00",
          "s17-10-24 06:00",
          "s17-10-24 07:00",
          "s17-10-24 08:00",
          "s17-10-24 09:00",
          "s17-10-24 10:00",
          "s17-10-24 11:00",
          "s17-10-24 12:00",
          "s17-10-24 13:00",
          "s17-10-24 14:00"
         ]
        },
        {
         "close": [
          149.203
         ],
         "decreasing": {
          "fillcolor": "#0066FF",
          "line": {
           "color": "#0066FF"
          }
         },
         "high": [
          149.3
         ],
         "increasing": {
          "fillcolor": "#0066FF",
          "line": {
           "color": "#0066FF"
          }
         },
         "line": {
          "width": 1
         },
         "low": [
          149.168
         ],
         "opacity": 1,
         "open": [
          149.22
         ],
         "type": "candlestick",
         "x": [
          "s17-10-19 03:00"
         ]
        }
       ],
       "layout": {
        "font": {
         "color": "#e1e1e1",
         "size": 12
        },
        "height": 400,
        "margin": {
         "b": 10,
         "l": 10,
         "r": 10,
         "t": 10
        },
        "paper_bgcolor": "#2c303c",
        "plot_bgcolor": "#2c303c",
        "template": {
         "data": {
          "bar": [
           {
            "error_x": {
             "color": "#2a3f5f"
            },
            "error_y": {
             "color": "#2a3f5f"
            },
            "marker": {
             "line": {
              "color": "#E5ECF6",
              "width": 0.5
             },
             "pattern": {
              "fillmode": "overlay",
              "size": 10,
              "solidity": 0.2
             }
            },
            "type": "bar"
           }
          ],
          "barpolar": [
           {
            "marker": {
             "line": {
              "color": "#E5ECF6",
              "width": 0.5
             },
             "pattern": {
              "fillmode": "overlay",
              "size": 10,
              "solidity": 0.2
             }
            },
            "type": "barpolar"
           }
          ],
          "carpet": [
           {
            "aaxis": {
             "endlinecolor": "#2a3f5f",
             "gridcolor": "white",
             "linecolor": "white",
             "minorgridcolor": "white",
             "startlinecolor": "#2a3f5f"
            },
            "baxis": {
             "endlinecolor": "#2a3f5f",
             "gridcolor": "white",
             "linecolor": "white",
             "minorgridcolor": "white",
             "startlinecolor": "#2a3f5f"
            },
            "type": "carpet"
           }
          ],
          "choropleth": [
           {
            "colorbar": {
             "outlinewidth": 0,
             "ticks": ""
            },
            "type": "choropleth"
           }
          ],
          "contour": [
           {
            "colorbar": {
             "outlinewidth": 0,
             "ticks": ""
            },
            "colorscale": [
             [
              0,
              "#0d0887"
             ],
             [
              0.1111111111111111,
              "#46039f"
             ],
             [
              0.2222222222222222,
              "#7201a8"
             ],
             [
              0.3333333333333333,
              "#9c179e"
             ],
             [
              0.4444444444444444,
              "#bd3786"
             ],
             [
              0.5555555555555556,
              "#d8576b"
             ],
             [
              0.6666666666666666,
              "#ed7953"
             ],
             [
              0.7777777777777778,
              "#fb9f3a"
             ],
             [
              0.8888888888888888,
              "#fdca26"
             ],
             [
              1,
              "#f0f921"
             ]
            ],
            "type": "contour"
           }
          ],
          "contourcarpet": [
           {
            "colorbar": {
             "outlinewidth": 0,
             "ticks": ""
            },
            "type": "contourcarpet"
           }
          ],
          "heatmap": [
           {
            "colorbar": {
             "outlinewidth": 0,
             "ticks": ""
            },
            "colorscale": [
             [
              0,
              "#0d0887"
             ],
             [
              0.1111111111111111,
              "#46039f"
             ],
             [
              0.2222222222222222,
              "#7201a8"
             ],
             [
              0.3333333333333333,
              "#9c179e"
             ],
             [
              0.4444444444444444,
              "#bd3786"
             ],
             [
              0.5555555555555556,
              "#d8576b"
             ],
             [
              0.6666666666666666,
              "#ed7953"
             ],
             [
              0.7777777777777778,
              "#fb9f3a"
             ],
             [
              0.8888888888888888,
              "#fdca26"
             ],
             [
              1,
              "#f0f921"
             ]
            ],
            "type": "heatmap"
           }
          ],
          "heatmapgl": [
           {
            "colorbar": {
             "outlinewidth": 0,
             "ticks": ""
            },
            "colorscale": [
             [
              0,
              "#0d0887"
             ],
             [
              0.1111111111111111,
              "#46039f"
             ],
             [
              0.2222222222222222,
              "#7201a8"
             ],
             [
              0.3333333333333333,
              "#9c179e"
             ],
             [
              0.4444444444444444,
              "#bd3786"
             ],
             [
              0.5555555555555556,
              "#d8576b"
             ],
             [
              0.6666666666666666,
              "#ed7953"
             ],
             [
              0.7777777777777778,
              "#fb9f3a"
             ],
             [
              0.8888888888888888,
              "#fdca26"
             ],
             [
              1,
              "#f0f921"
             ]
            ],
            "type": "heatmapgl"
           }
          ],
          "histogram": [
           {
            "marker": {
             "pattern": {
              "fillmode": "overlay",
              "size": 10,
              "solidity": 0.2
             }
            },
            "type": "histogram"
           }
          ],
          "histogram2d": [
           {
            "colorbar": {
             "outlinewidth": 0,
             "ticks": ""
            },
            "colorscale": [
             [
              0,
              "#0d0887"
             ],
             [
              0.1111111111111111,
              "#46039f"
             ],
             [
              0.2222222222222222,
              "#7201a8"
             ],
             [
              0.3333333333333333,
              "#9c179e"
             ],
             [
              0.4444444444444444,
              "#bd3786"
             ],
             [
              0.5555555555555556,
              "#d8576b"
             ],
             [
              0.6666666666666666,
              "#ed7953"
             ],
             [
              0.7777777777777778,
              "#fb9f3a"
             ],
             [
              0.8888888888888888,
              "#fdca26"
             ],
             [
              1,
              "#f0f921"
             ]
            ],
            "type": "histogram2d"
           }
          ],
          "histogram2dcontour": [
           {
            "colorbar": {
             "outlinewidth": 0,
             "ticks": ""
            },
            "colorscale": [
             [
              0,
              "#0d0887"
             ],
             [
              0.1111111111111111,
              "#46039f"
             ],
             [
              0.2222222222222222,
              "#7201a8"
             ],
             [
              0.3333333333333333,
              "#9c179e"
             ],
             [
              0.4444444444444444,
              "#bd3786"
             ],
             [
              0.5555555555555556,
              "#d8576b"
             ],
             [
              0.6666666666666666,
              "#ed7953"
             ],
             [
              0.7777777777777778,
              "#fb9f3a"
             ],
             [
              0.8888888888888888,
              "#fdca26"
             ],
             [
              1,
              "#f0f921"
             ]
            ],
            "type": "histogram2dcontour"
           }
          ],
          "mesh3d": [
           {
            "colorbar": {
             "outlinewidth": 0,
             "ticks": ""
            },
            "type": "mesh3d"
           }
          ],
          "parcoords": [
           {
            "line": {
             "colorbar": {
              "outlinewidth": 0,
              "ticks": ""
             }
            },
            "type": "parcoords"
           }
          ],
          "pie": [
           {
            "automargin": true,
            "type": "pie"
           }
          ],
          "scatter": [
           {
            "fillpattern": {
             "fillmode": "overlay",
             "size": 10,
             "solidity": 0.2
            },
            "type": "scatter"
           }
          ],
          "scatter3d": [
           {
            "line": {
             "colorbar": {
              "outlinewidth": 0,
              "ticks": ""
             }
            },
            "marker": {
             "colorbar": {
              "outlinewidth": 0,
              "ticks": ""
             }
            },
            "type": "scatter3d"
           }
          ],
          "scattercarpet": [
           {
            "marker": {
             "colorbar": {
              "outlinewidth": 0,
              "ticks": ""
             }
            },
            "type": "scattercarpet"
           }
          ],
          "scattergeo": [
           {
            "marker": {
             "colorbar": {
              "outlinewidth": 0,
              "ticks": ""
             }
            },
            "type": "scattergeo"
           }
          ],
          "scattergl": [
           {
            "marker": {
             "colorbar": {
              "outlinewidth": 0,
              "ticks": ""
             }
            },
            "type": "scattergl"
           }
          ],
          "scattermapbox": [
           {
            "marker": {
             "colorbar": {
              "outlinewidth": 0,
              "ticks": ""
             }
            },
            "type": "scattermapbox"
           }
          ],
          "scatterpolar": [
           {
            "marker": {
             "colorbar": {
              "outlinewidth": 0,
              "ticks": ""
             }
            },
            "type": "scatterpolar"
           }
          ],
          "scatterpolargl": [
           {
            "marker": {
             "colorbar": {
              "outlinewidth": 0,
              "ticks": ""
             }
            },
            "type": "scatterpolargl"
           }
          ],
          "scatterternary": [
           {
            "marker": {
             "colorbar": {
              "outlinewidth": 0,
              "ticks": ""
             }
            },
            "type": "scatterternary"
           }
          ],
          "surface": [
           {
            "colorbar": {
             "outlinewidth": 0,
             "ticks": ""
            },
            "colorscale": [
             [
              0,
              "#0d0887"
             ],
             [
              0.1111111111111111,
              "#46039f"
             ],
             [
              0.2222222222222222,
              "#7201a8"
             ],
             [
              0.3333333333333333,
              "#9c179e"
             ],
             [
              0.4444444444444444,
              "#bd3786"
             ],
             [
              0.5555555555555556,
              "#d8576b"
             ],
             [
              0.6666666666666666,
              "#ed7953"
             ],
             [
              0.7777777777777778,
              "#fb9f3a"
             ],
             [
              0.8888888888888888,
              "#fdca26"
             ],
             [
              1,
              "#f0f921"
             ]
            ],
            "type": "surface"
           }
          ],
          "table": [
           {
            "cells": {
             "fill": {
              "color": "#EBF0F8"
             },
             "line": {
              "color": "white"
             }
            },
            "header": {
             "fill": {
              "color": "#C8D4E3"
             },
             "line": {
              "color": "white"
             }
            },
            "type": "table"
           }
          ]
         },
         "layout": {
          "annotationdefaults": {
           "arrowcolor": "#2a3f5f",
           "arrowhead": 0,
           "arrowwidth": 1
          },
          "autotypenumbers": "strict",
          "coloraxis": {
           "colorbar": {
            "outlinewidth": 0,
            "ticks": ""
           }
          },
          "colorscale": {
           "diverging": [
            [
             0,
             "#8e0152"
            ],
            [
             0.1,
             "#c51b7d"
            ],
            [
             0.2,
             "#de77ae"
            ],
            [
             0.3,
             "#f1b6da"
            ],
            [
             0.4,
             "#fde0ef"
            ],
            [
             0.5,
             "#f7f7f7"
            ],
            [
             0.6,
             "#e6f5d0"
            ],
            [
             0.7,
             "#b8e186"
            ],
            [
             0.8,
             "#7fbc41"
            ],
            [
             0.9,
             "#4d9221"
            ],
            [
             1,
             "#276419"
            ]
           ],
           "sequential": [
            [
             0,
             "#0d0887"
            ],
            [
             0.1111111111111111,
             "#46039f"
            ],
            [
             0.2222222222222222,
             "#7201a8"
            ],
            [
             0.3333333333333333,
             "#9c179e"
            ],
            [
             0.4444444444444444,
             "#bd3786"
            ],
            [
             0.5555555555555556,
             "#d8576b"
            ],
            [
             0.6666666666666666,
             "#ed7953"
            ],
            [
             0.7777777777777778,
             "#fb9f3a"
            ],
            [
             0.8888888888888888,
             "#fdca26"
            ],
            [
             1,
             "#f0f921"
            ]
           ],
           "sequentialminus": [
            [
             0,
             "#0d0887"
            ],
            [
             0.1111111111111111,
             "#46039f"
            ],
            [
             0.2222222222222222,
             "#7201a8"
            ],
            [
             0.3333333333333333,
             "#9c179e"
            ],
            [
             0.4444444444444444,
             "#bd3786"
            ],
            [
             0.5555555555555556,
             "#d8576b"
            ],
            [
             0.6666666666666666,
             "#ed7953"
            ],
            [
             0.7777777777777778,
             "#fb9f3a"
            ],
            [
             0.8888888888888888,
             "#fdca26"
            ],
            [
             1,
             "#f0f921"
            ]
           ]
          },
          "colorway": [
           "#636efa",
           "#EF553B",
           "#00cc96",
           "#ab63fa",
           "#FFA15A",
           "#19d3f3",
           "#FF6692",
           "#B6E880",
           "#FF97FF",
           "#FECB52"
          ],
          "font": {
           "color": "#2a3f5f"
          },
          "geo": {
           "bgcolor": "white",
           "lakecolor": "white",
           "landcolor": "#E5ECF6",
           "showlakes": true,
           "showland": true,
           "subunitcolor": "white"
          },
          "hoverlabel": {
           "align": "left"
          },
          "hovermode": "closest",
          "mapbox": {
           "style": "light"
          },
          "paper_bgcolor": "white",
          "plot_bgcolor": "#E5ECF6",
          "polar": {
           "angularaxis": {
            "gridcolor": "white",
            "linecolor": "white",
            "ticks": ""
           },
           "bgcolor": "#E5ECF6",
           "radialaxis": {
            "gridcolor": "white",
            "linecolor": "white",
            "ticks": ""
           }
          },
          "scene": {
           "xaxis": {
            "backgroundcolor": "#E5ECF6",
            "gridcolor": "white",
            "gridwidth": 2,
            "linecolor": "white",
            "showbackground": true,
            "ticks": "",
            "zerolinecolor": "white"
           },
           "yaxis": {
            "backgroundcolor": "#E5ECF6",
            "gridcolor": "white",
            "gridwidth": 2,
            "linecolor": "white",
            "showbackground": true,
            "ticks": "",
            "zerolinecolor": "white"
           },
           "zaxis": {
            "backgroundcolor": "#E5ECF6",
            "gridcolor": "white",
            "gridwidth": 2,
            "linecolor": "white",
            "showbackground": true,
            "ticks": "",
            "zerolinecolor": "white"
           }
          },
          "shapedefaults": {
           "line": {
            "color": "#2a3f5f"
           }
          },
          "ternary": {
           "aaxis": {
            "gridcolor": "white",
            "linecolor": "white",
            "ticks": ""
           },
           "baxis": {
            "gridcolor": "white",
            "linecolor": "white",
            "ticks": ""
           },
           "bgcolor": "#E5ECF6",
           "caxis": {
            "gridcolor": "white",
            "linecolor": "white",
            "ticks": ""
           }
          },
          "title": {
           "x": 0.05
          },
          "xaxis": {
           "automargin": true,
           "gridcolor": "white",
           "linecolor": "white",
           "ticks": "",
           "title": {
            "standoff": 15
           },
           "zerolinecolor": "white",
           "zerolinewidth": 2
          },
          "yaxis": {
           "automargin": true,
           "gridcolor": "white",
           "linecolor": "white",
           "ticks": "",
           "title": {
            "standoff": 15
           },
           "zerolinecolor": "white",
           "zerolinewidth": 2
          }
         }
        },
        "width": 900,
        "xaxis": {
         "anchor": "y",
         "domain": [
          0,
          0.94
         ],
         "gridcolor": "#1f292f",
         "nticks": 5,
         "rangeslider": {
          "visible": false
         }
        },
        "yaxis": {
         "anchor": "x",
         "domain": [
          0,
          1
         ],
         "gridcolor": "#1f292f"
        },
        "yaxis2": {
         "anchor": "x",
         "gridcolor": "#1f292f",
         "overlaying": "y",
         "side": "right"
        }
       }
      }
     },
     "metadata": {},
     "output_type": "display_data"
    }
   ],
   "source": [
    "MARKER = '#0066FF'\n",
    "dfp = df_an.iloc[11100:11200]\n",
    "cp = CandlePlot(dfp, candles=True)\n",
    "df_temp = cp.df_plot[cp.df_plot.TWEEZER_TOP == True]\n",
    "cp.fig.add_trace(go.Candlestick(\n",
    "                x = df_temp.sTime,\n",
    "                open = df_temp.mid_o,\n",
    "                high = df_temp.mid_h,\n",
    "                low = df_temp.mid_l,\n",
    "                close = df_temp.mid_c,\n",
    "                line = dict(width=1), \n",
    "                opacity = 1,\n",
    "                increasing_fillcolor=MARKER,\n",
    "                decreasing_fillcolor=MARKER,\n",
    "                increasing_line_color=MARKER,\n",
    "                decreasing_line_color=MARKER,\n",
    "            ))\n",
    "\n",
    "cp.show_plot()"
   ]
  },
  {
   "cell_type": "code",
   "execution_count": null,
   "metadata": {},
   "outputs": [],
   "source": []
  },
  {
   "cell_type": "code",
   "execution_count": null,
   "metadata": {},
   "outputs": [],
   "source": []
  },
  {
   "cell_type": "code",
   "execution_count": null,
   "metadata": {},
   "outputs": [],
   "source": []
  }
 ],
 "metadata": {
  "kernelspec": {
   "display_name": "venv",
   "language": "python",
   "name": "python3"
  },
  "language_info": {
   "codemirror_mode": {
    "name": "ipython",
    "version": 3
   },
   "file_extension": ".py",
   "mimetype": "text/x-python",
   "name": "python",
   "nbconvert_exporter": "python",
   "pygments_lexer": "ipython3",
   "version": "3.11.1"
  },
  "orig_nbformat": 4
 },
 "nbformat": 4,
 "nbformat_minor": 2
}
