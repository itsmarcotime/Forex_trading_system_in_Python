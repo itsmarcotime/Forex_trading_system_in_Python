{
 "cells": [
  {
   "cell_type": "code",
   "execution_count": 1,
   "metadata": {},
   "outputs": [],
   "source": [
    "import sys\n",
    "sys.path.append('../')\n",
    "from plotting import CandlePlot\n",
    "import pandas as pd"
   ]
  },
  {
   "cell_type": "code",
   "execution_count": 2,
   "metadata": {},
   "outputs": [],
   "source": [
    "from technicals.patterns import apply_patterns"
   ]
  },
  {
   "cell_type": "code",
   "execution_count": 3,
   "metadata": {},
   "outputs": [],
   "source": [
    "df = pd.read_pickle('../data/GBP_JPY_H1.pkl')"
   ]
  },
  {
   "cell_type": "code",
   "execution_count": 4,
   "metadata": {},
   "outputs": [],
   "source": [
    "df_an = df[['time', 'mid_o','mid_h', 'mid_l', 'mid_c']].copy()"
   ]
  },
  {
   "cell_type": "code",
   "execution_count": 5,
   "metadata": {},
   "outputs": [
    {
     "data": {
      "text/html": [
       "<div>\n",
       "<style scoped>\n",
       "    .dataframe tbody tr th:only-of-type {\n",
       "        vertical-align: middle;\n",
       "    }\n",
       "\n",
       "    .dataframe tbody tr th {\n",
       "        vertical-align: top;\n",
       "    }\n",
       "\n",
       "    .dataframe thead th {\n",
       "        text-align: right;\n",
       "    }\n",
       "</style>\n",
       "<table border=\"1\" class=\"dataframe\">\n",
       "  <thead>\n",
       "    <tr style=\"text-align: right;\">\n",
       "      <th></th>\n",
       "      <th>time</th>\n",
       "      <th>mid_o</th>\n",
       "      <th>mid_h</th>\n",
       "      <th>mid_l</th>\n",
       "      <th>mid_c</th>\n",
       "    </tr>\n",
       "  </thead>\n",
       "  <tbody>\n",
       "    <tr>\n",
       "      <th>37219</th>\n",
       "      <td>2021-12-30 19:00:00+00:00</td>\n",
       "      <td>155.312</td>\n",
       "      <td>155.444</td>\n",
       "      <td>155.274</td>\n",
       "      <td>155.444</td>\n",
       "    </tr>\n",
       "    <tr>\n",
       "      <th>37220</th>\n",
       "      <td>2021-12-30 20:00:00+00:00</td>\n",
       "      <td>155.442</td>\n",
       "      <td>155.470</td>\n",
       "      <td>155.289</td>\n",
       "      <td>155.312</td>\n",
       "    </tr>\n",
       "    <tr>\n",
       "      <th>37221</th>\n",
       "      <td>2021-12-30 21:00:00+00:00</td>\n",
       "      <td>155.317</td>\n",
       "      <td>155.382</td>\n",
       "      <td>155.286</td>\n",
       "      <td>155.382</td>\n",
       "    </tr>\n",
       "    <tr>\n",
       "      <th>37222</th>\n",
       "      <td>2021-12-30 22:00:00+00:00</td>\n",
       "      <td>155.353</td>\n",
       "      <td>155.381</td>\n",
       "      <td>155.282</td>\n",
       "      <td>155.329</td>\n",
       "    </tr>\n",
       "    <tr>\n",
       "      <th>37223</th>\n",
       "      <td>2021-12-30 23:00:00+00:00</td>\n",
       "      <td>155.336</td>\n",
       "      <td>155.360</td>\n",
       "      <td>155.284</td>\n",
       "      <td>155.310</td>\n",
       "    </tr>\n",
       "  </tbody>\n",
       "</table>\n",
       "</div>"
      ],
      "text/plain": [
       "                           time    mid_o    mid_h    mid_l    mid_c\n",
       "37219 2021-12-30 19:00:00+00:00  155.312  155.444  155.274  155.444\n",
       "37220 2021-12-30 20:00:00+00:00  155.442  155.470  155.289  155.312\n",
       "37221 2021-12-30 21:00:00+00:00  155.317  155.382  155.286  155.382\n",
       "37222 2021-12-30 22:00:00+00:00  155.353  155.381  155.282  155.329\n",
       "37223 2021-12-30 23:00:00+00:00  155.336  155.360  155.284  155.310"
      ]
     },
     "execution_count": 5,
     "metadata": {},
     "output_type": "execute_result"
    }
   ],
   "source": [
    "df_an.tail()"
   ]
  },
  {
   "cell_type": "code",
   "execution_count": 6,
   "metadata": {},
   "outputs": [],
   "source": [
    "# direction = df_an.mid_c - df_an.mid_o\n",
    "# body_size = abs(direction)\n",
    "# direction = [1 if x >= 0 else -1 for x in direction]\n",
    "# full_range = df_an.mid_h - df_an.mid_l\n",
    "# body_perc = (body_size / full_range) * 100\n",
    "# body_lower = df_an[['mid_c', 'mid_o']].min(axis=1)\n",
    "# body_upper = df_an[['mid_c', 'mid_o']].max(axis=1)\n",
    "# body_bottom_perc = ((body_lower - df_an.mid_l) / full_range) * 100\n",
    "# body_top_perc = 100 - (((df_an.mid_h - body_upper) / full_range) * 100)\n"
   ]
  },
  {
   "cell_type": "code",
   "execution_count": 7,
   "metadata": {},
   "outputs": [],
   "source": [
    "# df_an['body_lower'] = body_lower\n",
    "# df_an['body_upper'] = body_upper\n",
    "# df_an['body_bottom_perc'] = body_bottom_perc\n",
    "# df_an['body_top_perc'] = body_top_perc\n",
    "# df_an['body_perc'] = body_perc"
   ]
  },
  {
   "cell_type": "code",
   "execution_count": 8,
   "metadata": {},
   "outputs": [],
   "source": [
    "df_an = apply_patterns(df_an)"
   ]
  },
  {
   "cell_type": "code",
   "execution_count": 9,
   "metadata": {},
   "outputs": [
    {
     "data": {
      "application/vnd.plotly.v1+json": {
       "config": {
        "plotlyServerURL": "https://plot.ly"
       },
       "data": [
        {
         "close": [
          155.491,
          155.438,
          155.484,
          155.335,
          155.314,
          155.444,
          155.312,
          155.382,
          155.329,
          155.31
         ],
         "decreasing": {
          "fillcolor": "#CC2E3C",
          "line": {
           "color": "#FF3A4C"
          }
         },
         "high": [
          155.55,
          155.672,
          155.527,
          155.481,
          155.406,
          155.444,
          155.47,
          155.382,
          155.381,
          155.36
         ],
         "increasing": {
          "fillcolor": "#24A06B",
          "line": {
           "color": "#2EC886"
          }
         },
         "line": {
          "width": 1
         },
         "low": [
          155.222,
          155.362,
          155.349,
          155.312,
          155.252,
          155.274,
          155.289,
          155.286,
          155.282,
          155.284
         ],
         "opacity": 1,
         "open": [
          155.328,
          155.488,
          155.436,
          155.481,
          155.333,
          155.312,
          155.442,
          155.317,
          155.353,
          155.336
         ],
         "type": "candlestick",
         "x": [
          "s21-12-30 14:00",
          "s21-12-30 15:00",
          "s21-12-30 16:00",
          "s21-12-30 17:00",
          "s21-12-30 18:00",
          "s21-12-30 19:00",
          "s21-12-30 20:00",
          "s21-12-30 21:00",
          "s21-12-30 22:00",
          "s21-12-30 23:00"
         ]
        }
       ],
       "layout": {
        "font": {
         "color": "#e1e1e1",
         "size": 12
        },
        "height": 300,
        "margin": {
         "b": 10,
         "l": 10,
         "r": 10,
         "t": 10
        },
        "paper_bgcolor": "#2c303c",
        "plot_bgcolor": "#2c303c",
        "template": {
         "data": {
          "bar": [
           {
            "error_x": {
             "color": "#2a3f5f"
            },
            "error_y": {
             "color": "#2a3f5f"
            },
            "marker": {
             "line": {
              "color": "#E5ECF6",
              "width": 0.5
             },
             "pattern": {
              "fillmode": "overlay",
              "size": 10,
              "solidity": 0.2
             }
            },
            "type": "bar"
           }
          ],
          "barpolar": [
           {
            "marker": {
             "line": {
              "color": "#E5ECF6",
              "width": 0.5
             },
             "pattern": {
              "fillmode": "overlay",
              "size": 10,
              "solidity": 0.2
             }
            },
            "type": "barpolar"
           }
          ],
          "carpet": [
           {
            "aaxis": {
             "endlinecolor": "#2a3f5f",
             "gridcolor": "white",
             "linecolor": "white",
             "minorgridcolor": "white",
             "startlinecolor": "#2a3f5f"
            },
            "baxis": {
             "endlinecolor": "#2a3f5f",
             "gridcolor": "white",
             "linecolor": "white",
             "minorgridcolor": "white",
             "startlinecolor": "#2a3f5f"
            },
            "type": "carpet"
           }
          ],
          "choropleth": [
           {
            "colorbar": {
             "outlinewidth": 0,
             "ticks": ""
            },
            "type": "choropleth"
           }
          ],
          "contour": [
           {
            "colorbar": {
             "outlinewidth": 0,
             "ticks": ""
            },
            "colorscale": [
             [
              0,
              "#0d0887"
             ],
             [
              0.1111111111111111,
              "#46039f"
             ],
             [
              0.2222222222222222,
              "#7201a8"
             ],
             [
              0.3333333333333333,
              "#9c179e"
             ],
             [
              0.4444444444444444,
              "#bd3786"
             ],
             [
              0.5555555555555556,
              "#d8576b"
             ],
             [
              0.6666666666666666,
              "#ed7953"
             ],
             [
              0.7777777777777778,
              "#fb9f3a"
             ],
             [
              0.8888888888888888,
              "#fdca26"
             ],
             [
              1,
              "#f0f921"
             ]
            ],
            "type": "contour"
           }
          ],
          "contourcarpet": [
           {
            "colorbar": {
             "outlinewidth": 0,
             "ticks": ""
            },
            "type": "contourcarpet"
           }
          ],
          "heatmap": [
           {
            "colorbar": {
             "outlinewidth": 0,
             "ticks": ""
            },
            "colorscale": [
             [
              0,
              "#0d0887"
             ],
             [
              0.1111111111111111,
              "#46039f"
             ],
             [
              0.2222222222222222,
              "#7201a8"
             ],
             [
              0.3333333333333333,
              "#9c179e"
             ],
             [
              0.4444444444444444,
              "#bd3786"
             ],
             [
              0.5555555555555556,
              "#d8576b"
             ],
             [
              0.6666666666666666,
              "#ed7953"
             ],
             [
              0.7777777777777778,
              "#fb9f3a"
             ],
             [
              0.8888888888888888,
              "#fdca26"
             ],
             [
              1,
              "#f0f921"
             ]
            ],
            "type": "heatmap"
           }
          ],
          "heatmapgl": [
           {
            "colorbar": {
             "outlinewidth": 0,
             "ticks": ""
            },
            "colorscale": [
             [
              0,
              "#0d0887"
             ],
             [
              0.1111111111111111,
              "#46039f"
             ],
             [
              0.2222222222222222,
              "#7201a8"
             ],
             [
              0.3333333333333333,
              "#9c179e"
             ],
             [
              0.4444444444444444,
              "#bd3786"
             ],
             [
              0.5555555555555556,
              "#d8576b"
             ],
             [
              0.6666666666666666,
              "#ed7953"
             ],
             [
              0.7777777777777778,
              "#fb9f3a"
             ],
             [
              0.8888888888888888,
              "#fdca26"
             ],
             [
              1,
              "#f0f921"
             ]
            ],
            "type": "heatmapgl"
           }
          ],
          "histogram": [
           {
            "marker": {
             "pattern": {
              "fillmode": "overlay",
              "size": 10,
              "solidity": 0.2
             }
            },
            "type": "histogram"
           }
          ],
          "histogram2d": [
           {
            "colorbar": {
             "outlinewidth": 0,
             "ticks": ""
            },
            "colorscale": [
             [
              0,
              "#0d0887"
             ],
             [
              0.1111111111111111,
              "#46039f"
             ],
             [
              0.2222222222222222,
              "#7201a8"
             ],
             [
              0.3333333333333333,
              "#9c179e"
             ],
             [
              0.4444444444444444,
              "#bd3786"
             ],
             [
              0.5555555555555556,
              "#d8576b"
             ],
             [
              0.6666666666666666,
              "#ed7953"
             ],
             [
              0.7777777777777778,
              "#fb9f3a"
             ],
             [
              0.8888888888888888,
              "#fdca26"
             ],
             [
              1,
              "#f0f921"
             ]
            ],
            "type": "histogram2d"
           }
          ],
          "histogram2dcontour": [
           {
            "colorbar": {
             "outlinewidth": 0,
             "ticks": ""
            },
            "colorscale": [
             [
              0,
              "#0d0887"
             ],
             [
              0.1111111111111111,
              "#46039f"
             ],
             [
              0.2222222222222222,
              "#7201a8"
             ],
             [
              0.3333333333333333,
              "#9c179e"
             ],
             [
              0.4444444444444444,
              "#bd3786"
             ],
             [
              0.5555555555555556,
              "#d8576b"
             ],
             [
              0.6666666666666666,
              "#ed7953"
             ],
             [
              0.7777777777777778,
              "#fb9f3a"
             ],
             [
              0.8888888888888888,
              "#fdca26"
             ],
             [
              1,
              "#f0f921"
             ]
            ],
            "type": "histogram2dcontour"
           }
          ],
          "mesh3d": [
           {
            "colorbar": {
             "outlinewidth": 0,
             "ticks": ""
            },
            "type": "mesh3d"
           }
          ],
          "parcoords": [
           {
            "line": {
             "colorbar": {
              "outlinewidth": 0,
              "ticks": ""
             }
            },
            "type": "parcoords"
           }
          ],
          "pie": [
           {
            "automargin": true,
            "type": "pie"
           }
          ],
          "scatter": [
           {
            "fillpattern": {
             "fillmode": "overlay",
             "size": 10,
             "solidity": 0.2
            },
            "type": "scatter"
           }
          ],
          "scatter3d": [
           {
            "line": {
             "colorbar": {
              "outlinewidth": 0,
              "ticks": ""
             }
            },
            "marker": {
             "colorbar": {
              "outlinewidth": 0,
              "ticks": ""
             }
            },
            "type": "scatter3d"
           }
          ],
          "scattercarpet": [
           {
            "marker": {
             "colorbar": {
              "outlinewidth": 0,
              "ticks": ""
             }
            },
            "type": "scattercarpet"
           }
          ],
          "scattergeo": [
           {
            "marker": {
             "colorbar": {
              "outlinewidth": 0,
              "ticks": ""
             }
            },
            "type": "scattergeo"
           }
          ],
          "scattergl": [
           {
            "marker": {
             "colorbar": {
              "outlinewidth": 0,
              "ticks": ""
             }
            },
            "type": "scattergl"
           }
          ],
          "scattermapbox": [
           {
            "marker": {
             "colorbar": {
              "outlinewidth": 0,
              "ticks": ""
             }
            },
            "type": "scattermapbox"
           }
          ],
          "scatterpolar": [
           {
            "marker": {
             "colorbar": {
              "outlinewidth": 0,
              "ticks": ""
             }
            },
            "type": "scatterpolar"
           }
          ],
          "scatterpolargl": [
           {
            "marker": {
             "colorbar": {
              "outlinewidth": 0,
              "ticks": ""
             }
            },
            "type": "scatterpolargl"
           }
          ],
          "scatterternary": [
           {
            "marker": {
             "colorbar": {
              "outlinewidth": 0,
              "ticks": ""
             }
            },
            "type": "scatterternary"
           }
          ],
          "surface": [
           {
            "colorbar": {
             "outlinewidth": 0,
             "ticks": ""
            },
            "colorscale": [
             [
              0,
              "#0d0887"
             ],
             [
              0.1111111111111111,
              "#46039f"
             ],
             [
              0.2222222222222222,
              "#7201a8"
             ],
             [
              0.3333333333333333,
              "#9c179e"
             ],
             [
              0.4444444444444444,
              "#bd3786"
             ],
             [
              0.5555555555555556,
              "#d8576b"
             ],
             [
              0.6666666666666666,
              "#ed7953"
             ],
             [
              0.7777777777777778,
              "#fb9f3a"
             ],
             [
              0.8888888888888888,
              "#fdca26"
             ],
             [
              1,
              "#f0f921"
             ]
            ],
            "type": "surface"
           }
          ],
          "table": [
           {
            "cells": {
             "fill": {
              "color": "#EBF0F8"
             },
             "line": {
              "color": "white"
             }
            },
            "header": {
             "fill": {
              "color": "#C8D4E3"
             },
             "line": {
              "color": "white"
             }
            },
            "type": "table"
           }
          ]
         },
         "layout": {
          "annotationdefaults": {
           "arrowcolor": "#2a3f5f",
           "arrowhead": 0,
           "arrowwidth": 1
          },
          "autotypenumbers": "strict",
          "coloraxis": {
           "colorbar": {
            "outlinewidth": 0,
            "ticks": ""
           }
          },
          "colorscale": {
           "diverging": [
            [
             0,
             "#8e0152"
            ],
            [
             0.1,
             "#c51b7d"
            ],
            [
             0.2,
             "#de77ae"
            ],
            [
             0.3,
             "#f1b6da"
            ],
            [
             0.4,
             "#fde0ef"
            ],
            [
             0.5,
             "#f7f7f7"
            ],
            [
             0.6,
             "#e6f5d0"
            ],
            [
             0.7,
             "#b8e186"
            ],
            [
             0.8,
             "#7fbc41"
            ],
            [
             0.9,
             "#4d9221"
            ],
            [
             1,
             "#276419"
            ]
           ],
           "sequential": [
            [
             0,
             "#0d0887"
            ],
            [
             0.1111111111111111,
             "#46039f"
            ],
            [
             0.2222222222222222,
             "#7201a8"
            ],
            [
             0.3333333333333333,
             "#9c179e"
            ],
            [
             0.4444444444444444,
             "#bd3786"
            ],
            [
             0.5555555555555556,
             "#d8576b"
            ],
            [
             0.6666666666666666,
             "#ed7953"
            ],
            [
             0.7777777777777778,
             "#fb9f3a"
            ],
            [
             0.8888888888888888,
             "#fdca26"
            ],
            [
             1,
             "#f0f921"
            ]
           ],
           "sequentialminus": [
            [
             0,
             "#0d0887"
            ],
            [
             0.1111111111111111,
             "#46039f"
            ],
            [
             0.2222222222222222,
             "#7201a8"
            ],
            [
             0.3333333333333333,
             "#9c179e"
            ],
            [
             0.4444444444444444,
             "#bd3786"
            ],
            [
             0.5555555555555556,
             "#d8576b"
            ],
            [
             0.6666666666666666,
             "#ed7953"
            ],
            [
             0.7777777777777778,
             "#fb9f3a"
            ],
            [
             0.8888888888888888,
             "#fdca26"
            ],
            [
             1,
             "#f0f921"
            ]
           ]
          },
          "colorway": [
           "#636efa",
           "#EF553B",
           "#00cc96",
           "#ab63fa",
           "#FFA15A",
           "#19d3f3",
           "#FF6692",
           "#B6E880",
           "#FF97FF",
           "#FECB52"
          ],
          "font": {
           "color": "#2a3f5f"
          },
          "geo": {
           "bgcolor": "white",
           "lakecolor": "white",
           "landcolor": "#E5ECF6",
           "showlakes": true,
           "showland": true,
           "subunitcolor": "white"
          },
          "hoverlabel": {
           "align": "left"
          },
          "hovermode": "closest",
          "mapbox": {
           "style": "light"
          },
          "paper_bgcolor": "white",
          "plot_bgcolor": "#E5ECF6",
          "polar": {
           "angularaxis": {
            "gridcolor": "white",
            "linecolor": "white",
            "ticks": ""
           },
           "bgcolor": "#E5ECF6",
           "radialaxis": {
            "gridcolor": "white",
            "linecolor": "white",
            "ticks": ""
           }
          },
          "scene": {
           "xaxis": {
            "backgroundcolor": "#E5ECF6",
            "gridcolor": "white",
            "gridwidth": 2,
            "linecolor": "white",
            "showbackground": true,
            "ticks": "",
            "zerolinecolor": "white"
           },
           "yaxis": {
            "backgroundcolor": "#E5ECF6",
            "gridcolor": "white",
            "gridwidth": 2,
            "linecolor": "white",
            "showbackground": true,
            "ticks": "",
            "zerolinecolor": "white"
           },
           "zaxis": {
            "backgroundcolor": "#E5ECF6",
            "gridcolor": "white",
            "gridwidth": 2,
            "linecolor": "white",
            "showbackground": true,
            "ticks": "",
            "zerolinecolor": "white"
           }
          },
          "shapedefaults": {
           "line": {
            "color": "#2a3f5f"
           }
          },
          "ternary": {
           "aaxis": {
            "gridcolor": "white",
            "linecolor": "white",
            "ticks": ""
           },
           "baxis": {
            "gridcolor": "white",
            "linecolor": "white",
            "ticks": ""
           },
           "bgcolor": "#E5ECF6",
           "caxis": {
            "gridcolor": "white",
            "linecolor": "white",
            "ticks": ""
           }
          },
          "title": {
           "x": 0.05
          },
          "xaxis": {
           "automargin": true,
           "gridcolor": "white",
           "linecolor": "white",
           "ticks": "",
           "title": {
            "standoff": 15
           },
           "zerolinecolor": "white",
           "zerolinewidth": 2
          },
          "yaxis": {
           "automargin": true,
           "gridcolor": "white",
           "linecolor": "white",
           "ticks": "",
           "title": {
            "standoff": 15
           },
           "zerolinecolor": "white",
           "zerolinewidth": 2
          }
         }
        },
        "width": 900,
        "xaxis": {
         "anchor": "y",
         "domain": [
          0,
          0.94
         ],
         "gridcolor": "#1f292f",
         "nticks": 5,
         "rangeslider": {
          "visible": false
         }
        },
        "yaxis": {
         "anchor": "x",
         "domain": [
          0,
          1
         ],
         "gridcolor": "#1f292f"
        },
        "yaxis2": {
         "anchor": "x",
         "gridcolor": "#1f292f",
         "overlaying": "y",
         "side": "right"
        }
       }
      }
     },
     "metadata": {},
     "output_type": "display_data"
    }
   ],
   "source": [
    "dfp = df_an.iloc[-10:]\n",
    "cp = CandlePlot(dfp)\n",
    "cp.show_plot(line_traces=[], height=300)"
   ]
  },
  {
   "cell_type": "code",
   "execution_count": 10,
   "metadata": {},
   "outputs": [
    {
     "data": {
      "text/plain": [
       "time                2021-12-30 18:00:00+00:00\n",
       "mid_o                                 155.333\n",
       "mid_h                                 155.406\n",
       "mid_l                                 155.252\n",
       "mid_c                                 155.314\n",
       "body_lower                            155.314\n",
       "body_upper                            155.333\n",
       "body_bottom_perc                     40.25974\n",
       "body_top_perc                       52.597403\n",
       "body_perc                           12.337662\n",
       "Name: 37218, dtype: object"
      ]
     },
     "execution_count": 10,
     "metadata": {},
     "output_type": "execute_result"
    }
   ],
   "source": [
    "df_an.iloc[-6]"
   ]
  },
  {
   "cell_type": "code",
   "execution_count": 21,
   "metadata": {},
   "outputs": [],
   "source": [
    "HANGING_MAN_BODY = 15.0\n",
    "HANGING_MAN_HEIGHT = 75.0\n",
    "SHOOTING_STAR_HEIGHT = 25.0\n",
    "SPINNING_TOP_MIN = 40.0\n",
    "SPINNING_TOP_MAX = 60.0\n",
    "\n",
    "\n",
    "def apply_hanging_man(row):\n",
    "    if row.body_bottom_perc > HANGING_MAN_HEIGHT:\n",
    "        if row.body_perc < HANGING_MAN_BODY:\n",
    "            return True\n",
    "    return False\n",
    "\n",
    "def apply_shooting_star(row):\n",
    "    if row.body_top_perc < SHOOTING_STAR_HEIGHT:\n",
    "        if row.body_perc < HANGING_MAN_BODY:\n",
    "            return True\n",
    "    return False\n",
    "\n",
    "def apply_spinning_top(row):\n",
    "    if row.body_top_perc < SPINNING_TOP_MAX:\n",
    "        if row.body_bottom_perc > SPINNING_TOP_MIN:\n",
    "            if row.body_perc < HANGING_MAN_BODY:\n",
    "                return True\n",
    "    return False"
   ]
  },
  {
   "cell_type": "code",
   "execution_count": 22,
   "metadata": {},
   "outputs": [],
   "source": [
    "df_an['HANGING_MAN'] = df_an.apply(apply_hanging_man, axis=1)\n",
    "df_an['SHOOTING_STAR'] = df_an.apply(apply_shooting_star, axis=1)\n",
    "df_an['SPINNING_TOP'] = df_an.apply(apply_spinning_top, axis=1)"
   ]
  },
  {
   "cell_type": "code",
   "execution_count": 14,
   "metadata": {},
   "outputs": [],
   "source": [
    "import plotly.graph_objects as go"
   ]
  },
  {
   "cell_type": "code",
   "execution_count": 25,
   "metadata": {},
   "outputs": [
    {
     "data": {
      "application/vnd.plotly.v1+json": {
       "config": {
        "plotlyServerURL": "https://plot.ly"
       },
       "data": [
        {
         "close": [
          162.029,
          162.004,
          162.344,
          162.126,
          162.075,
          161.82,
          161.936,
          161.758,
          161.616,
          161.667,
          161.534,
          161.554,
          161.632,
          161.557,
          161.412,
          161.308,
          160.74,
          160.596,
          160.494,
          160.734,
          160.814,
          160.7,
          160.875,
          161.257,
          161.923,
          162.112,
          161.846,
          161.534,
          161.764,
          161.826,
          161.696,
          161.844,
          161.168,
          160.878,
          160.904,
          161.005,
          161.361,
          161.22,
          161.038,
          160.976,
          160.709,
          160.798,
          160.532,
          160.622,
          160.5,
          160.598,
          159.924,
          159.805,
          160.148,
          160.12,
          159.973,
          160.086,
          160.023,
          160.113,
          160.142,
          160.094,
          159.676,
          159.662,
          159.87,
          159.738,
          159.676,
          159.652,
          159.645,
          159.668,
          159.943,
          159.994,
          159.825,
          159.949,
          159.91,
          160.095,
          160.36,
          160.562,
          160.943,
          160.864,
          161.062,
          161.35,
          161.259,
          161.132,
          161.05,
          160.86,
          160.936,
          161.308,
          161.28,
          161.496,
          161.504,
          161.529,
          161.344,
          161.31,
          161.232,
          161.081,
          161.5,
          161.356,
          161.588,
          161.6,
          162.185,
          162.214,
          161.788,
          161.208,
          161.285,
          161.509,
          161.6,
          161.69,
          161.666,
          161.202,
          161.668,
          161.702,
          161.535,
          162.021,
          162.034,
          161.913,
          162.03,
          162.182,
          162.226,
          162.519,
          162.576,
          162.697,
          162.668,
          162.311,
          162.706,
          163.389,
          163.947,
          163.797,
          163.516,
          163.598,
          163.578,
          163.749,
          163.763,
          163.482,
          163.602,
          163.826,
          163.876,
          163.884,
          163.718,
          163.644,
          163.6,
          163.52,
          163.49,
          162.914,
          163.245,
          163.156,
          163.123,
          163.21,
          162.746,
          162.986,
          162.689,
          162.756,
          162.822,
          162.76,
          162.682,
          162.776,
          162.748,
          162.71,
          162.542,
          162.59,
          162.461,
          162.41,
          162.06,
          161.702,
          161.754,
          161.856,
          161.178,
          160.845,
          160.21,
          160.157,
          159.864,
          159.85,
          159.688,
          159.99,
          159.885,
          159.791,
          159.982,
          160.124,
          160.059,
          160.164,
          160.203,
          160.279,
          160.115,
          160.25,
          160.412,
          160.283,
          160.222,
          160.372,
          160.192,
          159.93,
          160.232,
          160.427,
          160.326,
          160.332,
          160.012,
          159.844,
          159.928,
          160.149,
          160.305,
          160.26,
          160.522,
          160.401,
          160.65,
          160.55,
          160.603,
          160.687
         ],
         "decreasing": {
          "fillcolor": "#CC2E3C",
          "line": {
           "color": "#FF3A4C"
          }
         },
         "high": [
          162.248,
          162.256,
          162.36,
          162.447,
          162.174,
          162.133,
          162.026,
          161.992,
          161.829,
          161.72,
          161.675,
          161.594,
          161.704,
          161.689,
          161.634,
          161.632,
          161.302,
          160.914,
          160.678,
          160.742,
          160.998,
          160.933,
          160.96,
          161.396,
          162.008,
          162.24,
          162.178,
          161.89,
          161.764,
          161.924,
          161.874,
          161.866,
          161.876,
          161.31,
          160.934,
          161.158,
          161.41,
          161.412,
          161.302,
          161.25,
          161.117,
          161.046,
          160.915,
          160.68,
          160.87,
          160.648,
          160.598,
          160.042,
          160.19,
          160.291,
          160.231,
          160.165,
          160.112,
          160.15,
          160.176,
          160.168,
          160.094,
          159.8,
          159.884,
          159.916,
          159.89,
          159.842,
          159.808,
          159.833,
          159.992,
          160.25,
          160.05,
          160.1,
          160.185,
          160.296,
          160.418,
          161.016,
          160.948,
          161.004,
          161.124,
          161.352,
          161.345,
          161.326,
          161.208,
          161.126,
          160.986,
          161.445,
          161.352,
          161.555,
          161.584,
          161.537,
          161.58,
          161.436,
          161.654,
          161.44,
          161.5,
          161.572,
          161.702,
          161.92,
          162.188,
          162.895,
          162.312,
          161.95,
          161.301,
          161.626,
          161.802,
          161.724,
          161.808,
          161.68,
          161.828,
          161.746,
          161.738,
          162.038,
          162.158,
          162.062,
          162.112,
          162.424,
          162.441,
          162.764,
          162.887,
          162.831,
          162.73,
          162.723,
          162.95,
          163.389,
          164.102,
          164.014,
          163.851,
          163.687,
          163.722,
          163.783,
          163.909,
          163.823,
          163.628,
          163.829,
          163.986,
          163.892,
          163.885,
          163.852,
          163.698,
          163.658,
          163.721,
          163.51,
          163.382,
          163.286,
          163.276,
          163.41,
          163.253,
          163.136,
          163.048,
          162.856,
          162.858,
          162.862,
          162.809,
          162.802,
          162.854,
          162.84,
          162.782,
          162.652,
          162.642,
          162.819,
          162.958,
          162.153,
          161.876,
          161.938,
          161.898,
          161.282,
          160.909,
          160.271,
          160.21,
          160,
          160.278,
          160.208,
          160.09,
          160.002,
          160.078,
          160.13,
          160.176,
          160.208,
          160.203,
          160.283,
          160.304,
          160.39,
          160.452,
          160.46,
          160.309,
          160.432,
          160.388,
          160.302,
          160.352,
          160.611,
          160.664,
          160.384,
          160.38,
          160.286,
          160.048,
          160.312,
          160.325,
          160.37,
          160.602,
          160.93,
          160.65,
          160.698,
          160.791,
          160.808
         ],
         "increasing": {
          "fillcolor": "#24A06B",
          "line": {
           "color": "#2EC886"
          }
         },
         "line": {
          "width": 1
         },
         "low": [
          161.748,
          161.951,
          161.943,
          162.019,
          161.876,
          161.818,
          161.806,
          161.74,
          161.413,
          161.336,
          161.366,
          161.419,
          161.526,
          161.492,
          161.302,
          161.196,
          160.474,
          160.518,
          160.38,
          160.498,
          160.736,
          160.56,
          160.609,
          160.76,
          161.156,
          161.886,
          161.8,
          161.494,
          161.496,
          161.733,
          161.638,
          161.556,
          161.12,
          160.698,
          160.668,
          160.778,
          160.98,
          161.124,
          160.822,
          160.736,
          160.632,
          160.712,
          160.484,
          160.31,
          160.498,
          160.437,
          159.768,
          159.601,
          159.77,
          159.99,
          159.884,
          159.912,
          159.958,
          159.988,
          160.054,
          160.004,
          159.63,
          159.526,
          159.56,
          159.665,
          159.634,
          159.636,
          159.634,
          159.552,
          159.484,
          159.935,
          159.67,
          159.746,
          159.853,
          159.914,
          160.07,
          160.118,
          160.515,
          160.776,
          160.818,
          161.011,
          161.05,
          161.116,
          160.96,
          160.813,
          160.736,
          160.895,
          161.138,
          161.25,
          161.426,
          161.37,
          161.334,
          160.956,
          161.004,
          160.884,
          161.053,
          161.256,
          161.004,
          161.328,
          161.408,
          161.95,
          161.524,
          160.982,
          161.07,
          161.149,
          161.509,
          161.522,
          161.567,
          161.147,
          161.072,
          161.372,
          161.386,
          161.476,
          161.946,
          161.782,
          161.912,
          161.932,
          162.118,
          162.226,
          162.518,
          162.564,
          162.466,
          162.236,
          162.241,
          162.6,
          163.32,
          163.688,
          163.502,
          163.456,
          163.528,
          163.553,
          163.682,
          163.427,
          163.375,
          163.528,
          163.736,
          163.817,
          163.678,
          163.58,
          163.552,
          163.383,
          163.415,
          162.852,
          162.902,
          162.994,
          163.034,
          163.09,
          162.666,
          162.742,
          162.64,
          162.596,
          162.678,
          162.702,
          162.67,
          162.68,
          162.678,
          162.676,
          162.398,
          162.464,
          162.343,
          162.219,
          161.863,
          161.553,
          161.648,
          161.591,
          161.131,
          160.595,
          160.146,
          159.998,
          159.861,
          159.547,
          159.673,
          159.592,
          159.852,
          159.752,
          159.788,
          159.882,
          160.026,
          160.036,
          160.062,
          160.13,
          160.08,
          159.88,
          160.206,
          160.252,
          160.138,
          160.21,
          160.186,
          159.895,
          159.905,
          160.231,
          160.214,
          160.057,
          159.893,
          159.76,
          159.65,
          159.903,
          160.044,
          160.156,
          160.216,
          160.298,
          160.076,
          160.484,
          160.374,
          160.608
         ],
         "opacity": 1,
         "open": [
          161.768,
          162.03,
          161.999,
          162.35,
          162.126,
          162.076,
          161.982,
          161.924,
          161.764,
          161.614,
          161.668,
          161.536,
          161.554,
          161.633,
          161.556,
          161.414,
          161.302,
          160.736,
          160.591,
          160.5,
          160.736,
          160.815,
          160.706,
          160.876,
          161.257,
          161.928,
          162.112,
          161.847,
          161.532,
          161.764,
          161.862,
          161.695,
          161.842,
          161.168,
          160.872,
          160.904,
          161,
          161.366,
          161.222,
          161.038,
          160.976,
          160.714,
          160.798,
          160.526,
          160.624,
          160.499,
          160.598,
          159.926,
          159.808,
          160.146,
          160.119,
          159.974,
          160.086,
          160.024,
          160.099,
          160.144,
          160.094,
          159.67,
          159.66,
          159.87,
          159.74,
          159.672,
          159.652,
          159.651,
          159.668,
          159.942,
          159.998,
          159.824,
          159.952,
          159.916,
          160.1,
          160.362,
          160.562,
          160.944,
          160.869,
          161.062,
          161.344,
          161.262,
          161.183,
          161.051,
          160.861,
          160.93,
          161.31,
          161.28,
          161.496,
          161.51,
          161.53,
          161.338,
          161.31,
          161.232,
          161.076,
          161.497,
          161.356,
          161.588,
          161.599,
          162.188,
          162.215,
          161.786,
          161.207,
          161.292,
          161.509,
          161.598,
          161.648,
          161.678,
          161.205,
          161.669,
          161.701,
          161.538,
          162.022,
          162.038,
          161.916,
          162.03,
          162.182,
          162.226,
          162.518,
          162.576,
          162.698,
          162.667,
          162.313,
          162.704,
          163.392,
          163.948,
          163.798,
          163.518,
          163.598,
          163.583,
          163.87,
          163.762,
          163.472,
          163.601,
          163.826,
          163.871,
          163.885,
          163.717,
          163.644,
          163.6,
          163.519,
          163.49,
          162.916,
          163.243,
          163.156,
          163.128,
          163.214,
          162.742,
          162.986,
          162.684,
          162.754,
          162.821,
          162.76,
          162.68,
          162.788,
          162.742,
          162.709,
          162.543,
          162.588,
          162.46,
          162.422,
          162.06,
          161.703,
          161.754,
          161.854,
          161.176,
          160.848,
          160.21,
          160.158,
          159.869,
          159.85,
          159.686,
          159.989,
          159.88,
          159.796,
          159.982,
          160.118,
          160.058,
          160.126,
          160.207,
          160.282,
          160.114,
          160.25,
          160.409,
          160.283,
          160.222,
          160.378,
          160.197,
          159.93,
          160.231,
          160.422,
          160.332,
          160.33,
          160.014,
          159.844,
          159.934,
          160.147,
          160.305,
          160.254,
          160.527,
          160.4,
          160.648,
          160.374,
          160.622
         ],
         "type": "candlestick",
         "x": [
          "s16-03-04 16:00",
          "s16-03-04 17:00",
          "s16-03-04 18:00",
          "s16-03-04 19:00",
          "s16-03-04 20:00",
          "s16-03-04 21:00",
          "s16-03-06 22:00",
          "s16-03-06 23:00",
          "s16-03-07 00:00",
          "s16-03-07 01:00",
          "s16-03-07 02:00",
          "s16-03-07 03:00",
          "s16-03-07 04:00",
          "s16-03-07 05:00",
          "s16-03-07 06:00",
          "s16-03-07 07:00",
          "s16-03-07 08:00",
          "s16-03-07 09:00",
          "s16-03-07 10:00",
          "s16-03-07 11:00",
          "s16-03-07 12:00",
          "s16-03-07 13:00",
          "s16-03-07 14:00",
          "s16-03-07 15:00",
          "s16-03-07 16:00",
          "s16-03-07 17:00",
          "s16-03-07 18:00",
          "s16-03-07 19:00",
          "s16-03-07 20:00",
          "s16-03-07 21:00",
          "s16-03-07 22:00",
          "s16-03-07 23:00",
          "s16-03-08 00:00",
          "s16-03-08 01:00",
          "s16-03-08 02:00",
          "s16-03-08 03:00",
          "s16-03-08 04:00",
          "s16-03-08 05:00",
          "s16-03-08 06:00",
          "s16-03-08 07:00",
          "s16-03-08 08:00",
          "s16-03-08 09:00",
          "s16-03-08 10:00",
          "s16-03-08 11:00",
          "s16-03-08 12:00",
          "s16-03-08 13:00",
          "s16-03-08 14:00",
          "s16-03-08 15:00",
          "s16-03-08 16:00",
          "s16-03-08 17:00",
          "s16-03-08 18:00",
          "s16-03-08 19:00",
          "s16-03-08 20:00",
          "s16-03-08 21:00",
          "s16-03-08 22:00",
          "s16-03-08 23:00",
          "s16-03-09 00:00",
          "s16-03-09 01:00",
          "s16-03-09 02:00",
          "s16-03-09 03:00",
          "s16-03-09 04:00",
          "s16-03-09 05:00",
          "s16-03-09 06:00",
          "s16-03-09 07:00",
          "s16-03-09 08:00",
          "s16-03-09 09:00",
          "s16-03-09 10:00",
          "s16-03-09 11:00",
          "s16-03-09 12:00",
          "s16-03-09 13:00",
          "s16-03-09 14:00",
          "s16-03-09 15:00",
          "s16-03-09 16:00",
          "s16-03-09 17:00",
          "s16-03-09 18:00",
          "s16-03-09 19:00",
          "s16-03-09 20:00",
          "s16-03-09 21:00",
          "s16-03-09 22:00",
          "s16-03-09 23:00",
          "s16-03-10 00:00",
          "s16-03-10 01:00",
          "s16-03-10 02:00",
          "s16-03-10 03:00",
          "s16-03-10 04:00",
          "s16-03-10 05:00",
          "s16-03-10 06:00",
          "s16-03-10 07:00",
          "s16-03-10 08:00",
          "s16-03-10 09:00",
          "s16-03-10 10:00",
          "s16-03-10 11:00",
          "s16-03-10 12:00",
          "s16-03-10 13:00",
          "s16-03-10 14:00",
          "s16-03-10 15:00",
          "s16-03-10 16:00",
          "s16-03-10 17:00",
          "s16-03-10 18:00",
          "s16-03-10 19:00",
          "s16-03-10 20:00",
          "s16-03-10 21:00",
          "s16-03-10 22:00",
          "s16-03-10 23:00",
          "s16-03-11 00:00",
          "s16-03-11 01:00",
          "s16-03-11 02:00",
          "s16-03-11 03:00",
          "s16-03-11 04:00",
          "s16-03-11 05:00",
          "s16-03-11 06:00",
          "s16-03-11 07:00",
          "s16-03-11 08:00",
          "s16-03-11 09:00",
          "s16-03-11 10:00",
          "s16-03-11 11:00",
          "s16-03-11 12:00",
          "s16-03-11 13:00",
          "s16-03-11 14:00",
          "s16-03-11 15:00",
          "s16-03-11 16:00",
          "s16-03-11 17:00",
          "s16-03-11 18:00",
          "s16-03-11 19:00",
          "s16-03-11 20:00",
          "s16-03-11 21:00",
          "s16-03-13 21:00",
          "s16-03-13 22:00",
          "s16-03-13 23:00",
          "s16-03-14 00:00",
          "s16-03-14 01:00",
          "s16-03-14 02:00",
          "s16-03-14 03:00",
          "s16-03-14 04:00",
          "s16-03-14 05:00",
          "s16-03-14 06:00",
          "s16-03-14 07:00",
          "s16-03-14 08:00",
          "s16-03-14 09:00",
          "s16-03-14 10:00",
          "s16-03-14 11:00",
          "s16-03-14 12:00",
          "s16-03-14 13:00",
          "s16-03-14 14:00",
          "s16-03-14 15:00",
          "s16-03-14 16:00",
          "s16-03-14 17:00",
          "s16-03-14 18:00",
          "s16-03-14 19:00",
          "s16-03-14 20:00",
          "s16-03-14 21:00",
          "s16-03-14 22:00",
          "s16-03-14 23:00",
          "s16-03-15 00:00",
          "s16-03-15 01:00",
          "s16-03-15 02:00",
          "s16-03-15 03:00",
          "s16-03-15 04:00",
          "s16-03-15 05:00",
          "s16-03-15 06:00",
          "s16-03-15 07:00",
          "s16-03-15 08:00",
          "s16-03-15 09:00",
          "s16-03-15 10:00",
          "s16-03-15 11:00",
          "s16-03-15 12:00",
          "s16-03-15 13:00",
          "s16-03-15 14:00",
          "s16-03-15 15:00",
          "s16-03-15 16:00",
          "s16-03-15 17:00",
          "s16-03-15 18:00",
          "s16-03-15 19:00",
          "s16-03-15 20:00",
          "s16-03-15 21:00",
          "s16-03-15 22:00",
          "s16-03-15 23:00",
          "s16-03-16 00:00",
          "s16-03-16 01:00",
          "s16-03-16 02:00",
          "s16-03-16 03:00",
          "s16-03-16 04:00",
          "s16-03-16 05:00",
          "s16-03-16 06:00",
          "s16-03-16 07:00",
          "s16-03-16 08:00",
          "s16-03-16 09:00",
          "s16-03-16 10:00",
          "s16-03-16 11:00",
          "s16-03-16 12:00",
          "s16-03-16 13:00",
          "s16-03-16 14:00",
          "s16-03-16 15:00",
          "s16-03-16 16:00",
          "s16-03-16 17:00",
          "s16-03-16 18:00",
          "s16-03-16 19:00",
          "s16-03-16 20:00",
          "s16-03-16 21:00",
          "s16-03-16 22:00"
         ]
        },
        {
         "close": [
          160.976,
          160.12,
          159.662,
          161.504,
          161.6
         ],
         "decreasing": {
          "fillcolor": "#0066FF",
          "line": {
           "color": "#0066FF"
          }
         },
         "high": [
          161.25,
          160.291,
          159.8,
          161.584,
          161.92
         ],
         "increasing": {
          "fillcolor": "#0066FF",
          "line": {
           "color": "#0066FF"
          }
         },
         "line": {
          "width": 1
         },
         "low": [
          160.736,
          159.99,
          159.526,
          161.426,
          161.328
         ],
         "opacity": 1,
         "open": [
          161.038,
          160.146,
          159.67,
          161.496,
          161.588
         ],
         "type": "candlestick",
         "x": [
          "s16-03-08 07:00",
          "s16-03-08 17:00",
          "s16-03-09 01:00",
          "s16-03-10 04:00",
          "s16-03-10 13:00"
         ]
        }
       ],
       "layout": {
        "font": {
         "color": "#e1e1e1",
         "size": 12
        },
        "height": 400,
        "margin": {
         "b": 10,
         "l": 10,
         "r": 10,
         "t": 10
        },
        "paper_bgcolor": "#2c303c",
        "plot_bgcolor": "#2c303c",
        "template": {
         "data": {
          "bar": [
           {
            "error_x": {
             "color": "#2a3f5f"
            },
            "error_y": {
             "color": "#2a3f5f"
            },
            "marker": {
             "line": {
              "color": "#E5ECF6",
              "width": 0.5
             },
             "pattern": {
              "fillmode": "overlay",
              "size": 10,
              "solidity": 0.2
             }
            },
            "type": "bar"
           }
          ],
          "barpolar": [
           {
            "marker": {
             "line": {
              "color": "#E5ECF6",
              "width": 0.5
             },
             "pattern": {
              "fillmode": "overlay",
              "size": 10,
              "solidity": 0.2
             }
            },
            "type": "barpolar"
           }
          ],
          "carpet": [
           {
            "aaxis": {
             "endlinecolor": "#2a3f5f",
             "gridcolor": "white",
             "linecolor": "white",
             "minorgridcolor": "white",
             "startlinecolor": "#2a3f5f"
            },
            "baxis": {
             "endlinecolor": "#2a3f5f",
             "gridcolor": "white",
             "linecolor": "white",
             "minorgridcolor": "white",
             "startlinecolor": "#2a3f5f"
            },
            "type": "carpet"
           }
          ],
          "choropleth": [
           {
            "colorbar": {
             "outlinewidth": 0,
             "ticks": ""
            },
            "type": "choropleth"
           }
          ],
          "contour": [
           {
            "colorbar": {
             "outlinewidth": 0,
             "ticks": ""
            },
            "colorscale": [
             [
              0,
              "#0d0887"
             ],
             [
              0.1111111111111111,
              "#46039f"
             ],
             [
              0.2222222222222222,
              "#7201a8"
             ],
             [
              0.3333333333333333,
              "#9c179e"
             ],
             [
              0.4444444444444444,
              "#bd3786"
             ],
             [
              0.5555555555555556,
              "#d8576b"
             ],
             [
              0.6666666666666666,
              "#ed7953"
             ],
             [
              0.7777777777777778,
              "#fb9f3a"
             ],
             [
              0.8888888888888888,
              "#fdca26"
             ],
             [
              1,
              "#f0f921"
             ]
            ],
            "type": "contour"
           }
          ],
          "contourcarpet": [
           {
            "colorbar": {
             "outlinewidth": 0,
             "ticks": ""
            },
            "type": "contourcarpet"
           }
          ],
          "heatmap": [
           {
            "colorbar": {
             "outlinewidth": 0,
             "ticks": ""
            },
            "colorscale": [
             [
              0,
              "#0d0887"
             ],
             [
              0.1111111111111111,
              "#46039f"
             ],
             [
              0.2222222222222222,
              "#7201a8"
             ],
             [
              0.3333333333333333,
              "#9c179e"
             ],
             [
              0.4444444444444444,
              "#bd3786"
             ],
             [
              0.5555555555555556,
              "#d8576b"
             ],
             [
              0.6666666666666666,
              "#ed7953"
             ],
             [
              0.7777777777777778,
              "#fb9f3a"
             ],
             [
              0.8888888888888888,
              "#fdca26"
             ],
             [
              1,
              "#f0f921"
             ]
            ],
            "type": "heatmap"
           }
          ],
          "heatmapgl": [
           {
            "colorbar": {
             "outlinewidth": 0,
             "ticks": ""
            },
            "colorscale": [
             [
              0,
              "#0d0887"
             ],
             [
              0.1111111111111111,
              "#46039f"
             ],
             [
              0.2222222222222222,
              "#7201a8"
             ],
             [
              0.3333333333333333,
              "#9c179e"
             ],
             [
              0.4444444444444444,
              "#bd3786"
             ],
             [
              0.5555555555555556,
              "#d8576b"
             ],
             [
              0.6666666666666666,
              "#ed7953"
             ],
             [
              0.7777777777777778,
              "#fb9f3a"
             ],
             [
              0.8888888888888888,
              "#fdca26"
             ],
             [
              1,
              "#f0f921"
             ]
            ],
            "type": "heatmapgl"
           }
          ],
          "histogram": [
           {
            "marker": {
             "pattern": {
              "fillmode": "overlay",
              "size": 10,
              "solidity": 0.2
             }
            },
            "type": "histogram"
           }
          ],
          "histogram2d": [
           {
            "colorbar": {
             "outlinewidth": 0,
             "ticks": ""
            },
            "colorscale": [
             [
              0,
              "#0d0887"
             ],
             [
              0.1111111111111111,
              "#46039f"
             ],
             [
              0.2222222222222222,
              "#7201a8"
             ],
             [
              0.3333333333333333,
              "#9c179e"
             ],
             [
              0.4444444444444444,
              "#bd3786"
             ],
             [
              0.5555555555555556,
              "#d8576b"
             ],
             [
              0.6666666666666666,
              "#ed7953"
             ],
             [
              0.7777777777777778,
              "#fb9f3a"
             ],
             [
              0.8888888888888888,
              "#fdca26"
             ],
             [
              1,
              "#f0f921"
             ]
            ],
            "type": "histogram2d"
           }
          ],
          "histogram2dcontour": [
           {
            "colorbar": {
             "outlinewidth": 0,
             "ticks": ""
            },
            "colorscale": [
             [
              0,
              "#0d0887"
             ],
             [
              0.1111111111111111,
              "#46039f"
             ],
             [
              0.2222222222222222,
              "#7201a8"
             ],
             [
              0.3333333333333333,
              "#9c179e"
             ],
             [
              0.4444444444444444,
              "#bd3786"
             ],
             [
              0.5555555555555556,
              "#d8576b"
             ],
             [
              0.6666666666666666,
              "#ed7953"
             ],
             [
              0.7777777777777778,
              "#fb9f3a"
             ],
             [
              0.8888888888888888,
              "#fdca26"
             ],
             [
              1,
              "#f0f921"
             ]
            ],
            "type": "histogram2dcontour"
           }
          ],
          "mesh3d": [
           {
            "colorbar": {
             "outlinewidth": 0,
             "ticks": ""
            },
            "type": "mesh3d"
           }
          ],
          "parcoords": [
           {
            "line": {
             "colorbar": {
              "outlinewidth": 0,
              "ticks": ""
             }
            },
            "type": "parcoords"
           }
          ],
          "pie": [
           {
            "automargin": true,
            "type": "pie"
           }
          ],
          "scatter": [
           {
            "fillpattern": {
             "fillmode": "overlay",
             "size": 10,
             "solidity": 0.2
            },
            "type": "scatter"
           }
          ],
          "scatter3d": [
           {
            "line": {
             "colorbar": {
              "outlinewidth": 0,
              "ticks": ""
             }
            },
            "marker": {
             "colorbar": {
              "outlinewidth": 0,
              "ticks": ""
             }
            },
            "type": "scatter3d"
           }
          ],
          "scattercarpet": [
           {
            "marker": {
             "colorbar": {
              "outlinewidth": 0,
              "ticks": ""
             }
            },
            "type": "scattercarpet"
           }
          ],
          "scattergeo": [
           {
            "marker": {
             "colorbar": {
              "outlinewidth": 0,
              "ticks": ""
             }
            },
            "type": "scattergeo"
           }
          ],
          "scattergl": [
           {
            "marker": {
             "colorbar": {
              "outlinewidth": 0,
              "ticks": ""
             }
            },
            "type": "scattergl"
           }
          ],
          "scattermapbox": [
           {
            "marker": {
             "colorbar": {
              "outlinewidth": 0,
              "ticks": ""
             }
            },
            "type": "scattermapbox"
           }
          ],
          "scatterpolar": [
           {
            "marker": {
             "colorbar": {
              "outlinewidth": 0,
              "ticks": ""
             }
            },
            "type": "scatterpolar"
           }
          ],
          "scatterpolargl": [
           {
            "marker": {
             "colorbar": {
              "outlinewidth": 0,
              "ticks": ""
             }
            },
            "type": "scatterpolargl"
           }
          ],
          "scatterternary": [
           {
            "marker": {
             "colorbar": {
              "outlinewidth": 0,
              "ticks": ""
             }
            },
            "type": "scatterternary"
           }
          ],
          "surface": [
           {
            "colorbar": {
             "outlinewidth": 0,
             "ticks": ""
            },
            "colorscale": [
             [
              0,
              "#0d0887"
             ],
             [
              0.1111111111111111,
              "#46039f"
             ],
             [
              0.2222222222222222,
              "#7201a8"
             ],
             [
              0.3333333333333333,
              "#9c179e"
             ],
             [
              0.4444444444444444,
              "#bd3786"
             ],
             [
              0.5555555555555556,
              "#d8576b"
             ],
             [
              0.6666666666666666,
              "#ed7953"
             ],
             [
              0.7777777777777778,
              "#fb9f3a"
             ],
             [
              0.8888888888888888,
              "#fdca26"
             ],
             [
              1,
              "#f0f921"
             ]
            ],
            "type": "surface"
           }
          ],
          "table": [
           {
            "cells": {
             "fill": {
              "color": "#EBF0F8"
             },
             "line": {
              "color": "white"
             }
            },
            "header": {
             "fill": {
              "color": "#C8D4E3"
             },
             "line": {
              "color": "white"
             }
            },
            "type": "table"
           }
          ]
         },
         "layout": {
          "annotationdefaults": {
           "arrowcolor": "#2a3f5f",
           "arrowhead": 0,
           "arrowwidth": 1
          },
          "autotypenumbers": "strict",
          "coloraxis": {
           "colorbar": {
            "outlinewidth": 0,
            "ticks": ""
           }
          },
          "colorscale": {
           "diverging": [
            [
             0,
             "#8e0152"
            ],
            [
             0.1,
             "#c51b7d"
            ],
            [
             0.2,
             "#de77ae"
            ],
            [
             0.3,
             "#f1b6da"
            ],
            [
             0.4,
             "#fde0ef"
            ],
            [
             0.5,
             "#f7f7f7"
            ],
            [
             0.6,
             "#e6f5d0"
            ],
            [
             0.7,
             "#b8e186"
            ],
            [
             0.8,
             "#7fbc41"
            ],
            [
             0.9,
             "#4d9221"
            ],
            [
             1,
             "#276419"
            ]
           ],
           "sequential": [
            [
             0,
             "#0d0887"
            ],
            [
             0.1111111111111111,
             "#46039f"
            ],
            [
             0.2222222222222222,
             "#7201a8"
            ],
            [
             0.3333333333333333,
             "#9c179e"
            ],
            [
             0.4444444444444444,
             "#bd3786"
            ],
            [
             0.5555555555555556,
             "#d8576b"
            ],
            [
             0.6666666666666666,
             "#ed7953"
            ],
            [
             0.7777777777777778,
             "#fb9f3a"
            ],
            [
             0.8888888888888888,
             "#fdca26"
            ],
            [
             1,
             "#f0f921"
            ]
           ],
           "sequentialminus": [
            [
             0,
             "#0d0887"
            ],
            [
             0.1111111111111111,
             "#46039f"
            ],
            [
             0.2222222222222222,
             "#7201a8"
            ],
            [
             0.3333333333333333,
             "#9c179e"
            ],
            [
             0.4444444444444444,
             "#bd3786"
            ],
            [
             0.5555555555555556,
             "#d8576b"
            ],
            [
             0.6666666666666666,
             "#ed7953"
            ],
            [
             0.7777777777777778,
             "#fb9f3a"
            ],
            [
             0.8888888888888888,
             "#fdca26"
            ],
            [
             1,
             "#f0f921"
            ]
           ]
          },
          "colorway": [
           "#636efa",
           "#EF553B",
           "#00cc96",
           "#ab63fa",
           "#FFA15A",
           "#19d3f3",
           "#FF6692",
           "#B6E880",
           "#FF97FF",
           "#FECB52"
          ],
          "font": {
           "color": "#2a3f5f"
          },
          "geo": {
           "bgcolor": "white",
           "lakecolor": "white",
           "landcolor": "#E5ECF6",
           "showlakes": true,
           "showland": true,
           "subunitcolor": "white"
          },
          "hoverlabel": {
           "align": "left"
          },
          "hovermode": "closest",
          "mapbox": {
           "style": "light"
          },
          "paper_bgcolor": "white",
          "plot_bgcolor": "#E5ECF6",
          "polar": {
           "angularaxis": {
            "gridcolor": "white",
            "linecolor": "white",
            "ticks": ""
           },
           "bgcolor": "#E5ECF6",
           "radialaxis": {
            "gridcolor": "white",
            "linecolor": "white",
            "ticks": ""
           }
          },
          "scene": {
           "xaxis": {
            "backgroundcolor": "#E5ECF6",
            "gridcolor": "white",
            "gridwidth": 2,
            "linecolor": "white",
            "showbackground": true,
            "ticks": "",
            "zerolinecolor": "white"
           },
           "yaxis": {
            "backgroundcolor": "#E5ECF6",
            "gridcolor": "white",
            "gridwidth": 2,
            "linecolor": "white",
            "showbackground": true,
            "ticks": "",
            "zerolinecolor": "white"
           },
           "zaxis": {
            "backgroundcolor": "#E5ECF6",
            "gridcolor": "white",
            "gridwidth": 2,
            "linecolor": "white",
            "showbackground": true,
            "ticks": "",
            "zerolinecolor": "white"
           }
          },
          "shapedefaults": {
           "line": {
            "color": "#2a3f5f"
           }
          },
          "ternary": {
           "aaxis": {
            "gridcolor": "white",
            "linecolor": "white",
            "ticks": ""
           },
           "baxis": {
            "gridcolor": "white",
            "linecolor": "white",
            "ticks": ""
           },
           "bgcolor": "#E5ECF6",
           "caxis": {
            "gridcolor": "white",
            "linecolor": "white",
            "ticks": ""
           }
          },
          "title": {
           "x": 0.05
          },
          "xaxis": {
           "automargin": true,
           "gridcolor": "white",
           "linecolor": "white",
           "ticks": "",
           "title": {
            "standoff": 15
           },
           "zerolinecolor": "white",
           "zerolinewidth": 2
          },
          "yaxis": {
           "automargin": true,
           "gridcolor": "white",
           "linecolor": "white",
           "ticks": "",
           "title": {
            "standoff": 15
           },
           "zerolinecolor": "white",
           "zerolinewidth": 2
          }
         }
        },
        "width": 900,
        "xaxis": {
         "anchor": "y",
         "domain": [
          0,
          0.94
         ],
         "gridcolor": "#1f292f",
         "nticks": 5,
         "rangeslider": {
          "visible": false
         }
        },
        "yaxis": {
         "anchor": "x",
         "domain": [
          0,
          1
         ],
         "gridcolor": "#1f292f"
        },
        "yaxis2": {
         "anchor": "x",
         "gridcolor": "#1f292f",
         "overlaying": "y",
         "side": "right"
        }
       }
      }
     },
     "metadata": {},
     "output_type": "display_data"
    }
   ],
   "source": [
    "MARKER = '#0066FF'\n",
    "dfp = df_an.iloc[1000:1200]\n",
    "cp = CandlePlot(dfp, candles=True)\n",
    "df_temp = cp.df_plot[cp.df_plot.SPINNING_TOP == True]\n",
    "cp.fig.add_trace(go.Candlestick(\n",
    "                x = df_temp.sTime,\n",
    "                open = df_temp.mid_o,\n",
    "                high = df_temp.mid_h,\n",
    "                low = df_temp.mid_l,\n",
    "                close = df_temp.mid_c,\n",
    "                line = dict(width=1), \n",
    "                opacity = 1,\n",
    "                increasing_fillcolor=MARKER,\n",
    "                decreasing_fillcolor=MARKER,\n",
    "                increasing_line_color=MARKER,\n",
    "                decreasing_line_color=MARKER,\n",
    "            ))\n",
    "\n",
    "cp.show_plot()"
   ]
  },
  {
   "cell_type": "code",
   "execution_count": null,
   "metadata": {},
   "outputs": [],
   "source": []
  },
  {
   "cell_type": "code",
   "execution_count": null,
   "metadata": {},
   "outputs": [],
   "source": []
  },
  {
   "cell_type": "code",
   "execution_count": null,
   "metadata": {},
   "outputs": [],
   "source": []
  }
 ],
 "metadata": {
  "kernelspec": {
   "display_name": "venv",
   "language": "python",
   "name": "python3"
  },
  "language_info": {
   "codemirror_mode": {
    "name": "ipython",
    "version": 3
   },
   "file_extension": ".py",
   "mimetype": "text/x-python",
   "name": "python",
   "nbconvert_exporter": "python",
   "pygments_lexer": "ipython3",
   "version": "3.11.1"
  },
  "orig_nbformat": 4
 },
 "nbformat": 4,
 "nbformat_minor": 2
}
