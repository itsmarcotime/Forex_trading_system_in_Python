{
 "cells": [
  {
   "cell_type": "code",
   "execution_count": 1,
   "metadata": {},
   "outputs": [],
   "source": [
    "import sys\n",
    "sys.path.append('../')\n",
    "from plotting import CandlePlot\n",
    "import pandas as pd"
   ]
  },
  {
   "cell_type": "code",
   "execution_count": 2,
   "metadata": {},
   "outputs": [],
   "source": [
    "from technicals.patterns import apply_patterns"
   ]
  },
  {
   "cell_type": "code",
   "execution_count": 3,
   "metadata": {},
   "outputs": [],
   "source": [
    "df = pd.read_pickle('../data/GBP_JPY_H1.pkl')"
   ]
  },
  {
   "cell_type": "code",
   "execution_count": 4,
   "metadata": {},
   "outputs": [],
   "source": [
    "df_an = df[['time', 'mid_o','mid_h', 'mid_l', 'mid_c']].copy()"
   ]
  },
  {
   "cell_type": "code",
   "execution_count": 5,
   "metadata": {},
   "outputs": [
    {
     "data": {
      "text/html": [
       "<div>\n",
       "<style scoped>\n",
       "    .dataframe tbody tr th:only-of-type {\n",
       "        vertical-align: middle;\n",
       "    }\n",
       "\n",
       "    .dataframe tbody tr th {\n",
       "        vertical-align: top;\n",
       "    }\n",
       "\n",
       "    .dataframe thead th {\n",
       "        text-align: right;\n",
       "    }\n",
       "</style>\n",
       "<table border=\"1\" class=\"dataframe\">\n",
       "  <thead>\n",
       "    <tr style=\"text-align: right;\">\n",
       "      <th></th>\n",
       "      <th>time</th>\n",
       "      <th>mid_o</th>\n",
       "      <th>mid_h</th>\n",
       "      <th>mid_l</th>\n",
       "      <th>mid_c</th>\n",
       "    </tr>\n",
       "  </thead>\n",
       "  <tbody>\n",
       "    <tr>\n",
       "      <th>37219</th>\n",
       "      <td>2021-12-30 19:00:00+00:00</td>\n",
       "      <td>155.312</td>\n",
       "      <td>155.444</td>\n",
       "      <td>155.274</td>\n",
       "      <td>155.444</td>\n",
       "    </tr>\n",
       "    <tr>\n",
       "      <th>37220</th>\n",
       "      <td>2021-12-30 20:00:00+00:00</td>\n",
       "      <td>155.442</td>\n",
       "      <td>155.470</td>\n",
       "      <td>155.289</td>\n",
       "      <td>155.312</td>\n",
       "    </tr>\n",
       "    <tr>\n",
       "      <th>37221</th>\n",
       "      <td>2021-12-30 21:00:00+00:00</td>\n",
       "      <td>155.317</td>\n",
       "      <td>155.382</td>\n",
       "      <td>155.286</td>\n",
       "      <td>155.382</td>\n",
       "    </tr>\n",
       "    <tr>\n",
       "      <th>37222</th>\n",
       "      <td>2021-12-30 22:00:00+00:00</td>\n",
       "      <td>155.353</td>\n",
       "      <td>155.381</td>\n",
       "      <td>155.282</td>\n",
       "      <td>155.329</td>\n",
       "    </tr>\n",
       "    <tr>\n",
       "      <th>37223</th>\n",
       "      <td>2021-12-30 23:00:00+00:00</td>\n",
       "      <td>155.336</td>\n",
       "      <td>155.360</td>\n",
       "      <td>155.284</td>\n",
       "      <td>155.310</td>\n",
       "    </tr>\n",
       "  </tbody>\n",
       "</table>\n",
       "</div>"
      ],
      "text/plain": [
       "                           time    mid_o    mid_h    mid_l    mid_c\n",
       "37219 2021-12-30 19:00:00+00:00  155.312  155.444  155.274  155.444\n",
       "37220 2021-12-30 20:00:00+00:00  155.442  155.470  155.289  155.312\n",
       "37221 2021-12-30 21:00:00+00:00  155.317  155.382  155.286  155.382\n",
       "37222 2021-12-30 22:00:00+00:00  155.353  155.381  155.282  155.329\n",
       "37223 2021-12-30 23:00:00+00:00  155.336  155.360  155.284  155.310"
      ]
     },
     "execution_count": 5,
     "metadata": {},
     "output_type": "execute_result"
    }
   ],
   "source": [
    "df_an.tail()"
   ]
  },
  {
   "cell_type": "code",
   "execution_count": 6,
   "metadata": {},
   "outputs": [],
   "source": [
    "# direction = df_an.mid_c - df_an.mid_o\n",
    "# body_size = abs(direction)\n",
    "# direction = [1 if x >= 0 else -1 for x in direction]\n",
    "# full_range = df_an.mid_h - df_an.mid_l\n",
    "# body_perc = (body_size / full_range) * 100\n",
    "# body_lower = df_an[['mid_c', 'mid_o']].min(axis=1)\n",
    "# body_upper = df_an[['mid_c', 'mid_o']].max(axis=1)\n",
    "# body_bottom_perc = ((body_lower - df_an.mid_l) / full_range) * 100\n",
    "# body_top_perc = 100 - (((df_an.mid_h - body_upper) / full_range) * 100)\n"
   ]
  },
  {
   "cell_type": "code",
   "execution_count": 7,
   "metadata": {},
   "outputs": [],
   "source": [
    "# df_an['body_lower'] = body_lower\n",
    "# df_an['body_upper'] = body_upper\n",
    "# df_an['body_bottom_perc'] = body_bottom_perc\n",
    "# df_an['body_top_perc'] = body_top_perc\n",
    "# df_an['body_perc'] = body_perc"
   ]
  },
  {
   "cell_type": "code",
   "execution_count": 8,
   "metadata": {},
   "outputs": [],
   "source": [
    "df_an = apply_patterns(df_an)"
   ]
  },
  {
   "cell_type": "code",
   "execution_count": 9,
   "metadata": {},
   "outputs": [
    {
     "data": {
      "application/vnd.plotly.v1+json": {
       "config": {
        "plotlyServerURL": "https://plot.ly"
       },
       "data": [
        {
         "close": [
          155.491,
          155.438,
          155.484,
          155.335,
          155.314,
          155.444,
          155.312,
          155.382,
          155.329,
          155.31
         ],
         "decreasing": {
          "fillcolor": "#CC2E3C",
          "line": {
           "color": "#FF3A4C"
          }
         },
         "high": [
          155.55,
          155.672,
          155.527,
          155.481,
          155.406,
          155.444,
          155.47,
          155.382,
          155.381,
          155.36
         ],
         "increasing": {
          "fillcolor": "#24A06B",
          "line": {
           "color": "#2EC886"
          }
         },
         "line": {
          "width": 1
         },
         "low": [
          155.222,
          155.362,
          155.349,
          155.312,
          155.252,
          155.274,
          155.289,
          155.286,
          155.282,
          155.284
         ],
         "opacity": 1,
         "open": [
          155.328,
          155.488,
          155.436,
          155.481,
          155.333,
          155.312,
          155.442,
          155.317,
          155.353,
          155.336
         ],
         "type": "candlestick",
         "x": [
          "s21-12-30 14:00",
          "s21-12-30 15:00",
          "s21-12-30 16:00",
          "s21-12-30 17:00",
          "s21-12-30 18:00",
          "s21-12-30 19:00",
          "s21-12-30 20:00",
          "s21-12-30 21:00",
          "s21-12-30 22:00",
          "s21-12-30 23:00"
         ]
        }
       ],
       "layout": {
        "font": {
         "color": "#e1e1e1",
         "size": 12
        },
        "height": 300,
        "margin": {
         "b": 10,
         "l": 10,
         "r": 10,
         "t": 10
        },
        "paper_bgcolor": "#2c303c",
        "plot_bgcolor": "#2c303c",
        "template": {
         "data": {
          "bar": [
           {
            "error_x": {
             "color": "#2a3f5f"
            },
            "error_y": {
             "color": "#2a3f5f"
            },
            "marker": {
             "line": {
              "color": "#E5ECF6",
              "width": 0.5
             },
             "pattern": {
              "fillmode": "overlay",
              "size": 10,
              "solidity": 0.2
             }
            },
            "type": "bar"
           }
          ],
          "barpolar": [
           {
            "marker": {
             "line": {
              "color": "#E5ECF6",
              "width": 0.5
             },
             "pattern": {
              "fillmode": "overlay",
              "size": 10,
              "solidity": 0.2
             }
            },
            "type": "barpolar"
           }
          ],
          "carpet": [
           {
            "aaxis": {
             "endlinecolor": "#2a3f5f",
             "gridcolor": "white",
             "linecolor": "white",
             "minorgridcolor": "white",
             "startlinecolor": "#2a3f5f"
            },
            "baxis": {
             "endlinecolor": "#2a3f5f",
             "gridcolor": "white",
             "linecolor": "white",
             "minorgridcolor": "white",
             "startlinecolor": "#2a3f5f"
            },
            "type": "carpet"
           }
          ],
          "choropleth": [
           {
            "colorbar": {
             "outlinewidth": 0,
             "ticks": ""
            },
            "type": "choropleth"
           }
          ],
          "contour": [
           {
            "colorbar": {
             "outlinewidth": 0,
             "ticks": ""
            },
            "colorscale": [
             [
              0,
              "#0d0887"
             ],
             [
              0.1111111111111111,
              "#46039f"
             ],
             [
              0.2222222222222222,
              "#7201a8"
             ],
             [
              0.3333333333333333,
              "#9c179e"
             ],
             [
              0.4444444444444444,
              "#bd3786"
             ],
             [
              0.5555555555555556,
              "#d8576b"
             ],
             [
              0.6666666666666666,
              "#ed7953"
             ],
             [
              0.7777777777777778,
              "#fb9f3a"
             ],
             [
              0.8888888888888888,
              "#fdca26"
             ],
             [
              1,
              "#f0f921"
             ]
            ],
            "type": "contour"
           }
          ],
          "contourcarpet": [
           {
            "colorbar": {
             "outlinewidth": 0,
             "ticks": ""
            },
            "type": "contourcarpet"
           }
          ],
          "heatmap": [
           {
            "colorbar": {
             "outlinewidth": 0,
             "ticks": ""
            },
            "colorscale": [
             [
              0,
              "#0d0887"
             ],
             [
              0.1111111111111111,
              "#46039f"
             ],
             [
              0.2222222222222222,
              "#7201a8"
             ],
             [
              0.3333333333333333,
              "#9c179e"
             ],
             [
              0.4444444444444444,
              "#bd3786"
             ],
             [
              0.5555555555555556,
              "#d8576b"
             ],
             [
              0.6666666666666666,
              "#ed7953"
             ],
             [
              0.7777777777777778,
              "#fb9f3a"
             ],
             [
              0.8888888888888888,
              "#fdca26"
             ],
             [
              1,
              "#f0f921"
             ]
            ],
            "type": "heatmap"
           }
          ],
          "heatmapgl": [
           {
            "colorbar": {
             "outlinewidth": 0,
             "ticks": ""
            },
            "colorscale": [
             [
              0,
              "#0d0887"
             ],
             [
              0.1111111111111111,
              "#46039f"
             ],
             [
              0.2222222222222222,
              "#7201a8"
             ],
             [
              0.3333333333333333,
              "#9c179e"
             ],
             [
              0.4444444444444444,
              "#bd3786"
             ],
             [
              0.5555555555555556,
              "#d8576b"
             ],
             [
              0.6666666666666666,
              "#ed7953"
             ],
             [
              0.7777777777777778,
              "#fb9f3a"
             ],
             [
              0.8888888888888888,
              "#fdca26"
             ],
             [
              1,
              "#f0f921"
             ]
            ],
            "type": "heatmapgl"
           }
          ],
          "histogram": [
           {
            "marker": {
             "pattern": {
              "fillmode": "overlay",
              "size": 10,
              "solidity": 0.2
             }
            },
            "type": "histogram"
           }
          ],
          "histogram2d": [
           {
            "colorbar": {
             "outlinewidth": 0,
             "ticks": ""
            },
            "colorscale": [
             [
              0,
              "#0d0887"
             ],
             [
              0.1111111111111111,
              "#46039f"
             ],
             [
              0.2222222222222222,
              "#7201a8"
             ],
             [
              0.3333333333333333,
              "#9c179e"
             ],
             [
              0.4444444444444444,
              "#bd3786"
             ],
             [
              0.5555555555555556,
              "#d8576b"
             ],
             [
              0.6666666666666666,
              "#ed7953"
             ],
             [
              0.7777777777777778,
              "#fb9f3a"
             ],
             [
              0.8888888888888888,
              "#fdca26"
             ],
             [
              1,
              "#f0f921"
             ]
            ],
            "type": "histogram2d"
           }
          ],
          "histogram2dcontour": [
           {
            "colorbar": {
             "outlinewidth": 0,
             "ticks": ""
            },
            "colorscale": [
             [
              0,
              "#0d0887"
             ],
             [
              0.1111111111111111,
              "#46039f"
             ],
             [
              0.2222222222222222,
              "#7201a8"
             ],
             [
              0.3333333333333333,
              "#9c179e"
             ],
             [
              0.4444444444444444,
              "#bd3786"
             ],
             [
              0.5555555555555556,
              "#d8576b"
             ],
             [
              0.6666666666666666,
              "#ed7953"
             ],
             [
              0.7777777777777778,
              "#fb9f3a"
             ],
             [
              0.8888888888888888,
              "#fdca26"
             ],
             [
              1,
              "#f0f921"
             ]
            ],
            "type": "histogram2dcontour"
           }
          ],
          "mesh3d": [
           {
            "colorbar": {
             "outlinewidth": 0,
             "ticks": ""
            },
            "type": "mesh3d"
           }
          ],
          "parcoords": [
           {
            "line": {
             "colorbar": {
              "outlinewidth": 0,
              "ticks": ""
             }
            },
            "type": "parcoords"
           }
          ],
          "pie": [
           {
            "automargin": true,
            "type": "pie"
           }
          ],
          "scatter": [
           {
            "fillpattern": {
             "fillmode": "overlay",
             "size": 10,
             "solidity": 0.2
            },
            "type": "scatter"
           }
          ],
          "scatter3d": [
           {
            "line": {
             "colorbar": {
              "outlinewidth": 0,
              "ticks": ""
             }
            },
            "marker": {
             "colorbar": {
              "outlinewidth": 0,
              "ticks": ""
             }
            },
            "type": "scatter3d"
           }
          ],
          "scattercarpet": [
           {
            "marker": {
             "colorbar": {
              "outlinewidth": 0,
              "ticks": ""
             }
            },
            "type": "scattercarpet"
           }
          ],
          "scattergeo": [
           {
            "marker": {
             "colorbar": {
              "outlinewidth": 0,
              "ticks": ""
             }
            },
            "type": "scattergeo"
           }
          ],
          "scattergl": [
           {
            "marker": {
             "colorbar": {
              "outlinewidth": 0,
              "ticks": ""
             }
            },
            "type": "scattergl"
           }
          ],
          "scattermapbox": [
           {
            "marker": {
             "colorbar": {
              "outlinewidth": 0,
              "ticks": ""
             }
            },
            "type": "scattermapbox"
           }
          ],
          "scatterpolar": [
           {
            "marker": {
             "colorbar": {
              "outlinewidth": 0,
              "ticks": ""
             }
            },
            "type": "scatterpolar"
           }
          ],
          "scatterpolargl": [
           {
            "marker": {
             "colorbar": {
              "outlinewidth": 0,
              "ticks": ""
             }
            },
            "type": "scatterpolargl"
           }
          ],
          "scatterternary": [
           {
            "marker": {
             "colorbar": {
              "outlinewidth": 0,
              "ticks": ""
             }
            },
            "type": "scatterternary"
           }
          ],
          "surface": [
           {
            "colorbar": {
             "outlinewidth": 0,
             "ticks": ""
            },
            "colorscale": [
             [
              0,
              "#0d0887"
             ],
             [
              0.1111111111111111,
              "#46039f"
             ],
             [
              0.2222222222222222,
              "#7201a8"
             ],
             [
              0.3333333333333333,
              "#9c179e"
             ],
             [
              0.4444444444444444,
              "#bd3786"
             ],
             [
              0.5555555555555556,
              "#d8576b"
             ],
             [
              0.6666666666666666,
              "#ed7953"
             ],
             [
              0.7777777777777778,
              "#fb9f3a"
             ],
             [
              0.8888888888888888,
              "#fdca26"
             ],
             [
              1,
              "#f0f921"
             ]
            ],
            "type": "surface"
           }
          ],
          "table": [
           {
            "cells": {
             "fill": {
              "color": "#EBF0F8"
             },
             "line": {
              "color": "white"
             }
            },
            "header": {
             "fill": {
              "color": "#C8D4E3"
             },
             "line": {
              "color": "white"
             }
            },
            "type": "table"
           }
          ]
         },
         "layout": {
          "annotationdefaults": {
           "arrowcolor": "#2a3f5f",
           "arrowhead": 0,
           "arrowwidth": 1
          },
          "autotypenumbers": "strict",
          "coloraxis": {
           "colorbar": {
            "outlinewidth": 0,
            "ticks": ""
           }
          },
          "colorscale": {
           "diverging": [
            [
             0,
             "#8e0152"
            ],
            [
             0.1,
             "#c51b7d"
            ],
            [
             0.2,
             "#de77ae"
            ],
            [
             0.3,
             "#f1b6da"
            ],
            [
             0.4,
             "#fde0ef"
            ],
            [
             0.5,
             "#f7f7f7"
            ],
            [
             0.6,
             "#e6f5d0"
            ],
            [
             0.7,
             "#b8e186"
            ],
            [
             0.8,
             "#7fbc41"
            ],
            [
             0.9,
             "#4d9221"
            ],
            [
             1,
             "#276419"
            ]
           ],
           "sequential": [
            [
             0,
             "#0d0887"
            ],
            [
             0.1111111111111111,
             "#46039f"
            ],
            [
             0.2222222222222222,
             "#7201a8"
            ],
            [
             0.3333333333333333,
             "#9c179e"
            ],
            [
             0.4444444444444444,
             "#bd3786"
            ],
            [
             0.5555555555555556,
             "#d8576b"
            ],
            [
             0.6666666666666666,
             "#ed7953"
            ],
            [
             0.7777777777777778,
             "#fb9f3a"
            ],
            [
             0.8888888888888888,
             "#fdca26"
            ],
            [
             1,
             "#f0f921"
            ]
           ],
           "sequentialminus": [
            [
             0,
             "#0d0887"
            ],
            [
             0.1111111111111111,
             "#46039f"
            ],
            [
             0.2222222222222222,
             "#7201a8"
            ],
            [
             0.3333333333333333,
             "#9c179e"
            ],
            [
             0.4444444444444444,
             "#bd3786"
            ],
            [
             0.5555555555555556,
             "#d8576b"
            ],
            [
             0.6666666666666666,
             "#ed7953"
            ],
            [
             0.7777777777777778,
             "#fb9f3a"
            ],
            [
             0.8888888888888888,
             "#fdca26"
            ],
            [
             1,
             "#f0f921"
            ]
           ]
          },
          "colorway": [
           "#636efa",
           "#EF553B",
           "#00cc96",
           "#ab63fa",
           "#FFA15A",
           "#19d3f3",
           "#FF6692",
           "#B6E880",
           "#FF97FF",
           "#FECB52"
          ],
          "font": {
           "color": "#2a3f5f"
          },
          "geo": {
           "bgcolor": "white",
           "lakecolor": "white",
           "landcolor": "#E5ECF6",
           "showlakes": true,
           "showland": true,
           "subunitcolor": "white"
          },
          "hoverlabel": {
           "align": "left"
          },
          "hovermode": "closest",
          "mapbox": {
           "style": "light"
          },
          "paper_bgcolor": "white",
          "plot_bgcolor": "#E5ECF6",
          "polar": {
           "angularaxis": {
            "gridcolor": "white",
            "linecolor": "white",
            "ticks": ""
           },
           "bgcolor": "#E5ECF6",
           "radialaxis": {
            "gridcolor": "white",
            "linecolor": "white",
            "ticks": ""
           }
          },
          "scene": {
           "xaxis": {
            "backgroundcolor": "#E5ECF6",
            "gridcolor": "white",
            "gridwidth": 2,
            "linecolor": "white",
            "showbackground": true,
            "ticks": "",
            "zerolinecolor": "white"
           },
           "yaxis": {
            "backgroundcolor": "#E5ECF6",
            "gridcolor": "white",
            "gridwidth": 2,
            "linecolor": "white",
            "showbackground": true,
            "ticks": "",
            "zerolinecolor": "white"
           },
           "zaxis": {
            "backgroundcolor": "#E5ECF6",
            "gridcolor": "white",
            "gridwidth": 2,
            "linecolor": "white",
            "showbackground": true,
            "ticks": "",
            "zerolinecolor": "white"
           }
          },
          "shapedefaults": {
           "line": {
            "color": "#2a3f5f"
           }
          },
          "ternary": {
           "aaxis": {
            "gridcolor": "white",
            "linecolor": "white",
            "ticks": ""
           },
           "baxis": {
            "gridcolor": "white",
            "linecolor": "white",
            "ticks": ""
           },
           "bgcolor": "#E5ECF6",
           "caxis": {
            "gridcolor": "white",
            "linecolor": "white",
            "ticks": ""
           }
          },
          "title": {
           "x": 0.05
          },
          "xaxis": {
           "automargin": true,
           "gridcolor": "white",
           "linecolor": "white",
           "ticks": "",
           "title": {
            "standoff": 15
           },
           "zerolinecolor": "white",
           "zerolinewidth": 2
          },
          "yaxis": {
           "automargin": true,
           "gridcolor": "white",
           "linecolor": "white",
           "ticks": "",
           "title": {
            "standoff": 15
           },
           "zerolinecolor": "white",
           "zerolinewidth": 2
          }
         }
        },
        "width": 900,
        "xaxis": {
         "anchor": "y",
         "domain": [
          0,
          0.94
         ],
         "gridcolor": "#1f292f",
         "nticks": 5,
         "rangeslider": {
          "visible": false
         }
        },
        "yaxis": {
         "anchor": "x",
         "domain": [
          0,
          1
         ],
         "gridcolor": "#1f292f"
        },
        "yaxis2": {
         "anchor": "x",
         "gridcolor": "#1f292f",
         "overlaying": "y",
         "side": "right"
        }
       }
      }
     },
     "metadata": {},
     "output_type": "display_data"
    }
   ],
   "source": [
    "dfp = df_an.iloc[-10:]\n",
    "cp = CandlePlot(dfp)\n",
    "cp.show_plot(line_traces=[], height=300)"
   ]
  },
  {
   "cell_type": "code",
   "execution_count": 10,
   "metadata": {},
   "outputs": [
    {
     "data": {
      "text/plain": [
       "time                2021-12-30 18:00:00+00:00\n",
       "mid_o                                 155.333\n",
       "mid_h                                 155.406\n",
       "mid_l                                 155.252\n",
       "mid_c                                 155.314\n",
       "body_lower                            155.314\n",
       "body_upper                            155.333\n",
       "body_bottom_perc                     40.25974\n",
       "body_top_perc                       52.597403\n",
       "body_perc                           12.337662\n",
       "Name: 37218, dtype: object"
      ]
     },
     "execution_count": 10,
     "metadata": {},
     "output_type": "execute_result"
    }
   ],
   "source": [
    "df_an.iloc[-6]"
   ]
  },
  {
   "cell_type": "code",
   "execution_count": 11,
   "metadata": {},
   "outputs": [],
   "source": [
    "HANGING_MAN_BODY = 15.0\n",
    "HANGING_MAN_HEIGHT = 75.0\n",
    "\n",
    "def apply_hanging_man(row):\n",
    "    if row.body_bottom_perc > HANGING_MAN_HEIGHT:\n",
    "        if row.body_perc < HANGING_MAN_BODY:\n",
    "            return True\n",
    "    return False"
   ]
  },
  {
   "cell_type": "code",
   "execution_count": 12,
   "metadata": {},
   "outputs": [],
   "source": [
    "df_an['HANGING_MAN'] = df_an.apply(apply_hanging_man, axis=1)"
   ]
  },
  {
   "cell_type": "code",
   "execution_count": 14,
   "metadata": {},
   "outputs": [],
   "source": [
    "import plotly.graph_objects as go"
   ]
  },
  {
   "cell_type": "code",
   "execution_count": 16,
   "metadata": {},
   "outputs": [
    {
     "data": {
      "application/vnd.plotly.v1+json": {
       "config": {
        "plotlyServerURL": "https://plot.ly"
       },
       "data": [
        {
         "close": [
          151.509,
          151.638,
          151.454,
          151.352,
          151.305,
          151.2,
          151.428,
          151.488,
          151.525,
          151.434,
          151.67,
          151.483,
          151.416,
          151.228,
          151.385,
          151.471,
          151.318,
          151.278,
          151.302,
          151.276,
          150.851,
          150.789,
          150.566,
          150.628,
          150.575,
          150.714,
          150.686,
          150.704,
          150.704,
          150.658,
          150.542,
          150.522,
          150.488,
          150.17,
          150.334,
          150.167,
          150.296,
          150.134,
          150.142,
          150.014,
          149.966,
          149.916,
          149.765,
          149.647,
          149.952,
          150.101,
          150.022,
          150.306,
          150.135,
          149.938,
          150.006,
          149.969,
          150.13,
          150.12,
          150.137,
          150.102,
          150.08,
          150.147,
          150.016,
          150.177,
          150.158,
          150.176,
          150.174,
          150.324,
          150.35,
          150.274,
          150.422,
          150.544,
          150.628,
          150.584,
          150.716,
          150.786,
          150.812,
          150.966,
          151.2,
          151.315,
          151.342,
          151.36,
          151.385,
          151.402,
          151.365,
          151.252,
          151.353,
          151.445,
          151.28,
          151.272,
          151.274,
          151.206,
          151.284,
          151.52,
          151.669,
          151.847,
          152.166,
          152.074,
          151.988,
          152.194,
          152.228,
          152.543,
          152.426,
          152.55,
          152.486,
          152.524,
          152.448,
          152.424,
          152.35,
          152.37,
          152.51,
          152.362,
          152.387,
          152.346,
          152.375,
          152.444,
          152.508,
          152.755,
          152.974,
          153.216,
          153.364,
          153.533,
          153.573,
          153.335,
          153.351,
          153.404,
          153.416,
          153.526,
          153.474,
          153.578,
          153.514,
          153.49,
          153.47,
          153.454,
          153.296,
          153.334,
          153.376,
          153.278,
          153.244,
          153.206,
          153.331,
          153.344,
          153.294,
          153.413,
          153.409,
          153.421,
          153.499,
          153.291,
          153.316,
          153.23,
          153.222,
          153.195,
          153.167,
          153.219,
          153.364,
          153.225,
          153.23,
          153.252,
          153.262,
          153.323,
          153.438,
          153.492,
          153.47,
          153.368,
          153.386,
          153.508,
          153.599,
          153.69,
          153.745,
          153.688,
          153.887,
          154.065,
          154.02,
          154.133,
          154.324,
          154.418,
          154.35,
          154.454,
          154.432,
          154.46,
          154.416,
          154.297,
          154.404,
          154.292,
          154.292,
          154.32,
          154.303,
          154.364,
          154.407,
          154.272,
          154.284,
          154.35,
          154.44,
          154.536,
          154.46,
          154.386,
          154.39,
          154.07,
          154.13,
          154.185,
          154.142,
          154.149,
          154.252,
          154.22,
          154.277,
          154.198,
          154.324,
          154.13,
          154.282,
          154.27,
          154.284,
          154.286,
          154.259,
          154.263,
          154.389,
          154.266,
          154.406,
          154.406,
          154.363,
          154.68,
          154.729,
          155.012,
          154.93,
          155.01,
          155.09,
          155.082,
          155.049,
          155.095,
          155.088,
          155.148,
          155.218,
          155.348,
          155.273,
          155.17,
          155.144,
          155.192,
          155.18,
          155.097,
          154.966,
          155.012,
          155.226,
          155.246,
          155.484,
          155.324,
          155.491,
          155.438,
          155.484,
          155.335,
          155.314,
          155.444,
          155.312,
          155.382,
          155.329,
          155.31
         ],
         "decreasing": {
          "fillcolor": "#CC2E3C",
          "line": {
           "color": "#FF3A4C"
          }
         },
         "high": [
          152.444,
          151.664,
          151.662,
          151.49,
          151.405,
          151.328,
          151.454,
          151.538,
          151.548,
          151.526,
          151.72,
          151.716,
          151.58,
          151.462,
          151.385,
          151.483,
          151.518,
          151.339,
          151.421,
          151.452,
          151.282,
          150.914,
          150.801,
          150.826,
          150.745,
          150.861,
          150.793,
          150.761,
          150.79,
          150.771,
          150.694,
          150.608,
          150.578,
          150.528,
          150.379,
          150.378,
          150.296,
          150.308,
          150.19,
          150.139,
          150.067,
          149.969,
          149.982,
          149.788,
          149.994,
          150.118,
          150.178,
          150.406,
          150.408,
          150.164,
          150.027,
          150.152,
          150.172,
          150.235,
          150.191,
          150.18,
          150.188,
          150.164,
          150.164,
          150.216,
          150.216,
          150.226,
          150.185,
          150.341,
          150.389,
          150.447,
          150.525,
          150.582,
          150.784,
          150.768,
          150.743,
          150.824,
          151.012,
          151,
          151.279,
          151.346,
          151.362,
          151.418,
          151.407,
          151.418,
          151.41,
          151.358,
          151.434,
          151.462,
          151.463,
          151.316,
          151.274,
          151.305,
          151.326,
          151.546,
          151.74,
          151.923,
          152.21,
          152.189,
          152.142,
          152.256,
          152.325,
          152.585,
          152.576,
          152.565,
          152.577,
          152.534,
          152.534,
          152.499,
          152.417,
          152.424,
          152.574,
          152.508,
          152.389,
          152.392,
          152.375,
          152.452,
          152.59,
          152.784,
          153.026,
          153.247,
          153.467,
          153.533,
          153.651,
          153.655,
          153.412,
          153.712,
          153.43,
          153.534,
          153.565,
          153.596,
          153.584,
          153.519,
          153.49,
          153.583,
          153.572,
          153.45,
          153.406,
          153.392,
          153.28,
          153.38,
          153.392,
          153.416,
          153.445,
          153.43,
          153.43,
          153.44,
          153.534,
          153.506,
          153.437,
          153.388,
          153.325,
          153.279,
          153.292,
          153.342,
          153.4,
          153.528,
          153.273,
          153.374,
          153.344,
          153.339,
          153.464,
          153.502,
          153.506,
          153.468,
          153.41,
          153.528,
          153.771,
          153.706,
          153.747,
          153.754,
          153.891,
          154.075,
          154.252,
          154.194,
          154.37,
          154.449,
          154.425,
          154.46,
          154.456,
          154.467,
          154.454,
          154.44,
          154.469,
          154.406,
          154.336,
          154.338,
          154.328,
          154.394,
          154.409,
          154.409,
          154.362,
          154.36,
          154.449,
          154.56,
          154.55,
          154.586,
          154.468,
          154.456,
          154.14,
          154.236,
          154.21,
          154.173,
          154.268,
          154.278,
          154.348,
          154.282,
          154.333,
          154.326,
          154.29,
          154.332,
          154.308,
          154.326,
          154.332,
          154.307,
          154.391,
          154.401,
          154.434,
          154.452,
          154.438,
          154.809,
          154.76,
          155.026,
          155.06,
          155.05,
          155.09,
          155.112,
          155.082,
          155.14,
          155.114,
          155.152,
          155.224,
          155.358,
          155.36,
          155.27,
          155.206,
          155.219,
          155.239,
          155.218,
          155.156,
          155.054,
          155.25,
          155.324,
          155.492,
          155.556,
          155.55,
          155.672,
          155.527,
          155.481,
          155.406,
          155.444,
          155.47,
          155.382,
          155.381,
          155.36
         ],
         "increasing": {
          "fillcolor": "#24A06B",
          "line": {
           "color": "#2EC886"
          }
         },
         "line": {
          "width": 1
         },
         "low": [
          151.488,
          151.376,
          151.262,
          151.231,
          151.26,
          151.138,
          151.1,
          151.394,
          151.431,
          151.402,
          151.434,
          151.361,
          151.392,
          151.154,
          151.118,
          151.26,
          151.258,
          151.198,
          151.226,
          151.26,
          150.802,
          150.718,
          150.432,
          150.447,
          150.438,
          150.432,
          150.585,
          150.587,
          150.618,
          150.646,
          150.541,
          150.456,
          150.437,
          150.17,
          150.157,
          150.154,
          150.068,
          150.101,
          150.093,
          149.928,
          149.936,
          149.66,
          149.741,
          149.532,
          149.644,
          149.796,
          149.996,
          150.024,
          150.036,
          149.789,
          149.77,
          149.946,
          149.964,
          150.12,
          150.106,
          150.07,
          150.025,
          150.075,
          149.984,
          149.894,
          150.122,
          150.123,
          150.11,
          150.164,
          150.268,
          150.116,
          150.222,
          150.34,
          150.536,
          150.536,
          150.571,
          150.584,
          150.784,
          150.706,
          150.947,
          151.174,
          151.238,
          151.322,
          151.246,
          151.303,
          151.261,
          151.212,
          151.254,
          151.348,
          151.21,
          151.247,
          151.205,
          151.176,
          151.104,
          151.238,
          151.48,
          151.552,
          151.84,
          152.053,
          151.944,
          151.985,
          152.06,
          152.214,
          152.402,
          152.378,
          152.45,
          152.43,
          152.4,
          152.358,
          152.29,
          152.327,
          152.34,
          152.351,
          152.31,
          152.306,
          152.33,
          152.356,
          152.42,
          152.446,
          152.75,
          152.912,
          153.166,
          153.3,
          153.488,
          153.3,
          153.106,
          153.298,
          153.254,
          153.37,
          153.469,
          153.468,
          153.464,
          153.424,
          153.349,
          153.428,
          153.281,
          153.292,
          153.278,
          153.274,
          153.213,
          153.187,
          153.173,
          153.237,
          153.208,
          153.234,
          153.276,
          153.286,
          153.373,
          153.286,
          153.248,
          153.23,
          153.128,
          153.121,
          153.117,
          153.056,
          153.141,
          153.212,
          153.105,
          153.174,
          153.166,
          153.216,
          153.302,
          153.389,
          153.425,
          153.356,
          153.337,
          153.308,
          153.433,
          153.519,
          153.62,
          153.587,
          153.65,
          153.873,
          153.975,
          154.015,
          154.115,
          154.32,
          154.33,
          154.316,
          154.368,
          154.414,
          154.389,
          154.293,
          154.18,
          154.231,
          154.26,
          154.282,
          154.246,
          154.248,
          154.286,
          154.238,
          154.224,
          154.214,
          154.309,
          154.431,
          154.434,
          154.38,
          154.296,
          154.009,
          154.034,
          154.112,
          154.113,
          154.06,
          154.126,
          154.195,
          154.239,
          154.135,
          154.155,
          154.06,
          154.074,
          154.226,
          154.224,
          154.244,
          154.248,
          154.148,
          154.218,
          154.23,
          154.216,
          154.282,
          154.31,
          154.337,
          154.416,
          154.676,
          154.876,
          154.848,
          155.003,
          155.041,
          154.986,
          155.036,
          155.041,
          155.046,
          155.101,
          155.188,
          155.248,
          155.161,
          155.13,
          155.108,
          155.132,
          155.03,
          154.96,
          154.924,
          154.991,
          155.19,
          155.248,
          155.32,
          155.222,
          155.362,
          155.349,
          155.312,
          155.252,
          155.274,
          155.289,
          155.286,
          155.282,
          155.284
         ],
         "opacity": 1,
         "open": [
          152.435,
          151.505,
          151.641,
          151.452,
          151.354,
          151.307,
          151.198,
          151.43,
          151.485,
          151.516,
          151.437,
          151.668,
          151.485,
          151.418,
          151.226,
          151.387,
          151.469,
          151.32,
          151.276,
          151.299,
          151.274,
          150.849,
          150.787,
          150.564,
          150.626,
          150.572,
          150.716,
          150.684,
          150.702,
          150.706,
          150.66,
          150.545,
          150.458,
          150.497,
          150.173,
          150.332,
          150.17,
          150.298,
          150.136,
          150.139,
          150.016,
          149.964,
          149.914,
          149.762,
          149.644,
          149.954,
          150.103,
          150.024,
          150.302,
          150.132,
          149.936,
          150.009,
          149.966,
          150.132,
          150.122,
          150.139,
          150.025,
          150.085,
          150.15,
          150.014,
          150.174,
          150.154,
          150.174,
          150.177,
          150.328,
          150.352,
          150.276,
          150.419,
          150.546,
          150.63,
          150.586,
          150.714,
          150.788,
          150.814,
          150.964,
          151.202,
          151.311,
          151.339,
          151.358,
          151.387,
          151.367,
          151.354,
          151.254,
          151.351,
          151.448,
          151.276,
          151.274,
          151.272,
          151.21,
          151.282,
          151.524,
          151.666,
          151.852,
          152.168,
          152.076,
          151.985,
          152.196,
          152.232,
          152.546,
          152.428,
          152.553,
          152.488,
          152.526,
          152.45,
          152.373,
          152.342,
          152.368,
          152.508,
          152.358,
          152.384,
          152.344,
          152.372,
          152.446,
          152.506,
          152.753,
          152.972,
          153.213,
          153.366,
          153.536,
          153.576,
          153.333,
          153.354,
          153.406,
          153.418,
          153.524,
          153.476,
          153.576,
          153.516,
          153.349,
          153.462,
          153.45,
          153.3,
          153.332,
          153.368,
          153.272,
          153.248,
          153.19,
          153.327,
          153.348,
          153.306,
          153.416,
          153.416,
          153.424,
          153.502,
          153.296,
          153.32,
          153.248,
          153.237,
          153.189,
          153.201,
          153.206,
          153.416,
          153.163,
          153.185,
          153.254,
          153.26,
          153.328,
          153.44,
          153.49,
          153.468,
          153.366,
          153.382,
          153.506,
          153.602,
          153.692,
          153.747,
          153.69,
          153.885,
          154.062,
          154.022,
          154.13,
          154.322,
          154.416,
          154.348,
          154.456,
          154.43,
          154.411,
          154.41,
          154.3,
          154.406,
          154.29,
          154.295,
          154.322,
          154.301,
          154.366,
          154.409,
          154.274,
          154.286,
          154.348,
          154.438,
          154.538,
          154.462,
          154.384,
          154.392,
          154.072,
          154.134,
          154.187,
          154.146,
          154.147,
          154.254,
          154.284,
          154.272,
          154.193,
          154.326,
          154.132,
          154.28,
          154.268,
          154.286,
          154.288,
          154.262,
          154.265,
          154.387,
          154.264,
          154.408,
          154.409,
          154.361,
          154.678,
          154.727,
          155.014,
          154.932,
          155.006,
          155.092,
          155.08,
          155.046,
          155.054,
          155.092,
          155.152,
          155.216,
          155.345,
          155.27,
          155.168,
          155.148,
          155.196,
          155.184,
          155.1,
          154.969,
          155.01,
          155.224,
          155.25,
          155.482,
          155.328,
          155.488,
          155.436,
          155.481,
          155.333,
          155.312,
          155.442,
          155.317,
          155.353,
          155.336
         ],
         "type": "candlestick",
         "x": [
          "s21-12-16 14:00",
          "s21-12-16 15:00",
          "s21-12-16 16:00",
          "s21-12-16 17:00",
          "s21-12-16 18:00",
          "s21-12-16 19:00",
          "s21-12-16 20:00",
          "s21-12-16 21:00",
          "s21-12-16 22:00",
          "s21-12-16 23:00",
          "s21-12-17 00:00",
          "s21-12-17 01:00",
          "s21-12-17 02:00",
          "s21-12-17 03:00",
          "s21-12-17 04:00",
          "s21-12-17 05:00",
          "s21-12-17 06:00",
          "s21-12-17 07:00",
          "s21-12-17 08:00",
          "s21-12-17 09:00",
          "s21-12-17 10:00",
          "s21-12-17 11:00",
          "s21-12-17 12:00",
          "s21-12-17 13:00",
          "s21-12-17 14:00",
          "s21-12-17 15:00",
          "s21-12-17 16:00",
          "s21-12-17 17:00",
          "s21-12-17 18:00",
          "s21-12-17 19:00",
          "s21-12-17 20:00",
          "s21-12-17 21:00",
          "s21-12-19 22:00",
          "s21-12-19 23:00",
          "s21-12-20 00:00",
          "s21-12-20 01:00",
          "s21-12-20 02:00",
          "s21-12-20 03:00",
          "s21-12-20 04:00",
          "s21-12-20 05:00",
          "s21-12-20 06:00",
          "s21-12-20 07:00",
          "s21-12-20 08:00",
          "s21-12-20 09:00",
          "s21-12-20 10:00",
          "s21-12-20 11:00",
          "s21-12-20 12:00",
          "s21-12-20 13:00",
          "s21-12-20 14:00",
          "s21-12-20 15:00",
          "s21-12-20 16:00",
          "s21-12-20 17:00",
          "s21-12-20 18:00",
          "s21-12-20 19:00",
          "s21-12-20 20:00",
          "s21-12-20 21:00",
          "s21-12-20 22:00",
          "s21-12-20 23:00",
          "s21-12-21 00:00",
          "s21-12-21 01:00",
          "s21-12-21 02:00",
          "s21-12-21 03:00",
          "s21-12-21 04:00",
          "s21-12-21 05:00",
          "s21-12-21 06:00",
          "s21-12-21 07:00",
          "s21-12-21 08:00",
          "s21-12-21 09:00",
          "s21-12-21 10:00",
          "s21-12-21 11:00",
          "s21-12-21 12:00",
          "s21-12-21 13:00",
          "s21-12-21 14:00",
          "s21-12-21 15:00",
          "s21-12-21 16:00",
          "s21-12-21 17:00",
          "s21-12-21 18:00",
          "s21-12-21 19:00",
          "s21-12-21 20:00",
          "s21-12-21 21:00",
          "s21-12-21 22:00",
          "s21-12-21 23:00",
          "s21-12-22 00:00",
          "s21-12-22 01:00",
          "s21-12-22 02:00",
          "s21-12-22 03:00",
          "s21-12-22 04:00",
          "s21-12-22 05:00",
          "s21-12-22 06:00",
          "s21-12-22 07:00",
          "s21-12-22 08:00",
          "s21-12-22 09:00",
          "s21-12-22 10:00",
          "s21-12-22 11:00",
          "s21-12-22 12:00",
          "s21-12-22 13:00",
          "s21-12-22 14:00",
          "s21-12-22 15:00",
          "s21-12-22 16:00",
          "s21-12-22 17:00",
          "s21-12-22 18:00",
          "s21-12-22 19:00",
          "s21-12-22 20:00",
          "s21-12-22 21:00",
          "s21-12-22 22:00",
          "s21-12-22 23:00",
          "s21-12-23 00:00",
          "s21-12-23 01:00",
          "s21-12-23 02:00",
          "s21-12-23 03:00",
          "s21-12-23 04:00",
          "s21-12-23 05:00",
          "s21-12-23 06:00",
          "s21-12-23 07:00",
          "s21-12-23 08:00",
          "s21-12-23 09:00",
          "s21-12-23 10:00",
          "s21-12-23 11:00",
          "s21-12-23 12:00",
          "s21-12-23 13:00",
          "s21-12-23 14:00",
          "s21-12-23 15:00",
          "s21-12-23 16:00",
          "s21-12-23 17:00",
          "s21-12-23 18:00",
          "s21-12-23 19:00",
          "s21-12-23 20:00",
          "s21-12-23 21:00",
          "s21-12-23 22:00",
          "s21-12-23 23:00",
          "s21-12-24 00:00",
          "s21-12-24 01:00",
          "s21-12-24 02:00",
          "s21-12-24 03:00",
          "s21-12-24 04:00",
          "s21-12-24 05:00",
          "s21-12-24 06:00",
          "s21-12-24 07:00",
          "s21-12-24 08:00",
          "s21-12-24 09:00",
          "s21-12-24 10:00",
          "s21-12-24 11:00",
          "s21-12-24 12:00",
          "s21-12-24 13:00",
          "s21-12-24 14:00",
          "s21-12-24 15:00",
          "s21-12-24 16:00",
          "s21-12-24 17:00",
          "s21-12-24 18:00",
          "s21-12-24 19:00",
          "s21-12-24 20:00",
          "s21-12-24 21:00",
          "s21-12-26 22:00",
          "s21-12-26 23:00",
          "s21-12-27 00:00",
          "s21-12-27 01:00",
          "s21-12-27 02:00",
          "s21-12-27 03:00",
          "s21-12-27 04:00",
          "s21-12-27 05:00",
          "s21-12-27 06:00",
          "s21-12-27 07:00",
          "s21-12-27 08:00",
          "s21-12-27 09:00",
          "s21-12-27 10:00",
          "s21-12-27 11:00",
          "s21-12-27 12:00",
          "s21-12-27 13:00",
          "s21-12-27 14:00",
          "s21-12-27 15:00",
          "s21-12-27 16:00",
          "s21-12-27 17:00",
          "s21-12-27 18:00",
          "s21-12-27 19:00",
          "s21-12-27 20:00",
          "s21-12-27 21:00",
          "s21-12-27 22:00",
          "s21-12-27 23:00",
          "s21-12-28 00:00",
          "s21-12-28 01:00",
          "s21-12-28 02:00",
          "s21-12-28 03:00",
          "s21-12-28 04:00",
          "s21-12-28 05:00",
          "s21-12-28 06:00",
          "s21-12-28 07:00",
          "s21-12-28 08:00",
          "s21-12-28 09:00",
          "s21-12-28 10:00",
          "s21-12-28 11:00",
          "s21-12-28 12:00",
          "s21-12-28 13:00",
          "s21-12-28 14:00",
          "s21-12-28 15:00",
          "s21-12-28 16:00",
          "s21-12-28 17:00",
          "s21-12-28 18:00",
          "s21-12-28 19:00",
          "s21-12-28 20:00",
          "s21-12-28 21:00",
          "s21-12-28 22:00",
          "s21-12-28 23:00",
          "s21-12-29 00:00",
          "s21-12-29 01:00",
          "s21-12-29 02:00",
          "s21-12-29 03:00",
          "s21-12-29 04:00",
          "s21-12-29 05:00",
          "s21-12-29 06:00",
          "s21-12-29 07:00",
          "s21-12-29 08:00",
          "s21-12-29 09:00",
          "s21-12-29 10:00",
          "s21-12-29 11:00",
          "s21-12-29 12:00",
          "s21-12-29 13:00",
          "s21-12-29 14:00",
          "s21-12-29 15:00",
          "s21-12-29 16:00",
          "s21-12-29 17:00",
          "s21-12-29 18:00",
          "s21-12-29 19:00",
          "s21-12-29 20:00",
          "s21-12-29 21:00",
          "s21-12-29 22:00",
          "s21-12-29 23:00",
          "s21-12-30 00:00",
          "s21-12-30 01:00",
          "s21-12-30 02:00",
          "s21-12-30 03:00",
          "s21-12-30 04:00",
          "s21-12-30 05:00",
          "s21-12-30 06:00",
          "s21-12-30 07:00",
          "s21-12-30 08:00",
          "s21-12-30 09:00",
          "s21-12-30 10:00",
          "s21-12-30 11:00",
          "s21-12-30 12:00",
          "s21-12-30 13:00",
          "s21-12-30 14:00",
          "s21-12-30 15:00",
          "s21-12-30 16:00",
          "s21-12-30 17:00",
          "s21-12-30 18:00",
          "s21-12-30 19:00",
          "s21-12-30 20:00",
          "s21-12-30 21:00",
          "s21-12-30 22:00",
          "s21-12-30 23:00"
         ]
        },
        {
         "close": [
          150.174,
          151.274,
          153.416,
          153.409,
          153.421,
          154.149,
          154.729
         ],
         "decreasing": {
          "fillcolor": "#0066FF",
          "line": {
           "color": "#0066FF"
          }
         },
         "high": [
          150.185,
          151.274,
          153.43,
          153.43,
          153.44,
          154.173,
          154.76
         ],
         "increasing": {
          "fillcolor": "#0066FF",
          "line": {
           "color": "#0066FF"
          }
         },
         "line": {
          "width": 1
         },
         "low": [
          150.11,
          151.205,
          153.254,
          153.276,
          153.286,
          154.06,
          154.416
         ],
         "opacity": 1,
         "open": [
          150.174,
          151.274,
          153.406,
          153.416,
          153.416,
          154.146,
          154.678
         ],
         "type": "candlestick",
         "x": [
          "s21-12-21 04:00",
          "s21-12-22 04:00",
          "s21-12-23 16:00",
          "s21-12-24 10:00",
          "s21-12-24 11:00",
          "s21-12-28 19:00",
          "s21-12-29 14:00"
         ]
        }
       ],
       "layout": {
        "font": {
         "color": "#e1e1e1",
         "size": 12
        },
        "height": 400,
        "margin": {
         "b": 10,
         "l": 10,
         "r": 10,
         "t": 10
        },
        "paper_bgcolor": "#2c303c",
        "plot_bgcolor": "#2c303c",
        "template": {
         "data": {
          "bar": [
           {
            "error_x": {
             "color": "#2a3f5f"
            },
            "error_y": {
             "color": "#2a3f5f"
            },
            "marker": {
             "line": {
              "color": "#E5ECF6",
              "width": 0.5
             },
             "pattern": {
              "fillmode": "overlay",
              "size": 10,
              "solidity": 0.2
             }
            },
            "type": "bar"
           }
          ],
          "barpolar": [
           {
            "marker": {
             "line": {
              "color": "#E5ECF6",
              "width": 0.5
             },
             "pattern": {
              "fillmode": "overlay",
              "size": 10,
              "solidity": 0.2
             }
            },
            "type": "barpolar"
           }
          ],
          "carpet": [
           {
            "aaxis": {
             "endlinecolor": "#2a3f5f",
             "gridcolor": "white",
             "linecolor": "white",
             "minorgridcolor": "white",
             "startlinecolor": "#2a3f5f"
            },
            "baxis": {
             "endlinecolor": "#2a3f5f",
             "gridcolor": "white",
             "linecolor": "white",
             "minorgridcolor": "white",
             "startlinecolor": "#2a3f5f"
            },
            "type": "carpet"
           }
          ],
          "choropleth": [
           {
            "colorbar": {
             "outlinewidth": 0,
             "ticks": ""
            },
            "type": "choropleth"
           }
          ],
          "contour": [
           {
            "colorbar": {
             "outlinewidth": 0,
             "ticks": ""
            },
            "colorscale": [
             [
              0,
              "#0d0887"
             ],
             [
              0.1111111111111111,
              "#46039f"
             ],
             [
              0.2222222222222222,
              "#7201a8"
             ],
             [
              0.3333333333333333,
              "#9c179e"
             ],
             [
              0.4444444444444444,
              "#bd3786"
             ],
             [
              0.5555555555555556,
              "#d8576b"
             ],
             [
              0.6666666666666666,
              "#ed7953"
             ],
             [
              0.7777777777777778,
              "#fb9f3a"
             ],
             [
              0.8888888888888888,
              "#fdca26"
             ],
             [
              1,
              "#f0f921"
             ]
            ],
            "type": "contour"
           }
          ],
          "contourcarpet": [
           {
            "colorbar": {
             "outlinewidth": 0,
             "ticks": ""
            },
            "type": "contourcarpet"
           }
          ],
          "heatmap": [
           {
            "colorbar": {
             "outlinewidth": 0,
             "ticks": ""
            },
            "colorscale": [
             [
              0,
              "#0d0887"
             ],
             [
              0.1111111111111111,
              "#46039f"
             ],
             [
              0.2222222222222222,
              "#7201a8"
             ],
             [
              0.3333333333333333,
              "#9c179e"
             ],
             [
              0.4444444444444444,
              "#bd3786"
             ],
             [
              0.5555555555555556,
              "#d8576b"
             ],
             [
              0.6666666666666666,
              "#ed7953"
             ],
             [
              0.7777777777777778,
              "#fb9f3a"
             ],
             [
              0.8888888888888888,
              "#fdca26"
             ],
             [
              1,
              "#f0f921"
             ]
            ],
            "type": "heatmap"
           }
          ],
          "heatmapgl": [
           {
            "colorbar": {
             "outlinewidth": 0,
             "ticks": ""
            },
            "colorscale": [
             [
              0,
              "#0d0887"
             ],
             [
              0.1111111111111111,
              "#46039f"
             ],
             [
              0.2222222222222222,
              "#7201a8"
             ],
             [
              0.3333333333333333,
              "#9c179e"
             ],
             [
              0.4444444444444444,
              "#bd3786"
             ],
             [
              0.5555555555555556,
              "#d8576b"
             ],
             [
              0.6666666666666666,
              "#ed7953"
             ],
             [
              0.7777777777777778,
              "#fb9f3a"
             ],
             [
              0.8888888888888888,
              "#fdca26"
             ],
             [
              1,
              "#f0f921"
             ]
            ],
            "type": "heatmapgl"
           }
          ],
          "histogram": [
           {
            "marker": {
             "pattern": {
              "fillmode": "overlay",
              "size": 10,
              "solidity": 0.2
             }
            },
            "type": "histogram"
           }
          ],
          "histogram2d": [
           {
            "colorbar": {
             "outlinewidth": 0,
             "ticks": ""
            },
            "colorscale": [
             [
              0,
              "#0d0887"
             ],
             [
              0.1111111111111111,
              "#46039f"
             ],
             [
              0.2222222222222222,
              "#7201a8"
             ],
             [
              0.3333333333333333,
              "#9c179e"
             ],
             [
              0.4444444444444444,
              "#bd3786"
             ],
             [
              0.5555555555555556,
              "#d8576b"
             ],
             [
              0.6666666666666666,
              "#ed7953"
             ],
             [
              0.7777777777777778,
              "#fb9f3a"
             ],
             [
              0.8888888888888888,
              "#fdca26"
             ],
             [
              1,
              "#f0f921"
             ]
            ],
            "type": "histogram2d"
           }
          ],
          "histogram2dcontour": [
           {
            "colorbar": {
             "outlinewidth": 0,
             "ticks": ""
            },
            "colorscale": [
             [
              0,
              "#0d0887"
             ],
             [
              0.1111111111111111,
              "#46039f"
             ],
             [
              0.2222222222222222,
              "#7201a8"
             ],
             [
              0.3333333333333333,
              "#9c179e"
             ],
             [
              0.4444444444444444,
              "#bd3786"
             ],
             [
              0.5555555555555556,
              "#d8576b"
             ],
             [
              0.6666666666666666,
              "#ed7953"
             ],
             [
              0.7777777777777778,
              "#fb9f3a"
             ],
             [
              0.8888888888888888,
              "#fdca26"
             ],
             [
              1,
              "#f0f921"
             ]
            ],
            "type": "histogram2dcontour"
           }
          ],
          "mesh3d": [
           {
            "colorbar": {
             "outlinewidth": 0,
             "ticks": ""
            },
            "type": "mesh3d"
           }
          ],
          "parcoords": [
           {
            "line": {
             "colorbar": {
              "outlinewidth": 0,
              "ticks": ""
             }
            },
            "type": "parcoords"
           }
          ],
          "pie": [
           {
            "automargin": true,
            "type": "pie"
           }
          ],
          "scatter": [
           {
            "fillpattern": {
             "fillmode": "overlay",
             "size": 10,
             "solidity": 0.2
            },
            "type": "scatter"
           }
          ],
          "scatter3d": [
           {
            "line": {
             "colorbar": {
              "outlinewidth": 0,
              "ticks": ""
             }
            },
            "marker": {
             "colorbar": {
              "outlinewidth": 0,
              "ticks": ""
             }
            },
            "type": "scatter3d"
           }
          ],
          "scattercarpet": [
           {
            "marker": {
             "colorbar": {
              "outlinewidth": 0,
              "ticks": ""
             }
            },
            "type": "scattercarpet"
           }
          ],
          "scattergeo": [
           {
            "marker": {
             "colorbar": {
              "outlinewidth": 0,
              "ticks": ""
             }
            },
            "type": "scattergeo"
           }
          ],
          "scattergl": [
           {
            "marker": {
             "colorbar": {
              "outlinewidth": 0,
              "ticks": ""
             }
            },
            "type": "scattergl"
           }
          ],
          "scattermapbox": [
           {
            "marker": {
             "colorbar": {
              "outlinewidth": 0,
              "ticks": ""
             }
            },
            "type": "scattermapbox"
           }
          ],
          "scatterpolar": [
           {
            "marker": {
             "colorbar": {
              "outlinewidth": 0,
              "ticks": ""
             }
            },
            "type": "scatterpolar"
           }
          ],
          "scatterpolargl": [
           {
            "marker": {
             "colorbar": {
              "outlinewidth": 0,
              "ticks": ""
             }
            },
            "type": "scatterpolargl"
           }
          ],
          "scatterternary": [
           {
            "marker": {
             "colorbar": {
              "outlinewidth": 0,
              "ticks": ""
             }
            },
            "type": "scatterternary"
           }
          ],
          "surface": [
           {
            "colorbar": {
             "outlinewidth": 0,
             "ticks": ""
            },
            "colorscale": [
             [
              0,
              "#0d0887"
             ],
             [
              0.1111111111111111,
              "#46039f"
             ],
             [
              0.2222222222222222,
              "#7201a8"
             ],
             [
              0.3333333333333333,
              "#9c179e"
             ],
             [
              0.4444444444444444,
              "#bd3786"
             ],
             [
              0.5555555555555556,
              "#d8576b"
             ],
             [
              0.6666666666666666,
              "#ed7953"
             ],
             [
              0.7777777777777778,
              "#fb9f3a"
             ],
             [
              0.8888888888888888,
              "#fdca26"
             ],
             [
              1,
              "#f0f921"
             ]
            ],
            "type": "surface"
           }
          ],
          "table": [
           {
            "cells": {
             "fill": {
              "color": "#EBF0F8"
             },
             "line": {
              "color": "white"
             }
            },
            "header": {
             "fill": {
              "color": "#C8D4E3"
             },
             "line": {
              "color": "white"
             }
            },
            "type": "table"
           }
          ]
         },
         "layout": {
          "annotationdefaults": {
           "arrowcolor": "#2a3f5f",
           "arrowhead": 0,
           "arrowwidth": 1
          },
          "autotypenumbers": "strict",
          "coloraxis": {
           "colorbar": {
            "outlinewidth": 0,
            "ticks": ""
           }
          },
          "colorscale": {
           "diverging": [
            [
             0,
             "#8e0152"
            ],
            [
             0.1,
             "#c51b7d"
            ],
            [
             0.2,
             "#de77ae"
            ],
            [
             0.3,
             "#f1b6da"
            ],
            [
             0.4,
             "#fde0ef"
            ],
            [
             0.5,
             "#f7f7f7"
            ],
            [
             0.6,
             "#e6f5d0"
            ],
            [
             0.7,
             "#b8e186"
            ],
            [
             0.8,
             "#7fbc41"
            ],
            [
             0.9,
             "#4d9221"
            ],
            [
             1,
             "#276419"
            ]
           ],
           "sequential": [
            [
             0,
             "#0d0887"
            ],
            [
             0.1111111111111111,
             "#46039f"
            ],
            [
             0.2222222222222222,
             "#7201a8"
            ],
            [
             0.3333333333333333,
             "#9c179e"
            ],
            [
             0.4444444444444444,
             "#bd3786"
            ],
            [
             0.5555555555555556,
             "#d8576b"
            ],
            [
             0.6666666666666666,
             "#ed7953"
            ],
            [
             0.7777777777777778,
             "#fb9f3a"
            ],
            [
             0.8888888888888888,
             "#fdca26"
            ],
            [
             1,
             "#f0f921"
            ]
           ],
           "sequentialminus": [
            [
             0,
             "#0d0887"
            ],
            [
             0.1111111111111111,
             "#46039f"
            ],
            [
             0.2222222222222222,
             "#7201a8"
            ],
            [
             0.3333333333333333,
             "#9c179e"
            ],
            [
             0.4444444444444444,
             "#bd3786"
            ],
            [
             0.5555555555555556,
             "#d8576b"
            ],
            [
             0.6666666666666666,
             "#ed7953"
            ],
            [
             0.7777777777777778,
             "#fb9f3a"
            ],
            [
             0.8888888888888888,
             "#fdca26"
            ],
            [
             1,
             "#f0f921"
            ]
           ]
          },
          "colorway": [
           "#636efa",
           "#EF553B",
           "#00cc96",
           "#ab63fa",
           "#FFA15A",
           "#19d3f3",
           "#FF6692",
           "#B6E880",
           "#FF97FF",
           "#FECB52"
          ],
          "font": {
           "color": "#2a3f5f"
          },
          "geo": {
           "bgcolor": "white",
           "lakecolor": "white",
           "landcolor": "#E5ECF6",
           "showlakes": true,
           "showland": true,
           "subunitcolor": "white"
          },
          "hoverlabel": {
           "align": "left"
          },
          "hovermode": "closest",
          "mapbox": {
           "style": "light"
          },
          "paper_bgcolor": "white",
          "plot_bgcolor": "#E5ECF6",
          "polar": {
           "angularaxis": {
            "gridcolor": "white",
            "linecolor": "white",
            "ticks": ""
           },
           "bgcolor": "#E5ECF6",
           "radialaxis": {
            "gridcolor": "white",
            "linecolor": "white",
            "ticks": ""
           }
          },
          "scene": {
           "xaxis": {
            "backgroundcolor": "#E5ECF6",
            "gridcolor": "white",
            "gridwidth": 2,
            "linecolor": "white",
            "showbackground": true,
            "ticks": "",
            "zerolinecolor": "white"
           },
           "yaxis": {
            "backgroundcolor": "#E5ECF6",
            "gridcolor": "white",
            "gridwidth": 2,
            "linecolor": "white",
            "showbackground": true,
            "ticks": "",
            "zerolinecolor": "white"
           },
           "zaxis": {
            "backgroundcolor": "#E5ECF6",
            "gridcolor": "white",
            "gridwidth": 2,
            "linecolor": "white",
            "showbackground": true,
            "ticks": "",
            "zerolinecolor": "white"
           }
          },
          "shapedefaults": {
           "line": {
            "color": "#2a3f5f"
           }
          },
          "ternary": {
           "aaxis": {
            "gridcolor": "white",
            "linecolor": "white",
            "ticks": ""
           },
           "baxis": {
            "gridcolor": "white",
            "linecolor": "white",
            "ticks": ""
           },
           "bgcolor": "#E5ECF6",
           "caxis": {
            "gridcolor": "white",
            "linecolor": "white",
            "ticks": ""
           }
          },
          "title": {
           "x": 0.05
          },
          "xaxis": {
           "automargin": true,
           "gridcolor": "white",
           "linecolor": "white",
           "ticks": "",
           "title": {
            "standoff": 15
           },
           "zerolinecolor": "white",
           "zerolinewidth": 2
          },
          "yaxis": {
           "automargin": true,
           "gridcolor": "white",
           "linecolor": "white",
           "ticks": "",
           "title": {
            "standoff": 15
           },
           "zerolinecolor": "white",
           "zerolinewidth": 2
          }
         }
        },
        "width": 900,
        "xaxis": {
         "anchor": "y",
         "domain": [
          0,
          0.94
         ],
         "gridcolor": "#1f292f",
         "nticks": 5,
         "rangeslider": {
          "visible": false
         }
        },
        "yaxis": {
         "anchor": "x",
         "domain": [
          0,
          1
         ],
         "gridcolor": "#1f292f"
        },
        "yaxis2": {
         "anchor": "x",
         "gridcolor": "#1f292f",
         "overlaying": "y",
         "side": "right"
        }
       }
      }
     },
     "metadata": {},
     "output_type": "display_data"
    }
   ],
   "source": [
    "MARKER = '#0066FF'\n",
    "dfp = df_an.iloc[-250:]\n",
    "cp = CandlePlot(dfp, candles=True)\n",
    "df_temp = cp.df_plot[cp.df_plot.HANGING_MAN == True]\n",
    "cp.fig.add_trace(go.Candlestick(\n",
    "                x = df_temp.sTime,\n",
    "                open = df_temp.mid_o,\n",
    "                high = df_temp.mid_h,\n",
    "                low = df_temp.mid_l,\n",
    "                close = df_temp.mid_c,\n",
    "                line = dict(width=1), \n",
    "                opacity = 1,\n",
    "                increasing_fillcolor=MARKER,\n",
    "                decreasing_fillcolor=MARKER,\n",
    "                increasing_line_color=MARKER,\n",
    "                decreasing_line_color=MARKER,\n",
    "            ))\n",
    "\n",
    "cp.show_plot()"
   ]
  },
  {
   "cell_type": "code",
   "execution_count": null,
   "metadata": {},
   "outputs": [],
   "source": []
  },
  {
   "cell_type": "code",
   "execution_count": null,
   "metadata": {},
   "outputs": [],
   "source": []
  },
  {
   "cell_type": "code",
   "execution_count": null,
   "metadata": {},
   "outputs": [],
   "source": []
  }
 ],
 "metadata": {
  "kernelspec": {
   "display_name": "venv",
   "language": "python",
   "name": "python3"
  },
  "language_info": {
   "codemirror_mode": {
    "name": "ipython",
    "version": 3
   },
   "file_extension": ".py",
   "mimetype": "text/x-python",
   "name": "python",
   "nbconvert_exporter": "python",
   "pygments_lexer": "ipython3",
   "version": "3.11.1"
  },
  "orig_nbformat": 4
 },
 "nbformat": 4,
 "nbformat_minor": 2
}
