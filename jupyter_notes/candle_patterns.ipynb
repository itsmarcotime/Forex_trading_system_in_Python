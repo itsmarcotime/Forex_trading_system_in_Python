{
 "cells": [
  {
   "cell_type": "code",
   "execution_count": 1,
   "metadata": {},
   "outputs": [],
   "source": [
    "import sys\n",
    "sys.path.append('../')\n",
    "from plotting import CandlePlot\n",
    "import pandas as pd"
   ]
  },
  {
   "cell_type": "code",
   "execution_count": 2,
   "metadata": {},
   "outputs": [],
   "source": [
    "from technicals.patterns import apply_patterns"
   ]
  },
  {
   "cell_type": "code",
   "execution_count": 3,
   "metadata": {},
   "outputs": [],
   "source": [
    "df = pd.read_pickle('../data/GBP_JPY_H1.pkl')"
   ]
  },
  {
   "cell_type": "code",
   "execution_count": 4,
   "metadata": {},
   "outputs": [],
   "source": [
    "df_an = df[['time', 'mid_o','mid_h', 'mid_l', 'mid_c']].copy()"
   ]
  },
  {
   "cell_type": "code",
   "execution_count": 5,
   "metadata": {},
   "outputs": [
    {
     "data": {
      "text/html": [
       "<div>\n",
       "<style scoped>\n",
       "    .dataframe tbody tr th:only-of-type {\n",
       "        vertical-align: middle;\n",
       "    }\n",
       "\n",
       "    .dataframe tbody tr th {\n",
       "        vertical-align: top;\n",
       "    }\n",
       "\n",
       "    .dataframe thead th {\n",
       "        text-align: right;\n",
       "    }\n",
       "</style>\n",
       "<table border=\"1\" class=\"dataframe\">\n",
       "  <thead>\n",
       "    <tr style=\"text-align: right;\">\n",
       "      <th></th>\n",
       "      <th>time</th>\n",
       "      <th>mid_o</th>\n",
       "      <th>mid_h</th>\n",
       "      <th>mid_l</th>\n",
       "      <th>mid_c</th>\n",
       "    </tr>\n",
       "  </thead>\n",
       "  <tbody>\n",
       "    <tr>\n",
       "      <th>37219</th>\n",
       "      <td>2021-12-30 19:00:00+00:00</td>\n",
       "      <td>155.312</td>\n",
       "      <td>155.444</td>\n",
       "      <td>155.274</td>\n",
       "      <td>155.444</td>\n",
       "    </tr>\n",
       "    <tr>\n",
       "      <th>37220</th>\n",
       "      <td>2021-12-30 20:00:00+00:00</td>\n",
       "      <td>155.442</td>\n",
       "      <td>155.470</td>\n",
       "      <td>155.289</td>\n",
       "      <td>155.312</td>\n",
       "    </tr>\n",
       "    <tr>\n",
       "      <th>37221</th>\n",
       "      <td>2021-12-30 21:00:00+00:00</td>\n",
       "      <td>155.317</td>\n",
       "      <td>155.382</td>\n",
       "      <td>155.286</td>\n",
       "      <td>155.382</td>\n",
       "    </tr>\n",
       "    <tr>\n",
       "      <th>37222</th>\n",
       "      <td>2021-12-30 22:00:00+00:00</td>\n",
       "      <td>155.353</td>\n",
       "      <td>155.381</td>\n",
       "      <td>155.282</td>\n",
       "      <td>155.329</td>\n",
       "    </tr>\n",
       "    <tr>\n",
       "      <th>37223</th>\n",
       "      <td>2021-12-30 23:00:00+00:00</td>\n",
       "      <td>155.336</td>\n",
       "      <td>155.360</td>\n",
       "      <td>155.284</td>\n",
       "      <td>155.310</td>\n",
       "    </tr>\n",
       "  </tbody>\n",
       "</table>\n",
       "</div>"
      ],
      "text/plain": [
       "                           time    mid_o    mid_h    mid_l    mid_c\n",
       "37219 2021-12-30 19:00:00+00:00  155.312  155.444  155.274  155.444\n",
       "37220 2021-12-30 20:00:00+00:00  155.442  155.470  155.289  155.312\n",
       "37221 2021-12-30 21:00:00+00:00  155.317  155.382  155.286  155.382\n",
       "37222 2021-12-30 22:00:00+00:00  155.353  155.381  155.282  155.329\n",
       "37223 2021-12-30 23:00:00+00:00  155.336  155.360  155.284  155.310"
      ]
     },
     "execution_count": 5,
     "metadata": {},
     "output_type": "execute_result"
    }
   ],
   "source": [
    "df_an.tail()"
   ]
  },
  {
   "cell_type": "code",
   "execution_count": 6,
   "metadata": {},
   "outputs": [],
   "source": [
    "# direction = df_an.mid_c - df_an.mid_o\n",
    "# body_size = abs(direction)\n",
    "# direction = [1 if x >= 0 else -1 for x in direction]\n",
    "# full_range = df_an.mid_h - df_an.mid_l\n",
    "# body_perc = (body_size / full_range) * 100\n",
    "# body_lower = df_an[['mid_c', 'mid_o']].min(axis=1)\n",
    "# body_upper = df_an[['mid_c', 'mid_o']].max(axis=1)\n",
    "# body_bottom_perc = ((body_lower - df_an.mid_l) / full_range) * 100\n",
    "# body_top_perc = 100 - (((df_an.mid_h - body_upper) / full_range) * 100)\n"
   ]
  },
  {
   "cell_type": "code",
   "execution_count": 7,
   "metadata": {},
   "outputs": [],
   "source": [
    "# df_an['body_lower'] = body_lower\n",
    "# df_an['body_upper'] = body_upper\n",
    "# df_an['body_bottom_perc'] = body_bottom_perc\n",
    "# df_an['body_top_perc'] = body_top_perc\n",
    "# df_an['body_perc'] = body_perc"
   ]
  },
  {
   "cell_type": "code",
   "execution_count": 8,
   "metadata": {},
   "outputs": [],
   "source": [
    "df_an = apply_patterns(df_an)"
   ]
  },
  {
   "cell_type": "code",
   "execution_count": 9,
   "metadata": {},
   "outputs": [
    {
     "data": {
      "application/vnd.plotly.v1+json": {
       "config": {
        "plotlyServerURL": "https://plot.ly"
       },
       "data": [
        {
         "close": [
          155.491,
          155.438,
          155.484,
          155.335,
          155.314,
          155.444,
          155.312,
          155.382,
          155.329,
          155.31
         ],
         "decreasing": {
          "fillcolor": "#CC2E3C",
          "line": {
           "color": "#FF3A4C"
          }
         },
         "high": [
          155.55,
          155.672,
          155.527,
          155.481,
          155.406,
          155.444,
          155.47,
          155.382,
          155.381,
          155.36
         ],
         "increasing": {
          "fillcolor": "#24A06B",
          "line": {
           "color": "#2EC886"
          }
         },
         "line": {
          "width": 1
         },
         "low": [
          155.222,
          155.362,
          155.349,
          155.312,
          155.252,
          155.274,
          155.289,
          155.286,
          155.282,
          155.284
         ],
         "opacity": 1,
         "open": [
          155.328,
          155.488,
          155.436,
          155.481,
          155.333,
          155.312,
          155.442,
          155.317,
          155.353,
          155.336
         ],
         "type": "candlestick",
         "x": [
          "s21-12-30 14:00",
          "s21-12-30 15:00",
          "s21-12-30 16:00",
          "s21-12-30 17:00",
          "s21-12-30 18:00",
          "s21-12-30 19:00",
          "s21-12-30 20:00",
          "s21-12-30 21:00",
          "s21-12-30 22:00",
          "s21-12-30 23:00"
         ]
        }
       ],
       "layout": {
        "font": {
         "color": "#e1e1e1",
         "size": 12
        },
        "height": 300,
        "margin": {
         "b": 10,
         "l": 10,
         "r": 10,
         "t": 10
        },
        "paper_bgcolor": "#2c303c",
        "plot_bgcolor": "#2c303c",
        "template": {
         "data": {
          "bar": [
           {
            "error_x": {
             "color": "#2a3f5f"
            },
            "error_y": {
             "color": "#2a3f5f"
            },
            "marker": {
             "line": {
              "color": "#E5ECF6",
              "width": 0.5
             },
             "pattern": {
              "fillmode": "overlay",
              "size": 10,
              "solidity": 0.2
             }
            },
            "type": "bar"
           }
          ],
          "barpolar": [
           {
            "marker": {
             "line": {
              "color": "#E5ECF6",
              "width": 0.5
             },
             "pattern": {
              "fillmode": "overlay",
              "size": 10,
              "solidity": 0.2
             }
            },
            "type": "barpolar"
           }
          ],
          "carpet": [
           {
            "aaxis": {
             "endlinecolor": "#2a3f5f",
             "gridcolor": "white",
             "linecolor": "white",
             "minorgridcolor": "white",
             "startlinecolor": "#2a3f5f"
            },
            "baxis": {
             "endlinecolor": "#2a3f5f",
             "gridcolor": "white",
             "linecolor": "white",
             "minorgridcolor": "white",
             "startlinecolor": "#2a3f5f"
            },
            "type": "carpet"
           }
          ],
          "choropleth": [
           {
            "colorbar": {
             "outlinewidth": 0,
             "ticks": ""
            },
            "type": "choropleth"
           }
          ],
          "contour": [
           {
            "colorbar": {
             "outlinewidth": 0,
             "ticks": ""
            },
            "colorscale": [
             [
              0,
              "#0d0887"
             ],
             [
              0.1111111111111111,
              "#46039f"
             ],
             [
              0.2222222222222222,
              "#7201a8"
             ],
             [
              0.3333333333333333,
              "#9c179e"
             ],
             [
              0.4444444444444444,
              "#bd3786"
             ],
             [
              0.5555555555555556,
              "#d8576b"
             ],
             [
              0.6666666666666666,
              "#ed7953"
             ],
             [
              0.7777777777777778,
              "#fb9f3a"
             ],
             [
              0.8888888888888888,
              "#fdca26"
             ],
             [
              1,
              "#f0f921"
             ]
            ],
            "type": "contour"
           }
          ],
          "contourcarpet": [
           {
            "colorbar": {
             "outlinewidth": 0,
             "ticks": ""
            },
            "type": "contourcarpet"
           }
          ],
          "heatmap": [
           {
            "colorbar": {
             "outlinewidth": 0,
             "ticks": ""
            },
            "colorscale": [
             [
              0,
              "#0d0887"
             ],
             [
              0.1111111111111111,
              "#46039f"
             ],
             [
              0.2222222222222222,
              "#7201a8"
             ],
             [
              0.3333333333333333,
              "#9c179e"
             ],
             [
              0.4444444444444444,
              "#bd3786"
             ],
             [
              0.5555555555555556,
              "#d8576b"
             ],
             [
              0.6666666666666666,
              "#ed7953"
             ],
             [
              0.7777777777777778,
              "#fb9f3a"
             ],
             [
              0.8888888888888888,
              "#fdca26"
             ],
             [
              1,
              "#f0f921"
             ]
            ],
            "type": "heatmap"
           }
          ],
          "heatmapgl": [
           {
            "colorbar": {
             "outlinewidth": 0,
             "ticks": ""
            },
            "colorscale": [
             [
              0,
              "#0d0887"
             ],
             [
              0.1111111111111111,
              "#46039f"
             ],
             [
              0.2222222222222222,
              "#7201a8"
             ],
             [
              0.3333333333333333,
              "#9c179e"
             ],
             [
              0.4444444444444444,
              "#bd3786"
             ],
             [
              0.5555555555555556,
              "#d8576b"
             ],
             [
              0.6666666666666666,
              "#ed7953"
             ],
             [
              0.7777777777777778,
              "#fb9f3a"
             ],
             [
              0.8888888888888888,
              "#fdca26"
             ],
             [
              1,
              "#f0f921"
             ]
            ],
            "type": "heatmapgl"
           }
          ],
          "histogram": [
           {
            "marker": {
             "pattern": {
              "fillmode": "overlay",
              "size": 10,
              "solidity": 0.2
             }
            },
            "type": "histogram"
           }
          ],
          "histogram2d": [
           {
            "colorbar": {
             "outlinewidth": 0,
             "ticks": ""
            },
            "colorscale": [
             [
              0,
              "#0d0887"
             ],
             [
              0.1111111111111111,
              "#46039f"
             ],
             [
              0.2222222222222222,
              "#7201a8"
             ],
             [
              0.3333333333333333,
              "#9c179e"
             ],
             [
              0.4444444444444444,
              "#bd3786"
             ],
             [
              0.5555555555555556,
              "#d8576b"
             ],
             [
              0.6666666666666666,
              "#ed7953"
             ],
             [
              0.7777777777777778,
              "#fb9f3a"
             ],
             [
              0.8888888888888888,
              "#fdca26"
             ],
             [
              1,
              "#f0f921"
             ]
            ],
            "type": "histogram2d"
           }
          ],
          "histogram2dcontour": [
           {
            "colorbar": {
             "outlinewidth": 0,
             "ticks": ""
            },
            "colorscale": [
             [
              0,
              "#0d0887"
             ],
             [
              0.1111111111111111,
              "#46039f"
             ],
             [
              0.2222222222222222,
              "#7201a8"
             ],
             [
              0.3333333333333333,
              "#9c179e"
             ],
             [
              0.4444444444444444,
              "#bd3786"
             ],
             [
              0.5555555555555556,
              "#d8576b"
             ],
             [
              0.6666666666666666,
              "#ed7953"
             ],
             [
              0.7777777777777778,
              "#fb9f3a"
             ],
             [
              0.8888888888888888,
              "#fdca26"
             ],
             [
              1,
              "#f0f921"
             ]
            ],
            "type": "histogram2dcontour"
           }
          ],
          "mesh3d": [
           {
            "colorbar": {
             "outlinewidth": 0,
             "ticks": ""
            },
            "type": "mesh3d"
           }
          ],
          "parcoords": [
           {
            "line": {
             "colorbar": {
              "outlinewidth": 0,
              "ticks": ""
             }
            },
            "type": "parcoords"
           }
          ],
          "pie": [
           {
            "automargin": true,
            "type": "pie"
           }
          ],
          "scatter": [
           {
            "fillpattern": {
             "fillmode": "overlay",
             "size": 10,
             "solidity": 0.2
            },
            "type": "scatter"
           }
          ],
          "scatter3d": [
           {
            "line": {
             "colorbar": {
              "outlinewidth": 0,
              "ticks": ""
             }
            },
            "marker": {
             "colorbar": {
              "outlinewidth": 0,
              "ticks": ""
             }
            },
            "type": "scatter3d"
           }
          ],
          "scattercarpet": [
           {
            "marker": {
             "colorbar": {
              "outlinewidth": 0,
              "ticks": ""
             }
            },
            "type": "scattercarpet"
           }
          ],
          "scattergeo": [
           {
            "marker": {
             "colorbar": {
              "outlinewidth": 0,
              "ticks": ""
             }
            },
            "type": "scattergeo"
           }
          ],
          "scattergl": [
           {
            "marker": {
             "colorbar": {
              "outlinewidth": 0,
              "ticks": ""
             }
            },
            "type": "scattergl"
           }
          ],
          "scattermapbox": [
           {
            "marker": {
             "colorbar": {
              "outlinewidth": 0,
              "ticks": ""
             }
            },
            "type": "scattermapbox"
           }
          ],
          "scatterpolar": [
           {
            "marker": {
             "colorbar": {
              "outlinewidth": 0,
              "ticks": ""
             }
            },
            "type": "scatterpolar"
           }
          ],
          "scatterpolargl": [
           {
            "marker": {
             "colorbar": {
              "outlinewidth": 0,
              "ticks": ""
             }
            },
            "type": "scatterpolargl"
           }
          ],
          "scatterternary": [
           {
            "marker": {
             "colorbar": {
              "outlinewidth": 0,
              "ticks": ""
             }
            },
            "type": "scatterternary"
           }
          ],
          "surface": [
           {
            "colorbar": {
             "outlinewidth": 0,
             "ticks": ""
            },
            "colorscale": [
             [
              0,
              "#0d0887"
             ],
             [
              0.1111111111111111,
              "#46039f"
             ],
             [
              0.2222222222222222,
              "#7201a8"
             ],
             [
              0.3333333333333333,
              "#9c179e"
             ],
             [
              0.4444444444444444,
              "#bd3786"
             ],
             [
              0.5555555555555556,
              "#d8576b"
             ],
             [
              0.6666666666666666,
              "#ed7953"
             ],
             [
              0.7777777777777778,
              "#fb9f3a"
             ],
             [
              0.8888888888888888,
              "#fdca26"
             ],
             [
              1,
              "#f0f921"
             ]
            ],
            "type": "surface"
           }
          ],
          "table": [
           {
            "cells": {
             "fill": {
              "color": "#EBF0F8"
             },
             "line": {
              "color": "white"
             }
            },
            "header": {
             "fill": {
              "color": "#C8D4E3"
             },
             "line": {
              "color": "white"
             }
            },
            "type": "table"
           }
          ]
         },
         "layout": {
          "annotationdefaults": {
           "arrowcolor": "#2a3f5f",
           "arrowhead": 0,
           "arrowwidth": 1
          },
          "autotypenumbers": "strict",
          "coloraxis": {
           "colorbar": {
            "outlinewidth": 0,
            "ticks": ""
           }
          },
          "colorscale": {
           "diverging": [
            [
             0,
             "#8e0152"
            ],
            [
             0.1,
             "#c51b7d"
            ],
            [
             0.2,
             "#de77ae"
            ],
            [
             0.3,
             "#f1b6da"
            ],
            [
             0.4,
             "#fde0ef"
            ],
            [
             0.5,
             "#f7f7f7"
            ],
            [
             0.6,
             "#e6f5d0"
            ],
            [
             0.7,
             "#b8e186"
            ],
            [
             0.8,
             "#7fbc41"
            ],
            [
             0.9,
             "#4d9221"
            ],
            [
             1,
             "#276419"
            ]
           ],
           "sequential": [
            [
             0,
             "#0d0887"
            ],
            [
             0.1111111111111111,
             "#46039f"
            ],
            [
             0.2222222222222222,
             "#7201a8"
            ],
            [
             0.3333333333333333,
             "#9c179e"
            ],
            [
             0.4444444444444444,
             "#bd3786"
            ],
            [
             0.5555555555555556,
             "#d8576b"
            ],
            [
             0.6666666666666666,
             "#ed7953"
            ],
            [
             0.7777777777777778,
             "#fb9f3a"
            ],
            [
             0.8888888888888888,
             "#fdca26"
            ],
            [
             1,
             "#f0f921"
            ]
           ],
           "sequentialminus": [
            [
             0,
             "#0d0887"
            ],
            [
             0.1111111111111111,
             "#46039f"
            ],
            [
             0.2222222222222222,
             "#7201a8"
            ],
            [
             0.3333333333333333,
             "#9c179e"
            ],
            [
             0.4444444444444444,
             "#bd3786"
            ],
            [
             0.5555555555555556,
             "#d8576b"
            ],
            [
             0.6666666666666666,
             "#ed7953"
            ],
            [
             0.7777777777777778,
             "#fb9f3a"
            ],
            [
             0.8888888888888888,
             "#fdca26"
            ],
            [
             1,
             "#f0f921"
            ]
           ]
          },
          "colorway": [
           "#636efa",
           "#EF553B",
           "#00cc96",
           "#ab63fa",
           "#FFA15A",
           "#19d3f3",
           "#FF6692",
           "#B6E880",
           "#FF97FF",
           "#FECB52"
          ],
          "font": {
           "color": "#2a3f5f"
          },
          "geo": {
           "bgcolor": "white",
           "lakecolor": "white",
           "landcolor": "#E5ECF6",
           "showlakes": true,
           "showland": true,
           "subunitcolor": "white"
          },
          "hoverlabel": {
           "align": "left"
          },
          "hovermode": "closest",
          "mapbox": {
           "style": "light"
          },
          "paper_bgcolor": "white",
          "plot_bgcolor": "#E5ECF6",
          "polar": {
           "angularaxis": {
            "gridcolor": "white",
            "linecolor": "white",
            "ticks": ""
           },
           "bgcolor": "#E5ECF6",
           "radialaxis": {
            "gridcolor": "white",
            "linecolor": "white",
            "ticks": ""
           }
          },
          "scene": {
           "xaxis": {
            "backgroundcolor": "#E5ECF6",
            "gridcolor": "white",
            "gridwidth": 2,
            "linecolor": "white",
            "showbackground": true,
            "ticks": "",
            "zerolinecolor": "white"
           },
           "yaxis": {
            "backgroundcolor": "#E5ECF6",
            "gridcolor": "white",
            "gridwidth": 2,
            "linecolor": "white",
            "showbackground": true,
            "ticks": "",
            "zerolinecolor": "white"
           },
           "zaxis": {
            "backgroundcolor": "#E5ECF6",
            "gridcolor": "white",
            "gridwidth": 2,
            "linecolor": "white",
            "showbackground": true,
            "ticks": "",
            "zerolinecolor": "white"
           }
          },
          "shapedefaults": {
           "line": {
            "color": "#2a3f5f"
           }
          },
          "ternary": {
           "aaxis": {
            "gridcolor": "white",
            "linecolor": "white",
            "ticks": ""
           },
           "baxis": {
            "gridcolor": "white",
            "linecolor": "white",
            "ticks": ""
           },
           "bgcolor": "#E5ECF6",
           "caxis": {
            "gridcolor": "white",
            "linecolor": "white",
            "ticks": ""
           }
          },
          "title": {
           "x": 0.05
          },
          "xaxis": {
           "automargin": true,
           "gridcolor": "white",
           "linecolor": "white",
           "ticks": "",
           "title": {
            "standoff": 15
           },
           "zerolinecolor": "white",
           "zerolinewidth": 2
          },
          "yaxis": {
           "automargin": true,
           "gridcolor": "white",
           "linecolor": "white",
           "ticks": "",
           "title": {
            "standoff": 15
           },
           "zerolinecolor": "white",
           "zerolinewidth": 2
          }
         }
        },
        "width": 900,
        "xaxis": {
         "anchor": "y",
         "domain": [
          0,
          0.94
         ],
         "gridcolor": "#1f292f",
         "nticks": 5,
         "rangeslider": {
          "visible": false
         }
        },
        "yaxis": {
         "anchor": "x",
         "domain": [
          0,
          1
         ],
         "gridcolor": "#1f292f"
        },
        "yaxis2": {
         "anchor": "x",
         "gridcolor": "#1f292f",
         "overlaying": "y",
         "side": "right"
        }
       }
      }
     },
     "metadata": {},
     "output_type": "display_data"
    }
   ],
   "source": [
    "dfp = df_an.iloc[-10:]\n",
    "cp = CandlePlot(dfp)\n",
    "cp.show_plot(line_traces=[], height=300)"
   ]
  },
  {
   "cell_type": "code",
   "execution_count": 10,
   "metadata": {},
   "outputs": [
    {
     "data": {
      "text/plain": [
       "time                2021-12-30 18:00:00+00:00\n",
       "mid_o                                 155.333\n",
       "mid_h                                 155.406\n",
       "mid_l                                 155.252\n",
       "mid_c                                 155.314\n",
       "body_lower                            155.314\n",
       "body_upper                            155.333\n",
       "body_bottom_perc                     40.25974\n",
       "body_top_perc                       52.597403\n",
       "body_perc                           12.337662\n",
       "Name: 37218, dtype: object"
      ]
     },
     "execution_count": 10,
     "metadata": {},
     "output_type": "execute_result"
    }
   ],
   "source": [
    "df_an.iloc[-6]"
   ]
  },
  {
   "cell_type": "code",
   "execution_count": 28,
   "metadata": {},
   "outputs": [],
   "source": [
    "HANGING_MAN_BODY = 15.0\n",
    "HANGING_MAN_HEIGHT = 75.0\n",
    "SHOOTING_STAR_HEIGHT = 25.0\n",
    "SPINNING_TOP_MIN = 40.0\n",
    "SPINNING_TOP_MAX = 60.0\n",
    "MARUBOZU = 98.0\n",
    "\n",
    "apply_marubozu = lambda x : x.body_perc > MARUBOZU\n",
    "\n",
    "def apply_hanging_man(row):\n",
    "    if row.body_bottom_perc > HANGING_MAN_HEIGHT:\n",
    "        if row.body_perc < HANGING_MAN_BODY:\n",
    "            return True\n",
    "    return False\n",
    "\n",
    "def apply_shooting_star(row):\n",
    "    if row.body_top_perc < SHOOTING_STAR_HEIGHT:\n",
    "        if row.body_perc < HANGING_MAN_BODY:\n",
    "            return True\n",
    "    return False\n",
    "\n",
    "def apply_spinning_top(row):\n",
    "    if row.body_top_perc < SPINNING_TOP_MAX:\n",
    "        if row.body_bottom_perc > SPINNING_TOP_MIN:\n",
    "            if row.body_perc < HANGING_MAN_BODY:\n",
    "                return True\n",
    "    return False"
   ]
  },
  {
   "cell_type": "code",
   "execution_count": 29,
   "metadata": {},
   "outputs": [],
   "source": [
    "df_an['HANGING_MAN'] = df_an.apply(apply_hanging_man, axis=1)\n",
    "df_an['SHOOTING_STAR'] = df_an.apply(apply_shooting_star, axis=1)\n",
    "df_an['SPINNING_TOP'] = df_an.apply(apply_spinning_top, axis=1)\n",
    "df_an['MARUBOZU'] = df_an.apply(apply_marubozu, axis=1)"
   ]
  },
  {
   "cell_type": "code",
   "execution_count": 14,
   "metadata": {},
   "outputs": [],
   "source": [
    "import plotly.graph_objects as go"
   ]
  },
  {
   "cell_type": "code",
   "execution_count": 32,
   "metadata": {},
   "outputs": [
    {
     "data": {
      "application/vnd.plotly.v1+json": {
       "config": {
        "plotlyServerURL": "https://plot.ly"
       },
       "data": [
        {
         "close": [
          155.714,
          155.511,
          155.391,
          155.272,
          154.89,
          155.044,
          154.79,
          154.528,
          154.654,
          154.832,
          154.728,
          154.747,
          154.758,
          154.936,
          155.444,
          155.406,
          155.176,
          155.06,
          155.68,
          155.55,
          155.845,
          155.87,
          155.742,
          155.504,
          155.351,
          154.728,
          154.642,
          154.532,
          154.715,
          154.55,
          154.834,
          154.792,
          155.061,
          155.177,
          155.276,
          155.044,
          154.974,
          155.129,
          155.168,
          155.109,
          155.115,
          155.394,
          155.501,
          155.504,
          155.526,
          155.47,
          155.41,
          155.354,
          155.157,
          155.63,
          155.495,
          155.143,
          155.278,
          155.071,
          155.388,
          155.678,
          155.47,
          155.422,
          155.239,
          155.268,
          155.299,
          155.369,
          155.399,
          155.399,
          155.568,
          155.362,
          155.154,
          155.105,
          155.045,
          155.164,
          155.162,
          154.937,
          154.884,
          154.92,
          155.174,
          155.172,
          154.876,
          153.977,
          154.486,
          153.922,
          154.004,
          154.25,
          154.244,
          154.46,
          154.603,
          154.53,
          154.634,
          154.765,
          154.874,
          154.938,
          154.755,
          154.74,
          154.842,
          155.075,
          155.158,
          155.074,
          154.887,
          155.674,
          156.166,
          155.992,
          156.145,
          156.197,
          156.426,
          155.986,
          156.167,
          156.104,
          156.032,
          156.324,
          156.145,
          156.065,
          156.324,
          156.203,
          156.164,
          156.317,
          156.558,
          156.33,
          156.61,
          156.724,
          156.718,
          156.77,
          157,
          157.393,
          157.88,
          157.46,
          157.564,
          157.566,
          157.533,
          157.746,
          157.852,
          157.738,
          157.789,
          157.759,
          157.84,
          157.81,
          157.957,
          157.884,
          157.819,
          157.722,
          157.155,
          157.039,
          157.162,
          157.186,
          157.108,
          157.084,
          156.668,
          156.71,
          156.802,
          156.868,
          157.019,
          156.936,
          156.718,
          157.13,
          157.081,
          156.996,
          156.758,
          156.792,
          156.65,
          156.656,
          156.676,
          156.58,
          156.502,
          156.55,
          156.534,
          156.792,
          156.898,
          157.16,
          157.203,
          157.184,
          157.138,
          157.276,
          157.856,
          157.797,
          158.013,
          158.08,
          158.021,
          157.662,
          157.15,
          157.588,
          157.506,
          157.713,
          157.615,
          157.537,
          157.474,
          157.41,
          157.584,
          157.232,
          157.133,
          157.01,
          157.048,
          157.172,
          157.04,
          156.424,
          156.826,
          156.682,
          156.762,
          156.954,
          156.77,
          156.868,
          156.885,
          156.544,
          156.814,
          156.414,
          156.132,
          156.054,
          156.112,
          155.975,
          155.99,
          155.801,
          155.947,
          156.148,
          156.325,
          156.565,
          156.556,
          156.224,
          156.163,
          156.2,
          156.154,
          156.2,
          156.202,
          156.178,
          156.433,
          156.544,
          156.52,
          156.759,
          156.916,
          156.982,
          157.01,
          156.844,
          156.84,
          157.018,
          157.176,
          157.168,
          157.558,
          157.382,
          157.69,
          157.8,
          157.794,
          157.802,
          158.102,
          158.62,
          158.82,
          158.631,
          158.719,
          158.54,
          158.473,
          158.053,
          157.612,
          157.596,
          157.916,
          157.806,
          157.768,
          157.714,
          157.732,
          157.852,
          157.819,
          157.748,
          157.595,
          157.208,
          157.552,
          157.822,
          157.662,
          157.413,
          157.75,
          158.035,
          157.932,
          157.848,
          157.752,
          158.48,
          159.055,
          159.26,
          160.002,
          160.2,
          160.239,
          160.302,
          160.336,
          160.536,
          160.826,
          160.878,
          160.85,
          160.79,
          160.796,
          160.599,
          160.492,
          160.383,
          160.364,
          160.45,
          160.764,
          160.696,
          160.556,
          161.235,
          160.942,
          160.889,
          160.604,
          160.678,
          160.223,
          160.278,
          160.41,
          160.492,
          160.695,
          160.649
         ],
         "decreasing": {
          "fillcolor": "#CC2E3C",
          "line": {
           "color": "#FF3A4C"
          }
         },
         "high": [
          156.011,
          156.072,
          155.734,
          155.386,
          155.413,
          155.108,
          155.062,
          154.848,
          154.734,
          154.846,
          154.889,
          154.824,
          154.828,
          155.088,
          156.216,
          155.44,
          155.428,
          155.228,
          155.68,
          155.776,
          155.911,
          155.928,
          155.96,
          155.779,
          155.698,
          155.356,
          154.885,
          154.691,
          154.866,
          154.799,
          154.899,
          155.403,
          155.14,
          155.388,
          155.353,
          155.302,
          155.134,
          155.16,
          155.228,
          155.24,
          155.226,
          155.472,
          155.522,
          155.557,
          155.582,
          155.542,
          155.548,
          155.502,
          155.64,
          155.776,
          155.861,
          155.496,
          155.368,
          155.438,
          155.422,
          155.761,
          155.698,
          155.571,
          155.432,
          155.312,
          155.402,
          155.411,
          155.4,
          155.536,
          155.568,
          155.628,
          155.52,
          155.234,
          155.21,
          155.172,
          155.218,
          155.246,
          154.948,
          155.118,
          155.284,
          155.274,
          155.213,
          155.19,
          154.668,
          154.642,
          154.156,
          154.255,
          154.344,
          154.573,
          154.718,
          154.638,
          154.745,
          154.832,
          154.978,
          155.158,
          155.124,
          154.838,
          154.915,
          155.076,
          155.319,
          155.362,
          155.116,
          155.689,
          156.204,
          156.298,
          156.425,
          156.402,
          156.428,
          156.443,
          156.189,
          156.24,
          156.12,
          156.4,
          156.318,
          156.184,
          156.324,
          156.318,
          156.288,
          156.506,
          156.784,
          156.78,
          156.711,
          156.81,
          156.795,
          156.968,
          157.199,
          157.55,
          157.923,
          157.874,
          157.686,
          157.71,
          157.646,
          157.868,
          157.871,
          157.876,
          157.832,
          157.794,
          157.843,
          157.864,
          158.013,
          157.97,
          157.908,
          157.87,
          157.836,
          157.216,
          157.334,
          157.263,
          157.298,
          157.249,
          157.213,
          156.81,
          156.823,
          156.924,
          157.062,
          157.335,
          157.037,
          157.144,
          157.316,
          157.13,
          157.027,
          156.89,
          156.81,
          156.713,
          156.718,
          156.73,
          156.604,
          156.602,
          156.854,
          156.819,
          156.908,
          157.196,
          157.291,
          157.428,
          157.232,
          157.378,
          157.868,
          158.004,
          158.308,
          158.114,
          158.499,
          158.156,
          157.698,
          157.614,
          157.659,
          157.762,
          157.716,
          157.628,
          157.686,
          157.58,
          157.644,
          157.642,
          157.291,
          157.16,
          157.164,
          157.18,
          157.204,
          157.07,
          156.838,
          156.896,
          156.874,
          157.02,
          157.084,
          157.39,
          157.09,
          157.242,
          156.878,
          156.861,
          156.654,
          156.139,
          156.193,
          156.126,
          156.02,
          156.004,
          155.982,
          156.179,
          156.363,
          156.576,
          156.58,
          156.554,
          156.264,
          156.457,
          156.3,
          156.3,
          156.286,
          156.359,
          156.578,
          156.572,
          156.663,
          156.771,
          156.93,
          157.01,
          157.094,
          157.066,
          156.926,
          157.066,
          157.196,
          157.206,
          157.848,
          157.61,
          157.772,
          157.94,
          157.877,
          157.864,
          158.164,
          158.686,
          158.984,
          158.873,
          158.828,
          158.921,
          158.612,
          158.624,
          158.22,
          157.644,
          157.995,
          157.944,
          157.896,
          157.838,
          157.768,
          157.886,
          157.9,
          157.822,
          157.877,
          157.728,
          157.596,
          157.902,
          157.923,
          157.666,
          157.812,
          158.112,
          158.338,
          158.252,
          157.908,
          158.49,
          159.21,
          159.304,
          160.07,
          160.31,
          160.33,
          160.432,
          160.512,
          160.566,
          160.841,
          160.892,
          160.909,
          160.956,
          160.856,
          160.872,
          160.804,
          160.554,
          160.5,
          160.476,
          160.829,
          161.011,
          160.822,
          161.64,
          161.391,
          161.11,
          160.97,
          160.909,
          160.816,
          160.418,
          160.422,
          160.589,
          160.804,
          160.818
         ],
         "increasing": {
          "fillcolor": "#24A06B",
          "line": {
           "color": "#2EC886"
          }
         },
         "line": {
          "width": 1
         },
         "low": [
          155.678,
          155.392,
          155.313,
          155.112,
          154.763,
          154.688,
          154.628,
          154.442,
          154.43,
          154.544,
          154.624,
          154.613,
          154.625,
          154.746,
          154.926,
          155.116,
          155.07,
          154.958,
          155.036,
          155.472,
          155.525,
          155.76,
          155.684,
          155.434,
          155.24,
          154.717,
          154.484,
          154.419,
          154.52,
          154.428,
          154.443,
          154.77,
          154.758,
          155.033,
          155.036,
          155.02,
          154.956,
          154.934,
          155.084,
          155.076,
          155.067,
          155.07,
          155.324,
          155.446,
          155.436,
          155.452,
          155.314,
          155.308,
          155.156,
          155.118,
          155.363,
          154.888,
          154.926,
          154.976,
          154.876,
          155.256,
          155.381,
          155.292,
          155.136,
          155.172,
          155.245,
          155.282,
          155.326,
          155.37,
          155.342,
          155.354,
          155.044,
          155.063,
          155.034,
          155.015,
          155.09,
          154.884,
          154.63,
          154.844,
          154.752,
          155.05,
          154.859,
          153.64,
          153.93,
          153.87,
          153.878,
          153.97,
          154.161,
          154.208,
          154.462,
          154.492,
          154.338,
          154.502,
          154.734,
          154.733,
          154.666,
          154.659,
          154.68,
          154.798,
          155.036,
          154.994,
          154.442,
          154.7,
          155.412,
          155.944,
          155.994,
          156.042,
          156.03,
          155.979,
          155.958,
          155.957,
          155.965,
          156.008,
          156.114,
          156.033,
          156.07,
          156.14,
          156.069,
          156.121,
          156.146,
          156.324,
          156.279,
          156.526,
          156.532,
          156.632,
          156.708,
          156.935,
          157.308,
          157.454,
          157.233,
          157.428,
          157.274,
          157.391,
          157.616,
          157.641,
          157.651,
          157.68,
          157.706,
          157.766,
          157.76,
          157.84,
          157.767,
          157.652,
          157.12,
          156.904,
          157.034,
          157.065,
          156.983,
          156.952,
          156.526,
          156.562,
          156.413,
          156.614,
          156.803,
          156.913,
          156.685,
          156.498,
          156.832,
          156.928,
          156.753,
          156.692,
          156.569,
          156.592,
          156.588,
          156.544,
          156.458,
          156.262,
          156.454,
          156.512,
          156.748,
          156.892,
          157.082,
          157.15,
          156.678,
          156.977,
          157.25,
          157.59,
          157.776,
          157.768,
          158.012,
          157.604,
          157.14,
          157.061,
          157.237,
          157.487,
          157.581,
          157.479,
          157.474,
          157.339,
          157.402,
          157.12,
          156.948,
          157.006,
          156.934,
          157.02,
          156.984,
          156.274,
          156.253,
          156.586,
          156.589,
          156.726,
          156.738,
          156.75,
          156.67,
          156.484,
          156.54,
          156.33,
          156.042,
          155.977,
          155.999,
          155.951,
          155.86,
          155.677,
          155.756,
          155.878,
          156.036,
          156.246,
          156.4,
          156.192,
          156.088,
          156.136,
          155.96,
          156.019,
          155.986,
          156.101,
          156.17,
          156.316,
          156.338,
          156.466,
          156.674,
          156.868,
          156.922,
          156.81,
          156.813,
          156.798,
          156.962,
          157.011,
          157.15,
          157.316,
          157.348,
          157.608,
          157.73,
          157.698,
          157.72,
          158.026,
          158.547,
          158.432,
          158.404,
          158.533,
          158.377,
          157.904,
          157.394,
          157.275,
          157.589,
          157.772,
          157.695,
          157.633,
          157.604,
          157.714,
          157.762,
          157.645,
          157.412,
          157.194,
          157.026,
          157.542,
          157.595,
          157.371,
          157.401,
          157.491,
          157.894,
          157.71,
          157.543,
          157.72,
          158.464,
          159.044,
          159.23,
          159.946,
          160.132,
          160.16,
          160.296,
          160.162,
          160.515,
          160.756,
          160.808,
          160.772,
          160.65,
          160.524,
          160.442,
          160.228,
          160.25,
          160.27,
          160.422,
          160.678,
          160.211,
          160.53,
          160.844,
          160.724,
          160.488,
          160.569,
          160.196,
          160.142,
          160.226,
          160.336,
          160.421,
          160.622
         ],
         "opacity": 1,
         "open": [
          155.904,
          155.715,
          155.508,
          155.386,
          155.266,
          154.89,
          155.044,
          154.792,
          154.534,
          154.654,
          154.838,
          154.728,
          154.749,
          154.758,
          154.994,
          155.44,
          155.404,
          155.175,
          155.062,
          155.673,
          155.552,
          155.844,
          155.875,
          155.744,
          155.51,
          155.356,
          154.728,
          154.64,
          154.53,
          154.716,
          154.55,
          154.838,
          154.792,
          155.06,
          155.176,
          155.279,
          155.039,
          154.974,
          155.137,
          155.17,
          155.11,
          155.121,
          155.389,
          155.496,
          155.505,
          155.527,
          155.47,
          155.408,
          155.354,
          155.156,
          155.63,
          155.496,
          155.142,
          155.284,
          155.07,
          155.388,
          155.677,
          155.469,
          155.424,
          155.234,
          155.271,
          155.3,
          155.384,
          155.398,
          155.4,
          155.568,
          155.356,
          155.154,
          155.108,
          155.043,
          155.163,
          155.16,
          154.938,
          154.881,
          154.924,
          155.176,
          155.176,
          154.876,
          153.982,
          154.491,
          153.922,
          154,
          154.248,
          154.246,
          154.465,
          154.601,
          154.338,
          154.658,
          154.757,
          154.876,
          154.936,
          154.757,
          154.744,
          154.84,
          155.08,
          155.156,
          155.072,
          154.886,
          155.678,
          156.164,
          155.994,
          156.144,
          156.197,
          156.434,
          155.986,
          156.162,
          156.103,
          156.03,
          156.318,
          156.144,
          156.084,
          156.312,
          156.204,
          156.169,
          156.318,
          156.564,
          156.334,
          156.608,
          156.726,
          156.72,
          156.768,
          157,
          157.388,
          157.874,
          157.46,
          157.558,
          157.572,
          157.534,
          157.744,
          157.854,
          157.737,
          157.794,
          157.76,
          157.844,
          157.838,
          157.957,
          157.884,
          157.821,
          157.726,
          157.156,
          157.042,
          157.16,
          157.186,
          157.106,
          157.088,
          156.664,
          156.709,
          156.802,
          156.867,
          157.015,
          156.942,
          156.716,
          157.13,
          157.079,
          156.996,
          156.754,
          156.798,
          156.65,
          156.624,
          156.673,
          156.574,
          156.508,
          156.55,
          156.534,
          156.794,
          156.896,
          157.158,
          157.204,
          157.186,
          157.137,
          157.274,
          157.858,
          157.825,
          158.008,
          158.082,
          158.02,
          157.663,
          157.151,
          157.589,
          157.505,
          157.712,
          157.616,
          157.512,
          157.473,
          157.41,
          157.583,
          157.23,
          157.132,
          157.014,
          157.054,
          157.174,
          157.036,
          156.424,
          156.826,
          156.674,
          156.761,
          156.954,
          156.765,
          156.863,
          156.89,
          156.546,
          156.813,
          156.416,
          156.132,
          156.048,
          156.112,
          155.917,
          155.986,
          155.808,
          155.948,
          156.148,
          156.322,
          156.564,
          156.554,
          156.219,
          156.162,
          156.206,
          156.149,
          156.204,
          156.197,
          156.178,
          156.428,
          156.545,
          156.522,
          156.756,
          156.916,
          156.981,
          157.014,
          156.849,
          156.846,
          156.996,
          157.173,
          157.17,
          157.558,
          157.384,
          157.69,
          157.8,
          157.794,
          157.801,
          158.101,
          158.619,
          158.82,
          158.628,
          158.717,
          158.539,
          158.468,
          158.054,
          157.613,
          157.601,
          157.916,
          157.806,
          157.765,
          157.714,
          157.734,
          157.838,
          157.815,
          157.748,
          157.595,
          157.214,
          157.551,
          157.82,
          157.659,
          157.414,
          157.749,
          158.037,
          157.928,
          157.848,
          157.756,
          158.478,
          159.054,
          159.26,
          160.005,
          160.206,
          160.244,
          160.302,
          160.335,
          160.534,
          160.824,
          160.844,
          160.842,
          160.79,
          160.798,
          160.598,
          160.492,
          160.382,
          160.37,
          160.45,
          160.758,
          160.69,
          160.554,
          161.238,
          160.942,
          160.89,
          160.603,
          160.682,
          160.224,
          160.281,
          160.404,
          160.487,
          160.699
         ],
         "type": "candlestick",
         "x": [
          "s16-05-03 07:00",
          "s16-05-03 08:00",
          "s16-05-03 09:00",
          "s16-05-03 10:00",
          "s16-05-03 11:00",
          "s16-05-03 12:00",
          "s16-05-03 13:00",
          "s16-05-03 14:00",
          "s16-05-03 15:00",
          "s16-05-03 16:00",
          "s16-05-03 17:00",
          "s16-05-03 18:00",
          "s16-05-03 19:00",
          "s16-05-03 20:00",
          "s16-05-03 21:00",
          "s16-05-03 22:00",
          "s16-05-03 23:00",
          "s16-05-04 00:00",
          "s16-05-04 01:00",
          "s16-05-04 02:00",
          "s16-05-04 03:00",
          "s16-05-04 04:00",
          "s16-05-04 05:00",
          "s16-05-04 06:00",
          "s16-05-04 07:00",
          "s16-05-04 08:00",
          "s16-05-04 09:00",
          "s16-05-04 10:00",
          "s16-05-04 11:00",
          "s16-05-04 12:00",
          "s16-05-04 13:00",
          "s16-05-04 14:00",
          "s16-05-04 15:00",
          "s16-05-04 16:00",
          "s16-05-04 17:00",
          "s16-05-04 18:00",
          "s16-05-04 19:00",
          "s16-05-04 20:00",
          "s16-05-04 21:00",
          "s16-05-04 22:00",
          "s16-05-04 23:00",
          "s16-05-05 00:00",
          "s16-05-05 01:00",
          "s16-05-05 02:00",
          "s16-05-05 03:00",
          "s16-05-05 04:00",
          "s16-05-05 05:00",
          "s16-05-05 06:00",
          "s16-05-05 07:00",
          "s16-05-05 08:00",
          "s16-05-05 09:00",
          "s16-05-05 10:00",
          "s16-05-05 11:00",
          "s16-05-05 12:00",
          "s16-05-05 13:00",
          "s16-05-05 14:00",
          "s16-05-05 15:00",
          "s16-05-05 16:00",
          "s16-05-05 17:00",
          "s16-05-05 18:00",
          "s16-05-05 19:00",
          "s16-05-05 20:00",
          "s16-05-05 21:00",
          "s16-05-05 22:00",
          "s16-05-05 23:00",
          "s16-05-06 00:00",
          "s16-05-06 01:00",
          "s16-05-06 02:00",
          "s16-05-06 03:00",
          "s16-05-06 04:00",
          "s16-05-06 05:00",
          "s16-05-06 06:00",
          "s16-05-06 07:00",
          "s16-05-06 08:00",
          "s16-05-06 09:00",
          "s16-05-06 10:00",
          "s16-05-06 11:00",
          "s16-05-06 12:00",
          "s16-05-06 13:00",
          "s16-05-06 14:00",
          "s16-05-06 15:00",
          "s16-05-06 16:00",
          "s16-05-06 17:00",
          "s16-05-06 18:00",
          "s16-05-06 19:00",
          "s16-05-06 20:00",
          "s16-05-08 21:00",
          "s16-05-08 22:00",
          "s16-05-08 23:00",
          "s16-05-09 00:00",
          "s16-05-09 01:00",
          "s16-05-09 02:00",
          "s16-05-09 03:00",
          "s16-05-09 04:00",
          "s16-05-09 05:00",
          "s16-05-09 06:00",
          "s16-05-09 07:00",
          "s16-05-09 08:00",
          "s16-05-09 09:00",
          "s16-05-09 10:00",
          "s16-05-09 11:00",
          "s16-05-09 12:00",
          "s16-05-09 13:00",
          "s16-05-09 14:00",
          "s16-05-09 15:00",
          "s16-05-09 16:00",
          "s16-05-09 17:00",
          "s16-05-09 18:00",
          "s16-05-09 19:00",
          "s16-05-09 20:00",
          "s16-05-09 21:00",
          "s16-05-09 22:00",
          "s16-05-09 23:00",
          "s16-05-10 00:00",
          "s16-05-10 01:00",
          "s16-05-10 02:00",
          "s16-05-10 03:00",
          "s16-05-10 04:00",
          "s16-05-10 05:00",
          "s16-05-10 06:00",
          "s16-05-10 07:00",
          "s16-05-10 08:00",
          "s16-05-10 09:00",
          "s16-05-10 10:00",
          "s16-05-10 11:00",
          "s16-05-10 12:00",
          "s16-05-10 13:00",
          "s16-05-10 14:00",
          "s16-05-10 15:00",
          "s16-05-10 16:00",
          "s16-05-10 17:00",
          "s16-05-10 18:00",
          "s16-05-10 19:00",
          "s16-05-10 20:00",
          "s16-05-10 21:00",
          "s16-05-10 22:00",
          "s16-05-10 23:00",
          "s16-05-11 00:00",
          "s16-05-11 01:00",
          "s16-05-11 02:00",
          "s16-05-11 03:00",
          "s16-05-11 04:00",
          "s16-05-11 05:00",
          "s16-05-11 06:00",
          "s16-05-11 07:00",
          "s16-05-11 08:00",
          "s16-05-11 09:00",
          "s16-05-11 10:00",
          "s16-05-11 11:00",
          "s16-05-11 12:00",
          "s16-05-11 13:00",
          "s16-05-11 14:00",
          "s16-05-11 15:00",
          "s16-05-11 16:00",
          "s16-05-11 17:00",
          "s16-05-11 18:00",
          "s16-05-11 19:00",
          "s16-05-11 20:00",
          "s16-05-11 21:00",
          "s16-05-11 22:00",
          "s16-05-11 23:00",
          "s16-05-12 00:00",
          "s16-05-12 01:00",
          "s16-05-12 02:00",
          "s16-05-12 03:00",
          "s16-05-12 04:00",
          "s16-05-12 05:00",
          "s16-05-12 06:00",
          "s16-05-12 07:00",
          "s16-05-12 08:00",
          "s16-05-12 09:00",
          "s16-05-12 10:00",
          "s16-05-12 11:00",
          "s16-05-12 12:00",
          "s16-05-12 13:00",
          "s16-05-12 14:00",
          "s16-05-12 15:00",
          "s16-05-12 16:00",
          "s16-05-12 17:00",
          "s16-05-12 18:00",
          "s16-05-12 19:00",
          "s16-05-12 20:00",
          "s16-05-12 21:00",
          "s16-05-12 22:00",
          "s16-05-12 23:00",
          "s16-05-13 00:00",
          "s16-05-13 01:00",
          "s16-05-13 02:00",
          "s16-05-13 03:00",
          "s16-05-13 04:00",
          "s16-05-13 05:00",
          "s16-05-13 06:00",
          "s16-05-13 07:00",
          "s16-05-13 08:00",
          "s16-05-13 09:00",
          "s16-05-13 10:00",
          "s16-05-13 11:00",
          "s16-05-13 12:00",
          "s16-05-13 13:00",
          "s16-05-13 14:00",
          "s16-05-13 15:00",
          "s16-05-13 16:00",
          "s16-05-13 17:00",
          "s16-05-13 18:00",
          "s16-05-13 19:00",
          "s16-05-13 20:00",
          "s16-05-15 21:00",
          "s16-05-15 22:00",
          "s16-05-15 23:00",
          "s16-05-16 00:00",
          "s16-05-16 01:00",
          "s16-05-16 02:00",
          "s16-05-16 03:00",
          "s16-05-16 04:00",
          "s16-05-16 05:00",
          "s16-05-16 06:00",
          "s16-05-16 07:00",
          "s16-05-16 08:00",
          "s16-05-16 09:00",
          "s16-05-16 10:00",
          "s16-05-16 11:00",
          "s16-05-16 12:00",
          "s16-05-16 13:00",
          "s16-05-16 14:00",
          "s16-05-16 15:00",
          "s16-05-16 16:00",
          "s16-05-16 17:00",
          "s16-05-16 18:00",
          "s16-05-16 19:00",
          "s16-05-16 20:00",
          "s16-05-16 21:00",
          "s16-05-16 22:00",
          "s16-05-16 23:00",
          "s16-05-17 00:00",
          "s16-05-17 01:00",
          "s16-05-17 02:00",
          "s16-05-17 03:00",
          "s16-05-17 04:00",
          "s16-05-17 05:00",
          "s16-05-17 06:00",
          "s16-05-17 07:00",
          "s16-05-17 08:00",
          "s16-05-17 09:00",
          "s16-05-17 10:00",
          "s16-05-17 11:00",
          "s16-05-17 12:00",
          "s16-05-17 13:00",
          "s16-05-17 14:00",
          "s16-05-17 15:00",
          "s16-05-17 16:00",
          "s16-05-17 17:00",
          "s16-05-17 18:00",
          "s16-05-17 19:00",
          "s16-05-17 20:00",
          "s16-05-17 21:00",
          "s16-05-17 22:00",
          "s16-05-17 23:00",
          "s16-05-18 00:00",
          "s16-05-18 01:00",
          "s16-05-18 02:00",
          "s16-05-18 03:00",
          "s16-05-18 04:00",
          "s16-05-18 05:00",
          "s16-05-18 06:00",
          "s16-05-18 07:00",
          "s16-05-18 08:00",
          "s16-05-18 09:00",
          "s16-05-18 10:00",
          "s16-05-18 11:00",
          "s16-05-18 12:00",
          "s16-05-18 13:00",
          "s16-05-18 14:00",
          "s16-05-18 15:00",
          "s16-05-18 16:00",
          "s16-05-18 17:00",
          "s16-05-18 18:00",
          "s16-05-18 19:00",
          "s16-05-18 20:00",
          "s16-05-18 21:00",
          "s16-05-18 22:00",
          "s16-05-18 23:00",
          "s16-05-19 00:00",
          "s16-05-19 01:00",
          "s16-05-19 02:00",
          "s16-05-19 03:00",
          "s16-05-19 04:00",
          "s16-05-19 05:00",
          "s16-05-19 06:00",
          "s16-05-19 07:00",
          "s16-05-19 08:00",
          "s16-05-19 09:00",
          "s16-05-19 10:00",
          "s16-05-19 11:00",
          "s16-05-19 12:00",
          "s16-05-19 13:00",
          "s16-05-19 14:00",
          "s16-05-19 15:00",
          "s16-05-19 16:00",
          "s16-05-19 17:00",
          "s16-05-19 18:00"
         ]
        },
        {
         "close": [
          154.728,
          157.46
         ],
         "decreasing": {
          "fillcolor": "#0066FF",
          "line": {
           "color": "#0066FF"
          }
         },
         "high": [
          155.356,
          157.874
         ],
         "increasing": {
          "fillcolor": "#0066FF",
          "line": {
           "color": "#0066FF"
          }
         },
         "line": {
          "width": 1
         },
         "low": [
          154.717,
          157.454
         ],
         "opacity": 1,
         "open": [
          155.356,
          157.874
         ],
         "type": "candlestick",
         "x": [
          "s16-05-04 08:00",
          "s16-05-10 10:00"
         ]
        }
       ],
       "layout": {
        "font": {
         "color": "#e1e1e1",
         "size": 12
        },
        "height": 400,
        "margin": {
         "b": 10,
         "l": 10,
         "r": 10,
         "t": 10
        },
        "paper_bgcolor": "#2c303c",
        "plot_bgcolor": "#2c303c",
        "template": {
         "data": {
          "bar": [
           {
            "error_x": {
             "color": "#2a3f5f"
            },
            "error_y": {
             "color": "#2a3f5f"
            },
            "marker": {
             "line": {
              "color": "#E5ECF6",
              "width": 0.5
             },
             "pattern": {
              "fillmode": "overlay",
              "size": 10,
              "solidity": 0.2
             }
            },
            "type": "bar"
           }
          ],
          "barpolar": [
           {
            "marker": {
             "line": {
              "color": "#E5ECF6",
              "width": 0.5
             },
             "pattern": {
              "fillmode": "overlay",
              "size": 10,
              "solidity": 0.2
             }
            },
            "type": "barpolar"
           }
          ],
          "carpet": [
           {
            "aaxis": {
             "endlinecolor": "#2a3f5f",
             "gridcolor": "white",
             "linecolor": "white",
             "minorgridcolor": "white",
             "startlinecolor": "#2a3f5f"
            },
            "baxis": {
             "endlinecolor": "#2a3f5f",
             "gridcolor": "white",
             "linecolor": "white",
             "minorgridcolor": "white",
             "startlinecolor": "#2a3f5f"
            },
            "type": "carpet"
           }
          ],
          "choropleth": [
           {
            "colorbar": {
             "outlinewidth": 0,
             "ticks": ""
            },
            "type": "choropleth"
           }
          ],
          "contour": [
           {
            "colorbar": {
             "outlinewidth": 0,
             "ticks": ""
            },
            "colorscale": [
             [
              0,
              "#0d0887"
             ],
             [
              0.1111111111111111,
              "#46039f"
             ],
             [
              0.2222222222222222,
              "#7201a8"
             ],
             [
              0.3333333333333333,
              "#9c179e"
             ],
             [
              0.4444444444444444,
              "#bd3786"
             ],
             [
              0.5555555555555556,
              "#d8576b"
             ],
             [
              0.6666666666666666,
              "#ed7953"
             ],
             [
              0.7777777777777778,
              "#fb9f3a"
             ],
             [
              0.8888888888888888,
              "#fdca26"
             ],
             [
              1,
              "#f0f921"
             ]
            ],
            "type": "contour"
           }
          ],
          "contourcarpet": [
           {
            "colorbar": {
             "outlinewidth": 0,
             "ticks": ""
            },
            "type": "contourcarpet"
           }
          ],
          "heatmap": [
           {
            "colorbar": {
             "outlinewidth": 0,
             "ticks": ""
            },
            "colorscale": [
             [
              0,
              "#0d0887"
             ],
             [
              0.1111111111111111,
              "#46039f"
             ],
             [
              0.2222222222222222,
              "#7201a8"
             ],
             [
              0.3333333333333333,
              "#9c179e"
             ],
             [
              0.4444444444444444,
              "#bd3786"
             ],
             [
              0.5555555555555556,
              "#d8576b"
             ],
             [
              0.6666666666666666,
              "#ed7953"
             ],
             [
              0.7777777777777778,
              "#fb9f3a"
             ],
             [
              0.8888888888888888,
              "#fdca26"
             ],
             [
              1,
              "#f0f921"
             ]
            ],
            "type": "heatmap"
           }
          ],
          "heatmapgl": [
           {
            "colorbar": {
             "outlinewidth": 0,
             "ticks": ""
            },
            "colorscale": [
             [
              0,
              "#0d0887"
             ],
             [
              0.1111111111111111,
              "#46039f"
             ],
             [
              0.2222222222222222,
              "#7201a8"
             ],
             [
              0.3333333333333333,
              "#9c179e"
             ],
             [
              0.4444444444444444,
              "#bd3786"
             ],
             [
              0.5555555555555556,
              "#d8576b"
             ],
             [
              0.6666666666666666,
              "#ed7953"
             ],
             [
              0.7777777777777778,
              "#fb9f3a"
             ],
             [
              0.8888888888888888,
              "#fdca26"
             ],
             [
              1,
              "#f0f921"
             ]
            ],
            "type": "heatmapgl"
           }
          ],
          "histogram": [
           {
            "marker": {
             "pattern": {
              "fillmode": "overlay",
              "size": 10,
              "solidity": 0.2
             }
            },
            "type": "histogram"
           }
          ],
          "histogram2d": [
           {
            "colorbar": {
             "outlinewidth": 0,
             "ticks": ""
            },
            "colorscale": [
             [
              0,
              "#0d0887"
             ],
             [
              0.1111111111111111,
              "#46039f"
             ],
             [
              0.2222222222222222,
              "#7201a8"
             ],
             [
              0.3333333333333333,
              "#9c179e"
             ],
             [
              0.4444444444444444,
              "#bd3786"
             ],
             [
              0.5555555555555556,
              "#d8576b"
             ],
             [
              0.6666666666666666,
              "#ed7953"
             ],
             [
              0.7777777777777778,
              "#fb9f3a"
             ],
             [
              0.8888888888888888,
              "#fdca26"
             ],
             [
              1,
              "#f0f921"
             ]
            ],
            "type": "histogram2d"
           }
          ],
          "histogram2dcontour": [
           {
            "colorbar": {
             "outlinewidth": 0,
             "ticks": ""
            },
            "colorscale": [
             [
              0,
              "#0d0887"
             ],
             [
              0.1111111111111111,
              "#46039f"
             ],
             [
              0.2222222222222222,
              "#7201a8"
             ],
             [
              0.3333333333333333,
              "#9c179e"
             ],
             [
              0.4444444444444444,
              "#bd3786"
             ],
             [
              0.5555555555555556,
              "#d8576b"
             ],
             [
              0.6666666666666666,
              "#ed7953"
             ],
             [
              0.7777777777777778,
              "#fb9f3a"
             ],
             [
              0.8888888888888888,
              "#fdca26"
             ],
             [
              1,
              "#f0f921"
             ]
            ],
            "type": "histogram2dcontour"
           }
          ],
          "mesh3d": [
           {
            "colorbar": {
             "outlinewidth": 0,
             "ticks": ""
            },
            "type": "mesh3d"
           }
          ],
          "parcoords": [
           {
            "line": {
             "colorbar": {
              "outlinewidth": 0,
              "ticks": ""
             }
            },
            "type": "parcoords"
           }
          ],
          "pie": [
           {
            "automargin": true,
            "type": "pie"
           }
          ],
          "scatter": [
           {
            "fillpattern": {
             "fillmode": "overlay",
             "size": 10,
             "solidity": 0.2
            },
            "type": "scatter"
           }
          ],
          "scatter3d": [
           {
            "line": {
             "colorbar": {
              "outlinewidth": 0,
              "ticks": ""
             }
            },
            "marker": {
             "colorbar": {
              "outlinewidth": 0,
              "ticks": ""
             }
            },
            "type": "scatter3d"
           }
          ],
          "scattercarpet": [
           {
            "marker": {
             "colorbar": {
              "outlinewidth": 0,
              "ticks": ""
             }
            },
            "type": "scattercarpet"
           }
          ],
          "scattergeo": [
           {
            "marker": {
             "colorbar": {
              "outlinewidth": 0,
              "ticks": ""
             }
            },
            "type": "scattergeo"
           }
          ],
          "scattergl": [
           {
            "marker": {
             "colorbar": {
              "outlinewidth": 0,
              "ticks": ""
             }
            },
            "type": "scattergl"
           }
          ],
          "scattermapbox": [
           {
            "marker": {
             "colorbar": {
              "outlinewidth": 0,
              "ticks": ""
             }
            },
            "type": "scattermapbox"
           }
          ],
          "scatterpolar": [
           {
            "marker": {
             "colorbar": {
              "outlinewidth": 0,
              "ticks": ""
             }
            },
            "type": "scatterpolar"
           }
          ],
          "scatterpolargl": [
           {
            "marker": {
             "colorbar": {
              "outlinewidth": 0,
              "ticks": ""
             }
            },
            "type": "scatterpolargl"
           }
          ],
          "scatterternary": [
           {
            "marker": {
             "colorbar": {
              "outlinewidth": 0,
              "ticks": ""
             }
            },
            "type": "scatterternary"
           }
          ],
          "surface": [
           {
            "colorbar": {
             "outlinewidth": 0,
             "ticks": ""
            },
            "colorscale": [
             [
              0,
              "#0d0887"
             ],
             [
              0.1111111111111111,
              "#46039f"
             ],
             [
              0.2222222222222222,
              "#7201a8"
             ],
             [
              0.3333333333333333,
              "#9c179e"
             ],
             [
              0.4444444444444444,
              "#bd3786"
             ],
             [
              0.5555555555555556,
              "#d8576b"
             ],
             [
              0.6666666666666666,
              "#ed7953"
             ],
             [
              0.7777777777777778,
              "#fb9f3a"
             ],
             [
              0.8888888888888888,
              "#fdca26"
             ],
             [
              1,
              "#f0f921"
             ]
            ],
            "type": "surface"
           }
          ],
          "table": [
           {
            "cells": {
             "fill": {
              "color": "#EBF0F8"
             },
             "line": {
              "color": "white"
             }
            },
            "header": {
             "fill": {
              "color": "#C8D4E3"
             },
             "line": {
              "color": "white"
             }
            },
            "type": "table"
           }
          ]
         },
         "layout": {
          "annotationdefaults": {
           "arrowcolor": "#2a3f5f",
           "arrowhead": 0,
           "arrowwidth": 1
          },
          "autotypenumbers": "strict",
          "coloraxis": {
           "colorbar": {
            "outlinewidth": 0,
            "ticks": ""
           }
          },
          "colorscale": {
           "diverging": [
            [
             0,
             "#8e0152"
            ],
            [
             0.1,
             "#c51b7d"
            ],
            [
             0.2,
             "#de77ae"
            ],
            [
             0.3,
             "#f1b6da"
            ],
            [
             0.4,
             "#fde0ef"
            ],
            [
             0.5,
             "#f7f7f7"
            ],
            [
             0.6,
             "#e6f5d0"
            ],
            [
             0.7,
             "#b8e186"
            ],
            [
             0.8,
             "#7fbc41"
            ],
            [
             0.9,
             "#4d9221"
            ],
            [
             1,
             "#276419"
            ]
           ],
           "sequential": [
            [
             0,
             "#0d0887"
            ],
            [
             0.1111111111111111,
             "#46039f"
            ],
            [
             0.2222222222222222,
             "#7201a8"
            ],
            [
             0.3333333333333333,
             "#9c179e"
            ],
            [
             0.4444444444444444,
             "#bd3786"
            ],
            [
             0.5555555555555556,
             "#d8576b"
            ],
            [
             0.6666666666666666,
             "#ed7953"
            ],
            [
             0.7777777777777778,
             "#fb9f3a"
            ],
            [
             0.8888888888888888,
             "#fdca26"
            ],
            [
             1,
             "#f0f921"
            ]
           ],
           "sequentialminus": [
            [
             0,
             "#0d0887"
            ],
            [
             0.1111111111111111,
             "#46039f"
            ],
            [
             0.2222222222222222,
             "#7201a8"
            ],
            [
             0.3333333333333333,
             "#9c179e"
            ],
            [
             0.4444444444444444,
             "#bd3786"
            ],
            [
             0.5555555555555556,
             "#d8576b"
            ],
            [
             0.6666666666666666,
             "#ed7953"
            ],
            [
             0.7777777777777778,
             "#fb9f3a"
            ],
            [
             0.8888888888888888,
             "#fdca26"
            ],
            [
             1,
             "#f0f921"
            ]
           ]
          },
          "colorway": [
           "#636efa",
           "#EF553B",
           "#00cc96",
           "#ab63fa",
           "#FFA15A",
           "#19d3f3",
           "#FF6692",
           "#B6E880",
           "#FF97FF",
           "#FECB52"
          ],
          "font": {
           "color": "#2a3f5f"
          },
          "geo": {
           "bgcolor": "white",
           "lakecolor": "white",
           "landcolor": "#E5ECF6",
           "showlakes": true,
           "showland": true,
           "subunitcolor": "white"
          },
          "hoverlabel": {
           "align": "left"
          },
          "hovermode": "closest",
          "mapbox": {
           "style": "light"
          },
          "paper_bgcolor": "white",
          "plot_bgcolor": "#E5ECF6",
          "polar": {
           "angularaxis": {
            "gridcolor": "white",
            "linecolor": "white",
            "ticks": ""
           },
           "bgcolor": "#E5ECF6",
           "radialaxis": {
            "gridcolor": "white",
            "linecolor": "white",
            "ticks": ""
           }
          },
          "scene": {
           "xaxis": {
            "backgroundcolor": "#E5ECF6",
            "gridcolor": "white",
            "gridwidth": 2,
            "linecolor": "white",
            "showbackground": true,
            "ticks": "",
            "zerolinecolor": "white"
           },
           "yaxis": {
            "backgroundcolor": "#E5ECF6",
            "gridcolor": "white",
            "gridwidth": 2,
            "linecolor": "white",
            "showbackground": true,
            "ticks": "",
            "zerolinecolor": "white"
           },
           "zaxis": {
            "backgroundcolor": "#E5ECF6",
            "gridcolor": "white",
            "gridwidth": 2,
            "linecolor": "white",
            "showbackground": true,
            "ticks": "",
            "zerolinecolor": "white"
           }
          },
          "shapedefaults": {
           "line": {
            "color": "#2a3f5f"
           }
          },
          "ternary": {
           "aaxis": {
            "gridcolor": "white",
            "linecolor": "white",
            "ticks": ""
           },
           "baxis": {
            "gridcolor": "white",
            "linecolor": "white",
            "ticks": ""
           },
           "bgcolor": "#E5ECF6",
           "caxis": {
            "gridcolor": "white",
            "linecolor": "white",
            "ticks": ""
           }
          },
          "title": {
           "x": 0.05
          },
          "xaxis": {
           "automargin": true,
           "gridcolor": "white",
           "linecolor": "white",
           "ticks": "",
           "title": {
            "standoff": 15
           },
           "zerolinecolor": "white",
           "zerolinewidth": 2
          },
          "yaxis": {
           "automargin": true,
           "gridcolor": "white",
           "linecolor": "white",
           "ticks": "",
           "title": {
            "standoff": 15
           },
           "zerolinecolor": "white",
           "zerolinewidth": 2
          }
         }
        },
        "width": 900,
        "xaxis": {
         "anchor": "y",
         "domain": [
          0,
          0.94
         ],
         "gridcolor": "#1f292f",
         "nticks": 5,
         "rangeslider": {
          "visible": false
         }
        },
        "yaxis": {
         "anchor": "x",
         "domain": [
          0,
          1
         ],
         "gridcolor": "#1f292f"
        },
        "yaxis2": {
         "anchor": "x",
         "gridcolor": "#1f292f",
         "overlaying": "y",
         "side": "right"
        }
       }
      }
     },
     "metadata": {},
     "output_type": "display_data"
    }
   ],
   "source": [
    "MARKER = '#0066FF'\n",
    "dfp = df_an.iloc[2000:2300]\n",
    "cp = CandlePlot(dfp, candles=True)\n",
    "df_temp = cp.df_plot[cp.df_plot.MARUBOZU == True]\n",
    "cp.fig.add_trace(go.Candlestick(\n",
    "                x = df_temp.sTime,\n",
    "                open = df_temp.mid_o,\n",
    "                high = df_temp.mid_h,\n",
    "                low = df_temp.mid_l,\n",
    "                close = df_temp.mid_c,\n",
    "                line = dict(width=1), \n",
    "                opacity = 1,\n",
    "                increasing_fillcolor=MARKER,\n",
    "                decreasing_fillcolor=MARKER,\n",
    "                increasing_line_color=MARKER,\n",
    "                decreasing_line_color=MARKER,\n",
    "            ))\n",
    "\n",
    "cp.show_plot()"
   ]
  },
  {
   "cell_type": "code",
   "execution_count": null,
   "metadata": {},
   "outputs": [],
   "source": []
  },
  {
   "cell_type": "code",
   "execution_count": null,
   "metadata": {},
   "outputs": [],
   "source": []
  },
  {
   "cell_type": "code",
   "execution_count": null,
   "metadata": {},
   "outputs": [],
   "source": []
  }
 ],
 "metadata": {
  "kernelspec": {
   "display_name": "venv",
   "language": "python",
   "name": "python3"
  },
  "language_info": {
   "codemirror_mode": {
    "name": "ipython",
    "version": 3
   },
   "file_extension": ".py",
   "mimetype": "text/x-python",
   "name": "python",
   "nbconvert_exporter": "python",
   "pygments_lexer": "ipython3",
   "version": "3.11.1"
  },
  "orig_nbformat": 4
 },
 "nbformat": 4,
 "nbformat_minor": 2
}
