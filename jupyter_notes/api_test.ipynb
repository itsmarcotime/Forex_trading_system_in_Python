{
 "cells": [
  {
   "cell_type": "code",
   "execution_count": 2,
   "metadata": {},
   "outputs": [],
   "source": [
    "import requests\n",
    "import pandas as pd\n",
    "import json"
   ]
  },
  {
   "cell_type": "code",
   "execution_count": 3,
   "metadata": {},
   "outputs": [],
   "source": [
    "API_KEY = \"667e94661abb533b7c59e065eed32b7a-e8470dd11ead1617b105cb8843647d6c\"\n",
    "ACCOUNT_ID = \"101-001-25318071-001\"\n",
    "OANDA_URL = \"https://api-fxpractice.oanda.com/v3\""
   ]
  },
  {
   "cell_type": "code",
   "execution_count": 4,
   "metadata": {},
   "outputs": [],
   "source": [
    "session = requests.Session()"
   ]
  },
  {
   "cell_type": "code",
   "execution_count": 6,
   "metadata": {},
   "outputs": [],
   "source": [
    "session.headers.update({\n",
    "    \"Authorization\": f\"Bearer {API_KEY}\",\n",
    "    \"Content-Type\": \"application/json\"\n",
    "})"
   ]
  },
  {
   "cell_type": "code",
   "execution_count": 12,
   "metadata": {},
   "outputs": [],
   "source": [
    "params = dict(\n",
    "    count = 10,\n",
    "    granularity = \"H1\",\n",
    "    price = \"MBA\"\n",
    ")"
   ]
  },
  {
   "cell_type": "code",
   "execution_count": 17,
   "metadata": {},
   "outputs": [],
   "source": [
    "url = f\"{OANDA_URL}/accounts/{ACCOUNT_ID}/instruments\""
   ]
  },
  {
   "cell_type": "code",
   "execution_count": 18,
   "metadata": {},
   "outputs": [],
   "source": [
    "response = session.get(url, params=None, data=None, headers=None)"
   ]
  },
  {
   "cell_type": "code",
   "execution_count": 19,
   "metadata": {},
   "outputs": [
    {
     "data": {
      "text/plain": [
       "200"
      ]
     },
     "execution_count": 19,
     "metadata": {},
     "output_type": "execute_result"
    }
   ],
   "source": [
    "response.status_code"
   ]
  },
  {
   "cell_type": "code",
   "execution_count": 20,
   "metadata": {},
   "outputs": [],
   "source": [
    "data = response.json()"
   ]
  },
  {
   "cell_type": "code",
   "execution_count": 24,
   "metadata": {},
   "outputs": [],
   "source": [
    "instruments_list = data['instruments']"
   ]
  },
  {
   "cell_type": "code",
   "execution_count": 25,
   "metadata": {},
   "outputs": [
    {
     "data": {
      "text/plain": [
       "68"
      ]
     },
     "execution_count": 25,
     "metadata": {},
     "output_type": "execute_result"
    }
   ],
   "source": [
    "len(instruments_list)"
   ]
  },
  {
   "cell_type": "code",
   "execution_count": 27,
   "metadata": {},
   "outputs": [
    {
     "data": {
      "text/plain": [
       "dict_keys(['name', 'type', 'displayName', 'pipLocation', 'displayPrecision', 'tradeUnitsPrecision', 'minimumTradeSize', 'maximumTrailingStopDistance', 'minimumTrailingStopDistance', 'maximumPositionSize', 'maximumOrderUnits', 'marginRate', 'guaranteedStopLossOrderMode', 'tags', 'financing'])"
      ]
     },
     "execution_count": 27,
     "metadata": {},
     "output_type": "execute_result"
    }
   ],
   "source": [
    "instruments_list[0].keys()"
   ]
  },
  {
   "cell_type": "code",
   "execution_count": 28,
   "metadata": {},
   "outputs": [],
   "source": [
    "key_inst = ['name', 'type', 'displayName', 'pipLocation', 'displayPrecision', 'tradeUnitsPrecision', 'marginRate']"
   ]
  },
  {
   "cell_type": "code",
   "execution_count": 30,
   "metadata": {},
   "outputs": [],
   "source": [
    "instruments_dict = {}\n",
    "\n",
    "for i in instruments_list:\n",
    "    key = i['name']\n",
    "    instruments_dict[key] = { k: i[k] for k in key_inst}"
   ]
  },
  {
   "cell_type": "code",
   "execution_count": 32,
   "metadata": {},
   "outputs": [
    {
     "data": {
      "text/plain": [
       "{'name': 'USD_CAD',\n",
       " 'type': 'CURRENCY',\n",
       " 'displayName': 'USD/CAD',\n",
       " 'pipLocation': -4,\n",
       " 'displayPrecision': 5,\n",
       " 'tradeUnitsPrecision': 0,\n",
       " 'marginRate': '0.02'}"
      ]
     },
     "execution_count": 32,
     "metadata": {},
     "output_type": "execute_result"
    }
   ],
   "source": [
    "instruments_dict['USD_CAD']"
   ]
  },
  {
   "cell_type": "code",
   "execution_count": 33,
   "metadata": {},
   "outputs": [],
   "source": [
    "with open(\"../data/instruments.json\", \"w\") as f:\n",
    "    f.write(json.dumps(instruments_dict, indent=2))"
   ]
  },
  {
   "cell_type": "code",
   "execution_count": 34,
   "metadata": {},
   "outputs": [],
   "source": [
    "def fetch_candles(pair_name, count=10, granularity=\"H1\"):\n",
    "    url = f\"{OANDA_URL}/instruments/{pair_name}/candles\"\n",
    "    params = dict(\n",
    "        count = count,\n",
    "        granularity = granularity,\n",
    "        price = \"MBA\"\n",
    "        )\n",
    "    response = session.get(url, params=params, data=None, headers=None)\n",
    "    data = response.json()\n",
    "\n",
    "    if response.status_code == 200:\n",
    "        if \"candles\" not in data:\n",
    "            data = []\n",
    "        else: \n",
    "            data = data['candles']\n",
    "    return response.status_code, data"
   ]
  },
  {
   "cell_type": "code",
   "execution_count": 35,
   "metadata": {},
   "outputs": [],
   "source": [
    "code, data = fetch_candles(\"EUR_USD\", count=20)"
   ]
  },
  {
   "cell_type": "code",
   "execution_count": 36,
   "metadata": {},
   "outputs": [
    {
     "data": {
      "text/plain": [
       "200"
      ]
     },
     "execution_count": 36,
     "metadata": {},
     "output_type": "execute_result"
    }
   ],
   "source": [
    "code"
   ]
  },
  {
   "cell_type": "code",
   "execution_count": 37,
   "metadata": {},
   "outputs": [
    {
     "data": {
      "text/plain": [
       "20"
      ]
     },
     "execution_count": 37,
     "metadata": {},
     "output_type": "execute_result"
    }
   ],
   "source": [
    "len(data)"
   ]
  },
  {
   "cell_type": "code",
   "execution_count": 38,
   "metadata": {},
   "outputs": [
    {
     "data": {
      "text/plain": [
       "[{'complete': True,\n",
       "  'volume': 4910,\n",
       "  'time': '2023-08-08T08:00:00.000000000Z',\n",
       "  'bid': {'o': '1.09780', 'h': '1.09867', 'l': '1.09742', 'c': '1.09847'},\n",
       "  'mid': {'o': '1.09787', 'h': '1.09874', 'l': '1.09749', 'c': '1.09855'},\n",
       "  'ask': {'o': '1.09794', 'h': '1.09881', 'l': '1.09756', 'c': '1.09863'}},\n",
       " {'complete': True,\n",
       "  'volume': 5024,\n",
       "  'time': '2023-08-08T09:00:00.000000000Z',\n",
       "  'bid': {'o': '1.09847', 'h': '1.09857', 'l': '1.09663', 'c': '1.09700'},\n",
       "  'mid': {'o': '1.09856', 'h': '1.09865', 'l': '1.09670', 'c': '1.09708'},\n",
       "  'ask': {'o': '1.09864', 'h': '1.09873', 'l': '1.09678', 'c': '1.09717'}},\n",
       " {'complete': True,\n",
       "  'volume': 4952,\n",
       "  'time': '2023-08-08T10:00:00.000000000Z',\n",
       "  'bid': {'o': '1.09699', 'h': '1.09712', 'l': '1.09512', 'c': '1.09529'},\n",
       "  'mid': {'o': '1.09707', 'h': '1.09720', 'l': '1.09520', 'c': '1.09536'},\n",
       "  'ask': {'o': '1.09715', 'h': '1.09728', 'l': '1.09527', 'c': '1.09544'}},\n",
       " {'complete': True,\n",
       "  'volume': 5199,\n",
       "  'time': '2023-08-08T11:00:00.000000000Z',\n",
       "  'bid': {'o': '1.09530', 'h': '1.09563', 'l': '1.09361', 'c': '1.09407'},\n",
       "  'mid': {'o': '1.09538', 'h': '1.09571', 'l': '1.09369', 'c': '1.09415'},\n",
       "  'ask': {'o': '1.09546', 'h': '1.09579', 'l': '1.09377', 'c': '1.09423'}},\n",
       " {'complete': True,\n",
       "  'volume': 6783,\n",
       "  'time': '2023-08-08T12:00:00.000000000Z',\n",
       "  'bid': {'o': '1.09406', 'h': '1.09505', 'l': '1.09340', 'c': '1.09425'},\n",
       "  'mid': {'o': '1.09414', 'h': '1.09512', 'l': '1.09348', 'c': '1.09432'},\n",
       "  'ask': {'o': '1.09421', 'h': '1.09519', 'l': '1.09356', 'c': '1.09440'}},\n",
       " {'complete': True,\n",
       "  'volume': 7500,\n",
       "  'time': '2023-08-08T13:00:00.000000000Z',\n",
       "  'bid': {'o': '1.09422', 'h': '1.09552', 'l': '1.09325', 'c': '1.09375'},\n",
       "  'mid': {'o': '1.09430', 'h': '1.09560', 'l': '1.09332', 'c': '1.09382'},\n",
       "  'ask': {'o': '1.09438', 'h': '1.09569', 'l': '1.09340', 'c': '1.09389'}},\n",
       " {'complete': True,\n",
       "  'volume': 6944,\n",
       "  'time': '2023-08-08T14:00:00.000000000Z',\n",
       "  'bid': {'o': '1.09373', 'h': '1.09519', 'l': '1.09283', 'c': '1.09450'},\n",
       "  'mid': {'o': '1.09380', 'h': '1.09526', 'l': '1.09290', 'c': '1.09457'},\n",
       "  'ask': {'o': '1.09387', 'h': '1.09534', 'l': '1.09298', 'c': '1.09464'}},\n",
       " {'complete': True,\n",
       "  'volume': 4735,\n",
       "  'time': '2023-08-08T15:00:00.000000000Z',\n",
       "  'bid': {'o': '1.09451', 'h': '1.09549', 'l': '1.09407', 'c': '1.09494'},\n",
       "  'mid': {'o': '1.09458', 'h': '1.09556', 'l': '1.09414', 'c': '1.09502'},\n",
       "  'ask': {'o': '1.09466', 'h': '1.09563', 'l': '1.09422', 'c': '1.09510'}},\n",
       " {'complete': True,\n",
       "  'volume': 3654,\n",
       "  'time': '2023-08-08T16:00:00.000000000Z',\n",
       "  'bid': {'o': '1.09495', 'h': '1.09571', 'l': '1.09470', 'c': '1.09475'},\n",
       "  'mid': {'o': '1.09502', 'h': '1.09578', 'l': '1.09478', 'c': '1.09483'},\n",
       "  'ask': {'o': '1.09510', 'h': '1.09586', 'l': '1.09486', 'c': '1.09491'}},\n",
       " {'complete': True,\n",
       "  'volume': 3495,\n",
       "  'time': '2023-08-08T17:00:00.000000000Z',\n",
       "  'bid': {'o': '1.09475', 'h': '1.09605', 'l': '1.09470', 'c': '1.09589'},\n",
       "  'mid': {'o': '1.09482', 'h': '1.09612', 'l': '1.09478', 'c': '1.09597'},\n",
       "  'ask': {'o': '1.09490', 'h': '1.09619', 'l': '1.09485', 'c': '1.09605'}},\n",
       " {'complete': True,\n",
       "  'volume': 3656,\n",
       "  'time': '2023-08-08T18:00:00.000000000Z',\n",
       "  'bid': {'o': '1.09589', 'h': '1.09599', 'l': '1.09516', 'c': '1.09585'},\n",
       "  'mid': {'o': '1.09598', 'h': '1.09606', 'l': '1.09523', 'c': '1.09593'},\n",
       "  'ask': {'o': '1.09606', 'h': '1.09614', 'l': '1.09530', 'c': '1.09601'}},\n",
       " {'complete': True,\n",
       "  'volume': 3034,\n",
       "  'time': '2023-08-08T19:00:00.000000000Z',\n",
       "  'bid': {'o': '1.09586', 'h': '1.09613', 'l': '1.09559', 'c': '1.09563'},\n",
       "  'mid': {'o': '1.09594', 'h': '1.09621', 'l': '1.09567', 'c': '1.09572'},\n",
       "  'ask': {'o': '1.09603', 'h': '1.09629', 'l': '1.09575', 'c': '1.09581'}},\n",
       " {'complete': True,\n",
       "  'volume': 946,\n",
       "  'time': '2023-08-08T20:00:00.000000000Z',\n",
       "  'bid': {'o': '1.09563', 'h': '1.09572', 'l': '1.09524', 'c': '1.09558'},\n",
       "  'mid': {'o': '1.09571', 'h': '1.09580', 'l': '1.09532', 'c': '1.09565'},\n",
       "  'ask': {'o': '1.09579', 'h': '1.09587', 'l': '1.09539', 'c': '1.09572'}},\n",
       " {'complete': True,\n",
       "  'volume': 734,\n",
       "  'time': '2023-08-08T21:00:00.000000000Z',\n",
       "  'bid': {'o': '1.09505', 'h': '1.09556', 'l': '1.09498', 'c': '1.09527'},\n",
       "  'mid': {'o': '1.09539', 'h': '1.09575', 'l': '1.09530', 'c': '1.09542'},\n",
       "  'ask': {'o': '1.09573', 'h': '1.09625', 'l': '1.09550', 'c': '1.09558'}},\n",
       " {'complete': True,\n",
       "  'volume': 997,\n",
       "  'time': '2023-08-08T22:00:00.000000000Z',\n",
       "  'bid': {'o': '1.09524', 'h': '1.09561', 'l': '1.09510', 'c': '1.09510'},\n",
       "  'mid': {'o': '1.09542', 'h': '1.09568', 'l': '1.09518', 'c': '1.09519'},\n",
       "  'ask': {'o': '1.09561', 'h': '1.09577', 'l': '1.09527', 'c': '1.09528'}},\n",
       " {'complete': True,\n",
       "  'volume': 1262,\n",
       "  'time': '2023-08-08T23:00:00.000000000Z',\n",
       "  'bid': {'o': '1.09510', 'h': '1.09589', 'l': '1.09510', 'c': '1.09584'},\n",
       "  'mid': {'o': '1.09518', 'h': '1.09597', 'l': '1.09518', 'c': '1.09592'},\n",
       "  'ask': {'o': '1.09527', 'h': '1.09605', 'l': '1.09526', 'c': '1.09601'}},\n",
       " {'complete': True,\n",
       "  'volume': 2597,\n",
       "  'time': '2023-08-09T00:00:00.000000000Z',\n",
       "  'bid': {'o': '1.09586', 'h': '1.09647', 'l': '1.09569', 'c': '1.09569'},\n",
       "  'mid': {'o': '1.09594', 'h': '1.09654', 'l': '1.09577', 'c': '1.09577'},\n",
       "  'ask': {'o': '1.09603', 'h': '1.09662', 'l': '1.09585', 'c': '1.09585'}},\n",
       " {'complete': True,\n",
       "  'volume': 4652,\n",
       "  'time': '2023-08-09T01:00:00.000000000Z',\n",
       "  'bid': {'o': '1.09567', 'h': '1.09691', 'l': '1.09545', 'c': '1.09628'},\n",
       "  'mid': {'o': '1.09576', 'h': '1.09699', 'l': '1.09553', 'c': '1.09636'},\n",
       "  'ask': {'o': '1.09584', 'h': '1.09707', 'l': '1.09560', 'c': '1.09643'}},\n",
       " {'complete': True,\n",
       "  'volume': 3553,\n",
       "  'time': '2023-08-09T02:00:00.000000000Z',\n",
       "  'bid': {'o': '1.09626', 'h': '1.09692', 'l': '1.09609', 'c': '1.09677'},\n",
       "  'mid': {'o': '1.09634', 'h': '1.09700', 'l': '1.09616', 'c': '1.09685'},\n",
       "  'ask': {'o': '1.09642', 'h': '1.09708', 'l': '1.09624', 'c': '1.09693'}},\n",
       " {'complete': False,\n",
       "  'volume': 1951,\n",
       "  'time': '2023-08-09T03:00:00.000000000Z',\n",
       "  'bid': {'o': '1.09677', 'h': '1.09702', 'l': '1.09657', 'c': '1.09661'},\n",
       "  'mid': {'o': '1.09686', 'h': '1.09709', 'l': '1.09664', 'c': '1.09670'},\n",
       "  'ask': {'o': '1.09694', 'h': '1.09716', 'l': '1.09672', 'c': '1.09678'}}]"
      ]
     },
     "execution_count": 38,
     "metadata": {},
     "output_type": "execute_result"
    }
   ],
   "source": [
    "data"
   ]
  },
  {
   "cell_type": "code",
   "execution_count": null,
   "metadata": {},
   "outputs": [],
   "source": []
  },
  {
   "cell_type": "code",
   "execution_count": null,
   "metadata": {},
   "outputs": [],
   "source": []
  }
 ],
 "metadata": {
  "kernelspec": {
   "display_name": "venv",
   "language": "python",
   "name": "python3"
  },
  "language_info": {
   "codemirror_mode": {
    "name": "ipython",
    "version": 3
   },
   "file_extension": ".py",
   "mimetype": "text/x-python",
   "name": "python",
   "nbconvert_exporter": "python",
   "pygments_lexer": "ipython3",
   "version": "3.11.1"
  },
  "orig_nbformat": 4
 },
 "nbformat": 4,
 "nbformat_minor": 2
}
