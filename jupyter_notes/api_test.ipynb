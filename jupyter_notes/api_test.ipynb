{
 "cells": [
  {
   "cell_type": "code",
   "execution_count": 2,
   "metadata": {},
   "outputs": [],
   "source": [
    "import requests\n",
    "import pandas as pd\n",
    "import json"
   ]
  },
  {
   "cell_type": "code",
   "execution_count": 3,
   "metadata": {},
   "outputs": [],
   "source": [
    "API_KEY = \"667e94661abb533b7c59e065eed32b7a-e8470dd11ead1617b105cb8843647d6c\"\n",
    "ACCOUNT_ID = \"101-001-25318071-001\"\n",
    "OANDA_URL = \"https://api-fxpractice.oanda.com/v3\""
   ]
  },
  {
   "cell_type": "code",
   "execution_count": 4,
   "metadata": {},
   "outputs": [],
   "source": [
    "session = requests.Session()"
   ]
  },
  {
   "cell_type": "code",
   "execution_count": 6,
   "metadata": {},
   "outputs": [],
   "source": [
    "session.headers.update({\n",
    "    \"Authorization\": f\"Bearer {API_KEY}\",\n",
    "    \"Content-Type\": \"application/json\"\n",
    "})"
   ]
  },
  {
   "cell_type": "code",
   "execution_count": 12,
   "metadata": {},
   "outputs": [],
   "source": [
    "params = dict(\n",
    "    count = 10,\n",
    "    granularity = \"H1\",\n",
    "    price = \"MBA\"\n",
    ")"
   ]
  },
  {
   "cell_type": "code",
   "execution_count": 13,
   "metadata": {},
   "outputs": [],
   "source": [
    "url = f\"{OANDA_URL}/instruments/EUR_USD/candles\""
   ]
  },
  {
   "cell_type": "code",
   "execution_count": 14,
   "metadata": {},
   "outputs": [],
   "source": [
    "response = session.get(url, params=params, data=None, headers=None)"
   ]
  },
  {
   "cell_type": "code",
   "execution_count": 15,
   "metadata": {},
   "outputs": [
    {
     "data": {
      "text/plain": [
       "200"
      ]
     },
     "execution_count": 15,
     "metadata": {},
     "output_type": "execute_result"
    }
   ],
   "source": [
    "response.status_code"
   ]
  },
  {
   "cell_type": "code",
   "execution_count": 16,
   "metadata": {},
   "outputs": [
    {
     "data": {
      "text/plain": [
       "{'instrument': 'EUR_USD',\n",
       " 'granularity': 'H1',\n",
       " 'candles': [{'complete': True,\n",
       "   'volume': 4910,\n",
       "   'time': '2023-08-08T08:00:00.000000000Z',\n",
       "   'bid': {'o': '1.09780', 'h': '1.09867', 'l': '1.09742', 'c': '1.09847'},\n",
       "   'mid': {'o': '1.09787', 'h': '1.09874', 'l': '1.09749', 'c': '1.09855'},\n",
       "   'ask': {'o': '1.09794', 'h': '1.09881', 'l': '1.09756', 'c': '1.09863'}},\n",
       "  {'complete': True,\n",
       "   'volume': 5024,\n",
       "   'time': '2023-08-08T09:00:00.000000000Z',\n",
       "   'bid': {'o': '1.09847', 'h': '1.09857', 'l': '1.09663', 'c': '1.09700'},\n",
       "   'mid': {'o': '1.09856', 'h': '1.09865', 'l': '1.09670', 'c': '1.09708'},\n",
       "   'ask': {'o': '1.09864', 'h': '1.09873', 'l': '1.09678', 'c': '1.09717'}},\n",
       "  {'complete': True,\n",
       "   'volume': 4952,\n",
       "   'time': '2023-08-08T10:00:00.000000000Z',\n",
       "   'bid': {'o': '1.09699', 'h': '1.09712', 'l': '1.09512', 'c': '1.09529'},\n",
       "   'mid': {'o': '1.09707', 'h': '1.09720', 'l': '1.09520', 'c': '1.09536'},\n",
       "   'ask': {'o': '1.09715', 'h': '1.09728', 'l': '1.09527', 'c': '1.09544'}},\n",
       "  {'complete': True,\n",
       "   'volume': 5199,\n",
       "   'time': '2023-08-08T11:00:00.000000000Z',\n",
       "   'bid': {'o': '1.09530', 'h': '1.09563', 'l': '1.09361', 'c': '1.09407'},\n",
       "   'mid': {'o': '1.09538', 'h': '1.09571', 'l': '1.09369', 'c': '1.09415'},\n",
       "   'ask': {'o': '1.09546', 'h': '1.09579', 'l': '1.09377', 'c': '1.09423'}},\n",
       "  {'complete': True,\n",
       "   'volume': 6783,\n",
       "   'time': '2023-08-08T12:00:00.000000000Z',\n",
       "   'bid': {'o': '1.09406', 'h': '1.09505', 'l': '1.09340', 'c': '1.09425'},\n",
       "   'mid': {'o': '1.09414', 'h': '1.09512', 'l': '1.09348', 'c': '1.09432'},\n",
       "   'ask': {'o': '1.09421', 'h': '1.09519', 'l': '1.09356', 'c': '1.09440'}},\n",
       "  {'complete': True,\n",
       "   'volume': 7500,\n",
       "   'time': '2023-08-08T13:00:00.000000000Z',\n",
       "   'bid': {'o': '1.09422', 'h': '1.09552', 'l': '1.09325', 'c': '1.09375'},\n",
       "   'mid': {'o': '1.09430', 'h': '1.09560', 'l': '1.09332', 'c': '1.09382'},\n",
       "   'ask': {'o': '1.09438', 'h': '1.09569', 'l': '1.09340', 'c': '1.09389'}},\n",
       "  {'complete': True,\n",
       "   'volume': 6944,\n",
       "   'time': '2023-08-08T14:00:00.000000000Z',\n",
       "   'bid': {'o': '1.09373', 'h': '1.09519', 'l': '1.09283', 'c': '1.09450'},\n",
       "   'mid': {'o': '1.09380', 'h': '1.09526', 'l': '1.09290', 'c': '1.09457'},\n",
       "   'ask': {'o': '1.09387', 'h': '1.09534', 'l': '1.09298', 'c': '1.09464'}},\n",
       "  {'complete': True,\n",
       "   'volume': 4735,\n",
       "   'time': '2023-08-08T15:00:00.000000000Z',\n",
       "   'bid': {'o': '1.09451', 'h': '1.09549', 'l': '1.09407', 'c': '1.09494'},\n",
       "   'mid': {'o': '1.09458', 'h': '1.09556', 'l': '1.09414', 'c': '1.09502'},\n",
       "   'ask': {'o': '1.09466', 'h': '1.09563', 'l': '1.09422', 'c': '1.09510'}},\n",
       "  {'complete': True,\n",
       "   'volume': 3654,\n",
       "   'time': '2023-08-08T16:00:00.000000000Z',\n",
       "   'bid': {'o': '1.09495', 'h': '1.09571', 'l': '1.09470', 'c': '1.09475'},\n",
       "   'mid': {'o': '1.09502', 'h': '1.09578', 'l': '1.09478', 'c': '1.09483'},\n",
       "   'ask': {'o': '1.09510', 'h': '1.09586', 'l': '1.09486', 'c': '1.09491'}},\n",
       "  {'complete': False,\n",
       "   'volume': 457,\n",
       "   'time': '2023-08-08T17:00:00.000000000Z',\n",
       "   'bid': {'o': '1.09475', 'h': '1.09553', 'l': '1.09470', 'c': '1.09535'},\n",
       "   'mid': {'o': '1.09482', 'h': '1.09562', 'l': '1.09478', 'c': '1.09543'},\n",
       "   'ask': {'o': '1.09490', 'h': '1.09570', 'l': '1.09485', 'c': '1.09551'}}]}"
      ]
     },
     "execution_count": 16,
     "metadata": {},
     "output_type": "execute_result"
    }
   ],
   "source": [
    "response.json()"
   ]
  },
  {
   "cell_type": "code",
   "execution_count": null,
   "metadata": {},
   "outputs": [],
   "source": []
  },
  {
   "cell_type": "code",
   "execution_count": null,
   "metadata": {},
   "outputs": [],
   "source": []
  },
  {
   "cell_type": "code",
   "execution_count": null,
   "metadata": {},
   "outputs": [],
   "source": []
  },
  {
   "cell_type": "code",
   "execution_count": null,
   "metadata": {},
   "outputs": [],
   "source": []
  }
 ],
 "metadata": {
  "kernelspec": {
   "display_name": "venv",
   "language": "python",
   "name": "python3"
  },
  "language_info": {
   "codemirror_mode": {
    "name": "ipython",
    "version": 3
   },
   "file_extension": ".py",
   "mimetype": "text/x-python",
   "name": "python",
   "nbconvert_exporter": "python",
   "pygments_lexer": "ipython3",
   "version": "3.11.1"
  },
  "orig_nbformat": 4
 },
 "nbformat": 4,
 "nbformat_minor": 2
}
