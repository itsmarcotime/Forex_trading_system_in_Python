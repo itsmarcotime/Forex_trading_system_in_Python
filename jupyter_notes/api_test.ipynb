{
 "cells": [
  {
   "cell_type": "code",
   "execution_count": 1,
   "metadata": {},
   "outputs": [],
   "source": [
    "import requests\n",
    "import os\n",
    "import pandas as pd\n",
    "import json\n",
    "from dateutil import parser\n",
    "from dotenv import load_dotenv"
   ]
  },
  {
   "cell_type": "code",
   "execution_count": 2,
   "metadata": {},
   "outputs": [],
   "source": [
    "load_dotenv()\n",
    "private_api = os.getenv(\"API_KEY\")\n",
    "private_account = os.getenv(\"ACCOUNT_ID\")\n",
    "private_url = os.getenv(\"OANDA_URL\")"
   ]
  },
  {
   "cell_type": "code",
   "execution_count": 3,
   "metadata": {},
   "outputs": [],
   "source": [
    "API_KEY = private_api\n",
    "ACCOUNT_ID = private_account\n",
    "OANDA_URL = private_url"
   ]
  },
  {
   "cell_type": "code",
   "execution_count": 4,
   "metadata": {},
   "outputs": [],
   "source": [
    "session = requests.Session()"
   ]
  },
  {
   "cell_type": "code",
   "execution_count": 5,
   "metadata": {},
   "outputs": [],
   "source": [
    "session.headers.update({\n",
    "    \"Authorization\": f\"Bearer {API_KEY}\",\n",
    "    \"Content-Type\": \"application/json\"\n",
    "})"
   ]
  },
  {
   "cell_type": "code",
   "execution_count": 6,
   "metadata": {},
   "outputs": [],
   "source": [
    "params = dict(\n",
    "    count = 10,\n",
    "    granularity = \"H1\",\n",
    "    price = \"MBA\"\n",
    ")"
   ]
  },
  {
   "cell_type": "code",
   "execution_count": 7,
   "metadata": {},
   "outputs": [],
   "source": [
    "url = f\"{OANDA_URL}/accounts/{ACCOUNT_ID}/instruments\""
   ]
  },
  {
   "cell_type": "code",
   "execution_count": 8,
   "metadata": {},
   "outputs": [],
   "source": [
    "response = session.get(url, params=None, data=None, headers=None)"
   ]
  },
  {
   "cell_type": "code",
   "execution_count": 9,
   "metadata": {},
   "outputs": [
    {
     "data": {
      "text/plain": [
       "200"
      ]
     },
     "execution_count": 9,
     "metadata": {},
     "output_type": "execute_result"
    }
   ],
   "source": [
    "response.status_code"
   ]
  },
  {
   "cell_type": "code",
   "execution_count": 10,
   "metadata": {},
   "outputs": [],
   "source": [
    "data = response.json()"
   ]
  },
  {
   "cell_type": "code",
   "execution_count": 11,
   "metadata": {},
   "outputs": [],
   "source": [
    "instruments_list = data['instruments']"
   ]
  },
  {
   "cell_type": "code",
   "execution_count": 12,
   "metadata": {},
   "outputs": [
    {
     "data": {
      "text/plain": [
       "68"
      ]
     },
     "execution_count": 12,
     "metadata": {},
     "output_type": "execute_result"
    }
   ],
   "source": [
    "len(instruments_list)"
   ]
  },
  {
   "cell_type": "code",
   "execution_count": 13,
   "metadata": {},
   "outputs": [
    {
     "data": {
      "text/plain": [
       "dict_keys(['name', 'type', 'displayName', 'pipLocation', 'displayPrecision', 'tradeUnitsPrecision', 'minimumTradeSize', 'maximumTrailingStopDistance', 'minimumTrailingStopDistance', 'maximumPositionSize', 'maximumOrderUnits', 'marginRate', 'guaranteedStopLossOrderMode', 'tags', 'financing'])"
      ]
     },
     "execution_count": 13,
     "metadata": {},
     "output_type": "execute_result"
    }
   ],
   "source": [
    "instruments_list[0].keys()"
   ]
  },
  {
   "cell_type": "code",
   "execution_count": 14,
   "metadata": {},
   "outputs": [],
   "source": [
    "key_inst = ['name', 'type', 'displayName', 'pipLocation', 'displayPrecision', 'tradeUnitsPrecision', 'marginRate']"
   ]
  },
  {
   "cell_type": "code",
   "execution_count": 15,
   "metadata": {},
   "outputs": [],
   "source": [
    "instruments_dict = {}\n",
    "\n",
    "for i in instruments_list:\n",
    "    key = i['name']\n",
    "    instruments_dict[key] = { k: i[k] for k in key_inst}"
   ]
  },
  {
   "cell_type": "code",
   "execution_count": 16,
   "metadata": {},
   "outputs": [
    {
     "data": {
      "text/plain": [
       "{'name': 'USD_CAD',\n",
       " 'type': 'CURRENCY',\n",
       " 'displayName': 'USD/CAD',\n",
       " 'pipLocation': -4,\n",
       " 'displayPrecision': 5,\n",
       " 'tradeUnitsPrecision': 0,\n",
       " 'marginRate': '0.02'}"
      ]
     },
     "execution_count": 16,
     "metadata": {},
     "output_type": "execute_result"
    }
   ],
   "source": [
    "instruments_dict['USD_CAD']"
   ]
  },
  {
   "cell_type": "code",
   "execution_count": 17,
   "metadata": {},
   "outputs": [
    {
     "data": {
      "text/plain": [
       "0.0001"
      ]
     },
     "execution_count": 17,
     "metadata": {},
     "output_type": "execute_result"
    }
   ],
   "source": [
    "# -4 -> 0.0001\n",
    "pow(10, -4)"
   ]
  },
  {
   "cell_type": "code",
   "execution_count": 18,
   "metadata": {},
   "outputs": [],
   "source": [
    "with open(\"../data/instruments.json\", \"w\") as f:\n",
    "    f.write(json.dumps(instruments_dict, indent=2))"
   ]
  },
  {
   "cell_type": "code",
   "execution_count": 19,
   "metadata": {},
   "outputs": [],
   "source": [
    "def fetch_candles(pair_name, count=10, granularity=\"H1\"):\n",
    "    url = f\"{OANDA_URL}/instruments/{pair_name}/candles\"\n",
    "    params = dict(\n",
    "        count = count,\n",
    "        granularity = granularity,\n",
    "        price = \"MBA\"\n",
    "        )\n",
    "    response = session.get(url, params=params, data=None, headers=None)\n",
    "    data = response.json()\n",
    "\n",
    "    if response.status_code == 200:\n",
    "        if \"candles\" not in data:\n",
    "            data = []\n",
    "        else: \n",
    "            data = data['candles']\n",
    "    return response.status_code, data\n",
    "\n",
    "def get_candles_df(data):\n",
    "    if len(data) == 0:\n",
    "        return pd.DataFrame()\n",
    "    \n",
    "    prices = [\"mid\", \"bid\", \"ask\"]\n",
    "    ohlc = [\"o\", \"h\", \"l\", \"c\"]\n",
    "\n",
    "    final_data = []\n",
    "    for candle in data:\n",
    "        if candle['complete'] == False:\n",
    "            continue\n",
    "        new_dict = {}\n",
    "        new_dict['time'] = parser.parse(candle['time'])\n",
    "        new_dict['volume'] = candle['volume']\n",
    "\n",
    "        for p in prices:\n",
    "            for o in ohlc:\n",
    "                new_dict[f'{p}_{o}'] = float(candle[p][o])\n",
    "        \n",
    "        final_data.append(new_dict)\n",
    "\n",
    "    df = pd.DataFrame.from_dict(final_data)\n",
    "    return df\n",
    "\n",
    "def create_data_file(pair_name, count=10, granularity=\"H1\"):\n",
    "    code, data = fetch_candles(pair_name, count, granularity)\n",
    "    if code != 200:\n",
    "        print(\"Failed\", pair_name, data)\n",
    "        return\n",
    "    \n",
    "    if len(data) == 0:\n",
    "        print(\"no candles\", pair_name)\n",
    "\n",
    "    candles_df = get_candles_df(data)\n",
    "    candles_df.to_pickle(f\"../data/{pair_name}_{granularity}.pkl\")\n",
    "    print(f\"{pair_name} {granularity} {candles_df.shape[0]} candles, {candles_df.time.min()} {candles_df.time.max()}\")\n"
   ]
  },
  {
   "cell_type": "code",
   "execution_count": 20,
   "metadata": {},
   "outputs": [],
   "source": [
    "code, data = fetch_candles(\"EUR_USD\", count=10, granularity=\"H4\")\n",
    "candles_df = get_candles_df(data)"
   ]
  },
  {
   "cell_type": "code",
   "execution_count": 21,
   "metadata": {},
   "outputs": [
    {
     "name": "stdout",
     "output_type": "stream",
     "text": [
      "EUR_USD H4 10 candles, 2023-08-31 05:00:00+00:00 2023-09-01 17:00:00+00:00\n"
     ]
    }
   ],
   "source": [
    "create_data_file(\"EUR_USD\", count=10, granularity=\"H4\")"
   ]
  },
  {
   "cell_type": "code",
   "execution_count": 22,
   "metadata": {},
   "outputs": [],
   "source": [
    "our_curr = ['EUR', 'USD', 'GBP', 'JPY', 'CHF', 'NZD', 'CAD', 'AUD']"
   ]
  },
  {
   "cell_type": "code",
   "execution_count": 23,
   "metadata": {},
   "outputs": [
    {
     "data": {
      "text/plain": [
       "dict_keys(['USD_SGD', 'EUR_SEK', 'HKD_JPY', 'AUD_USD', 'USD_CAD', 'NZD_USD', 'NZD_SGD', 'USD_NOK', 'USD_CNH', 'SGD_CHF', 'GBP_JPY', 'USD_TRY', 'AUD_JPY', 'ZAR_JPY', 'SGD_JPY', 'GBP_ZAR', 'USD_JPY', 'EUR_TRY', 'EUR_JPY', 'AUD_SGD', 'EUR_NZD', 'GBP_HKD', 'CHF_JPY', 'EUR_HKD', 'GBP_CAD', 'USD_THB', 'GBP_CHF', 'AUD_CHF', 'NZD_CHF', 'AUD_HKD', 'USD_CHF', 'CAD_HKD', 'EUR_CHF', 'EUR_SGD', 'NZD_CAD', 'GBP_AUD', 'USD_PLN', 'EUR_ZAR', 'TRY_JPY', 'EUR_AUD', 'USD_ZAR', 'CAD_JPY', 'NZD_HKD', 'USD_CZK', 'USD_DKK', 'USD_SEK', 'GBP_SGD', 'EUR_DKK', 'CHF_ZAR', 'CAD_CHF', 'GBP_USD', 'USD_MXN', 'USD_HUF', 'USD_HKD', 'EUR_USD', 'EUR_CAD', 'AUD_CAD', 'GBP_PLN', 'EUR_PLN', 'GBP_NZD', 'EUR_HUF', 'EUR_NOK', 'CHF_HKD', 'EUR_GBP', 'AUD_NZD', 'CAD_SGD', 'EUR_CZK', 'NZD_JPY'])"
      ]
     },
     "execution_count": 23,
     "metadata": {},
     "output_type": "execute_result"
    }
   ],
   "source": [
    "instruments_dict.keys()"
   ]
  },
  {
   "cell_type": "code",
   "execution_count": 25,
   "metadata": {},
   "outputs": [
    {
     "name": "stdout",
     "output_type": "stream",
     "text": [
      "EUR_USD H1 4001 candles, 2023-01-12 05:00:00+00:00 2023-09-01 20:00:00+00:00\n",
      "EUR_USD H4 4001 candles, 2021-02-10 02:00:00+00:00 2023-09-01 17:00:00+00:00\n",
      "EUR_GBP H1 4001 candles, 2023-01-12 05:00:00+00:00 2023-09-01 20:00:00+00:00\n",
      "EUR_GBP H4 4001 candles, 2021-02-10 02:00:00+00:00 2023-09-01 17:00:00+00:00\n",
      "EUR_JPY H1 4001 candles, 2023-01-12 05:00:00+00:00 2023-09-01 20:00:00+00:00\n",
      "EUR_JPY H4 4001 candles, 2021-02-09 18:00:00+00:00 2023-09-01 17:00:00+00:00\n",
      "EUR_CHF H1 4001 candles, 2023-01-12 05:00:00+00:00 2023-09-01 20:00:00+00:00\n",
      "EUR_CHF H4 4001 candles, 2021-02-10 02:00:00+00:00 2023-09-01 17:00:00+00:00\n",
      "EUR_NZD H1 4001 candles, 2023-01-12 04:00:00+00:00 2023-09-01 20:00:00+00:00\n",
      "EUR_NZD H4 4001 candles, 2021-02-10 02:00:00+00:00 2023-09-01 17:00:00+00:00\n",
      "EUR_CAD H1 4001 candles, 2023-01-12 05:00:00+00:00 2023-09-01 20:00:00+00:00\n",
      "EUR_CAD H4 4001 candles, 2021-02-10 02:00:00+00:00 2023-09-01 17:00:00+00:00\n",
      "EUR_AUD H1 4001 candles, 2023-01-12 04:00:00+00:00 2023-09-01 20:00:00+00:00\n",
      "EUR_AUD H4 4001 candles, 2021-02-10 02:00:00+00:00 2023-09-01 17:00:00+00:00\n",
      "USD_JPY H1 4001 candles, 2023-01-12 05:00:00+00:00 2023-09-01 20:00:00+00:00\n",
      "USD_JPY H4 4001 candles, 2021-02-10 02:00:00+00:00 2023-09-01 17:00:00+00:00\n",
      "USD_CHF H1 4001 candles, 2023-01-12 05:00:00+00:00 2023-09-01 20:00:00+00:00\n",
      "USD_CHF H4 4001 candles, 2021-02-10 02:00:00+00:00 2023-09-01 17:00:00+00:00\n",
      "USD_CAD H1 4001 candles, 2023-01-12 05:00:00+00:00 2023-09-01 20:00:00+00:00\n",
      "USD_CAD H4 4001 candles, 2021-02-10 02:00:00+00:00 2023-09-01 17:00:00+00:00\n",
      "GBP_USD H1 4001 candles, 2023-01-12 05:00:00+00:00 2023-09-01 20:00:00+00:00\n",
      "GBP_USD H4 4001 candles, 2021-02-10 02:00:00+00:00 2023-09-01 17:00:00+00:00\n",
      "GBP_JPY H1 4001 candles, 2023-01-12 05:00:00+00:00 2023-09-01 20:00:00+00:00\n",
      "GBP_JPY H4 4001 candles, 2021-02-10 02:00:00+00:00 2023-09-01 17:00:00+00:00\n",
      "GBP_CHF H1 4001 candles, 2023-01-12 05:00:00+00:00 2023-09-01 20:00:00+00:00\n",
      "GBP_CHF H4 4001 candles, 2021-02-10 02:00:00+00:00 2023-09-01 17:00:00+00:00\n",
      "GBP_NZD H1 4001 candles, 2023-01-12 04:00:00+00:00 2023-09-01 20:00:00+00:00\n",
      "GBP_NZD H4 4001 candles, 2021-02-10 02:00:00+00:00 2023-09-01 17:00:00+00:00\n",
      "GBP_CAD H1 4001 candles, 2023-01-12 05:00:00+00:00 2023-09-01 20:00:00+00:00\n",
      "GBP_CAD H4 4001 candles, 2021-02-10 02:00:00+00:00 2023-09-01 17:00:00+00:00\n",
      "GBP_AUD H1 4001 candles, 2023-01-12 01:00:00+00:00 2023-09-01 20:00:00+00:00\n",
      "GBP_AUD H4 4001 candles, 2021-02-10 02:00:00+00:00 2023-09-01 17:00:00+00:00\n",
      "CHF_JPY H1 4001 candles, 2023-01-12 05:00:00+00:00 2023-09-01 20:00:00+00:00\n",
      "CHF_JPY H4 4001 candles, 2021-02-10 02:00:00+00:00 2023-09-01 17:00:00+00:00\n",
      "NZD_USD H1 4001 candles, 2023-01-12 05:00:00+00:00 2023-09-01 20:00:00+00:00\n",
      "NZD_USD H4 4001 candles, 2021-02-10 10:00:00+00:00 2023-09-01 17:00:00+00:00\n",
      "NZD_JPY H1 4001 candles, 2023-01-12 05:00:00+00:00 2023-09-01 20:00:00+00:00\n",
      "NZD_JPY H4 4001 candles, 2021-02-10 02:00:00+00:00 2023-09-01 17:00:00+00:00\n",
      "NZD_CHF H1 4001 candles, 2023-01-12 01:00:00+00:00 2023-09-01 20:00:00+00:00\n",
      "NZD_CHF H4 4001 candles, 2021-02-09 22:00:00+00:00 2023-09-01 17:00:00+00:00\n",
      "NZD_CAD H1 4001 candles, 2023-01-12 04:00:00+00:00 2023-09-01 20:00:00+00:00\n",
      "NZD_CAD H4 4001 candles, 2021-02-10 02:00:00+00:00 2023-09-01 17:00:00+00:00\n",
      "CAD_JPY H1 4001 candles, 2023-01-12 05:00:00+00:00 2023-09-01 20:00:00+00:00\n",
      "CAD_JPY H4 4001 candles, 2021-02-10 02:00:00+00:00 2023-09-01 17:00:00+00:00\n",
      "CAD_CHF H1 4001 candles, 2023-01-12 04:00:00+00:00 2023-09-01 20:00:00+00:00\n",
      "CAD_CHF H4 4001 candles, 2021-02-10 02:00:00+00:00 2023-09-01 17:00:00+00:00\n",
      "AUD_USD H1 4001 candles, 2023-01-12 05:00:00+00:00 2023-09-01 20:00:00+00:00\n",
      "AUD_USD H4 4001 candles, 2021-02-10 02:00:00+00:00 2023-09-01 17:00:00+00:00\n",
      "AUD_JPY H1 4001 candles, 2023-01-12 05:00:00+00:00 2023-09-01 20:00:00+00:00\n",
      "AUD_JPY H4 4001 candles, 2021-02-11 02:00:00+00:00 2023-09-01 17:00:00+00:00\n",
      "AUD_CHF H1 4001 candles, 2023-01-12 04:00:00+00:00 2023-09-01 20:00:00+00:00\n",
      "AUD_CHF H4 4001 candles, 2021-02-09 22:00:00+00:00 2023-09-01 17:00:00+00:00\n",
      "AUD_NZD H1 4001 candles, 2023-01-12 05:00:00+00:00 2023-09-01 20:00:00+00:00\n",
      "AUD_NZD H4 4001 candles, 2021-02-09 22:00:00+00:00 2023-09-01 17:00:00+00:00\n",
      "AUD_CAD H1 4001 candles, 2023-01-12 05:00:00+00:00 2023-09-01 20:00:00+00:00\n",
      "AUD_CAD H4 4001 candles, 2021-02-10 02:00:00+00:00 2023-09-01 17:00:00+00:00\n"
     ]
    }
   ],
   "source": [
    "for p1 in our_curr:\n",
    "    for p2 in our_curr:\n",
    "        pr = f\"{p1}_{p2}\"\n",
    "        if pr in instruments_dict:\n",
    "            for g in [\"H1\", \"H4\"]:\n",
    "                create_data_file(pr, count=4001, granularity=g)\n"
   ]
  },
  {
   "cell_type": "code",
   "execution_count": null,
   "metadata": {},
   "outputs": [],
   "source": []
  },
  {
   "cell_type": "code",
   "execution_count": null,
   "metadata": {},
   "outputs": [],
   "source": []
  },
  {
   "cell_type": "code",
   "execution_count": null,
   "metadata": {},
   "outputs": [],
   "source": []
  },
  {
   "cell_type": "code",
   "execution_count": null,
   "metadata": {},
   "outputs": [],
   "source": []
  },
  {
   "cell_type": "code",
   "execution_count": null,
   "metadata": {},
   "outputs": [],
   "source": []
  },
  {
   "cell_type": "code",
   "execution_count": null,
   "metadata": {},
   "outputs": [],
   "source": []
  },
  {
   "cell_type": "code",
   "execution_count": null,
   "metadata": {},
   "outputs": [],
   "source": []
  },
  {
   "cell_type": "code",
   "execution_count": null,
   "metadata": {},
   "outputs": [],
   "source": []
  },
  {
   "cell_type": "code",
   "execution_count": null,
   "metadata": {},
   "outputs": [],
   "source": []
  },
  {
   "cell_type": "code",
   "execution_count": null,
   "metadata": {},
   "outputs": [],
   "source": []
  },
  {
   "cell_type": "code",
   "execution_count": null,
   "metadata": {},
   "outputs": [],
   "source": []
  },
  {
   "cell_type": "code",
   "execution_count": null,
   "metadata": {},
   "outputs": [],
   "source": []
  }
 ],
 "metadata": {
  "kernelspec": {
   "display_name": "venv",
   "language": "python",
   "name": "python3"
  },
  "language_info": {
   "codemirror_mode": {
    "name": "ipython",
    "version": 3
   },
   "file_extension": ".py",
   "mimetype": "text/x-python",
   "name": "python",
   "nbconvert_exporter": "python",
   "pygments_lexer": "ipython3",
   "version": "3.11.1"
  },
  "orig_nbformat": 4
 },
 "nbformat": 4,
 "nbformat_minor": 2
}
