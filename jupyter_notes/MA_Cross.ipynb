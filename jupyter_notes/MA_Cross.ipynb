{
 "cells": [
  {
   "cell_type": "code",
   "execution_count": 5,
   "metadata": {},
   "outputs": [],
   "source": [
    "import pandas as pd\n",
    "from plotting import CandlePlot\n",
    "pd.set_option(\"display.max_columns\", None)"
   ]
  },
  {
   "cell_type": "code",
   "execution_count": 2,
   "metadata": {},
   "outputs": [],
   "source": [
    "df_ma_res = pd.read_pickle(\"../data/ma_res.pkl\")\n",
    "df_ma_trades = pd.read_pickle(\"../data/ma_trades.pkl\")"
   ]
  },
  {
   "cell_type": "code",
   "execution_count": 11,
   "metadata": {},
   "outputs": [
    {
     "data": {
      "text/plain": [
       "array(['H1', 'H4'], dtype=object)"
      ]
     },
     "execution_count": 11,
     "metadata": {},
     "output_type": "execute_result"
    }
   ],
   "source": [
    "df_ma_res.granularity.unique()"
   ]
  },
  {
   "cell_type": "code",
   "execution_count": 12,
   "metadata": {},
   "outputs": [],
   "source": [
    "df_ma_res_h1 = df_ma_res[df_ma_res.granularity == \"H1\"].copy()\n",
    "df_ma_trades_h1 = df_ma_trades[df_ma_trades.granularity == \"H1\"].copy()"
   ]
  },
  {
   "cell_type": "code",
   "execution_count": 13,
   "metadata": {},
   "outputs": [
    {
     "data": {
      "text/plain": [
       "(17243, 32)"
      ]
     },
     "execution_count": 13,
     "metadata": {},
     "output_type": "execute_result"
    }
   ],
   "source": [
    "df_ma_trades_h1.shape"
   ]
  },
  {
   "cell_type": "code",
   "execution_count": 14,
   "metadata": {},
   "outputs": [
    {
     "data": {
      "text/plain": [
       "Index(['pair', 'num_trades', 'total_gain', 'mean_gain', 'min_gain', 'max_gain',\n",
       "       'ma_l', 'ma_s', 'cross', 'granularity'],\n",
       "      dtype='object')"
      ]
     },
     "execution_count": 14,
     "metadata": {},
     "output_type": "execute_result"
    }
   ],
   "source": [
    "df_ma_res_h1.columns"
   ]
  },
  {
   "cell_type": "code",
   "execution_count": 16,
   "metadata": {},
   "outputs": [],
   "source": [
    "df_cross_summary = df_ma_res_h1[['pair', 'num_trades', 'total_gain', 'cross']].copy()"
   ]
  },
  {
   "cell_type": "code",
   "execution_count": 17,
   "metadata": {},
   "outputs": [
    {
     "data": {
      "text/html": [
       "<div>\n",
       "<style scoped>\n",
       "    .dataframe tbody tr th:only-of-type {\n",
       "        vertical-align: middle;\n",
       "    }\n",
       "\n",
       "    .dataframe tbody tr th {\n",
       "        vertical-align: top;\n",
       "    }\n",
       "\n",
       "    .dataframe thead th {\n",
       "        text-align: right;\n",
       "    }\n",
       "</style>\n",
       "<table border=\"1\" class=\"dataframe\">\n",
       "  <thead>\n",
       "    <tr style=\"text-align: right;\">\n",
       "      <th></th>\n",
       "      <th>pair</th>\n",
       "      <th>num_trades</th>\n",
       "      <th>total_gain</th>\n",
       "      <th>cross</th>\n",
       "    </tr>\n",
       "  </thead>\n",
       "  <tbody>\n",
       "    <tr>\n",
       "      <th>0</th>\n",
       "      <td>EUR_USD</td>\n",
       "      <td>207</td>\n",
       "      <td>225</td>\n",
       "      <td>MA_10_MA_20</td>\n",
       "    </tr>\n",
       "    <tr>\n",
       "      <th>1</th>\n",
       "      <td>EUR_USD</td>\n",
       "      <td>115</td>\n",
       "      <td>213</td>\n",
       "      <td>MA_10_MA_40</td>\n",
       "    </tr>\n",
       "    <tr>\n",
       "      <th>2</th>\n",
       "      <td>EUR_USD</td>\n",
       "      <td>107</td>\n",
       "      <td>132</td>\n",
       "      <td>MA_20_MA_40</td>\n",
       "    </tr>\n",
       "    <tr>\n",
       "      <th>3</th>\n",
       "      <td>EUR_USD</td>\n",
       "      <td>109</td>\n",
       "      <td>-219</td>\n",
       "      <td>MA_30_MA_40</td>\n",
       "    </tr>\n",
       "    <tr>\n",
       "      <th>4</th>\n",
       "      <td>EUR_USD</td>\n",
       "      <td>81</td>\n",
       "      <td>-526</td>\n",
       "      <td>MA_10_MA_80</td>\n",
       "    </tr>\n",
       "    <tr>\n",
       "      <th>...</th>\n",
       "      <td>...</td>\n",
       "      <td>...</td>\n",
       "      <td>...</td>\n",
       "      <td>...</td>\n",
       "    </tr>\n",
       "    <tr>\n",
       "      <th>235</th>\n",
       "      <td>CAD_JPY</td>\n",
       "      <td>40</td>\n",
       "      <td>-402</td>\n",
       "      <td>MA_40_MA_120</td>\n",
       "    </tr>\n",
       "    <tr>\n",
       "      <th>236</th>\n",
       "      <td>CAD_JPY</td>\n",
       "      <td>48</td>\n",
       "      <td>349</td>\n",
       "      <td>MA_10_MA_150</td>\n",
       "    </tr>\n",
       "    <tr>\n",
       "      <th>237</th>\n",
       "      <td>CAD_JPY</td>\n",
       "      <td>32</td>\n",
       "      <td>-107</td>\n",
       "      <td>MA_20_MA_150</td>\n",
       "    </tr>\n",
       "    <tr>\n",
       "      <th>238</th>\n",
       "      <td>CAD_JPY</td>\n",
       "      <td>32</td>\n",
       "      <td>-320</td>\n",
       "      <td>MA_30_MA_150</td>\n",
       "    </tr>\n",
       "    <tr>\n",
       "      <th>239</th>\n",
       "      <td>CAD_JPY</td>\n",
       "      <td>32</td>\n",
       "      <td>-332</td>\n",
       "      <td>MA_40_MA_150</td>\n",
       "    </tr>\n",
       "  </tbody>\n",
       "</table>\n",
       "<p>240 rows × 4 columns</p>\n",
       "</div>"
      ],
      "text/plain": [
       "        pair  num_trades  total_gain         cross\n",
       "0    EUR_USD         207         225   MA_10_MA_20\n",
       "1    EUR_USD         115         213   MA_10_MA_40\n",
       "2    EUR_USD         107         132   MA_20_MA_40\n",
       "3    EUR_USD         109        -219   MA_30_MA_40\n",
       "4    EUR_USD          81        -526   MA_10_MA_80\n",
       "..       ...         ...         ...           ...\n",
       "235  CAD_JPY          40        -402  MA_40_MA_120\n",
       "236  CAD_JPY          48         349  MA_10_MA_150\n",
       "237  CAD_JPY          32        -107  MA_20_MA_150\n",
       "238  CAD_JPY          32        -320  MA_30_MA_150\n",
       "239  CAD_JPY          32        -332  MA_40_MA_150\n",
       "\n",
       "[240 rows x 4 columns]"
      ]
     },
     "execution_count": 17,
     "metadata": {},
     "output_type": "execute_result"
    }
   ],
   "source": [
    "df_cross_summary"
   ]
  },
  {
   "cell_type": "code",
   "execution_count": 21,
   "metadata": {},
   "outputs": [],
   "source": [
    "df_cross_gr = df_cross_summary.groupby(by=\"cross\", as_index=False).sum()\n",
    "df_cross_gr.sort_values(by=\"total_gain\", ascending=False, inplace=True)"
   ]
  },
  {
   "cell_type": "code",
   "execution_count": 23,
   "metadata": {},
   "outputs": [
    {
     "data": {
      "text/html": [
       "<div>\n",
       "<style scoped>\n",
       "    .dataframe tbody tr th:only-of-type {\n",
       "        vertical-align: middle;\n",
       "    }\n",
       "\n",
       "    .dataframe tbody tr th {\n",
       "        vertical-align: top;\n",
       "    }\n",
       "\n",
       "    .dataframe thead th {\n",
       "        text-align: right;\n",
       "    }\n",
       "</style>\n",
       "<table border=\"1\" class=\"dataframe\">\n",
       "  <thead>\n",
       "    <tr style=\"text-align: right;\">\n",
       "      <th></th>\n",
       "      <th>cross</th>\n",
       "      <th>pair</th>\n",
       "      <th>num_trades</th>\n",
       "      <th>total_gain</th>\n",
       "    </tr>\n",
       "  </thead>\n",
       "  <tbody>\n",
       "    <tr>\n",
       "      <th>2</th>\n",
       "      <td>MA_10_MA_20</td>\n",
       "      <td>EUR_USDEUR_GBPEUR_JPYEUR_AUDEUR_CADUSD_JPYUSD_...</td>\n",
       "      <td>3129</td>\n",
       "      <td>3098</td>\n",
       "    </tr>\n",
       "    <tr>\n",
       "      <th>3</th>\n",
       "      <td>MA_10_MA_40</td>\n",
       "      <td>EUR_USDEUR_GBPEUR_JPYEUR_AUDEUR_CADUSD_JPYUSD_...</td>\n",
       "      <td>1697</td>\n",
       "      <td>2394</td>\n",
       "    </tr>\n",
       "    <tr>\n",
       "      <th>7</th>\n",
       "      <td>MA_20_MA_40</td>\n",
       "      <td>EUR_USDEUR_GBPEUR_JPYEUR_AUDEUR_CADUSD_JPYUSD_...</td>\n",
       "      <td>1500</td>\n",
       "      <td>1982</td>\n",
       "    </tr>\n",
       "    <tr>\n",
       "      <th>11</th>\n",
       "      <td>MA_30_MA_40</td>\n",
       "      <td>EUR_USDEUR_GBPEUR_JPYEUR_AUDEUR_CADUSD_JPYUSD_...</td>\n",
       "      <td>1713</td>\n",
       "      <td>-3104</td>\n",
       "    </tr>\n",
       "    <tr>\n",
       "      <th>10</th>\n",
       "      <td>MA_30_MA_150</td>\n",
       "      <td>EUR_USDEUR_GBPEUR_JPYEUR_AUDEUR_CADUSD_JPYUSD_...</td>\n",
       "      <td>537</td>\n",
       "      <td>-4669</td>\n",
       "    </tr>\n",
       "  </tbody>\n",
       "</table>\n",
       "</div>"
      ],
      "text/plain": [
       "           cross                                               pair  \\\n",
       "2    MA_10_MA_20  EUR_USDEUR_GBPEUR_JPYEUR_AUDEUR_CADUSD_JPYUSD_...   \n",
       "3    MA_10_MA_40  EUR_USDEUR_GBPEUR_JPYEUR_AUDEUR_CADUSD_JPYUSD_...   \n",
       "7    MA_20_MA_40  EUR_USDEUR_GBPEUR_JPYEUR_AUDEUR_CADUSD_JPYUSD_...   \n",
       "11   MA_30_MA_40  EUR_USDEUR_GBPEUR_JPYEUR_AUDEUR_CADUSD_JPYUSD_...   \n",
       "10  MA_30_MA_150  EUR_USDEUR_GBPEUR_JPYEUR_AUDEUR_CADUSD_JPYUSD_...   \n",
       "\n",
       "    num_trades  total_gain  \n",
       "2         3129        3098  \n",
       "3         1697        2394  \n",
       "7         1500        1982  \n",
       "11        1713       -3104  \n",
       "10         537       -4669  "
      ]
     },
     "execution_count": 23,
     "metadata": {},
     "output_type": "execute_result"
    }
   ],
   "source": [
    "df_cross_gr.head()"
   ]
  },
  {
   "cell_type": "code",
   "execution_count": 27,
   "metadata": {},
   "outputs": [],
   "source": [
    "total_pairs = len(df_ma_res_h1.pair.unique())"
   ]
  },
  {
   "cell_type": "code",
   "execution_count": 28,
   "metadata": {},
   "outputs": [
    {
     "data": {
      "text/plain": [
       "15"
      ]
     },
     "execution_count": 28,
     "metadata": {},
     "output_type": "execute_result"
    }
   ],
   "source": [
    "total_pairs"
   ]
  },
  {
   "cell_type": "code",
   "execution_count": 29,
   "metadata": {},
   "outputs": [],
   "source": [
    "temp = df_ma_res_h1[df_ma_res_h1.cross == \"MA_10_MA_40\"]"
   ]
  },
  {
   "cell_type": "code",
   "execution_count": 34,
   "metadata": {},
   "outputs": [
    {
     "data": {
      "text/plain": [
       "10"
      ]
     },
     "execution_count": 34,
     "metadata": {},
     "output_type": "execute_result"
    }
   ],
   "source": [
    "temp[temp.total_gain > 0].shape[0]"
   ]
  },
  {
   "cell_type": "code",
   "execution_count": 35,
   "metadata": {},
   "outputs": [
    {
     "name": "stdout",
     "output_type": "stream",
     "text": [
      "MA_10_MA_20 pg:9 percent gain:60%\n",
      "MA_10_MA_40 pg:10 percent gain:67%\n",
      "MA_20_MA_40 pg:11 percent gain:73%\n",
      "MA_30_MA_40 pg:7 percent gain:47%\n",
      "MA_10_MA_80 pg:6 percent gain:40%\n",
      "MA_20_MA_80 pg:3 percent gain:20%\n",
      "MA_30_MA_80 pg:4 percent gain:27%\n",
      "MA_40_MA_80 pg:4 percent gain:27%\n",
      "MA_10_MA_120 pg:2 percent gain:13%\n",
      "MA_20_MA_120 pg:3 percent gain:20%\n",
      "MA_30_MA_120 pg:3 percent gain:20%\n",
      "MA_40_MA_120 pg:2 percent gain:13%\n",
      "MA_10_MA_150 pg:4 percent gain:27%\n",
      "MA_20_MA_150 pg:5 percent gain:33%\n",
      "MA_30_MA_150 pg:4 percent gain:27%\n",
      "MA_40_MA_150 pg:2 percent gain:13%\n"
     ]
    }
   ],
   "source": [
    "for c in df_ma_res_h1.cross.unique():\n",
    "    temp = df_ma_res_h1[df_ma_res_h1.cross == c]\n",
    "    pg = temp[temp.total_gain > 0].shape[0]\n",
    "    print(f\"{c} pg:{pg} percent gain:{(pg / total_pairs) * 100:.0f}%\")"
   ]
  },
  {
   "cell_type": "code",
   "execution_count": null,
   "metadata": {},
   "outputs": [],
   "source": []
  },
  {
   "cell_type": "code",
   "execution_count": null,
   "metadata": {},
   "outputs": [],
   "source": []
  }
 ],
 "metadata": {
  "kernelspec": {
   "display_name": "venv",
   "language": "python",
   "name": "python3"
  },
  "language_info": {
   "codemirror_mode": {
    "name": "ipython",
    "version": 3
   },
   "file_extension": ".py",
   "mimetype": "text/x-python",
   "name": "python",
   "nbconvert_exporter": "python",
   "pygments_lexer": "ipython3",
   "version": "3.11.1"
  },
  "orig_nbformat": 4
 },
 "nbformat": 4,
 "nbformat_minor": 2
}
