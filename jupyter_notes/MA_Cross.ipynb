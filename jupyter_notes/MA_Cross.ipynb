{
 "cells": [
  {
   "cell_type": "code",
   "execution_count": 5,
   "metadata": {},
   "outputs": [],
   "source": [
    "import pandas as pd\n",
    "from plotting import CandlePlot\n",
    "pd.set_option(\"display.max_columns\", None)"
   ]
  },
  {
   "cell_type": "code",
   "execution_count": 2,
   "metadata": {},
   "outputs": [],
   "source": [
    "df_ma_res = pd.read_pickle(\"../data/ma_res.pkl\")\n",
    "df_ma_trades = pd.read_pickle(\"../data/ma_trades.pkl\")"
   ]
  },
  {
   "cell_type": "code",
   "execution_count": 11,
   "metadata": {},
   "outputs": [
    {
     "data": {
      "text/plain": [
       "array(['H1', 'H4'], dtype=object)"
      ]
     },
     "execution_count": 11,
     "metadata": {},
     "output_type": "execute_result"
    }
   ],
   "source": [
    "df_ma_res.granularity.unique()"
   ]
  },
  {
   "cell_type": "code",
   "execution_count": 12,
   "metadata": {},
   "outputs": [],
   "source": [
    "df_ma_res_h1 = df_ma_res[df_ma_res.granularity == \"H1\"].copy()\n",
    "df_ma_trades_h1 = df_ma_trades[df_ma_trades.granularity == \"H1\"].copy()"
   ]
  },
  {
   "cell_type": "code",
   "execution_count": 13,
   "metadata": {},
   "outputs": [
    {
     "data": {
      "text/plain": [
       "(17243, 32)"
      ]
     },
     "execution_count": 13,
     "metadata": {},
     "output_type": "execute_result"
    }
   ],
   "source": [
    "df_ma_trades_h1.shape"
   ]
  },
  {
   "cell_type": "code",
   "execution_count": 14,
   "metadata": {},
   "outputs": [
    {
     "data": {
      "text/plain": [
       "Index(['pair', 'num_trades', 'total_gain', 'mean_gain', 'min_gain', 'max_gain',\n",
       "       'ma_l', 'ma_s', 'cross', 'granularity'],\n",
       "      dtype='object')"
      ]
     },
     "execution_count": 14,
     "metadata": {},
     "output_type": "execute_result"
    }
   ],
   "source": [
    "df_ma_res_h1.columns"
   ]
  },
  {
   "cell_type": "code",
   "execution_count": 16,
   "metadata": {},
   "outputs": [],
   "source": [
    "df_cross_summary = df_ma_res_h1[['pair', 'num_trades', 'total_gain', 'cross']].copy()"
   ]
  },
  {
   "cell_type": "code",
   "execution_count": 17,
   "metadata": {},
   "outputs": [
    {
     "data": {
      "text/html": [
       "<div>\n",
       "<style scoped>\n",
       "    .dataframe tbody tr th:only-of-type {\n",
       "        vertical-align: middle;\n",
       "    }\n",
       "\n",
       "    .dataframe tbody tr th {\n",
       "        vertical-align: top;\n",
       "    }\n",
       "\n",
       "    .dataframe thead th {\n",
       "        text-align: right;\n",
       "    }\n",
       "</style>\n",
       "<table border=\"1\" class=\"dataframe\">\n",
       "  <thead>\n",
       "    <tr style=\"text-align: right;\">\n",
       "      <th></th>\n",
       "      <th>pair</th>\n",
       "      <th>num_trades</th>\n",
       "      <th>total_gain</th>\n",
       "      <th>cross</th>\n",
       "    </tr>\n",
       "  </thead>\n",
       "  <tbody>\n",
       "    <tr>\n",
       "      <th>0</th>\n",
       "      <td>EUR_USD</td>\n",
       "      <td>207</td>\n",
       "      <td>225</td>\n",
       "      <td>MA_10_MA_20</td>\n",
       "    </tr>\n",
       "    <tr>\n",
       "      <th>1</th>\n",
       "      <td>EUR_USD</td>\n",
       "      <td>115</td>\n",
       "      <td>213</td>\n",
       "      <td>MA_10_MA_40</td>\n",
       "    </tr>\n",
       "    <tr>\n",
       "      <th>2</th>\n",
       "      <td>EUR_USD</td>\n",
       "      <td>107</td>\n",
       "      <td>132</td>\n",
       "      <td>MA_20_MA_40</td>\n",
       "    </tr>\n",
       "    <tr>\n",
       "      <th>3</th>\n",
       "      <td>EUR_USD</td>\n",
       "      <td>109</td>\n",
       "      <td>-219</td>\n",
       "      <td>MA_30_MA_40</td>\n",
       "    </tr>\n",
       "    <tr>\n",
       "      <th>4</th>\n",
       "      <td>EUR_USD</td>\n",
       "      <td>81</td>\n",
       "      <td>-526</td>\n",
       "      <td>MA_10_MA_80</td>\n",
       "    </tr>\n",
       "    <tr>\n",
       "      <th>...</th>\n",
       "      <td>...</td>\n",
       "      <td>...</td>\n",
       "      <td>...</td>\n",
       "      <td>...</td>\n",
       "    </tr>\n",
       "    <tr>\n",
       "      <th>235</th>\n",
       "      <td>CAD_JPY</td>\n",
       "      <td>40</td>\n",
       "      <td>-402</td>\n",
       "      <td>MA_40_MA_120</td>\n",
       "    </tr>\n",
       "    <tr>\n",
       "      <th>236</th>\n",
       "      <td>CAD_JPY</td>\n",
       "      <td>48</td>\n",
       "      <td>349</td>\n",
       "      <td>MA_10_MA_150</td>\n",
       "    </tr>\n",
       "    <tr>\n",
       "      <th>237</th>\n",
       "      <td>CAD_JPY</td>\n",
       "      <td>32</td>\n",
       "      <td>-107</td>\n",
       "      <td>MA_20_MA_150</td>\n",
       "    </tr>\n",
       "    <tr>\n",
       "      <th>238</th>\n",
       "      <td>CAD_JPY</td>\n",
       "      <td>32</td>\n",
       "      <td>-320</td>\n",
       "      <td>MA_30_MA_150</td>\n",
       "    </tr>\n",
       "    <tr>\n",
       "      <th>239</th>\n",
       "      <td>CAD_JPY</td>\n",
       "      <td>32</td>\n",
       "      <td>-332</td>\n",
       "      <td>MA_40_MA_150</td>\n",
       "    </tr>\n",
       "  </tbody>\n",
       "</table>\n",
       "<p>240 rows × 4 columns</p>\n",
       "</div>"
      ],
      "text/plain": [
       "        pair  num_trades  total_gain         cross\n",
       "0    EUR_USD         207         225   MA_10_MA_20\n",
       "1    EUR_USD         115         213   MA_10_MA_40\n",
       "2    EUR_USD         107         132   MA_20_MA_40\n",
       "3    EUR_USD         109        -219   MA_30_MA_40\n",
       "4    EUR_USD          81        -526   MA_10_MA_80\n",
       "..       ...         ...         ...           ...\n",
       "235  CAD_JPY          40        -402  MA_40_MA_120\n",
       "236  CAD_JPY          48         349  MA_10_MA_150\n",
       "237  CAD_JPY          32        -107  MA_20_MA_150\n",
       "238  CAD_JPY          32        -320  MA_30_MA_150\n",
       "239  CAD_JPY          32        -332  MA_40_MA_150\n",
       "\n",
       "[240 rows x 4 columns]"
      ]
     },
     "execution_count": 17,
     "metadata": {},
     "output_type": "execute_result"
    }
   ],
   "source": [
    "df_cross_summary"
   ]
  },
  {
   "cell_type": "code",
   "execution_count": 21,
   "metadata": {},
   "outputs": [],
   "source": [
    "df_cross_gr = df_cross_summary.groupby(by=\"cross\", as_index=False).sum()\n",
    "df_cross_gr.sort_values(by=\"total_gain\", ascending=False, inplace=True)"
   ]
  },
  {
   "cell_type": "code",
   "execution_count": 45,
   "metadata": {},
   "outputs": [
    {
     "data": {
      "text/html": [
       "<div>\n",
       "<style scoped>\n",
       "    .dataframe tbody tr th:only-of-type {\n",
       "        vertical-align: middle;\n",
       "    }\n",
       "\n",
       "    .dataframe tbody tr th {\n",
       "        vertical-align: top;\n",
       "    }\n",
       "\n",
       "    .dataframe thead th {\n",
       "        text-align: right;\n",
       "    }\n",
       "</style>\n",
       "<table border=\"1\" class=\"dataframe\">\n",
       "  <thead>\n",
       "    <tr style=\"text-align: right;\">\n",
       "      <th></th>\n",
       "      <th>cross</th>\n",
       "      <th>pair</th>\n",
       "      <th>num_trades</th>\n",
       "      <th>total_gain</th>\n",
       "    </tr>\n",
       "  </thead>\n",
       "  <tbody>\n",
       "    <tr>\n",
       "      <th>2</th>\n",
       "      <td>MA_10_MA_20</td>\n",
       "      <td>EUR_USDEUR_GBPEUR_JPYEUR_AUDEUR_CADUSD_JPYUSD_...</td>\n",
       "      <td>3129</td>\n",
       "      <td>3098</td>\n",
       "    </tr>\n",
       "    <tr>\n",
       "      <th>3</th>\n",
       "      <td>MA_10_MA_40</td>\n",
       "      <td>EUR_USDEUR_GBPEUR_JPYEUR_AUDEUR_CADUSD_JPYUSD_...</td>\n",
       "      <td>1697</td>\n",
       "      <td>2394</td>\n",
       "    </tr>\n",
       "    <tr>\n",
       "      <th>7</th>\n",
       "      <td>MA_20_MA_40</td>\n",
       "      <td>EUR_USDEUR_GBPEUR_JPYEUR_AUDEUR_CADUSD_JPYUSD_...</td>\n",
       "      <td>1500</td>\n",
       "      <td>1982</td>\n",
       "    </tr>\n",
       "    <tr>\n",
       "      <th>11</th>\n",
       "      <td>MA_30_MA_40</td>\n",
       "      <td>EUR_USDEUR_GBPEUR_JPYEUR_AUDEUR_CADUSD_JPYUSD_...</td>\n",
       "      <td>1713</td>\n",
       "      <td>-3104</td>\n",
       "    </tr>\n",
       "    <tr>\n",
       "      <th>10</th>\n",
       "      <td>MA_30_MA_150</td>\n",
       "      <td>EUR_USDEUR_GBPEUR_JPYEUR_AUDEUR_CADUSD_JPYUSD_...</td>\n",
       "      <td>537</td>\n",
       "      <td>-4669</td>\n",
       "    </tr>\n",
       "  </tbody>\n",
       "</table>\n",
       "</div>"
      ],
      "text/plain": [
       "           cross                                               pair  \\\n",
       "2    MA_10_MA_20  EUR_USDEUR_GBPEUR_JPYEUR_AUDEUR_CADUSD_JPYUSD_...   \n",
       "3    MA_10_MA_40  EUR_USDEUR_GBPEUR_JPYEUR_AUDEUR_CADUSD_JPYUSD_...   \n",
       "7    MA_20_MA_40  EUR_USDEUR_GBPEUR_JPYEUR_AUDEUR_CADUSD_JPYUSD_...   \n",
       "11   MA_30_MA_40  EUR_USDEUR_GBPEUR_JPYEUR_AUDEUR_CADUSD_JPYUSD_...   \n",
       "10  MA_30_MA_150  EUR_USDEUR_GBPEUR_JPYEUR_AUDEUR_CADUSD_JPYUSD_...   \n",
       "\n",
       "    num_trades  total_gain  \n",
       "2         3129        3098  \n",
       "3         1697        2394  \n",
       "7         1500        1982  \n",
       "11        1713       -3104  \n",
       "10         537       -4669  "
      ]
     },
     "execution_count": 45,
     "metadata": {},
     "output_type": "execute_result"
    }
   ],
   "source": [
    "df_cross_gr.head()"
   ]
  },
  {
   "cell_type": "code",
   "execution_count": 27,
   "metadata": {},
   "outputs": [],
   "source": [
    "total_pairs = len(df_ma_res_h1.pair.unique())"
   ]
  },
  {
   "cell_type": "code",
   "execution_count": 28,
   "metadata": {},
   "outputs": [
    {
     "data": {
      "text/plain": [
       "15"
      ]
     },
     "execution_count": 28,
     "metadata": {},
     "output_type": "execute_result"
    }
   ],
   "source": [
    "total_pairs"
   ]
  },
  {
   "cell_type": "code",
   "execution_count": 29,
   "metadata": {},
   "outputs": [],
   "source": [
    "temp = df_ma_res_h1[df_ma_res_h1.cross == \"MA_10_MA_40\"]"
   ]
  },
  {
   "cell_type": "code",
   "execution_count": 34,
   "metadata": {},
   "outputs": [
    {
     "data": {
      "text/plain": [
       "10"
      ]
     },
     "execution_count": 34,
     "metadata": {},
     "output_type": "execute_result"
    }
   ],
   "source": [
    "temp[temp.total_gain > 0].shape[0]"
   ]
  },
  {
   "cell_type": "code",
   "execution_count": 35,
   "metadata": {},
   "outputs": [
    {
     "name": "stdout",
     "output_type": "stream",
     "text": [
      "MA_10_MA_20 pg:9 percent gain:60%\n",
      "MA_10_MA_40 pg:10 percent gain:67%\n",
      "MA_20_MA_40 pg:11 percent gain:73%\n",
      "MA_30_MA_40 pg:7 percent gain:47%\n",
      "MA_10_MA_80 pg:6 percent gain:40%\n",
      "MA_20_MA_80 pg:3 percent gain:20%\n",
      "MA_30_MA_80 pg:4 percent gain:27%\n",
      "MA_40_MA_80 pg:4 percent gain:27%\n",
      "MA_10_MA_120 pg:2 percent gain:13%\n",
      "MA_20_MA_120 pg:3 percent gain:20%\n",
      "MA_30_MA_120 pg:3 percent gain:20%\n",
      "MA_40_MA_120 pg:2 percent gain:13%\n",
      "MA_10_MA_150 pg:4 percent gain:27%\n",
      "MA_20_MA_150 pg:5 percent gain:33%\n",
      "MA_30_MA_150 pg:4 percent gain:27%\n",
      "MA_40_MA_150 pg:2 percent gain:13%\n"
     ]
    }
   ],
   "source": [
    "for c in df_ma_res_h1.cross.unique():\n",
    "    temp = df_ma_res_h1[df_ma_res_h1.cross == c]\n",
    "    pg = temp[temp.total_gain > 0].shape[0]\n",
    "    print(f\"{c} pg:{pg} percent gain:{(pg / total_pairs) * 100:.0f}%\")"
   ]
  },
  {
   "cell_type": "code",
   "execution_count": 47,
   "metadata": {},
   "outputs": [],
   "source": [
    "cross = \"MA_20_MA_40\"\n",
    "df_MA_20_MA_40 = df_ma_res_h1[df_ma_res_h1.cross == cross].copy()\n",
    "df_MA_20_MA_40.sort_values(by=\"total_gain\", ascending=False, inplace=True)"
   ]
  },
  {
   "cell_type": "code",
   "execution_count": 48,
   "metadata": {},
   "outputs": [
    {
     "data": {
      "text/html": [
       "<div>\n",
       "<style scoped>\n",
       "    .dataframe tbody tr th:only-of-type {\n",
       "        vertical-align: middle;\n",
       "    }\n",
       "\n",
       "    .dataframe tbody tr th {\n",
       "        vertical-align: top;\n",
       "    }\n",
       "\n",
       "    .dataframe thead th {\n",
       "        text-align: right;\n",
       "    }\n",
       "</style>\n",
       "<table border=\"1\" class=\"dataframe\">\n",
       "  <thead>\n",
       "    <tr style=\"text-align: right;\">\n",
       "      <th></th>\n",
       "      <th>pair</th>\n",
       "      <th>num_trades</th>\n",
       "      <th>total_gain</th>\n",
       "      <th>mean_gain</th>\n",
       "      <th>min_gain</th>\n",
       "      <th>max_gain</th>\n",
       "      <th>ma_l</th>\n",
       "      <th>ma_s</th>\n",
       "      <th>cross</th>\n",
       "      <th>granularity</th>\n",
       "    </tr>\n",
       "  </thead>\n",
       "  <tbody>\n",
       "    <tr>\n",
       "      <th>226</th>\n",
       "      <td>CAD_JPY</td>\n",
       "      <td>99</td>\n",
       "      <td>598</td>\n",
       "      <td>6</td>\n",
       "      <td>-186</td>\n",
       "      <td>320</td>\n",
       "      <td>MA_40</td>\n",
       "      <td>MA_20</td>\n",
       "      <td>MA_20_MA_40</td>\n",
       "      <td>H1</td>\n",
       "    </tr>\n",
       "    <tr>\n",
       "      <th>18</th>\n",
       "      <td>EUR_GBP</td>\n",
       "      <td>90</td>\n",
       "      <td>497</td>\n",
       "      <td>5</td>\n",
       "      <td>-80</td>\n",
       "      <td>137</td>\n",
       "      <td>MA_40</td>\n",
       "      <td>MA_20</td>\n",
       "      <td>MA_20_MA_40</td>\n",
       "      <td>H1</td>\n",
       "    </tr>\n",
       "    <tr>\n",
       "      <th>194</th>\n",
       "      <td>AUD_JPY</td>\n",
       "      <td>91</td>\n",
       "      <td>488</td>\n",
       "      <td>5</td>\n",
       "      <td>-212</td>\n",
       "      <td>439</td>\n",
       "      <td>MA_40</td>\n",
       "      <td>MA_20</td>\n",
       "      <td>MA_20_MA_40</td>\n",
       "      <td>H1</td>\n",
       "    </tr>\n",
       "    <tr>\n",
       "      <th>146</th>\n",
       "      <td>GBP_AUD</td>\n",
       "      <td>107</td>\n",
       "      <td>475</td>\n",
       "      <td>4</td>\n",
       "      <td>-222</td>\n",
       "      <td>442</td>\n",
       "      <td>MA_40</td>\n",
       "      <td>MA_20</td>\n",
       "      <td>MA_20_MA_40</td>\n",
       "      <td>H1</td>\n",
       "    </tr>\n",
       "    <tr>\n",
       "      <th>82</th>\n",
       "      <td>USD_JPY</td>\n",
       "      <td>101</td>\n",
       "      <td>469</td>\n",
       "      <td>4</td>\n",
       "      <td>-168</td>\n",
       "      <td>534</td>\n",
       "      <td>MA_40</td>\n",
       "      <td>MA_20</td>\n",
       "      <td>MA_20_MA_40</td>\n",
       "      <td>H1</td>\n",
       "    </tr>\n",
       "    <tr>\n",
       "      <th>114</th>\n",
       "      <td>GBP_USD</td>\n",
       "      <td>95</td>\n",
       "      <td>423</td>\n",
       "      <td>4</td>\n",
       "      <td>-142</td>\n",
       "      <td>315</td>\n",
       "      <td>MA_40</td>\n",
       "      <td>MA_20</td>\n",
       "      <td>MA_20_MA_40</td>\n",
       "      <td>H1</td>\n",
       "    </tr>\n",
       "    <tr>\n",
       "      <th>210</th>\n",
       "      <td>AUD_CAD</td>\n",
       "      <td>114</td>\n",
       "      <td>323</td>\n",
       "      <td>2</td>\n",
       "      <td>-84</td>\n",
       "      <td>267</td>\n",
       "      <td>MA_40</td>\n",
       "      <td>MA_20</td>\n",
       "      <td>MA_20_MA_40</td>\n",
       "      <td>H1</td>\n",
       "    </tr>\n",
       "    <tr>\n",
       "      <th>130</th>\n",
       "      <td>GBP_JPY</td>\n",
       "      <td>85</td>\n",
       "      <td>245</td>\n",
       "      <td>2</td>\n",
       "      <td>-318</td>\n",
       "      <td>477</td>\n",
       "      <td>MA_40</td>\n",
       "      <td>MA_20</td>\n",
       "      <td>MA_20_MA_40</td>\n",
       "      <td>H1</td>\n",
       "    </tr>\n",
       "    <tr>\n",
       "      <th>2</th>\n",
       "      <td>EUR_USD</td>\n",
       "      <td>107</td>\n",
       "      <td>132</td>\n",
       "      <td>1</td>\n",
       "      <td>-176</td>\n",
       "      <td>339</td>\n",
       "      <td>MA_40</td>\n",
       "      <td>MA_20</td>\n",
       "      <td>MA_20_MA_40</td>\n",
       "      <td>H1</td>\n",
       "    </tr>\n",
       "    <tr>\n",
       "      <th>34</th>\n",
       "      <td>EUR_JPY</td>\n",
       "      <td>93</td>\n",
       "      <td>62</td>\n",
       "      <td>0</td>\n",
       "      <td>-402</td>\n",
       "      <td>458</td>\n",
       "      <td>MA_40</td>\n",
       "      <td>MA_20</td>\n",
       "      <td>MA_20_MA_40</td>\n",
       "      <td>H1</td>\n",
       "    </tr>\n",
       "    <tr>\n",
       "      <th>178</th>\n",
       "      <td>AUD_USD</td>\n",
       "      <td>107</td>\n",
       "      <td>14</td>\n",
       "      <td>0</td>\n",
       "      <td>-102</td>\n",
       "      <td>164</td>\n",
       "      <td>MA_40</td>\n",
       "      <td>MA_20</td>\n",
       "      <td>MA_20_MA_40</td>\n",
       "      <td>H1</td>\n",
       "    </tr>\n",
       "    <tr>\n",
       "      <th>98</th>\n",
       "      <td>USD_CAD</td>\n",
       "      <td>101</td>\n",
       "      <td>-10</td>\n",
       "      <td>0</td>\n",
       "      <td>-124</td>\n",
       "      <td>234</td>\n",
       "      <td>MA_40</td>\n",
       "      <td>MA_20</td>\n",
       "      <td>MA_20_MA_40</td>\n",
       "      <td>H1</td>\n",
       "    </tr>\n",
       "    <tr>\n",
       "      <th>162</th>\n",
       "      <td>GBP_CAD</td>\n",
       "      <td>101</td>\n",
       "      <td>-278</td>\n",
       "      <td>-2</td>\n",
       "      <td>-145</td>\n",
       "      <td>362</td>\n",
       "      <td>MA_40</td>\n",
       "      <td>MA_20</td>\n",
       "      <td>MA_20_MA_40</td>\n",
       "      <td>H1</td>\n",
       "    </tr>\n",
       "    <tr>\n",
       "      <th>66</th>\n",
       "      <td>EUR_CAD</td>\n",
       "      <td>100</td>\n",
       "      <td>-560</td>\n",
       "      <td>-5</td>\n",
       "      <td>-151</td>\n",
       "      <td>289</td>\n",
       "      <td>MA_40</td>\n",
       "      <td>MA_20</td>\n",
       "      <td>MA_20_MA_40</td>\n",
       "      <td>H1</td>\n",
       "    </tr>\n",
       "    <tr>\n",
       "      <th>50</th>\n",
       "      <td>EUR_AUD</td>\n",
       "      <td>109</td>\n",
       "      <td>-896</td>\n",
       "      <td>-8</td>\n",
       "      <td>-224</td>\n",
       "      <td>403</td>\n",
       "      <td>MA_40</td>\n",
       "      <td>MA_20</td>\n",
       "      <td>MA_20_MA_40</td>\n",
       "      <td>H1</td>\n",
       "    </tr>\n",
       "  </tbody>\n",
       "</table>\n",
       "</div>"
      ],
      "text/plain": [
       "        pair  num_trades  total_gain  mean_gain  min_gain  max_gain   ma_l  \\\n",
       "226  CAD_JPY          99         598          6      -186       320  MA_40   \n",
       "18   EUR_GBP          90         497          5       -80       137  MA_40   \n",
       "194  AUD_JPY          91         488          5      -212       439  MA_40   \n",
       "146  GBP_AUD         107         475          4      -222       442  MA_40   \n",
       "82   USD_JPY         101         469          4      -168       534  MA_40   \n",
       "114  GBP_USD          95         423          4      -142       315  MA_40   \n",
       "210  AUD_CAD         114         323          2       -84       267  MA_40   \n",
       "130  GBP_JPY          85         245          2      -318       477  MA_40   \n",
       "2    EUR_USD         107         132          1      -176       339  MA_40   \n",
       "34   EUR_JPY          93          62          0      -402       458  MA_40   \n",
       "178  AUD_USD         107          14          0      -102       164  MA_40   \n",
       "98   USD_CAD         101         -10          0      -124       234  MA_40   \n",
       "162  GBP_CAD         101        -278         -2      -145       362  MA_40   \n",
       "66   EUR_CAD         100        -560         -5      -151       289  MA_40   \n",
       "50   EUR_AUD         109        -896         -8      -224       403  MA_40   \n",
       "\n",
       "      ma_s        cross granularity  \n",
       "226  MA_20  MA_20_MA_40          H1  \n",
       "18   MA_20  MA_20_MA_40          H1  \n",
       "194  MA_20  MA_20_MA_40          H1  \n",
       "146  MA_20  MA_20_MA_40          H1  \n",
       "82   MA_20  MA_20_MA_40          H1  \n",
       "114  MA_20  MA_20_MA_40          H1  \n",
       "210  MA_20  MA_20_MA_40          H1  \n",
       "130  MA_20  MA_20_MA_40          H1  \n",
       "2    MA_20  MA_20_MA_40          H1  \n",
       "34   MA_20  MA_20_MA_40          H1  \n",
       "178  MA_20  MA_20_MA_40          H1  \n",
       "98   MA_20  MA_20_MA_40          H1  \n",
       "162  MA_20  MA_20_MA_40          H1  \n",
       "66   MA_20  MA_20_MA_40          H1  \n",
       "50   MA_20  MA_20_MA_40          H1  "
      ]
     },
     "execution_count": 48,
     "metadata": {},
     "output_type": "execute_result"
    }
   ],
   "source": [
    "df_MA_20_MA_40"
   ]
  },
  {
   "cell_type": "code",
   "execution_count": 49,
   "metadata": {},
   "outputs": [],
   "source": [
    "df_gains = df_ma_trades_h1[(df_ma_trades_h1.cross==cross)&(df_ma_trades_h1.pair==\"EUR_AUD\")].copy()"
   ]
  },
  {
   "cell_type": "code",
   "execution_count": 50,
   "metadata": {},
   "outputs": [
    {
     "data": {
      "text/html": [
       "<div>\n",
       "<style scoped>\n",
       "    .dataframe tbody tr th:only-of-type {\n",
       "        vertical-align: middle;\n",
       "    }\n",
       "\n",
       "    .dataframe tbody tr th {\n",
       "        vertical-align: top;\n",
       "    }\n",
       "\n",
       "    .dataframe thead th {\n",
       "        text-align: right;\n",
       "    }\n",
       "</style>\n",
       "<table border=\"1\" class=\"dataframe\">\n",
       "  <thead>\n",
       "    <tr style=\"text-align: right;\">\n",
       "      <th></th>\n",
       "      <th>time</th>\n",
       "      <th>volume</th>\n",
       "      <th>mid_o</th>\n",
       "      <th>mid_h</th>\n",
       "      <th>mid_l</th>\n",
       "      <th>mid_c</th>\n",
       "      <th>bid_o</th>\n",
       "      <th>bid_h</th>\n",
       "      <th>bid_l</th>\n",
       "      <th>bid_c</th>\n",
       "      <th>ask_o</th>\n",
       "      <th>ask_h</th>\n",
       "      <th>ask_l</th>\n",
       "      <th>ask_c</th>\n",
       "      <th>MA_40</th>\n",
       "      <th>MA_10</th>\n",
       "      <th>MA_80</th>\n",
       "      <th>MA_20</th>\n",
       "      <th>MA_150</th>\n",
       "      <th>MA_120</th>\n",
       "      <th>MA_30</th>\n",
       "      <th>DELTA</th>\n",
       "      <th>DELTA_PREV</th>\n",
       "      <th>TRADE</th>\n",
       "      <th>DIFF</th>\n",
       "      <th>GAIN</th>\n",
       "      <th>granularity</th>\n",
       "      <th>pair</th>\n",
       "      <th>GAIN_C</th>\n",
       "      <th>ma_l</th>\n",
       "      <th>ma_s</th>\n",
       "      <th>cross</th>\n",
       "    </tr>\n",
       "  </thead>\n",
       "  <tbody>\n",
       "    <tr>\n",
       "      <th>3682</th>\n",
       "      <td>2023-01-20 12:00:00+00:00</td>\n",
       "      <td>12880</td>\n",
       "      <td>1.56458</td>\n",
       "      <td>1.56532</td>\n",
       "      <td>1.56009</td>\n",
       "      <td>1.56124</td>\n",
       "      <td>1.56443</td>\n",
       "      <td>1.56517</td>\n",
       "      <td>1.55997</td>\n",
       "      <td>1.56111</td>\n",
       "      <td>1.56473</td>\n",
       "      <td>1.56546</td>\n",
       "      <td>1.56020</td>\n",
       "      <td>1.56138</td>\n",
       "      <td>1.565085</td>\n",
       "      <td>1.563478</td>\n",
       "      <td>1.556612</td>\n",
       "      <td>1.565040</td>\n",
       "      <td>1.556029</td>\n",
       "      <td>1.555729</td>\n",
       "      <td>1.566423</td>\n",
       "      <td>-0.000045</td>\n",
       "      <td>0.000524</td>\n",
       "      <td>-1</td>\n",
       "      <td>-0.02322</td>\n",
       "      <td>232.2</td>\n",
       "      <td>H1</td>\n",
       "      <td>EUR_AUD</td>\n",
       "      <td>232.2</td>\n",
       "      <td>MA_40</td>\n",
       "      <td>MA_20</td>\n",
       "      <td>MA_20_MA_40</td>\n",
       "    </tr>\n",
       "    <tr>\n",
       "      <th>3683</th>\n",
       "      <td>2023-01-30 08:00:00+00:00</td>\n",
       "      <td>15073</td>\n",
       "      <td>1.53352</td>\n",
       "      <td>1.53942</td>\n",
       "      <td>1.53352</td>\n",
       "      <td>1.53802</td>\n",
       "      <td>1.53339</td>\n",
       "      <td>1.53930</td>\n",
       "      <td>1.53325</td>\n",
       "      <td>1.53785</td>\n",
       "      <td>1.53364</td>\n",
       "      <td>1.53956</td>\n",
       "      <td>1.53364</td>\n",
       "      <td>1.53818</td>\n",
       "      <td>1.530424</td>\n",
       "      <td>1.532246</td>\n",
       "      <td>1.532690</td>\n",
       "      <td>1.530533</td>\n",
       "      <td>1.542170</td>\n",
       "      <td>1.537577</td>\n",
       "      <td>1.530451</td>\n",
       "      <td>0.000109</td>\n",
       "      <td>-0.000141</td>\n",
       "      <td>1</td>\n",
       "      <td>0.00028</td>\n",
       "      <td>2.8</td>\n",
       "      <td>H1</td>\n",
       "      <td>EUR_AUD</td>\n",
       "      <td>235.0</td>\n",
       "      <td>MA_40</td>\n",
       "      <td>MA_20</td>\n",
       "      <td>MA_20_MA_40</td>\n",
       "    </tr>\n",
       "    <tr>\n",
       "      <th>3684</th>\n",
       "      <td>2023-02-01 08:00:00+00:00</td>\n",
       "      <td>9957</td>\n",
       "      <td>1.53784</td>\n",
       "      <td>1.53862</td>\n",
       "      <td>1.53582</td>\n",
       "      <td>1.53830</td>\n",
       "      <td>1.53771</td>\n",
       "      <td>1.53850</td>\n",
       "      <td>1.53570</td>\n",
       "      <td>1.53818</td>\n",
       "      <td>1.53797</td>\n",
       "      <td>1.53874</td>\n",
       "      <td>1.53592</td>\n",
       "      <td>1.53842</td>\n",
       "      <td>1.540475</td>\n",
       "      <td>1.539267</td>\n",
       "      <td>1.536232</td>\n",
       "      <td>1.540299</td>\n",
       "      <td>1.536993</td>\n",
       "      <td>1.535556</td>\n",
       "      <td>1.541474</td>\n",
       "      <td>-0.000177</td>\n",
       "      <td>0.000376</td>\n",
       "      <td>-1</td>\n",
       "      <td>0.00422</td>\n",
       "      <td>-42.2</td>\n",
       "      <td>H1</td>\n",
       "      <td>EUR_AUD</td>\n",
       "      <td>192.8</td>\n",
       "      <td>MA_40</td>\n",
       "      <td>MA_20</td>\n",
       "      <td>MA_20_MA_40</td>\n",
       "    </tr>\n",
       "  </tbody>\n",
       "</table>\n",
       "</div>"
      ],
      "text/plain": [
       "                          time  volume    mid_o    mid_h    mid_l    mid_c  \\\n",
       "3682 2023-01-20 12:00:00+00:00   12880  1.56458  1.56532  1.56009  1.56124   \n",
       "3683 2023-01-30 08:00:00+00:00   15073  1.53352  1.53942  1.53352  1.53802   \n",
       "3684 2023-02-01 08:00:00+00:00    9957  1.53784  1.53862  1.53582  1.53830   \n",
       "\n",
       "        bid_o    bid_h    bid_l    bid_c    ask_o    ask_h    ask_l    ask_c  \\\n",
       "3682  1.56443  1.56517  1.55997  1.56111  1.56473  1.56546  1.56020  1.56138   \n",
       "3683  1.53339  1.53930  1.53325  1.53785  1.53364  1.53956  1.53364  1.53818   \n",
       "3684  1.53771  1.53850  1.53570  1.53818  1.53797  1.53874  1.53592  1.53842   \n",
       "\n",
       "         MA_40     MA_10     MA_80     MA_20    MA_150    MA_120     MA_30  \\\n",
       "3682  1.565085  1.563478  1.556612  1.565040  1.556029  1.555729  1.566423   \n",
       "3683  1.530424  1.532246  1.532690  1.530533  1.542170  1.537577  1.530451   \n",
       "3684  1.540475  1.539267  1.536232  1.540299  1.536993  1.535556  1.541474   \n",
       "\n",
       "         DELTA  DELTA_PREV  TRADE     DIFF   GAIN granularity     pair  \\\n",
       "3682 -0.000045    0.000524     -1 -0.02322  232.2          H1  EUR_AUD   \n",
       "3683  0.000109   -0.000141      1  0.00028    2.8          H1  EUR_AUD   \n",
       "3684 -0.000177    0.000376     -1  0.00422  -42.2          H1  EUR_AUD   \n",
       "\n",
       "      GAIN_C   ma_l   ma_s        cross  \n",
       "3682   232.2  MA_40  MA_20  MA_20_MA_40  \n",
       "3683   235.0  MA_40  MA_20  MA_20_MA_40  \n",
       "3684   192.8  MA_40  MA_20  MA_20_MA_40  "
      ]
     },
     "execution_count": 50,
     "metadata": {},
     "output_type": "execute_result"
    }
   ],
   "source": [
    "df_gains.head(3)"
   ]
  },
  {
   "cell_type": "code",
   "execution_count": 51,
   "metadata": {},
   "outputs": [
    {
     "data": {
      "application/vnd.plotly.v1+json": {
       "config": {
        "plotlyServerURL": "https://plot.ly"
       },
       "data": [
        {
         "line": {
          "shape": "spline",
          "width": 2
         },
         "name": "GAIN_C",
         "type": "scatter",
         "x": [
          "s23-01-20 12:00",
          "s23-01-30 08:00",
          "s23-02-01 08:00",
          "s23-02-02 03:00",
          "s23-02-02 23:00",
          "s23-02-03 09:00",
          "s23-02-07 05:00",
          "s23-02-09 00:00",
          "s23-02-09 20:00",
          "s23-02-10 03:00",
          "s23-02-12 22:00",
          "s23-02-14 17:00",
          "s23-02-14 21:00",
          "s23-02-15 08:00",
          "s23-02-16 17:00",
          "s23-02-17 01:00",
          "s23-02-20 07:00",
          "s23-02-21 16:00",
          "s23-02-23 09:00",
          "s23-02-24 07:00",
          "s23-03-01 03:00",
          "s23-03-01 19:00",
          "s23-03-02 22:00",
          "s23-03-06 08:00",
          "s23-03-08 19:00",
          "s23-03-09 12:00",
          "s23-03-09 13:00",
          "s23-03-09 19:00",
          "s23-03-13 15:00",
          "s23-03-14 15:00",
          "s23-03-14 19:00",
          "s23-03-20 06:00",
          "s23-03-24 09:00",
          "s23-03-27 12:00",
          "s23-03-28 13:00",
          "s23-03-29 12:00",
          "s23-04-02 22:00",
          "s23-04-04 16:00",
          "s23-04-06 06:00",
          "s23-04-06 15:00",
          "s23-04-11 00:00",
          "s23-04-11 16:00",
          "s23-04-13 04:00",
          "s23-04-13 05:00",
          "s23-04-13 11:00",
          "s23-04-14 18:00",
          "s23-04-17 19:00",
          "s23-04-19 05:00",
          "s23-04-20 16:00",
          "s23-04-21 11:00",
          "s23-04-27 17:00",
          "s23-04-28 18:00",
          "s23-05-01 06:00",
          "s23-05-03 07:00",
          "s23-05-04 18:00",
          "s23-05-11 09:00",
          "s23-05-11 10:00",
          "s23-05-11 12:00",
          "s23-05-11 13:00",
          "s23-05-11 14:00",
          "s23-05-15 10:00",
          "s23-05-16 15:00",
          "s23-05-17 18:00",
          "s23-05-18 17:00",
          "s23-05-19 02:00",
          "s23-05-22 06:00",
          "s23-05-23 06:00",
          "s23-05-23 20:00",
          "s23-05-26 20:00",
          "s23-05-30 14:00",
          "s23-06-01 01:00",
          "s23-06-07 23:00",
          "s23-06-09 01:00",
          "s23-06-13 06:00",
          "s23-06-14 02:00",
          "s23-06-16 14:00",
          "s23-06-27 07:00",
          "s23-06-27 16:00",
          "s23-06-29 14:00",
          "s23-07-05 18:00",
          "s23-07-09 23:00",
          "s23-07-10 09:00",
          "s23-07-12 01:00",
          "s23-07-14 14:00",
          "s23-07-20 06:00",
          "s23-07-21 12:00",
          "s23-07-24 17:00",
          "s23-07-26 14:00",
          "s23-07-27 13:00",
          "s23-07-28 04:00",
          "s23-07-31 14:00",
          "s23-08-01 14:00",
          "s23-08-04 01:00",
          "s23-08-06 23:00",
          "s23-08-09 05:00",
          "s23-08-10 00:00",
          "s23-08-14 20:00",
          "s23-08-15 18:00",
          "s23-08-18 04:00",
          "s23-08-18 07:00",
          "s23-08-21 08:00",
          "s23-08-21 10:00",
          "s23-08-22 09:00",
          "s23-08-24 19:00",
          "s23-08-25 19:00",
          "s23-08-28 03:00",
          "s23-08-29 03:00",
          "s23-08-30 16:00",
          "s23-08-31 16:00"
         ],
         "y": [
          232.20000000000016,
          235.00000000000074,
          192.80000000000183,
          184.60000000000363,
          118.60000000000424,
          114.90000000000443,
          125.40000000000438,
          140.00000000000455,
          119.1000000000053,
          55.00000000000503,
          112.40000000000359,
          96.40000000000313,
          -58.99999999999574,
          -80.89999999999488,
          -120.29999999999542,
          -169.99999999999682,
          -203.39999999999802,
          -189.89999999999839,
          -238.99999999999807,
          -127.1999999999984,
          -214.5999999999981,
          -250.09999999999752,
          -287.39999999999765,
          -67.79999999999785,
          -25.199999999998546,
          -35.600000000000065,
          -137.00000000000045,
          -135.0999999999991,
          -171.7999999999975,
          -197.09999999999673,
          -95.19999999999752,
          82.40000000000245,
          -9.5999999999963,
          -39.199999999994816,
          -90.39999999999495,
          -150.399999999995,
          -199.79999999999444,
          -187.59999999999445,
          -301.79999999999427,
          -333.7999999999952,
          -389.5999999999966,
          -409.99999999999704,
          -422.5999999999974,
          -467.29999999999717,
          -523.7999999999965,
          -622.5999999999976,
          -618.0999999999992,
          -670.9999999999994,
          -823.9999999999982,
          -587.1999999999967,
          -608.1999999999966,
          -696.6999999999969,
          -694.3999999999974,
          -808.3999999999982,
          -574.1999999999982,
          -578.5999999999982,
          -603.1999999999973,
          -572.5999999999967,
          -595.5999999999964,
          -619.0999999999949,
          -661.6999999999942,
          -697.8999999999938,
          -712.9999999999928,
          -774.3999999999932,
          -842.3999999999945,
          -877.2999999999945,
          -913.1999999999944,
          -752.9999999999951,
          -759.5999999999962,
          -791.3999999999979,
          -441.19999999999965,
          -449.99999999999955,
          -327.99999999999966,
          -346.10000000000053,
          -315.40000000000146,
          87.9999999999967,
          -1.2000000000036835,
          28.899999999995888,
          140.5999999999949,
          226.1999999999939,
          107.49999999999343,
          -6.400000000006671,
          3.3999999999931383,
          46.899999999993895,
          -42.60000000000623,
          -155.90000000000686,
          -129.70000000000618,
          -211.200000000005,
          -402.4000000000052,
          -536.0000000000056,
          -761.0000000000052,
          -703.2000000000063,
          -794.8000000000069,
          -789.400000000007,
          -845.3000000000069,
          -830.2000000000056,
          -889.600000000004,
          -755.2000000000028,
          -738.0000000000033,
          -715.8000000000044,
          -720.8000000000038,
          -837.800000000002,
          -780.6000000000004,
          -777.2999999999987,
          -742.3999999999987,
          -749.4000000000002,
          -796.6000000000008,
          -896.9000000000007,
          -896.9000000000007
         ]
        }
       ],
       "layout": {
        "font": {
         "color": "#e1e1e1",
         "size": 12
        },
        "height": 400,
        "margin": {
         "b": 10,
         "l": 10,
         "r": 10,
         "t": 10
        },
        "paper_bgcolor": "#2c303c",
        "plot_bgcolor": "#2c303c",
        "template": {
         "data": {
          "bar": [
           {
            "error_x": {
             "color": "#2a3f5f"
            },
            "error_y": {
             "color": "#2a3f5f"
            },
            "marker": {
             "line": {
              "color": "#E5ECF6",
              "width": 0.5
             },
             "pattern": {
              "fillmode": "overlay",
              "size": 10,
              "solidity": 0.2
             }
            },
            "type": "bar"
           }
          ],
          "barpolar": [
           {
            "marker": {
             "line": {
              "color": "#E5ECF6",
              "width": 0.5
             },
             "pattern": {
              "fillmode": "overlay",
              "size": 10,
              "solidity": 0.2
             }
            },
            "type": "barpolar"
           }
          ],
          "carpet": [
           {
            "aaxis": {
             "endlinecolor": "#2a3f5f",
             "gridcolor": "white",
             "linecolor": "white",
             "minorgridcolor": "white",
             "startlinecolor": "#2a3f5f"
            },
            "baxis": {
             "endlinecolor": "#2a3f5f",
             "gridcolor": "white",
             "linecolor": "white",
             "minorgridcolor": "white",
             "startlinecolor": "#2a3f5f"
            },
            "type": "carpet"
           }
          ],
          "choropleth": [
           {
            "colorbar": {
             "outlinewidth": 0,
             "ticks": ""
            },
            "type": "choropleth"
           }
          ],
          "contour": [
           {
            "colorbar": {
             "outlinewidth": 0,
             "ticks": ""
            },
            "colorscale": [
             [
              0,
              "#0d0887"
             ],
             [
              0.1111111111111111,
              "#46039f"
             ],
             [
              0.2222222222222222,
              "#7201a8"
             ],
             [
              0.3333333333333333,
              "#9c179e"
             ],
             [
              0.4444444444444444,
              "#bd3786"
             ],
             [
              0.5555555555555556,
              "#d8576b"
             ],
             [
              0.6666666666666666,
              "#ed7953"
             ],
             [
              0.7777777777777778,
              "#fb9f3a"
             ],
             [
              0.8888888888888888,
              "#fdca26"
             ],
             [
              1,
              "#f0f921"
             ]
            ],
            "type": "contour"
           }
          ],
          "contourcarpet": [
           {
            "colorbar": {
             "outlinewidth": 0,
             "ticks": ""
            },
            "type": "contourcarpet"
           }
          ],
          "heatmap": [
           {
            "colorbar": {
             "outlinewidth": 0,
             "ticks": ""
            },
            "colorscale": [
             [
              0,
              "#0d0887"
             ],
             [
              0.1111111111111111,
              "#46039f"
             ],
             [
              0.2222222222222222,
              "#7201a8"
             ],
             [
              0.3333333333333333,
              "#9c179e"
             ],
             [
              0.4444444444444444,
              "#bd3786"
             ],
             [
              0.5555555555555556,
              "#d8576b"
             ],
             [
              0.6666666666666666,
              "#ed7953"
             ],
             [
              0.7777777777777778,
              "#fb9f3a"
             ],
             [
              0.8888888888888888,
              "#fdca26"
             ],
             [
              1,
              "#f0f921"
             ]
            ],
            "type": "heatmap"
           }
          ],
          "heatmapgl": [
           {
            "colorbar": {
             "outlinewidth": 0,
             "ticks": ""
            },
            "colorscale": [
             [
              0,
              "#0d0887"
             ],
             [
              0.1111111111111111,
              "#46039f"
             ],
             [
              0.2222222222222222,
              "#7201a8"
             ],
             [
              0.3333333333333333,
              "#9c179e"
             ],
             [
              0.4444444444444444,
              "#bd3786"
             ],
             [
              0.5555555555555556,
              "#d8576b"
             ],
             [
              0.6666666666666666,
              "#ed7953"
             ],
             [
              0.7777777777777778,
              "#fb9f3a"
             ],
             [
              0.8888888888888888,
              "#fdca26"
             ],
             [
              1,
              "#f0f921"
             ]
            ],
            "type": "heatmapgl"
           }
          ],
          "histogram": [
           {
            "marker": {
             "pattern": {
              "fillmode": "overlay",
              "size": 10,
              "solidity": 0.2
             }
            },
            "type": "histogram"
           }
          ],
          "histogram2d": [
           {
            "colorbar": {
             "outlinewidth": 0,
             "ticks": ""
            },
            "colorscale": [
             [
              0,
              "#0d0887"
             ],
             [
              0.1111111111111111,
              "#46039f"
             ],
             [
              0.2222222222222222,
              "#7201a8"
             ],
             [
              0.3333333333333333,
              "#9c179e"
             ],
             [
              0.4444444444444444,
              "#bd3786"
             ],
             [
              0.5555555555555556,
              "#d8576b"
             ],
             [
              0.6666666666666666,
              "#ed7953"
             ],
             [
              0.7777777777777778,
              "#fb9f3a"
             ],
             [
              0.8888888888888888,
              "#fdca26"
             ],
             [
              1,
              "#f0f921"
             ]
            ],
            "type": "histogram2d"
           }
          ],
          "histogram2dcontour": [
           {
            "colorbar": {
             "outlinewidth": 0,
             "ticks": ""
            },
            "colorscale": [
             [
              0,
              "#0d0887"
             ],
             [
              0.1111111111111111,
              "#46039f"
             ],
             [
              0.2222222222222222,
              "#7201a8"
             ],
             [
              0.3333333333333333,
              "#9c179e"
             ],
             [
              0.4444444444444444,
              "#bd3786"
             ],
             [
              0.5555555555555556,
              "#d8576b"
             ],
             [
              0.6666666666666666,
              "#ed7953"
             ],
             [
              0.7777777777777778,
              "#fb9f3a"
             ],
             [
              0.8888888888888888,
              "#fdca26"
             ],
             [
              1,
              "#f0f921"
             ]
            ],
            "type": "histogram2dcontour"
           }
          ],
          "mesh3d": [
           {
            "colorbar": {
             "outlinewidth": 0,
             "ticks": ""
            },
            "type": "mesh3d"
           }
          ],
          "parcoords": [
           {
            "line": {
             "colorbar": {
              "outlinewidth": 0,
              "ticks": ""
             }
            },
            "type": "parcoords"
           }
          ],
          "pie": [
           {
            "automargin": true,
            "type": "pie"
           }
          ],
          "scatter": [
           {
            "fillpattern": {
             "fillmode": "overlay",
             "size": 10,
             "solidity": 0.2
            },
            "type": "scatter"
           }
          ],
          "scatter3d": [
           {
            "line": {
             "colorbar": {
              "outlinewidth": 0,
              "ticks": ""
             }
            },
            "marker": {
             "colorbar": {
              "outlinewidth": 0,
              "ticks": ""
             }
            },
            "type": "scatter3d"
           }
          ],
          "scattercarpet": [
           {
            "marker": {
             "colorbar": {
              "outlinewidth": 0,
              "ticks": ""
             }
            },
            "type": "scattercarpet"
           }
          ],
          "scattergeo": [
           {
            "marker": {
             "colorbar": {
              "outlinewidth": 0,
              "ticks": ""
             }
            },
            "type": "scattergeo"
           }
          ],
          "scattergl": [
           {
            "marker": {
             "colorbar": {
              "outlinewidth": 0,
              "ticks": ""
             }
            },
            "type": "scattergl"
           }
          ],
          "scattermapbox": [
           {
            "marker": {
             "colorbar": {
              "outlinewidth": 0,
              "ticks": ""
             }
            },
            "type": "scattermapbox"
           }
          ],
          "scatterpolar": [
           {
            "marker": {
             "colorbar": {
              "outlinewidth": 0,
              "ticks": ""
             }
            },
            "type": "scatterpolar"
           }
          ],
          "scatterpolargl": [
           {
            "marker": {
             "colorbar": {
              "outlinewidth": 0,
              "ticks": ""
             }
            },
            "type": "scatterpolargl"
           }
          ],
          "scatterternary": [
           {
            "marker": {
             "colorbar": {
              "outlinewidth": 0,
              "ticks": ""
             }
            },
            "type": "scatterternary"
           }
          ],
          "surface": [
           {
            "colorbar": {
             "outlinewidth": 0,
             "ticks": ""
            },
            "colorscale": [
             [
              0,
              "#0d0887"
             ],
             [
              0.1111111111111111,
              "#46039f"
             ],
             [
              0.2222222222222222,
              "#7201a8"
             ],
             [
              0.3333333333333333,
              "#9c179e"
             ],
             [
              0.4444444444444444,
              "#bd3786"
             ],
             [
              0.5555555555555556,
              "#d8576b"
             ],
             [
              0.6666666666666666,
              "#ed7953"
             ],
             [
              0.7777777777777778,
              "#fb9f3a"
             ],
             [
              0.8888888888888888,
              "#fdca26"
             ],
             [
              1,
              "#f0f921"
             ]
            ],
            "type": "surface"
           }
          ],
          "table": [
           {
            "cells": {
             "fill": {
              "color": "#EBF0F8"
             },
             "line": {
              "color": "white"
             }
            },
            "header": {
             "fill": {
              "color": "#C8D4E3"
             },
             "line": {
              "color": "white"
             }
            },
            "type": "table"
           }
          ]
         },
         "layout": {
          "annotationdefaults": {
           "arrowcolor": "#2a3f5f",
           "arrowhead": 0,
           "arrowwidth": 1
          },
          "autotypenumbers": "strict",
          "coloraxis": {
           "colorbar": {
            "outlinewidth": 0,
            "ticks": ""
           }
          },
          "colorscale": {
           "diverging": [
            [
             0,
             "#8e0152"
            ],
            [
             0.1,
             "#c51b7d"
            ],
            [
             0.2,
             "#de77ae"
            ],
            [
             0.3,
             "#f1b6da"
            ],
            [
             0.4,
             "#fde0ef"
            ],
            [
             0.5,
             "#f7f7f7"
            ],
            [
             0.6,
             "#e6f5d0"
            ],
            [
             0.7,
             "#b8e186"
            ],
            [
             0.8,
             "#7fbc41"
            ],
            [
             0.9,
             "#4d9221"
            ],
            [
             1,
             "#276419"
            ]
           ],
           "sequential": [
            [
             0,
             "#0d0887"
            ],
            [
             0.1111111111111111,
             "#46039f"
            ],
            [
             0.2222222222222222,
             "#7201a8"
            ],
            [
             0.3333333333333333,
             "#9c179e"
            ],
            [
             0.4444444444444444,
             "#bd3786"
            ],
            [
             0.5555555555555556,
             "#d8576b"
            ],
            [
             0.6666666666666666,
             "#ed7953"
            ],
            [
             0.7777777777777778,
             "#fb9f3a"
            ],
            [
             0.8888888888888888,
             "#fdca26"
            ],
            [
             1,
             "#f0f921"
            ]
           ],
           "sequentialminus": [
            [
             0,
             "#0d0887"
            ],
            [
             0.1111111111111111,
             "#46039f"
            ],
            [
             0.2222222222222222,
             "#7201a8"
            ],
            [
             0.3333333333333333,
             "#9c179e"
            ],
            [
             0.4444444444444444,
             "#bd3786"
            ],
            [
             0.5555555555555556,
             "#d8576b"
            ],
            [
             0.6666666666666666,
             "#ed7953"
            ],
            [
             0.7777777777777778,
             "#fb9f3a"
            ],
            [
             0.8888888888888888,
             "#fdca26"
            ],
            [
             1,
             "#f0f921"
            ]
           ]
          },
          "colorway": [
           "#636efa",
           "#EF553B",
           "#00cc96",
           "#ab63fa",
           "#FFA15A",
           "#19d3f3",
           "#FF6692",
           "#B6E880",
           "#FF97FF",
           "#FECB52"
          ],
          "font": {
           "color": "#2a3f5f"
          },
          "geo": {
           "bgcolor": "white",
           "lakecolor": "white",
           "landcolor": "#E5ECF6",
           "showlakes": true,
           "showland": true,
           "subunitcolor": "white"
          },
          "hoverlabel": {
           "align": "left"
          },
          "hovermode": "closest",
          "mapbox": {
           "style": "light"
          },
          "paper_bgcolor": "white",
          "plot_bgcolor": "#E5ECF6",
          "polar": {
           "angularaxis": {
            "gridcolor": "white",
            "linecolor": "white",
            "ticks": ""
           },
           "bgcolor": "#E5ECF6",
           "radialaxis": {
            "gridcolor": "white",
            "linecolor": "white",
            "ticks": ""
           }
          },
          "scene": {
           "xaxis": {
            "backgroundcolor": "#E5ECF6",
            "gridcolor": "white",
            "gridwidth": 2,
            "linecolor": "white",
            "showbackground": true,
            "ticks": "",
            "zerolinecolor": "white"
           },
           "yaxis": {
            "backgroundcolor": "#E5ECF6",
            "gridcolor": "white",
            "gridwidth": 2,
            "linecolor": "white",
            "showbackground": true,
            "ticks": "",
            "zerolinecolor": "white"
           },
           "zaxis": {
            "backgroundcolor": "#E5ECF6",
            "gridcolor": "white",
            "gridwidth": 2,
            "linecolor": "white",
            "showbackground": true,
            "ticks": "",
            "zerolinecolor": "white"
           }
          },
          "shapedefaults": {
           "line": {
            "color": "#2a3f5f"
           }
          },
          "ternary": {
           "aaxis": {
            "gridcolor": "white",
            "linecolor": "white",
            "ticks": ""
           },
           "baxis": {
            "gridcolor": "white",
            "linecolor": "white",
            "ticks": ""
           },
           "bgcolor": "#E5ECF6",
           "caxis": {
            "gridcolor": "white",
            "linecolor": "white",
            "ticks": ""
           }
          },
          "title": {
           "x": 0.05
          },
          "xaxis": {
           "automargin": true,
           "gridcolor": "white",
           "linecolor": "white",
           "ticks": "",
           "title": {
            "standoff": 15
           },
           "zerolinecolor": "white",
           "zerolinewidth": 2
          },
          "yaxis": {
           "automargin": true,
           "gridcolor": "white",
           "linecolor": "white",
           "ticks": "",
           "title": {
            "standoff": 15
           },
           "zerolinecolor": "white",
           "zerolinewidth": 2
          }
         }
        },
        "width": 900,
        "xaxis": {
         "gridcolor": "#1f292f",
         "nticks": 5,
         "rangeslider": {
          "visible": false
         }
        },
        "yaxis": {
         "gridcolor": "#1f292f"
        }
       }
      }
     },
     "metadata": {},
     "output_type": "display_data"
    }
   ],
   "source": [
    "cp = CandlePlot(df_gains, candles=False)\n",
    "cp.show_plot(line_traces=[\"GAIN_C\"])"
   ]
  },
  {
   "cell_type": "code",
   "execution_count": 54,
   "metadata": {},
   "outputs": [
    {
     "name": "stdout",
     "output_type": "stream",
     "text": [
      "CAD_JPY 598\n"
     ]
    },
    {
     "data": {
      "application/vnd.plotly.v1+json": {
       "config": {
        "plotlyServerURL": "https://plot.ly"
       },
       "data": [
        {
         "line": {
          "shape": "spline",
          "width": 2
         },
         "name": "GAIN_C",
         "type": "scatter",
         "x": [
          "s23-01-24 19:00",
          "s23-01-26 20:00",
          "s23-01-30 06:00",
          "s23-01-30 09:00",
          "s23-01-30 20:00",
          "s23-02-01 03:00",
          "s23-02-01 22:00",
          "s23-02-03 18:00",
          "s23-02-07 14:00",
          "s23-02-10 16:00",
          "s23-02-14 17:00",
          "s23-02-14 21:00",
          "s23-02-16 21:00",
          "s23-02-20 23:00",
          "s23-02-22 05:00",
          "s23-02-23 10:00",
          "s23-02-24 02:00",
          "s23-02-24 17:00",
          "s23-02-28 22:00",
          "s23-03-02 05:00",
          "s23-03-03 17:00",
          "s23-03-07 03:00",
          "s23-03-07 05:00",
          "s23-03-08 10:00",
          "s23-03-08 22:00",
          "s23-03-14 12:00",
          "s23-03-15 15:00",
          "s23-03-16 23:00",
          "s23-03-17 18:00",
          "s23-03-21 06:00",
          "s23-03-22 21:00",
          "s23-03-27 07:00",
          "s23-03-28 19:00",
          "s23-03-29 00:00",
          "s23-04-04 16:00",
          "s23-04-06 19:00",
          "s23-04-13 01:00",
          "s23-04-13 18:00",
          "s23-04-18 18:00",
          "s23-04-19 19:00",
          "s23-04-20 03:00",
          "s23-04-24 13:00",
          "s23-04-25 09:00",
          "s23-04-27 08:00",
          "s23-05-02 18:00",
          "s23-05-05 06:00",
          "s23-05-09 09:00",
          "s23-05-10 05:00",
          "s23-05-10 17:00",
          "s23-05-12 20:00",
          "s23-05-19 19:00",
          "s23-05-22 21:00",
          "s23-05-23 23:00",
          "s23-05-24 06:00",
          "s23-05-24 09:00",
          "s23-05-25 08:00",
          "s23-05-26 08:00",
          "s23-05-26 12:00",
          "s23-05-30 03:00",
          "s23-06-01 05:00",
          "s23-06-06 01:00",
          "s23-06-06 23:00",
          "s23-06-08 20:00",
          "s23-06-09 17:00",
          "s23-06-12 19:00",
          "s23-06-13 15:00",
          "s23-06-15 01:00",
          "s23-06-15 07:00",
          "s23-06-20 06:00",
          "s23-06-21 13:00",
          "s23-06-28 04:00",
          "s23-06-29 17:00",
          "s23-07-02 21:00",
          "s23-07-03 17:00",
          "s23-07-05 10:00",
          "s23-07-13 20:00",
          "s23-07-14 19:00",
          "s23-07-16 21:00",
          "s23-07-17 00:00",
          "s23-07-18 02:00",
          "s23-07-18 13:00",
          "s23-07-18 23:00",
          "s23-07-24 17:00",
          "s23-07-25 00:00",
          "s23-07-25 20:00",
          "s23-07-31 00:00",
          "s23-08-01 22:00",
          "s23-08-07 20:00",
          "s23-08-09 00:00",
          "s23-08-09 08:00",
          "s23-08-15 22:00",
          "s23-08-16 22:00",
          "s23-08-17 22:00",
          "s23-08-21 11:00",
          "s23-08-22 18:00",
          "s23-08-24 14:00",
          "s23-08-29 09:00",
          "s23-08-30 12:00",
          "s23-08-31 15:00"
         ],
         "y": [
          -42.79999999999973,
          -97.99999999999898,
          -127.99999999999869,
          -133.89999999999844,
          -157.59999999999792,
          -223.8999999999976,
          -313.3999999999972,
          -293.4999999999974,
          -323.5999999999976,
          -197.39999999999753,
          -209.999999999998,
          -236.59999999999854,
          -268.5999999999993,
          -302.49999999999915,
          -320.99999999999795,
          -333.899999999997,
          -398.29999999999615,
          -434.99999999999517,
          -485.2999999999952,
          -510.1999999999961,
          -493.4999999999974,
          -495.69999999999794,
          -497.39999999999753,
          -542.8999999999974,
          -407.19999999999743,
          -593.2999999999979,
          -688.3999999999987,
          -809.599999999999,
          -833.1999999999994,
          -884.9999999999994,
          -847.099999999999,
          -761.5999999999985,
          -803.9999999999977,
          -683.3999999999974,
          -674.399999999997,
          -533.599999999997,
          -576.9999999999967,
          -523.7999999999956,
          -531.5999999999959,
          -546.199999999996,
          -479.7999999999958,
          -554.9999999999968,
          -516.7999999999977,
          -304.79999999999865,
          -203.19999999999953,
          -48.300000000000296,
          -67.50000000000102,
          -155.4000000000015,
          -147.60000000000122,
          55.499999999999375,
          7.599999999999454,
          11.099999999999113,
          23.99999999999818,
          -2.800000000001887,
          -36.40000000000174,
          -47.300000000002626,
          -75.90000000000276,
          -45.40000000000208,
          -29.80000000000149,
          64.39999999999924,
          38.19999999999919,
          25.199999999998226,
          -12.600000000001785,
          -7.800000000001603,
          -92.00000000000148,
          -54.80000000000149,
          -90.80000000000143,
          35.0999999999986,
          -5.600000000002467,
          121.99999999999716,
          92.19999999999698,
          61.79999999999677,
          40.29999999999643,
          -24.500000000004604,
          295.79999999999427,
          268.5999999999937,
          280.99999999999324,
          253.9999999999922,
          211.099999999992,
          199.59999999999252,
          136.39999999999344,
          326.89999999999355,
          334.1999999999929,
          290.29999999999217,
          352.5999999999912,
          487.7999999999902,
          600.3999999999892,
          616.5999999999883,
          611.6999999999877,
          721.3999999999871,
          700.4999999999868,
          646.9999999999872,
          604.4999999999875,
          563.9999999999874,
          581.8999999999876,
          614.1999999999883,
          612.5999999999892,
          598.0999999999897,
          598.0999999999897
         ]
        }
       ],
       "layout": {
        "font": {
         "color": "#e1e1e1",
         "size": 12
        },
        "height": 400,
        "margin": {
         "b": 10,
         "l": 10,
         "r": 10,
         "t": 10
        },
        "paper_bgcolor": "#2c303c",
        "plot_bgcolor": "#2c303c",
        "template": {
         "data": {
          "bar": [
           {
            "error_x": {
             "color": "#2a3f5f"
            },
            "error_y": {
             "color": "#2a3f5f"
            },
            "marker": {
             "line": {
              "color": "#E5ECF6",
              "width": 0.5
             },
             "pattern": {
              "fillmode": "overlay",
              "size": 10,
              "solidity": 0.2
             }
            },
            "type": "bar"
           }
          ],
          "barpolar": [
           {
            "marker": {
             "line": {
              "color": "#E5ECF6",
              "width": 0.5
             },
             "pattern": {
              "fillmode": "overlay",
              "size": 10,
              "solidity": 0.2
             }
            },
            "type": "barpolar"
           }
          ],
          "carpet": [
           {
            "aaxis": {
             "endlinecolor": "#2a3f5f",
             "gridcolor": "white",
             "linecolor": "white",
             "minorgridcolor": "white",
             "startlinecolor": "#2a3f5f"
            },
            "baxis": {
             "endlinecolor": "#2a3f5f",
             "gridcolor": "white",
             "linecolor": "white",
             "minorgridcolor": "white",
             "startlinecolor": "#2a3f5f"
            },
            "type": "carpet"
           }
          ],
          "choropleth": [
           {
            "colorbar": {
             "outlinewidth": 0,
             "ticks": ""
            },
            "type": "choropleth"
           }
          ],
          "contour": [
           {
            "colorbar": {
             "outlinewidth": 0,
             "ticks": ""
            },
            "colorscale": [
             [
              0,
              "#0d0887"
             ],
             [
              0.1111111111111111,
              "#46039f"
             ],
             [
              0.2222222222222222,
              "#7201a8"
             ],
             [
              0.3333333333333333,
              "#9c179e"
             ],
             [
              0.4444444444444444,
              "#bd3786"
             ],
             [
              0.5555555555555556,
              "#d8576b"
             ],
             [
              0.6666666666666666,
              "#ed7953"
             ],
             [
              0.7777777777777778,
              "#fb9f3a"
             ],
             [
              0.8888888888888888,
              "#fdca26"
             ],
             [
              1,
              "#f0f921"
             ]
            ],
            "type": "contour"
           }
          ],
          "contourcarpet": [
           {
            "colorbar": {
             "outlinewidth": 0,
             "ticks": ""
            },
            "type": "contourcarpet"
           }
          ],
          "heatmap": [
           {
            "colorbar": {
             "outlinewidth": 0,
             "ticks": ""
            },
            "colorscale": [
             [
              0,
              "#0d0887"
             ],
             [
              0.1111111111111111,
              "#46039f"
             ],
             [
              0.2222222222222222,
              "#7201a8"
             ],
             [
              0.3333333333333333,
              "#9c179e"
             ],
             [
              0.4444444444444444,
              "#bd3786"
             ],
             [
              0.5555555555555556,
              "#d8576b"
             ],
             [
              0.6666666666666666,
              "#ed7953"
             ],
             [
              0.7777777777777778,
              "#fb9f3a"
             ],
             [
              0.8888888888888888,
              "#fdca26"
             ],
             [
              1,
              "#f0f921"
             ]
            ],
            "type": "heatmap"
           }
          ],
          "heatmapgl": [
           {
            "colorbar": {
             "outlinewidth": 0,
             "ticks": ""
            },
            "colorscale": [
             [
              0,
              "#0d0887"
             ],
             [
              0.1111111111111111,
              "#46039f"
             ],
             [
              0.2222222222222222,
              "#7201a8"
             ],
             [
              0.3333333333333333,
              "#9c179e"
             ],
             [
              0.4444444444444444,
              "#bd3786"
             ],
             [
              0.5555555555555556,
              "#d8576b"
             ],
             [
              0.6666666666666666,
              "#ed7953"
             ],
             [
              0.7777777777777778,
              "#fb9f3a"
             ],
             [
              0.8888888888888888,
              "#fdca26"
             ],
             [
              1,
              "#f0f921"
             ]
            ],
            "type": "heatmapgl"
           }
          ],
          "histogram": [
           {
            "marker": {
             "pattern": {
              "fillmode": "overlay",
              "size": 10,
              "solidity": 0.2
             }
            },
            "type": "histogram"
           }
          ],
          "histogram2d": [
           {
            "colorbar": {
             "outlinewidth": 0,
             "ticks": ""
            },
            "colorscale": [
             [
              0,
              "#0d0887"
             ],
             [
              0.1111111111111111,
              "#46039f"
             ],
             [
              0.2222222222222222,
              "#7201a8"
             ],
             [
              0.3333333333333333,
              "#9c179e"
             ],
             [
              0.4444444444444444,
              "#bd3786"
             ],
             [
              0.5555555555555556,
              "#d8576b"
             ],
             [
              0.6666666666666666,
              "#ed7953"
             ],
             [
              0.7777777777777778,
              "#fb9f3a"
             ],
             [
              0.8888888888888888,
              "#fdca26"
             ],
             [
              1,
              "#f0f921"
             ]
            ],
            "type": "histogram2d"
           }
          ],
          "histogram2dcontour": [
           {
            "colorbar": {
             "outlinewidth": 0,
             "ticks": ""
            },
            "colorscale": [
             [
              0,
              "#0d0887"
             ],
             [
              0.1111111111111111,
              "#46039f"
             ],
             [
              0.2222222222222222,
              "#7201a8"
             ],
             [
              0.3333333333333333,
              "#9c179e"
             ],
             [
              0.4444444444444444,
              "#bd3786"
             ],
             [
              0.5555555555555556,
              "#d8576b"
             ],
             [
              0.6666666666666666,
              "#ed7953"
             ],
             [
              0.7777777777777778,
              "#fb9f3a"
             ],
             [
              0.8888888888888888,
              "#fdca26"
             ],
             [
              1,
              "#f0f921"
             ]
            ],
            "type": "histogram2dcontour"
           }
          ],
          "mesh3d": [
           {
            "colorbar": {
             "outlinewidth": 0,
             "ticks": ""
            },
            "type": "mesh3d"
           }
          ],
          "parcoords": [
           {
            "line": {
             "colorbar": {
              "outlinewidth": 0,
              "ticks": ""
             }
            },
            "type": "parcoords"
           }
          ],
          "pie": [
           {
            "automargin": true,
            "type": "pie"
           }
          ],
          "scatter": [
           {
            "fillpattern": {
             "fillmode": "overlay",
             "size": 10,
             "solidity": 0.2
            },
            "type": "scatter"
           }
          ],
          "scatter3d": [
           {
            "line": {
             "colorbar": {
              "outlinewidth": 0,
              "ticks": ""
             }
            },
            "marker": {
             "colorbar": {
              "outlinewidth": 0,
              "ticks": ""
             }
            },
            "type": "scatter3d"
           }
          ],
          "scattercarpet": [
           {
            "marker": {
             "colorbar": {
              "outlinewidth": 0,
              "ticks": ""
             }
            },
            "type": "scattercarpet"
           }
          ],
          "scattergeo": [
           {
            "marker": {
             "colorbar": {
              "outlinewidth": 0,
              "ticks": ""
             }
            },
            "type": "scattergeo"
           }
          ],
          "scattergl": [
           {
            "marker": {
             "colorbar": {
              "outlinewidth": 0,
              "ticks": ""
             }
            },
            "type": "scattergl"
           }
          ],
          "scattermapbox": [
           {
            "marker": {
             "colorbar": {
              "outlinewidth": 0,
              "ticks": ""
             }
            },
            "type": "scattermapbox"
           }
          ],
          "scatterpolar": [
           {
            "marker": {
             "colorbar": {
              "outlinewidth": 0,
              "ticks": ""
             }
            },
            "type": "scatterpolar"
           }
          ],
          "scatterpolargl": [
           {
            "marker": {
             "colorbar": {
              "outlinewidth": 0,
              "ticks": ""
             }
            },
            "type": "scatterpolargl"
           }
          ],
          "scatterternary": [
           {
            "marker": {
             "colorbar": {
              "outlinewidth": 0,
              "ticks": ""
             }
            },
            "type": "scatterternary"
           }
          ],
          "surface": [
           {
            "colorbar": {
             "outlinewidth": 0,
             "ticks": ""
            },
            "colorscale": [
             [
              0,
              "#0d0887"
             ],
             [
              0.1111111111111111,
              "#46039f"
             ],
             [
              0.2222222222222222,
              "#7201a8"
             ],
             [
              0.3333333333333333,
              "#9c179e"
             ],
             [
              0.4444444444444444,
              "#bd3786"
             ],
             [
              0.5555555555555556,
              "#d8576b"
             ],
             [
              0.6666666666666666,
              "#ed7953"
             ],
             [
              0.7777777777777778,
              "#fb9f3a"
             ],
             [
              0.8888888888888888,
              "#fdca26"
             ],
             [
              1,
              "#f0f921"
             ]
            ],
            "type": "surface"
           }
          ],
          "table": [
           {
            "cells": {
             "fill": {
              "color": "#EBF0F8"
             },
             "line": {
              "color": "white"
             }
            },
            "header": {
             "fill": {
              "color": "#C8D4E3"
             },
             "line": {
              "color": "white"
             }
            },
            "type": "table"
           }
          ]
         },
         "layout": {
          "annotationdefaults": {
           "arrowcolor": "#2a3f5f",
           "arrowhead": 0,
           "arrowwidth": 1
          },
          "autotypenumbers": "strict",
          "coloraxis": {
           "colorbar": {
            "outlinewidth": 0,
            "ticks": ""
           }
          },
          "colorscale": {
           "diverging": [
            [
             0,
             "#8e0152"
            ],
            [
             0.1,
             "#c51b7d"
            ],
            [
             0.2,
             "#de77ae"
            ],
            [
             0.3,
             "#f1b6da"
            ],
            [
             0.4,
             "#fde0ef"
            ],
            [
             0.5,
             "#f7f7f7"
            ],
            [
             0.6,
             "#e6f5d0"
            ],
            [
             0.7,
             "#b8e186"
            ],
            [
             0.8,
             "#7fbc41"
            ],
            [
             0.9,
             "#4d9221"
            ],
            [
             1,
             "#276419"
            ]
           ],
           "sequential": [
            [
             0,
             "#0d0887"
            ],
            [
             0.1111111111111111,
             "#46039f"
            ],
            [
             0.2222222222222222,
             "#7201a8"
            ],
            [
             0.3333333333333333,
             "#9c179e"
            ],
            [
             0.4444444444444444,
             "#bd3786"
            ],
            [
             0.5555555555555556,
             "#d8576b"
            ],
            [
             0.6666666666666666,
             "#ed7953"
            ],
            [
             0.7777777777777778,
             "#fb9f3a"
            ],
            [
             0.8888888888888888,
             "#fdca26"
            ],
            [
             1,
             "#f0f921"
            ]
           ],
           "sequentialminus": [
            [
             0,
             "#0d0887"
            ],
            [
             0.1111111111111111,
             "#46039f"
            ],
            [
             0.2222222222222222,
             "#7201a8"
            ],
            [
             0.3333333333333333,
             "#9c179e"
            ],
            [
             0.4444444444444444,
             "#bd3786"
            ],
            [
             0.5555555555555556,
             "#d8576b"
            ],
            [
             0.6666666666666666,
             "#ed7953"
            ],
            [
             0.7777777777777778,
             "#fb9f3a"
            ],
            [
             0.8888888888888888,
             "#fdca26"
            ],
            [
             1,
             "#f0f921"
            ]
           ]
          },
          "colorway": [
           "#636efa",
           "#EF553B",
           "#00cc96",
           "#ab63fa",
           "#FFA15A",
           "#19d3f3",
           "#FF6692",
           "#B6E880",
           "#FF97FF",
           "#FECB52"
          ],
          "font": {
           "color": "#2a3f5f"
          },
          "geo": {
           "bgcolor": "white",
           "lakecolor": "white",
           "landcolor": "#E5ECF6",
           "showlakes": true,
           "showland": true,
           "subunitcolor": "white"
          },
          "hoverlabel": {
           "align": "left"
          },
          "hovermode": "closest",
          "mapbox": {
           "style": "light"
          },
          "paper_bgcolor": "white",
          "plot_bgcolor": "#E5ECF6",
          "polar": {
           "angularaxis": {
            "gridcolor": "white",
            "linecolor": "white",
            "ticks": ""
           },
           "bgcolor": "#E5ECF6",
           "radialaxis": {
            "gridcolor": "white",
            "linecolor": "white",
            "ticks": ""
           }
          },
          "scene": {
           "xaxis": {
            "backgroundcolor": "#E5ECF6",
            "gridcolor": "white",
            "gridwidth": 2,
            "linecolor": "white",
            "showbackground": true,
            "ticks": "",
            "zerolinecolor": "white"
           },
           "yaxis": {
            "backgroundcolor": "#E5ECF6",
            "gridcolor": "white",
            "gridwidth": 2,
            "linecolor": "white",
            "showbackground": true,
            "ticks": "",
            "zerolinecolor": "white"
           },
           "zaxis": {
            "backgroundcolor": "#E5ECF6",
            "gridcolor": "white",
            "gridwidth": 2,
            "linecolor": "white",
            "showbackground": true,
            "ticks": "",
            "zerolinecolor": "white"
           }
          },
          "shapedefaults": {
           "line": {
            "color": "#2a3f5f"
           }
          },
          "ternary": {
           "aaxis": {
            "gridcolor": "white",
            "linecolor": "white",
            "ticks": ""
           },
           "baxis": {
            "gridcolor": "white",
            "linecolor": "white",
            "ticks": ""
           },
           "bgcolor": "#E5ECF6",
           "caxis": {
            "gridcolor": "white",
            "linecolor": "white",
            "ticks": ""
           }
          },
          "title": {
           "x": 0.05
          },
          "xaxis": {
           "automargin": true,
           "gridcolor": "white",
           "linecolor": "white",
           "ticks": "",
           "title": {
            "standoff": 15
           },
           "zerolinecolor": "white",
           "zerolinewidth": 2
          },
          "yaxis": {
           "automargin": true,
           "gridcolor": "white",
           "linecolor": "white",
           "ticks": "",
           "title": {
            "standoff": 15
           },
           "zerolinecolor": "white",
           "zerolinewidth": 2
          }
         }
        },
        "width": 900,
        "xaxis": {
         "gridcolor": "#1f292f",
         "nticks": 5,
         "rangeslider": {
          "visible": false
         }
        },
        "yaxis": {
         "gridcolor": "#1f292f"
        }
       }
      }
     },
     "metadata": {},
     "output_type": "display_data"
    },
    {
     "name": "stdout",
     "output_type": "stream",
     "text": [
      "EUR_GBP 497\n"
     ]
    },
    {
     "data": {
      "application/vnd.plotly.v1+json": {
       "config": {
        "plotlyServerURL": "https://plot.ly"
       },
       "data": [
        {
         "line": {
          "shape": "spline",
          "width": 2
         },
         "name": "GAIN_C",
         "type": "scatter",
         "x": [
          "s23-01-20 15:00",
          "s23-01-25 22:00",
          "s23-01-30 17:00",
          "s23-02-06 18:00",
          "s23-02-13 10:00",
          "s23-02-13 17:00",
          "s23-02-15 11:00",
          "s23-02-19 22:00",
          "s23-02-23 00:00",
          "s23-02-27 17:00",
          "s23-03-01 09:00",
          "s23-03-03 02:00",
          "s23-03-06 17:00",
          "s23-03-09 01:00",
          "s23-03-15 02:00",
          "s23-03-15 15:00",
          "s23-03-16 23:00",
          "s23-03-17 04:00",
          "s23-03-21 14:00",
          "s23-03-24 02:00",
          "s23-03-28 21:00",
          "s23-03-31 07:00",
          "s23-04-05 09:00",
          "s23-04-06 01:00",
          "s23-04-06 21:00",
          "s23-04-10 17:00",
          "s23-04-11 18:00",
          "s23-04-17 18:00",
          "s23-04-20 14:00",
          "s23-04-26 01:00",
          "s23-04-26 19:00",
          "s23-04-27 17:00",
          "s23-05-02 00:00",
          "s23-05-04 00:00",
          "s23-05-10 23:00",
          "s23-05-14 22:00",
          "s23-05-16 19:00",
          "s23-05-17 18:00",
          "s23-05-19 00:00",
          "s23-05-19 05:00",
          "s23-05-22 00:00",
          "s23-05-22 05:00",
          "s23-05-22 06:00",
          "s23-05-22 07:00",
          "s23-05-22 08:00",
          "s23-05-23 17:00",
          "s23-05-24 20:00",
          "s23-05-25 21:00",
          "s23-05-26 03:00",
          "s23-05-26 18:00",
          "s23-06-02 11:00",
          "s23-06-06 12:00",
          "s23-06-08 11:00",
          "s23-06-08 19:00",
          "s23-06-12 18:00",
          "s23-06-13 21:00",
          "s23-06-15 08:00",
          "s23-06-16 12:00",
          "s23-06-20 00:00",
          "s23-06-23 01:00",
          "s23-06-26 17:00",
          "s23-06-29 19:00",
          "s23-07-03 18:00",
          "s23-07-04 11:00",
          "s23-07-07 05:00",
          "s23-07-07 20:00",
          "s23-07-10 08:00",
          "s23-07-11 09:00",
          "s23-07-12 17:00",
          "s23-07-13 21:00",
          "s23-07-14 15:00",
          "s23-07-20 21:00",
          "s23-07-24 04:00",
          "s23-07-24 08:00",
          "s23-07-27 22:00",
          "s23-07-28 20:00",
          "s23-07-31 12:00",
          "s23-08-01 04:00",
          "s23-08-01 15:00",
          "s23-08-04 09:00",
          "s23-08-04 15:00",
          "s23-08-07 18:00",
          "s23-08-09 17:00",
          "s23-08-11 19:00",
          "s23-08-18 16:00",
          "s23-08-22 08:00",
          "s23-08-23 16:00",
          "s23-08-29 06:00",
          "s23-08-29 17:00",
          "s23-08-30 22:00"
         ],
         "y": [
          45.700000000000735,
          64.90000000000106,
          202.70000000000118,
          253.00000000000207,
          215.50000000000287,
          164.30000000000274,
          164.00000000000188,
          243.3000000000018,
          230.20000000000258,
          202.50000000000318,
          249.4000000000029,
          241.00000000000227,
          271.70000000000243,
          340.7000000000026,
          260.70000000000255,
          252.00000000000216,
          253.80000000000175,
          202.30000000000186,
          203.10000000000156,
          233.8000000000006,
          247.50000000000043,
          274.70000000000095,
          253.6000000000015,
          231.10000000000176,
          225.5000000000017,
          213.60000000000147,
          261.7000000000013,
          278.10000000000105,
          305.20000000000095,
          291.3000000000009,
          266.10000000000014,
          306.89999999999986,
          325.40000000000003,
          433.2999999999997,
          450.299999999999,
          462.59999999999854,
          439.9999999999981,
          442.09999999999746,
          446.3999999999968,
          447.8999999999966,
          454.89999999999696,
          448.299999999997,
          444.29999999999745,
          447.09999999999803,
          435.89999999999793,
          420.29999999999785,
          432.79999999999757,
          430.2999999999967,
          409.8999999999963,
          506.8999999999967,
          520.6999999999972,
          513.899999999997,
          486.69999999999646,
          469.6999999999961,
          424.29999999999626,
          423.8999999999959,
          412.6999999999958,
          427.299999999996,
          499.499999999996,
          523.5999999999963,
          561.8999999999962,
          580.0999999999966,
          551.6999999999971,
          577.2999999999971,
          574.6999999999967,
          562.6999999999958,
          532.2999999999954,
          481.4999999999957,
          454.09999999999604,
          431.4999999999956,
          514.5999999999949,
          522.9999999999944,
          517.0999999999947,
          574.1999999999957,
          567.0999999999958,
          561.0999999999954,
          545.8999999999957,
          505.09999999999593,
          512.6999999999957,
          487.1999999999952,
          458.39999999999526,
          442.29999999999524,
          435.79999999999484,
          523.8999999999946,
          528.0999999999943,
          524.4999999999941,
          555.0999999999937,
          516.8999999999932,
          497.89999999999304,
          497.89999999999304
         ]
        }
       ],
       "layout": {
        "font": {
         "color": "#e1e1e1",
         "size": 12
        },
        "height": 400,
        "margin": {
         "b": 10,
         "l": 10,
         "r": 10,
         "t": 10
        },
        "paper_bgcolor": "#2c303c",
        "plot_bgcolor": "#2c303c",
        "template": {
         "data": {
          "bar": [
           {
            "error_x": {
             "color": "#2a3f5f"
            },
            "error_y": {
             "color": "#2a3f5f"
            },
            "marker": {
             "line": {
              "color": "#E5ECF6",
              "width": 0.5
             },
             "pattern": {
              "fillmode": "overlay",
              "size": 10,
              "solidity": 0.2
             }
            },
            "type": "bar"
           }
          ],
          "barpolar": [
           {
            "marker": {
             "line": {
              "color": "#E5ECF6",
              "width": 0.5
             },
             "pattern": {
              "fillmode": "overlay",
              "size": 10,
              "solidity": 0.2
             }
            },
            "type": "barpolar"
           }
          ],
          "carpet": [
           {
            "aaxis": {
             "endlinecolor": "#2a3f5f",
             "gridcolor": "white",
             "linecolor": "white",
             "minorgridcolor": "white",
             "startlinecolor": "#2a3f5f"
            },
            "baxis": {
             "endlinecolor": "#2a3f5f",
             "gridcolor": "white",
             "linecolor": "white",
             "minorgridcolor": "white",
             "startlinecolor": "#2a3f5f"
            },
            "type": "carpet"
           }
          ],
          "choropleth": [
           {
            "colorbar": {
             "outlinewidth": 0,
             "ticks": ""
            },
            "type": "choropleth"
           }
          ],
          "contour": [
           {
            "colorbar": {
             "outlinewidth": 0,
             "ticks": ""
            },
            "colorscale": [
             [
              0,
              "#0d0887"
             ],
             [
              0.1111111111111111,
              "#46039f"
             ],
             [
              0.2222222222222222,
              "#7201a8"
             ],
             [
              0.3333333333333333,
              "#9c179e"
             ],
             [
              0.4444444444444444,
              "#bd3786"
             ],
             [
              0.5555555555555556,
              "#d8576b"
             ],
             [
              0.6666666666666666,
              "#ed7953"
             ],
             [
              0.7777777777777778,
              "#fb9f3a"
             ],
             [
              0.8888888888888888,
              "#fdca26"
             ],
             [
              1,
              "#f0f921"
             ]
            ],
            "type": "contour"
           }
          ],
          "contourcarpet": [
           {
            "colorbar": {
             "outlinewidth": 0,
             "ticks": ""
            },
            "type": "contourcarpet"
           }
          ],
          "heatmap": [
           {
            "colorbar": {
             "outlinewidth": 0,
             "ticks": ""
            },
            "colorscale": [
             [
              0,
              "#0d0887"
             ],
             [
              0.1111111111111111,
              "#46039f"
             ],
             [
              0.2222222222222222,
              "#7201a8"
             ],
             [
              0.3333333333333333,
              "#9c179e"
             ],
             [
              0.4444444444444444,
              "#bd3786"
             ],
             [
              0.5555555555555556,
              "#d8576b"
             ],
             [
              0.6666666666666666,
              "#ed7953"
             ],
             [
              0.7777777777777778,
              "#fb9f3a"
             ],
             [
              0.8888888888888888,
              "#fdca26"
             ],
             [
              1,
              "#f0f921"
             ]
            ],
            "type": "heatmap"
           }
          ],
          "heatmapgl": [
           {
            "colorbar": {
             "outlinewidth": 0,
             "ticks": ""
            },
            "colorscale": [
             [
              0,
              "#0d0887"
             ],
             [
              0.1111111111111111,
              "#46039f"
             ],
             [
              0.2222222222222222,
              "#7201a8"
             ],
             [
              0.3333333333333333,
              "#9c179e"
             ],
             [
              0.4444444444444444,
              "#bd3786"
             ],
             [
              0.5555555555555556,
              "#d8576b"
             ],
             [
              0.6666666666666666,
              "#ed7953"
             ],
             [
              0.7777777777777778,
              "#fb9f3a"
             ],
             [
              0.8888888888888888,
              "#fdca26"
             ],
             [
              1,
              "#f0f921"
             ]
            ],
            "type": "heatmapgl"
           }
          ],
          "histogram": [
           {
            "marker": {
             "pattern": {
              "fillmode": "overlay",
              "size": 10,
              "solidity": 0.2
             }
            },
            "type": "histogram"
           }
          ],
          "histogram2d": [
           {
            "colorbar": {
             "outlinewidth": 0,
             "ticks": ""
            },
            "colorscale": [
             [
              0,
              "#0d0887"
             ],
             [
              0.1111111111111111,
              "#46039f"
             ],
             [
              0.2222222222222222,
              "#7201a8"
             ],
             [
              0.3333333333333333,
              "#9c179e"
             ],
             [
              0.4444444444444444,
              "#bd3786"
             ],
             [
              0.5555555555555556,
              "#d8576b"
             ],
             [
              0.6666666666666666,
              "#ed7953"
             ],
             [
              0.7777777777777778,
              "#fb9f3a"
             ],
             [
              0.8888888888888888,
              "#fdca26"
             ],
             [
              1,
              "#f0f921"
             ]
            ],
            "type": "histogram2d"
           }
          ],
          "histogram2dcontour": [
           {
            "colorbar": {
             "outlinewidth": 0,
             "ticks": ""
            },
            "colorscale": [
             [
              0,
              "#0d0887"
             ],
             [
              0.1111111111111111,
              "#46039f"
             ],
             [
              0.2222222222222222,
              "#7201a8"
             ],
             [
              0.3333333333333333,
              "#9c179e"
             ],
             [
              0.4444444444444444,
              "#bd3786"
             ],
             [
              0.5555555555555556,
              "#d8576b"
             ],
             [
              0.6666666666666666,
              "#ed7953"
             ],
             [
              0.7777777777777778,
              "#fb9f3a"
             ],
             [
              0.8888888888888888,
              "#fdca26"
             ],
             [
              1,
              "#f0f921"
             ]
            ],
            "type": "histogram2dcontour"
           }
          ],
          "mesh3d": [
           {
            "colorbar": {
             "outlinewidth": 0,
             "ticks": ""
            },
            "type": "mesh3d"
           }
          ],
          "parcoords": [
           {
            "line": {
             "colorbar": {
              "outlinewidth": 0,
              "ticks": ""
             }
            },
            "type": "parcoords"
           }
          ],
          "pie": [
           {
            "automargin": true,
            "type": "pie"
           }
          ],
          "scatter": [
           {
            "fillpattern": {
             "fillmode": "overlay",
             "size": 10,
             "solidity": 0.2
            },
            "type": "scatter"
           }
          ],
          "scatter3d": [
           {
            "line": {
             "colorbar": {
              "outlinewidth": 0,
              "ticks": ""
             }
            },
            "marker": {
             "colorbar": {
              "outlinewidth": 0,
              "ticks": ""
             }
            },
            "type": "scatter3d"
           }
          ],
          "scattercarpet": [
           {
            "marker": {
             "colorbar": {
              "outlinewidth": 0,
              "ticks": ""
             }
            },
            "type": "scattercarpet"
           }
          ],
          "scattergeo": [
           {
            "marker": {
             "colorbar": {
              "outlinewidth": 0,
              "ticks": ""
             }
            },
            "type": "scattergeo"
           }
          ],
          "scattergl": [
           {
            "marker": {
             "colorbar": {
              "outlinewidth": 0,
              "ticks": ""
             }
            },
            "type": "scattergl"
           }
          ],
          "scattermapbox": [
           {
            "marker": {
             "colorbar": {
              "outlinewidth": 0,
              "ticks": ""
             }
            },
            "type": "scattermapbox"
           }
          ],
          "scatterpolar": [
           {
            "marker": {
             "colorbar": {
              "outlinewidth": 0,
              "ticks": ""
             }
            },
            "type": "scatterpolar"
           }
          ],
          "scatterpolargl": [
           {
            "marker": {
             "colorbar": {
              "outlinewidth": 0,
              "ticks": ""
             }
            },
            "type": "scatterpolargl"
           }
          ],
          "scatterternary": [
           {
            "marker": {
             "colorbar": {
              "outlinewidth": 0,
              "ticks": ""
             }
            },
            "type": "scatterternary"
           }
          ],
          "surface": [
           {
            "colorbar": {
             "outlinewidth": 0,
             "ticks": ""
            },
            "colorscale": [
             [
              0,
              "#0d0887"
             ],
             [
              0.1111111111111111,
              "#46039f"
             ],
             [
              0.2222222222222222,
              "#7201a8"
             ],
             [
              0.3333333333333333,
              "#9c179e"
             ],
             [
              0.4444444444444444,
              "#bd3786"
             ],
             [
              0.5555555555555556,
              "#d8576b"
             ],
             [
              0.6666666666666666,
              "#ed7953"
             ],
             [
              0.7777777777777778,
              "#fb9f3a"
             ],
             [
              0.8888888888888888,
              "#fdca26"
             ],
             [
              1,
              "#f0f921"
             ]
            ],
            "type": "surface"
           }
          ],
          "table": [
           {
            "cells": {
             "fill": {
              "color": "#EBF0F8"
             },
             "line": {
              "color": "white"
             }
            },
            "header": {
             "fill": {
              "color": "#C8D4E3"
             },
             "line": {
              "color": "white"
             }
            },
            "type": "table"
           }
          ]
         },
         "layout": {
          "annotationdefaults": {
           "arrowcolor": "#2a3f5f",
           "arrowhead": 0,
           "arrowwidth": 1
          },
          "autotypenumbers": "strict",
          "coloraxis": {
           "colorbar": {
            "outlinewidth": 0,
            "ticks": ""
           }
          },
          "colorscale": {
           "diverging": [
            [
             0,
             "#8e0152"
            ],
            [
             0.1,
             "#c51b7d"
            ],
            [
             0.2,
             "#de77ae"
            ],
            [
             0.3,
             "#f1b6da"
            ],
            [
             0.4,
             "#fde0ef"
            ],
            [
             0.5,
             "#f7f7f7"
            ],
            [
             0.6,
             "#e6f5d0"
            ],
            [
             0.7,
             "#b8e186"
            ],
            [
             0.8,
             "#7fbc41"
            ],
            [
             0.9,
             "#4d9221"
            ],
            [
             1,
             "#276419"
            ]
           ],
           "sequential": [
            [
             0,
             "#0d0887"
            ],
            [
             0.1111111111111111,
             "#46039f"
            ],
            [
             0.2222222222222222,
             "#7201a8"
            ],
            [
             0.3333333333333333,
             "#9c179e"
            ],
            [
             0.4444444444444444,
             "#bd3786"
            ],
            [
             0.5555555555555556,
             "#d8576b"
            ],
            [
             0.6666666666666666,
             "#ed7953"
            ],
            [
             0.7777777777777778,
             "#fb9f3a"
            ],
            [
             0.8888888888888888,
             "#fdca26"
            ],
            [
             1,
             "#f0f921"
            ]
           ],
           "sequentialminus": [
            [
             0,
             "#0d0887"
            ],
            [
             0.1111111111111111,
             "#46039f"
            ],
            [
             0.2222222222222222,
             "#7201a8"
            ],
            [
             0.3333333333333333,
             "#9c179e"
            ],
            [
             0.4444444444444444,
             "#bd3786"
            ],
            [
             0.5555555555555556,
             "#d8576b"
            ],
            [
             0.6666666666666666,
             "#ed7953"
            ],
            [
             0.7777777777777778,
             "#fb9f3a"
            ],
            [
             0.8888888888888888,
             "#fdca26"
            ],
            [
             1,
             "#f0f921"
            ]
           ]
          },
          "colorway": [
           "#636efa",
           "#EF553B",
           "#00cc96",
           "#ab63fa",
           "#FFA15A",
           "#19d3f3",
           "#FF6692",
           "#B6E880",
           "#FF97FF",
           "#FECB52"
          ],
          "font": {
           "color": "#2a3f5f"
          },
          "geo": {
           "bgcolor": "white",
           "lakecolor": "white",
           "landcolor": "#E5ECF6",
           "showlakes": true,
           "showland": true,
           "subunitcolor": "white"
          },
          "hoverlabel": {
           "align": "left"
          },
          "hovermode": "closest",
          "mapbox": {
           "style": "light"
          },
          "paper_bgcolor": "white",
          "plot_bgcolor": "#E5ECF6",
          "polar": {
           "angularaxis": {
            "gridcolor": "white",
            "linecolor": "white",
            "ticks": ""
           },
           "bgcolor": "#E5ECF6",
           "radialaxis": {
            "gridcolor": "white",
            "linecolor": "white",
            "ticks": ""
           }
          },
          "scene": {
           "xaxis": {
            "backgroundcolor": "#E5ECF6",
            "gridcolor": "white",
            "gridwidth": 2,
            "linecolor": "white",
            "showbackground": true,
            "ticks": "",
            "zerolinecolor": "white"
           },
           "yaxis": {
            "backgroundcolor": "#E5ECF6",
            "gridcolor": "white",
            "gridwidth": 2,
            "linecolor": "white",
            "showbackground": true,
            "ticks": "",
            "zerolinecolor": "white"
           },
           "zaxis": {
            "backgroundcolor": "#E5ECF6",
            "gridcolor": "white",
            "gridwidth": 2,
            "linecolor": "white",
            "showbackground": true,
            "ticks": "",
            "zerolinecolor": "white"
           }
          },
          "shapedefaults": {
           "line": {
            "color": "#2a3f5f"
           }
          },
          "ternary": {
           "aaxis": {
            "gridcolor": "white",
            "linecolor": "white",
            "ticks": ""
           },
           "baxis": {
            "gridcolor": "white",
            "linecolor": "white",
            "ticks": ""
           },
           "bgcolor": "#E5ECF6",
           "caxis": {
            "gridcolor": "white",
            "linecolor": "white",
            "ticks": ""
           }
          },
          "title": {
           "x": 0.05
          },
          "xaxis": {
           "automargin": true,
           "gridcolor": "white",
           "linecolor": "white",
           "ticks": "",
           "title": {
            "standoff": 15
           },
           "zerolinecolor": "white",
           "zerolinewidth": 2
          },
          "yaxis": {
           "automargin": true,
           "gridcolor": "white",
           "linecolor": "white",
           "ticks": "",
           "title": {
            "standoff": 15
           },
           "zerolinecolor": "white",
           "zerolinewidth": 2
          }
         }
        },
        "width": 900,
        "xaxis": {
         "gridcolor": "#1f292f",
         "nticks": 5,
         "rangeslider": {
          "visible": false
         }
        },
        "yaxis": {
         "gridcolor": "#1f292f"
        }
       }
      }
     },
     "metadata": {},
     "output_type": "display_data"
    },
    {
     "name": "stdout",
     "output_type": "stream",
     "text": [
      "AUD_JPY 488\n"
     ]
    },
    {
     "data": {
      "application/vnd.plotly.v1+json": {
       "config": {
        "plotlyServerURL": "https://plot.ly"
       },
       "data": [
        {
         "line": {
          "shape": "spline",
          "width": 2
         },
         "name": "GAIN_C",
         "type": "scatter",
         "x": [
          "s23-01-26 03:00",
          "s23-01-26 15:00",
          "s23-01-27 18:00",
          "s23-02-01 08:00",
          "s23-02-02 04:00",
          "s23-02-02 12:00",
          "s23-02-02 16:00",
          "s23-02-06 04:00",
          "s23-02-07 23:00",
          "s23-02-08 21:00",
          "s23-02-08 22:00",
          "s23-02-09 15:00",
          "s23-02-10 08:00",
          "s23-02-13 08:00",
          "s23-02-15 17:00",
          "s23-02-16 08:00",
          "s23-02-17 00:00",
          "s23-02-20 04:00",
          "s23-02-21 19:00",
          "s23-02-23 16:00",
          "s23-02-23 22:00",
          "s23-02-28 02:00",
          "s23-03-01 09:00",
          "s23-03-01 16:00",
          "s23-03-05 23:00",
          "s23-03-08 21:00",
          "s23-03-09 02:00",
          "s23-03-14 12:00",
          "s23-03-15 16:00",
          "s23-03-16 22:00",
          "s23-03-20 01:00",
          "s23-03-21 18:00",
          "s23-03-23 02:00",
          "s23-03-27 10:00",
          "s23-04-02 23:00",
          "s23-04-03 14:00",
          "s23-04-04 18:00",
          "s23-04-07 11:00",
          "s23-04-16 21:00",
          "s23-04-17 13:00",
          "s23-04-21 05:00",
          "s23-04-24 15:00",
          "s23-04-25 09:00",
          "s23-04-27 12:00",
          "s23-05-03 03:00",
          "s23-05-05 07:00",
          "s23-05-09 13:00",
          "s23-05-10 10:00",
          "s23-05-10 17:00",
          "s23-05-15 01:00",
          "s23-05-16 16:00",
          "s23-05-17 13:00",
          "s23-05-22 06:00",
          "s23-05-22 22:00",
          "s23-05-23 19:00",
          "s23-05-26 12:00",
          "s23-05-30 04:00",
          "s23-06-01 12:00",
          "s23-06-06 02:00",
          "s23-06-06 07:00",
          "s23-06-19 19:00",
          "s23-06-21 17:00",
          "s23-06-23 10:00",
          "s23-06-27 05:00",
          "s23-06-28 06:00",
          "s23-06-29 15:00",
          "s23-07-05 13:00",
          "s23-07-12 21:00",
          "s23-07-17 00:00",
          "s23-07-19 06:00",
          "s23-07-24 14:00",
          "s23-07-25 05:00",
          "s23-07-26 08:00",
          "s23-07-27 13:00",
          "s23-07-27 20:00",
          "s23-07-31 03:00",
          "s23-08-01 15:00",
          "s23-08-04 10:00",
          "s23-08-07 00:00",
          "s23-08-07 19:00",
          "s23-08-08 16:00",
          "s23-08-09 06:00",
          "s23-08-11 14:00",
          "s23-08-14 22:00",
          "s23-08-15 22:00",
          "s23-08-21 12:00",
          "s23-08-23 05:00",
          "s23-08-24 05:00",
          "s23-08-25 02:00",
          "s23-08-27 21:00",
          "s23-08-31 11:00"
         ],
         "y": [
          -46.999999999999886,
          -58.69999999999891,
          -25.399999999997647,
          -39.3999999999977,
          -11.799999999998079,
          -69.69999999999743,
          -115.3999999999968,
          -131.19999999999692,
          -104.69999999999686,
          -110.49999999999613,
          -140.9999999999954,
          -204.59999999999496,
          -320.19999999999555,
          -252.8999999999968,
          -271.399999999997,
          -319.999999999996,
          -343.799999999996,
          -331.49999999999693,
          -229.39999999999685,
          -209.19999999999703,
          -230.69999999999737,
          -234.39999999999657,
          -239.19999999999675,
          -243.99999999999693,
          -107.19999999999601,
          -131.1999999999955,
          -69.89999999999554,
          -282.39999999999554,
          -414.39999999999486,
          -430.99999999999454,
          -397.3999999999947,
          -438.5999999999939,
          -370.8999999999932,
          -216.59999999999258,
          -311.59999999999144,
          -413.59999999999104,
          -329.9999999999912,
          -145.69999999999084,
          -155.09999999999025,
          -161.6999999999905,
          -162.19999999999146,
          -216.39999999999162,
          -145.99999999999085,
          76.30000000000905,
          126.60000000000906,
          237.40000000000947,
          242.4000000000092,
          181.40000000000924,
          196.20000000000886,
          235.00000000000796,
          194.60000000000832,
          206.40000000000924,
          138.20000000000903,
          82.60000000000787,
          94.40000000000737,
          93.90000000000782,
          157.2000000000088,
          310.6000000000094,
          263.10000000000997,
          703.00000000001,
          788.0000000000094,
          732.4000000000096,
          674.6000000000093,
          594.6000000000082,
          556.0000000000073,
          570.6000000000074,
          787.6000000000076,
          844.600000000007,
          830.1000000000059,
          888.0000000000052,
          842.6000000000058,
          766.2000000000062,
          757.3000000000063,
          609.9000000000074,
          502.90000000000805,
          514.800000000008,
          640.3000000000076,
          610.8000000000075,
          564.4000000000076,
          542.6000000000072,
          491.6000000000067,
          525.400000000006,
          513.3000000000051,
          469.80000000000484,
          498.0000000000059,
          510.2000000000059,
          485.900000000005,
          447.40000000000447,
          431.4000000000048,
          488.00000000000506,
          488.00000000000506
         ]
        }
       ],
       "layout": {
        "font": {
         "color": "#e1e1e1",
         "size": 12
        },
        "height": 400,
        "margin": {
         "b": 10,
         "l": 10,
         "r": 10,
         "t": 10
        },
        "paper_bgcolor": "#2c303c",
        "plot_bgcolor": "#2c303c",
        "template": {
         "data": {
          "bar": [
           {
            "error_x": {
             "color": "#2a3f5f"
            },
            "error_y": {
             "color": "#2a3f5f"
            },
            "marker": {
             "line": {
              "color": "#E5ECF6",
              "width": 0.5
             },
             "pattern": {
              "fillmode": "overlay",
              "size": 10,
              "solidity": 0.2
             }
            },
            "type": "bar"
           }
          ],
          "barpolar": [
           {
            "marker": {
             "line": {
              "color": "#E5ECF6",
              "width": 0.5
             },
             "pattern": {
              "fillmode": "overlay",
              "size": 10,
              "solidity": 0.2
             }
            },
            "type": "barpolar"
           }
          ],
          "carpet": [
           {
            "aaxis": {
             "endlinecolor": "#2a3f5f",
             "gridcolor": "white",
             "linecolor": "white",
             "minorgridcolor": "white",
             "startlinecolor": "#2a3f5f"
            },
            "baxis": {
             "endlinecolor": "#2a3f5f",
             "gridcolor": "white",
             "linecolor": "white",
             "minorgridcolor": "white",
             "startlinecolor": "#2a3f5f"
            },
            "type": "carpet"
           }
          ],
          "choropleth": [
           {
            "colorbar": {
             "outlinewidth": 0,
             "ticks": ""
            },
            "type": "choropleth"
           }
          ],
          "contour": [
           {
            "colorbar": {
             "outlinewidth": 0,
             "ticks": ""
            },
            "colorscale": [
             [
              0,
              "#0d0887"
             ],
             [
              0.1111111111111111,
              "#46039f"
             ],
             [
              0.2222222222222222,
              "#7201a8"
             ],
             [
              0.3333333333333333,
              "#9c179e"
             ],
             [
              0.4444444444444444,
              "#bd3786"
             ],
             [
              0.5555555555555556,
              "#d8576b"
             ],
             [
              0.6666666666666666,
              "#ed7953"
             ],
             [
              0.7777777777777778,
              "#fb9f3a"
             ],
             [
              0.8888888888888888,
              "#fdca26"
             ],
             [
              1,
              "#f0f921"
             ]
            ],
            "type": "contour"
           }
          ],
          "contourcarpet": [
           {
            "colorbar": {
             "outlinewidth": 0,
             "ticks": ""
            },
            "type": "contourcarpet"
           }
          ],
          "heatmap": [
           {
            "colorbar": {
             "outlinewidth": 0,
             "ticks": ""
            },
            "colorscale": [
             [
              0,
              "#0d0887"
             ],
             [
              0.1111111111111111,
              "#46039f"
             ],
             [
              0.2222222222222222,
              "#7201a8"
             ],
             [
              0.3333333333333333,
              "#9c179e"
             ],
             [
              0.4444444444444444,
              "#bd3786"
             ],
             [
              0.5555555555555556,
              "#d8576b"
             ],
             [
              0.6666666666666666,
              "#ed7953"
             ],
             [
              0.7777777777777778,
              "#fb9f3a"
             ],
             [
              0.8888888888888888,
              "#fdca26"
             ],
             [
              1,
              "#f0f921"
             ]
            ],
            "type": "heatmap"
           }
          ],
          "heatmapgl": [
           {
            "colorbar": {
             "outlinewidth": 0,
             "ticks": ""
            },
            "colorscale": [
             [
              0,
              "#0d0887"
             ],
             [
              0.1111111111111111,
              "#46039f"
             ],
             [
              0.2222222222222222,
              "#7201a8"
             ],
             [
              0.3333333333333333,
              "#9c179e"
             ],
             [
              0.4444444444444444,
              "#bd3786"
             ],
             [
              0.5555555555555556,
              "#d8576b"
             ],
             [
              0.6666666666666666,
              "#ed7953"
             ],
             [
              0.7777777777777778,
              "#fb9f3a"
             ],
             [
              0.8888888888888888,
              "#fdca26"
             ],
             [
              1,
              "#f0f921"
             ]
            ],
            "type": "heatmapgl"
           }
          ],
          "histogram": [
           {
            "marker": {
             "pattern": {
              "fillmode": "overlay",
              "size": 10,
              "solidity": 0.2
             }
            },
            "type": "histogram"
           }
          ],
          "histogram2d": [
           {
            "colorbar": {
             "outlinewidth": 0,
             "ticks": ""
            },
            "colorscale": [
             [
              0,
              "#0d0887"
             ],
             [
              0.1111111111111111,
              "#46039f"
             ],
             [
              0.2222222222222222,
              "#7201a8"
             ],
             [
              0.3333333333333333,
              "#9c179e"
             ],
             [
              0.4444444444444444,
              "#bd3786"
             ],
             [
              0.5555555555555556,
              "#d8576b"
             ],
             [
              0.6666666666666666,
              "#ed7953"
             ],
             [
              0.7777777777777778,
              "#fb9f3a"
             ],
             [
              0.8888888888888888,
              "#fdca26"
             ],
             [
              1,
              "#f0f921"
             ]
            ],
            "type": "histogram2d"
           }
          ],
          "histogram2dcontour": [
           {
            "colorbar": {
             "outlinewidth": 0,
             "ticks": ""
            },
            "colorscale": [
             [
              0,
              "#0d0887"
             ],
             [
              0.1111111111111111,
              "#46039f"
             ],
             [
              0.2222222222222222,
              "#7201a8"
             ],
             [
              0.3333333333333333,
              "#9c179e"
             ],
             [
              0.4444444444444444,
              "#bd3786"
             ],
             [
              0.5555555555555556,
              "#d8576b"
             ],
             [
              0.6666666666666666,
              "#ed7953"
             ],
             [
              0.7777777777777778,
              "#fb9f3a"
             ],
             [
              0.8888888888888888,
              "#fdca26"
             ],
             [
              1,
              "#f0f921"
             ]
            ],
            "type": "histogram2dcontour"
           }
          ],
          "mesh3d": [
           {
            "colorbar": {
             "outlinewidth": 0,
             "ticks": ""
            },
            "type": "mesh3d"
           }
          ],
          "parcoords": [
           {
            "line": {
             "colorbar": {
              "outlinewidth": 0,
              "ticks": ""
             }
            },
            "type": "parcoords"
           }
          ],
          "pie": [
           {
            "automargin": true,
            "type": "pie"
           }
          ],
          "scatter": [
           {
            "fillpattern": {
             "fillmode": "overlay",
             "size": 10,
             "solidity": 0.2
            },
            "type": "scatter"
           }
          ],
          "scatter3d": [
           {
            "line": {
             "colorbar": {
              "outlinewidth": 0,
              "ticks": ""
             }
            },
            "marker": {
             "colorbar": {
              "outlinewidth": 0,
              "ticks": ""
             }
            },
            "type": "scatter3d"
           }
          ],
          "scattercarpet": [
           {
            "marker": {
             "colorbar": {
              "outlinewidth": 0,
              "ticks": ""
             }
            },
            "type": "scattercarpet"
           }
          ],
          "scattergeo": [
           {
            "marker": {
             "colorbar": {
              "outlinewidth": 0,
              "ticks": ""
             }
            },
            "type": "scattergeo"
           }
          ],
          "scattergl": [
           {
            "marker": {
             "colorbar": {
              "outlinewidth": 0,
              "ticks": ""
             }
            },
            "type": "scattergl"
           }
          ],
          "scattermapbox": [
           {
            "marker": {
             "colorbar": {
              "outlinewidth": 0,
              "ticks": ""
             }
            },
            "type": "scattermapbox"
           }
          ],
          "scatterpolar": [
           {
            "marker": {
             "colorbar": {
              "outlinewidth": 0,
              "ticks": ""
             }
            },
            "type": "scatterpolar"
           }
          ],
          "scatterpolargl": [
           {
            "marker": {
             "colorbar": {
              "outlinewidth": 0,
              "ticks": ""
             }
            },
            "type": "scatterpolargl"
           }
          ],
          "scatterternary": [
           {
            "marker": {
             "colorbar": {
              "outlinewidth": 0,
              "ticks": ""
             }
            },
            "type": "scatterternary"
           }
          ],
          "surface": [
           {
            "colorbar": {
             "outlinewidth": 0,
             "ticks": ""
            },
            "colorscale": [
             [
              0,
              "#0d0887"
             ],
             [
              0.1111111111111111,
              "#46039f"
             ],
             [
              0.2222222222222222,
              "#7201a8"
             ],
             [
              0.3333333333333333,
              "#9c179e"
             ],
             [
              0.4444444444444444,
              "#bd3786"
             ],
             [
              0.5555555555555556,
              "#d8576b"
             ],
             [
              0.6666666666666666,
              "#ed7953"
             ],
             [
              0.7777777777777778,
              "#fb9f3a"
             ],
             [
              0.8888888888888888,
              "#fdca26"
             ],
             [
              1,
              "#f0f921"
             ]
            ],
            "type": "surface"
           }
          ],
          "table": [
           {
            "cells": {
             "fill": {
              "color": "#EBF0F8"
             },
             "line": {
              "color": "white"
             }
            },
            "header": {
             "fill": {
              "color": "#C8D4E3"
             },
             "line": {
              "color": "white"
             }
            },
            "type": "table"
           }
          ]
         },
         "layout": {
          "annotationdefaults": {
           "arrowcolor": "#2a3f5f",
           "arrowhead": 0,
           "arrowwidth": 1
          },
          "autotypenumbers": "strict",
          "coloraxis": {
           "colorbar": {
            "outlinewidth": 0,
            "ticks": ""
           }
          },
          "colorscale": {
           "diverging": [
            [
             0,
             "#8e0152"
            ],
            [
             0.1,
             "#c51b7d"
            ],
            [
             0.2,
             "#de77ae"
            ],
            [
             0.3,
             "#f1b6da"
            ],
            [
             0.4,
             "#fde0ef"
            ],
            [
             0.5,
             "#f7f7f7"
            ],
            [
             0.6,
             "#e6f5d0"
            ],
            [
             0.7,
             "#b8e186"
            ],
            [
             0.8,
             "#7fbc41"
            ],
            [
             0.9,
             "#4d9221"
            ],
            [
             1,
             "#276419"
            ]
           ],
           "sequential": [
            [
             0,
             "#0d0887"
            ],
            [
             0.1111111111111111,
             "#46039f"
            ],
            [
             0.2222222222222222,
             "#7201a8"
            ],
            [
             0.3333333333333333,
             "#9c179e"
            ],
            [
             0.4444444444444444,
             "#bd3786"
            ],
            [
             0.5555555555555556,
             "#d8576b"
            ],
            [
             0.6666666666666666,
             "#ed7953"
            ],
            [
             0.7777777777777778,
             "#fb9f3a"
            ],
            [
             0.8888888888888888,
             "#fdca26"
            ],
            [
             1,
             "#f0f921"
            ]
           ],
           "sequentialminus": [
            [
             0,
             "#0d0887"
            ],
            [
             0.1111111111111111,
             "#46039f"
            ],
            [
             0.2222222222222222,
             "#7201a8"
            ],
            [
             0.3333333333333333,
             "#9c179e"
            ],
            [
             0.4444444444444444,
             "#bd3786"
            ],
            [
             0.5555555555555556,
             "#d8576b"
            ],
            [
             0.6666666666666666,
             "#ed7953"
            ],
            [
             0.7777777777777778,
             "#fb9f3a"
            ],
            [
             0.8888888888888888,
             "#fdca26"
            ],
            [
             1,
             "#f0f921"
            ]
           ]
          },
          "colorway": [
           "#636efa",
           "#EF553B",
           "#00cc96",
           "#ab63fa",
           "#FFA15A",
           "#19d3f3",
           "#FF6692",
           "#B6E880",
           "#FF97FF",
           "#FECB52"
          ],
          "font": {
           "color": "#2a3f5f"
          },
          "geo": {
           "bgcolor": "white",
           "lakecolor": "white",
           "landcolor": "#E5ECF6",
           "showlakes": true,
           "showland": true,
           "subunitcolor": "white"
          },
          "hoverlabel": {
           "align": "left"
          },
          "hovermode": "closest",
          "mapbox": {
           "style": "light"
          },
          "paper_bgcolor": "white",
          "plot_bgcolor": "#E5ECF6",
          "polar": {
           "angularaxis": {
            "gridcolor": "white",
            "linecolor": "white",
            "ticks": ""
           },
           "bgcolor": "#E5ECF6",
           "radialaxis": {
            "gridcolor": "white",
            "linecolor": "white",
            "ticks": ""
           }
          },
          "scene": {
           "xaxis": {
            "backgroundcolor": "#E5ECF6",
            "gridcolor": "white",
            "gridwidth": 2,
            "linecolor": "white",
            "showbackground": true,
            "ticks": "",
            "zerolinecolor": "white"
           },
           "yaxis": {
            "backgroundcolor": "#E5ECF6",
            "gridcolor": "white",
            "gridwidth": 2,
            "linecolor": "white",
            "showbackground": true,
            "ticks": "",
            "zerolinecolor": "white"
           },
           "zaxis": {
            "backgroundcolor": "#E5ECF6",
            "gridcolor": "white",
            "gridwidth": 2,
            "linecolor": "white",
            "showbackground": true,
            "ticks": "",
            "zerolinecolor": "white"
           }
          },
          "shapedefaults": {
           "line": {
            "color": "#2a3f5f"
           }
          },
          "ternary": {
           "aaxis": {
            "gridcolor": "white",
            "linecolor": "white",
            "ticks": ""
           },
           "baxis": {
            "gridcolor": "white",
            "linecolor": "white",
            "ticks": ""
           },
           "bgcolor": "#E5ECF6",
           "caxis": {
            "gridcolor": "white",
            "linecolor": "white",
            "ticks": ""
           }
          },
          "title": {
           "x": 0.05
          },
          "xaxis": {
           "automargin": true,
           "gridcolor": "white",
           "linecolor": "white",
           "ticks": "",
           "title": {
            "standoff": 15
           },
           "zerolinecolor": "white",
           "zerolinewidth": 2
          },
          "yaxis": {
           "automargin": true,
           "gridcolor": "white",
           "linecolor": "white",
           "ticks": "",
           "title": {
            "standoff": 15
           },
           "zerolinecolor": "white",
           "zerolinewidth": 2
          }
         }
        },
        "width": 900,
        "xaxis": {
         "gridcolor": "#1f292f",
         "nticks": 5,
         "rangeslider": {
          "visible": false
         }
        },
        "yaxis": {
         "gridcolor": "#1f292f"
        }
       }
      }
     },
     "metadata": {},
     "output_type": "display_data"
    },
    {
     "name": "stdout",
     "output_type": "stream",
     "text": [
      "GBP_AUD 475\n"
     ]
    },
    {
     "data": {
      "application/vnd.plotly.v1+json": {
       "config": {
        "plotlyServerURL": "https://plot.ly"
       },
       "data": [
        {
         "line": {
          "shape": "spline",
          "width": 2
         },
         "name": "GAIN_C",
         "type": "scatter",
         "x": [
          "s23-01-20 13:00",
          "s23-01-26 05:00",
          "s23-01-26 22:00",
          "s23-01-30 03:00",
          "s23-02-01 03:00",
          "s23-02-03 15:00",
          "s23-02-07 10:00",
          "s23-02-08 18:00",
          "s23-02-13 01:00",
          "s23-02-14 06:00",
          "s23-02-16 01:00",
          "s23-02-17 04:00",
          "s23-02-20 12:00",
          "s23-02-21 12:00",
          "s23-02-23 07:00",
          "s23-02-24 10:00",
          "s23-03-01 06:00",
          "s23-03-06 00:00",
          "s23-03-08 13:00",
          "s23-03-09 06:00",
          "s23-03-13 17:00",
          "s23-03-14 02:00",
          "s23-03-14 23:00",
          "s23-03-16 01:00",
          "s23-03-16 13:00",
          "s23-03-20 05:00",
          "s23-03-22 10:00",
          "s23-03-22 22:00",
          "s23-03-23 16:00",
          "s23-03-23 23:00",
          "s23-03-28 14:00",
          "s23-03-29 13:00",
          "s23-03-30 08:00",
          "s23-03-31 00:00",
          "s23-04-03 03:00",
          "s23-04-04 13:00",
          "s23-04-07 18:00",
          "s23-04-10 09:00",
          "s23-04-12 14:00",
          "s23-04-17 00:00",
          "s23-04-17 19:00",
          "s23-04-19 04:00",
          "s23-04-20 15:00",
          "s23-04-21 13:00",
          "s23-04-27 16:00",
          "s23-04-28 09:00",
          "s23-05-01 14:00",
          "s23-05-03 11:00",
          "s23-05-04 23:00",
          "s23-05-09 16:00",
          "s23-05-10 20:00",
          "s23-05-11 17:00",
          "s23-05-15 12:00",
          "s23-05-16 10:00",
          "s23-05-17 19:00",
          "s23-05-18 05:00",
          "s23-05-19 01:00",
          "s23-05-22 06:00",
          "s23-05-23 02:00",
          "s23-05-23 18:00",
          "s23-05-28 23:00",
          "s23-05-30 08:00",
          "s23-06-01 18:00",
          "s23-06-07 20:00",
          "s23-06-11 22:00",
          "s23-06-13 19:00",
          "s23-06-15 04:00",
          "s23-06-16 13:00",
          "s23-06-21 19:00",
          "s23-06-22 12:00",
          "s23-06-27 02:00",
          "s23-06-27 23:00",
          "s23-06-29 08:00",
          "s23-06-30 19:00",
          "s23-06-30 20:00",
          "s23-07-02 22:00",
          "s23-07-03 09:00",
          "s23-07-05 12:00",
          "s23-07-10 01:00",
          "s23-07-10 10:00",
          "s23-07-12 13:00",
          "s23-07-14 14:00",
          "s23-07-18 08:00",
          "s23-07-18 11:00",
          "s23-07-18 18:00",
          "s23-07-21 09:00",
          "s23-07-24 19:00",
          "s23-07-26 05:00",
          "s23-07-27 13:00",
          "s23-07-28 06:00",
          "s23-07-31 14:00",
          "s23-08-01 13:00",
          "s23-08-03 19:00",
          "s23-08-07 11:00",
          "s23-08-09 08:00",
          "s23-08-11 10:00",
          "s23-08-15 02:00",
          "s23-08-15 10:00",
          "s23-08-18 16:00",
          "s23-08-18 19:00",
          "s23-08-21 01:00",
          "s23-08-21 12:00",
          "s23-08-22 11:00",
          "s23-08-28 04:00",
          "s23-08-28 11:00",
          "s23-08-30 19:00",
          "s23-08-31 20:00"
         ],
         "y": [
          442.5999999999996,
          475.20000000000005,
          428.9999999999994,
          393.79999999999745,
          493.39999999999714,
          445.9999999999975,
          318.39999999999645,
          324.39999999999577,
          335.8999999999956,
          349.59999999999434,
          325.7999999999939,
          291.399999999995,
          108.99999999999466,
          155.79999999999484,
          104.79999999999602,
          215.3999999999967,
          219.99999999999798,
          322.79999999999865,
          314.19999999999783,
          627.4999999999964,
          557.3999999999968,
          414.49999999999767,
          390.79999999999785,
          377.3999999999989,
          336.1999999999999,
          463.40000000000055,
          475.40000000000146,
          486.80000000000285,
          452.20000000000266,
          473.80000000000206,
          445.40000000000254,
          424.2000000000035,
          381.90000000000396,
          354.60000000000275,
          237.10000000000127,
          299.7000000000006,
          279.1000000000011,
          290.40000000000185,
          418.200000000002,
          370.00000000000153,
          381.00000000000034,
          363.1999999999992,
          279.8999999999997,
          609.6000000000013,
          528.2000000000031,
          434.600000000005,
          507.20000000000545,
          537.0000000000052,
          653.0000000000058,
          603.8000000000054,
          539.2000000000041,
          553.0000000000035,
          504.40000000000265,
          502.2000000000016,
          491.4000000000019,
          454.80000000000194,
          439.00000000000057,
          387.49999999999847,
          292.6999999999969,
          430.1999999999962,
          433.59999999999627,
          573.199999999996,
          935.3999999999951,
          897.3999999999949,
          921.5999999999957,
          854.1999999999961,
          737.3999999999947,
          849.7999999999939,
          815.5999999999941,
          946.1999999999948,
          831.3999999999954,
          860.1999999999954,
          895.9999999999945,
          891.5999999999946,
          889.1999999999944,
          880.7999999999927,
          861.1999999999908,
          965.9999999999891,
          891.7999999999893,
          811.399999999991,
          857.5999999999917,
          938.999999999992,
          888.7999999999918,
          776.5999999999917,
          869.3999999999912,
          837.0999999999906,
          781.399999999992,
          742.1999999999928,
          534.1999999999935,
          376.3999999999944,
          153.79999999999495,
          248.99999999999466,
          266.89999999999424,
          327.59999999999445,
          283.59999999999485,
          319.69999999999595,
          206.99999999999704,
          434.0999999999971,
          415.39999999999674,
          422.99999999999767,
          436.7999999999993,
          348.9000000000008,
          545.6000000000015,
          572.0000000000013,
          564.2000000000012,
          475.8000000000016,
          475.8000000000016
         ]
        }
       ],
       "layout": {
        "font": {
         "color": "#e1e1e1",
         "size": 12
        },
        "height": 400,
        "margin": {
         "b": 10,
         "l": 10,
         "r": 10,
         "t": 10
        },
        "paper_bgcolor": "#2c303c",
        "plot_bgcolor": "#2c303c",
        "template": {
         "data": {
          "bar": [
           {
            "error_x": {
             "color": "#2a3f5f"
            },
            "error_y": {
             "color": "#2a3f5f"
            },
            "marker": {
             "line": {
              "color": "#E5ECF6",
              "width": 0.5
             },
             "pattern": {
              "fillmode": "overlay",
              "size": 10,
              "solidity": 0.2
             }
            },
            "type": "bar"
           }
          ],
          "barpolar": [
           {
            "marker": {
             "line": {
              "color": "#E5ECF6",
              "width": 0.5
             },
             "pattern": {
              "fillmode": "overlay",
              "size": 10,
              "solidity": 0.2
             }
            },
            "type": "barpolar"
           }
          ],
          "carpet": [
           {
            "aaxis": {
             "endlinecolor": "#2a3f5f",
             "gridcolor": "white",
             "linecolor": "white",
             "minorgridcolor": "white",
             "startlinecolor": "#2a3f5f"
            },
            "baxis": {
             "endlinecolor": "#2a3f5f",
             "gridcolor": "white",
             "linecolor": "white",
             "minorgridcolor": "white",
             "startlinecolor": "#2a3f5f"
            },
            "type": "carpet"
           }
          ],
          "choropleth": [
           {
            "colorbar": {
             "outlinewidth": 0,
             "ticks": ""
            },
            "type": "choropleth"
           }
          ],
          "contour": [
           {
            "colorbar": {
             "outlinewidth": 0,
             "ticks": ""
            },
            "colorscale": [
             [
              0,
              "#0d0887"
             ],
             [
              0.1111111111111111,
              "#46039f"
             ],
             [
              0.2222222222222222,
              "#7201a8"
             ],
             [
              0.3333333333333333,
              "#9c179e"
             ],
             [
              0.4444444444444444,
              "#bd3786"
             ],
             [
              0.5555555555555556,
              "#d8576b"
             ],
             [
              0.6666666666666666,
              "#ed7953"
             ],
             [
              0.7777777777777778,
              "#fb9f3a"
             ],
             [
              0.8888888888888888,
              "#fdca26"
             ],
             [
              1,
              "#f0f921"
             ]
            ],
            "type": "contour"
           }
          ],
          "contourcarpet": [
           {
            "colorbar": {
             "outlinewidth": 0,
             "ticks": ""
            },
            "type": "contourcarpet"
           }
          ],
          "heatmap": [
           {
            "colorbar": {
             "outlinewidth": 0,
             "ticks": ""
            },
            "colorscale": [
             [
              0,
              "#0d0887"
             ],
             [
              0.1111111111111111,
              "#46039f"
             ],
             [
              0.2222222222222222,
              "#7201a8"
             ],
             [
              0.3333333333333333,
              "#9c179e"
             ],
             [
              0.4444444444444444,
              "#bd3786"
             ],
             [
              0.5555555555555556,
              "#d8576b"
             ],
             [
              0.6666666666666666,
              "#ed7953"
             ],
             [
              0.7777777777777778,
              "#fb9f3a"
             ],
             [
              0.8888888888888888,
              "#fdca26"
             ],
             [
              1,
              "#f0f921"
             ]
            ],
            "type": "heatmap"
           }
          ],
          "heatmapgl": [
           {
            "colorbar": {
             "outlinewidth": 0,
             "ticks": ""
            },
            "colorscale": [
             [
              0,
              "#0d0887"
             ],
             [
              0.1111111111111111,
              "#46039f"
             ],
             [
              0.2222222222222222,
              "#7201a8"
             ],
             [
              0.3333333333333333,
              "#9c179e"
             ],
             [
              0.4444444444444444,
              "#bd3786"
             ],
             [
              0.5555555555555556,
              "#d8576b"
             ],
             [
              0.6666666666666666,
              "#ed7953"
             ],
             [
              0.7777777777777778,
              "#fb9f3a"
             ],
             [
              0.8888888888888888,
              "#fdca26"
             ],
             [
              1,
              "#f0f921"
             ]
            ],
            "type": "heatmapgl"
           }
          ],
          "histogram": [
           {
            "marker": {
             "pattern": {
              "fillmode": "overlay",
              "size": 10,
              "solidity": 0.2
             }
            },
            "type": "histogram"
           }
          ],
          "histogram2d": [
           {
            "colorbar": {
             "outlinewidth": 0,
             "ticks": ""
            },
            "colorscale": [
             [
              0,
              "#0d0887"
             ],
             [
              0.1111111111111111,
              "#46039f"
             ],
             [
              0.2222222222222222,
              "#7201a8"
             ],
             [
              0.3333333333333333,
              "#9c179e"
             ],
             [
              0.4444444444444444,
              "#bd3786"
             ],
             [
              0.5555555555555556,
              "#d8576b"
             ],
             [
              0.6666666666666666,
              "#ed7953"
             ],
             [
              0.7777777777777778,
              "#fb9f3a"
             ],
             [
              0.8888888888888888,
              "#fdca26"
             ],
             [
              1,
              "#f0f921"
             ]
            ],
            "type": "histogram2d"
           }
          ],
          "histogram2dcontour": [
           {
            "colorbar": {
             "outlinewidth": 0,
             "ticks": ""
            },
            "colorscale": [
             [
              0,
              "#0d0887"
             ],
             [
              0.1111111111111111,
              "#46039f"
             ],
             [
              0.2222222222222222,
              "#7201a8"
             ],
             [
              0.3333333333333333,
              "#9c179e"
             ],
             [
              0.4444444444444444,
              "#bd3786"
             ],
             [
              0.5555555555555556,
              "#d8576b"
             ],
             [
              0.6666666666666666,
              "#ed7953"
             ],
             [
              0.7777777777777778,
              "#fb9f3a"
             ],
             [
              0.8888888888888888,
              "#fdca26"
             ],
             [
              1,
              "#f0f921"
             ]
            ],
            "type": "histogram2dcontour"
           }
          ],
          "mesh3d": [
           {
            "colorbar": {
             "outlinewidth": 0,
             "ticks": ""
            },
            "type": "mesh3d"
           }
          ],
          "parcoords": [
           {
            "line": {
             "colorbar": {
              "outlinewidth": 0,
              "ticks": ""
             }
            },
            "type": "parcoords"
           }
          ],
          "pie": [
           {
            "automargin": true,
            "type": "pie"
           }
          ],
          "scatter": [
           {
            "fillpattern": {
             "fillmode": "overlay",
             "size": 10,
             "solidity": 0.2
            },
            "type": "scatter"
           }
          ],
          "scatter3d": [
           {
            "line": {
             "colorbar": {
              "outlinewidth": 0,
              "ticks": ""
             }
            },
            "marker": {
             "colorbar": {
              "outlinewidth": 0,
              "ticks": ""
             }
            },
            "type": "scatter3d"
           }
          ],
          "scattercarpet": [
           {
            "marker": {
             "colorbar": {
              "outlinewidth": 0,
              "ticks": ""
             }
            },
            "type": "scattercarpet"
           }
          ],
          "scattergeo": [
           {
            "marker": {
             "colorbar": {
              "outlinewidth": 0,
              "ticks": ""
             }
            },
            "type": "scattergeo"
           }
          ],
          "scattergl": [
           {
            "marker": {
             "colorbar": {
              "outlinewidth": 0,
              "ticks": ""
             }
            },
            "type": "scattergl"
           }
          ],
          "scattermapbox": [
           {
            "marker": {
             "colorbar": {
              "outlinewidth": 0,
              "ticks": ""
             }
            },
            "type": "scattermapbox"
           }
          ],
          "scatterpolar": [
           {
            "marker": {
             "colorbar": {
              "outlinewidth": 0,
              "ticks": ""
             }
            },
            "type": "scatterpolar"
           }
          ],
          "scatterpolargl": [
           {
            "marker": {
             "colorbar": {
              "outlinewidth": 0,
              "ticks": ""
             }
            },
            "type": "scatterpolargl"
           }
          ],
          "scatterternary": [
           {
            "marker": {
             "colorbar": {
              "outlinewidth": 0,
              "ticks": ""
             }
            },
            "type": "scatterternary"
           }
          ],
          "surface": [
           {
            "colorbar": {
             "outlinewidth": 0,
             "ticks": ""
            },
            "colorscale": [
             [
              0,
              "#0d0887"
             ],
             [
              0.1111111111111111,
              "#46039f"
             ],
             [
              0.2222222222222222,
              "#7201a8"
             ],
             [
              0.3333333333333333,
              "#9c179e"
             ],
             [
              0.4444444444444444,
              "#bd3786"
             ],
             [
              0.5555555555555556,
              "#d8576b"
             ],
             [
              0.6666666666666666,
              "#ed7953"
             ],
             [
              0.7777777777777778,
              "#fb9f3a"
             ],
             [
              0.8888888888888888,
              "#fdca26"
             ],
             [
              1,
              "#f0f921"
             ]
            ],
            "type": "surface"
           }
          ],
          "table": [
           {
            "cells": {
             "fill": {
              "color": "#EBF0F8"
             },
             "line": {
              "color": "white"
             }
            },
            "header": {
             "fill": {
              "color": "#C8D4E3"
             },
             "line": {
              "color": "white"
             }
            },
            "type": "table"
           }
          ]
         },
         "layout": {
          "annotationdefaults": {
           "arrowcolor": "#2a3f5f",
           "arrowhead": 0,
           "arrowwidth": 1
          },
          "autotypenumbers": "strict",
          "coloraxis": {
           "colorbar": {
            "outlinewidth": 0,
            "ticks": ""
           }
          },
          "colorscale": {
           "diverging": [
            [
             0,
             "#8e0152"
            ],
            [
             0.1,
             "#c51b7d"
            ],
            [
             0.2,
             "#de77ae"
            ],
            [
             0.3,
             "#f1b6da"
            ],
            [
             0.4,
             "#fde0ef"
            ],
            [
             0.5,
             "#f7f7f7"
            ],
            [
             0.6,
             "#e6f5d0"
            ],
            [
             0.7,
             "#b8e186"
            ],
            [
             0.8,
             "#7fbc41"
            ],
            [
             0.9,
             "#4d9221"
            ],
            [
             1,
             "#276419"
            ]
           ],
           "sequential": [
            [
             0,
             "#0d0887"
            ],
            [
             0.1111111111111111,
             "#46039f"
            ],
            [
             0.2222222222222222,
             "#7201a8"
            ],
            [
             0.3333333333333333,
             "#9c179e"
            ],
            [
             0.4444444444444444,
             "#bd3786"
            ],
            [
             0.5555555555555556,
             "#d8576b"
            ],
            [
             0.6666666666666666,
             "#ed7953"
            ],
            [
             0.7777777777777778,
             "#fb9f3a"
            ],
            [
             0.8888888888888888,
             "#fdca26"
            ],
            [
             1,
             "#f0f921"
            ]
           ],
           "sequentialminus": [
            [
             0,
             "#0d0887"
            ],
            [
             0.1111111111111111,
             "#46039f"
            ],
            [
             0.2222222222222222,
             "#7201a8"
            ],
            [
             0.3333333333333333,
             "#9c179e"
            ],
            [
             0.4444444444444444,
             "#bd3786"
            ],
            [
             0.5555555555555556,
             "#d8576b"
            ],
            [
             0.6666666666666666,
             "#ed7953"
            ],
            [
             0.7777777777777778,
             "#fb9f3a"
            ],
            [
             0.8888888888888888,
             "#fdca26"
            ],
            [
             1,
             "#f0f921"
            ]
           ]
          },
          "colorway": [
           "#636efa",
           "#EF553B",
           "#00cc96",
           "#ab63fa",
           "#FFA15A",
           "#19d3f3",
           "#FF6692",
           "#B6E880",
           "#FF97FF",
           "#FECB52"
          ],
          "font": {
           "color": "#2a3f5f"
          },
          "geo": {
           "bgcolor": "white",
           "lakecolor": "white",
           "landcolor": "#E5ECF6",
           "showlakes": true,
           "showland": true,
           "subunitcolor": "white"
          },
          "hoverlabel": {
           "align": "left"
          },
          "hovermode": "closest",
          "mapbox": {
           "style": "light"
          },
          "paper_bgcolor": "white",
          "plot_bgcolor": "#E5ECF6",
          "polar": {
           "angularaxis": {
            "gridcolor": "white",
            "linecolor": "white",
            "ticks": ""
           },
           "bgcolor": "#E5ECF6",
           "radialaxis": {
            "gridcolor": "white",
            "linecolor": "white",
            "ticks": ""
           }
          },
          "scene": {
           "xaxis": {
            "backgroundcolor": "#E5ECF6",
            "gridcolor": "white",
            "gridwidth": 2,
            "linecolor": "white",
            "showbackground": true,
            "ticks": "",
            "zerolinecolor": "white"
           },
           "yaxis": {
            "backgroundcolor": "#E5ECF6",
            "gridcolor": "white",
            "gridwidth": 2,
            "linecolor": "white",
            "showbackground": true,
            "ticks": "",
            "zerolinecolor": "white"
           },
           "zaxis": {
            "backgroundcolor": "#E5ECF6",
            "gridcolor": "white",
            "gridwidth": 2,
            "linecolor": "white",
            "showbackground": true,
            "ticks": "",
            "zerolinecolor": "white"
           }
          },
          "shapedefaults": {
           "line": {
            "color": "#2a3f5f"
           }
          },
          "ternary": {
           "aaxis": {
            "gridcolor": "white",
            "linecolor": "white",
            "ticks": ""
           },
           "baxis": {
            "gridcolor": "white",
            "linecolor": "white",
            "ticks": ""
           },
           "bgcolor": "#E5ECF6",
           "caxis": {
            "gridcolor": "white",
            "linecolor": "white",
            "ticks": ""
           }
          },
          "title": {
           "x": 0.05
          },
          "xaxis": {
           "automargin": true,
           "gridcolor": "white",
           "linecolor": "white",
           "ticks": "",
           "title": {
            "standoff": 15
           },
           "zerolinecolor": "white",
           "zerolinewidth": 2
          },
          "yaxis": {
           "automargin": true,
           "gridcolor": "white",
           "linecolor": "white",
           "ticks": "",
           "title": {
            "standoff": 15
           },
           "zerolinecolor": "white",
           "zerolinewidth": 2
          }
         }
        },
        "width": 900,
        "xaxis": {
         "gridcolor": "#1f292f",
         "nticks": 5,
         "rangeslider": {
          "visible": false
         }
        },
        "yaxis": {
         "gridcolor": "#1f292f"
        }
       }
      }
     },
     "metadata": {},
     "output_type": "display_data"
    },
    {
     "name": "stdout",
     "output_type": "stream",
     "text": [
      "USD_JPY 469\n"
     ]
    },
    {
     "data": {
      "application/vnd.plotly.v1+json": {
       "config": {
        "plotlyServerURL": "https://plot.ly"
       },
       "data": [
        {
         "line": {
          "shape": "spline",
          "width": 2
         },
         "name": "GAIN_C",
         "type": "scatter",
         "x": [
          "s23-01-24 18:00",
          "s23-01-26 20:00",
          "s23-01-27 18:00",
          "s23-01-30 13:00",
          "s23-01-31 22:00",
          "s23-02-03 13:00",
          "s23-02-07 15:00",
          "s23-02-09 03:00",
          "s23-02-09 16:00",
          "s23-02-10 06:00",
          "s23-02-12 23:00",
          "s23-02-13 03:00",
          "s23-02-14 12:00",
          "s23-02-14 22:00",
          "s23-02-20 06:00",
          "s23-02-21 06:00",
          "s23-02-22 20:00",
          "s23-02-23 10:00",
          "s23-02-24 04:00",
          "s23-02-24 13:00",
          "s23-02-28 02:00",
          "s23-02-28 10:00",
          "s23-03-01 06:00",
          "s23-03-02 07:00",
          "s23-03-03 13:00",
          "s23-03-07 01:00",
          "s23-03-09 04:00",
          "s23-03-14 14:00",
          "s23-03-15 15:00",
          "s23-03-17 01:00",
          "s23-03-17 16:00",
          "s23-03-21 14:00",
          "s23-03-22 22:00",
          "s23-03-27 05:00",
          "s23-03-28 12:00",
          "s23-03-29 06:00",
          "s23-04-03 19:00",
          "s23-04-06 17:00",
          "s23-04-12 02:00",
          "s23-04-12 03:00",
          "s23-04-12 22:00",
          "s23-04-14 18:00",
          "s23-04-18 19:00",
          "s23-04-19 10:00",
          "s23-04-20 16:00",
          "s23-04-24 04:00",
          "s23-04-25 09:00",
          "s23-04-27 07:00",
          "s23-05-02 21:00",
          "s23-05-05 17:00",
          "s23-05-10 16:00",
          "s23-05-12 00:00",
          "s23-05-16 10:00",
          "s23-05-16 19:00",
          "s23-05-19 20:00",
          "s23-05-22 19:00",
          "s23-05-24 01:00",
          "s23-05-24 07:00",
          "s23-05-24 08:00",
          "s23-05-24 14:00",
          "s23-05-29 23:00",
          "s23-06-02 19:00",
          "s23-06-06 02:00",
          "s23-06-07 04:00",
          "s23-06-07 09:00",
          "s23-06-07 20:00",
          "s23-06-08 17:00",
          "s23-06-09 18:00",
          "s23-06-14 21:00",
          "s23-06-15 05:00",
          "s23-06-16 06:00",
          "s23-06-16 16:00",
          "s23-06-20 13:00",
          "s23-06-21 13:00",
          "s23-06-26 17:00",
          "s23-06-27 08:00",
          "s23-06-30 19:00",
          "s23-07-03 17:00",
          "s23-07-04 12:00",
          "s23-07-05 18:00",
          "s23-07-06 02:00",
          "s23-07-14 19:00",
          "s23-07-18 10:00",
          "s23-07-19 02:00",
          "s23-07-24 18:00",
          "s23-07-25 12:00",
          "s23-07-25 16:00",
          "s23-07-30 21:00",
          "s23-08-02 16:00",
          "s23-08-03 03:00",
          "s23-08-03 17:00",
          "s23-08-07 19:00",
          "s23-08-16 06:00",
          "s23-08-16 10:00",
          "s23-08-17 23:00",
          "s23-08-21 12:00",
          "s23-08-22 18:00",
          "s23-08-24 16:00",
          "s23-08-29 09:00",
          "s23-08-29 11:00",
          "s23-08-29 17:00"
         ],
         "y": [
          -15.600000000000591,
          -48.1000000000023,
          -69.80000000000359,
          -74.80000000000473,
          -60.800000000006094,
          68.89999999999361,
          52.99999999999443,
          11.099999999996157,
          -48.200000000002774,
          -50.300000000004275,
          -97.40000000000464,
          -97.70000000000323,
          -203.60000000000298,
          -97.40000000000464,
          -133.60000000000696,
          -90.0000000000091,
          -86.20000000001085,
          -110.20000000001176,
          -231.7000000000121,
          -192.10000000001344,
          -237.40000000001373,
          -278.20000000001244,
          -324.40000000001135,
          -411.3000000000113,
          -421.5000000000117,
          -343.6000000000121,
          -114.40000000001191,
          -282.80000000001166,
          -333.4000000000117,
          -445.00000000001023,
          -408.20000000001073,
          -445.5000000000126,
          -389.4000000000119,
          -414.60000000001,
          -538.0000000000081,
          -481.90000000000737,
          -407.60000000000787,
          -189.80000000000814,
          -185.80000000000894,
          -264.00000000001,
          -336.6000000000099,
          -307.40000000000975,
          -382.20000000001164,
          -449.6000000000123,
          -470.2000000000112,
          -522.0000000000113,
          -516.200000000012,
          -239.40000000001191,
          -62.600000000011846,
          -107.10000000001116,
          -125.60000000001139,
          3.3999999999878128,
          -47.60000000001128,
          116.19999999998925,
          54.09999999998831,
          39.89999999998872,
          19.399999999990314,
          12.199999999990041,
          -29.40000000000964,
          118.79999999999029,
          168.59999999998934,
          125.19999999998959,
          153.79999999998972,
          155.89999999998838,
          65.99999999998829,
          -57.400000000009754,
          -103.30000000001007,
          -38.000000000010914,
          -154.00000000001057,
          -177.80000000001053,
          -265.60000000001196,
          -293.3000000000135,
          -360.8000000000146,
          -237.6000000000147,
          -260.3000000000151,
          -203.6000000000172,
          -243.8000000000187,
          -278.80000000001814,
          -312.60000000001753,
          -355.10000000001867,
          179.7999999999803,
          117.39999999998076,
          19.399999999981787,
          239.19999999998254,
          260.4999999999819,
          242.49999999998124,
          239.5999999999816,
          447.3999999999819,
          438.39999999998156,
          377.79999999997926,
          394.4999999999766,
          681.3999999999766,
          655.1999999999765,
          665.4999999999745,
          627.6999999999731,
          603.9999999999736,
          598.9999999999753,
          662.9999999999768,
          603.3999999999793,
          469.19999999998083,
          469.19999999998083
         ]
        }
       ],
       "layout": {
        "font": {
         "color": "#e1e1e1",
         "size": 12
        },
        "height": 400,
        "margin": {
         "b": 10,
         "l": 10,
         "r": 10,
         "t": 10
        },
        "paper_bgcolor": "#2c303c",
        "plot_bgcolor": "#2c303c",
        "template": {
         "data": {
          "bar": [
           {
            "error_x": {
             "color": "#2a3f5f"
            },
            "error_y": {
             "color": "#2a3f5f"
            },
            "marker": {
             "line": {
              "color": "#E5ECF6",
              "width": 0.5
             },
             "pattern": {
              "fillmode": "overlay",
              "size": 10,
              "solidity": 0.2
             }
            },
            "type": "bar"
           }
          ],
          "barpolar": [
           {
            "marker": {
             "line": {
              "color": "#E5ECF6",
              "width": 0.5
             },
             "pattern": {
              "fillmode": "overlay",
              "size": 10,
              "solidity": 0.2
             }
            },
            "type": "barpolar"
           }
          ],
          "carpet": [
           {
            "aaxis": {
             "endlinecolor": "#2a3f5f",
             "gridcolor": "white",
             "linecolor": "white",
             "minorgridcolor": "white",
             "startlinecolor": "#2a3f5f"
            },
            "baxis": {
             "endlinecolor": "#2a3f5f",
             "gridcolor": "white",
             "linecolor": "white",
             "minorgridcolor": "white",
             "startlinecolor": "#2a3f5f"
            },
            "type": "carpet"
           }
          ],
          "choropleth": [
           {
            "colorbar": {
             "outlinewidth": 0,
             "ticks": ""
            },
            "type": "choropleth"
           }
          ],
          "contour": [
           {
            "colorbar": {
             "outlinewidth": 0,
             "ticks": ""
            },
            "colorscale": [
             [
              0,
              "#0d0887"
             ],
             [
              0.1111111111111111,
              "#46039f"
             ],
             [
              0.2222222222222222,
              "#7201a8"
             ],
             [
              0.3333333333333333,
              "#9c179e"
             ],
             [
              0.4444444444444444,
              "#bd3786"
             ],
             [
              0.5555555555555556,
              "#d8576b"
             ],
             [
              0.6666666666666666,
              "#ed7953"
             ],
             [
              0.7777777777777778,
              "#fb9f3a"
             ],
             [
              0.8888888888888888,
              "#fdca26"
             ],
             [
              1,
              "#f0f921"
             ]
            ],
            "type": "contour"
           }
          ],
          "contourcarpet": [
           {
            "colorbar": {
             "outlinewidth": 0,
             "ticks": ""
            },
            "type": "contourcarpet"
           }
          ],
          "heatmap": [
           {
            "colorbar": {
             "outlinewidth": 0,
             "ticks": ""
            },
            "colorscale": [
             [
              0,
              "#0d0887"
             ],
             [
              0.1111111111111111,
              "#46039f"
             ],
             [
              0.2222222222222222,
              "#7201a8"
             ],
             [
              0.3333333333333333,
              "#9c179e"
             ],
             [
              0.4444444444444444,
              "#bd3786"
             ],
             [
              0.5555555555555556,
              "#d8576b"
             ],
             [
              0.6666666666666666,
              "#ed7953"
             ],
             [
              0.7777777777777778,
              "#fb9f3a"
             ],
             [
              0.8888888888888888,
              "#fdca26"
             ],
             [
              1,
              "#f0f921"
             ]
            ],
            "type": "heatmap"
           }
          ],
          "heatmapgl": [
           {
            "colorbar": {
             "outlinewidth": 0,
             "ticks": ""
            },
            "colorscale": [
             [
              0,
              "#0d0887"
             ],
             [
              0.1111111111111111,
              "#46039f"
             ],
             [
              0.2222222222222222,
              "#7201a8"
             ],
             [
              0.3333333333333333,
              "#9c179e"
             ],
             [
              0.4444444444444444,
              "#bd3786"
             ],
             [
              0.5555555555555556,
              "#d8576b"
             ],
             [
              0.6666666666666666,
              "#ed7953"
             ],
             [
              0.7777777777777778,
              "#fb9f3a"
             ],
             [
              0.8888888888888888,
              "#fdca26"
             ],
             [
              1,
              "#f0f921"
             ]
            ],
            "type": "heatmapgl"
           }
          ],
          "histogram": [
           {
            "marker": {
             "pattern": {
              "fillmode": "overlay",
              "size": 10,
              "solidity": 0.2
             }
            },
            "type": "histogram"
           }
          ],
          "histogram2d": [
           {
            "colorbar": {
             "outlinewidth": 0,
             "ticks": ""
            },
            "colorscale": [
             [
              0,
              "#0d0887"
             ],
             [
              0.1111111111111111,
              "#46039f"
             ],
             [
              0.2222222222222222,
              "#7201a8"
             ],
             [
              0.3333333333333333,
              "#9c179e"
             ],
             [
              0.4444444444444444,
              "#bd3786"
             ],
             [
              0.5555555555555556,
              "#d8576b"
             ],
             [
              0.6666666666666666,
              "#ed7953"
             ],
             [
              0.7777777777777778,
              "#fb9f3a"
             ],
             [
              0.8888888888888888,
              "#fdca26"
             ],
             [
              1,
              "#f0f921"
             ]
            ],
            "type": "histogram2d"
           }
          ],
          "histogram2dcontour": [
           {
            "colorbar": {
             "outlinewidth": 0,
             "ticks": ""
            },
            "colorscale": [
             [
              0,
              "#0d0887"
             ],
             [
              0.1111111111111111,
              "#46039f"
             ],
             [
              0.2222222222222222,
              "#7201a8"
             ],
             [
              0.3333333333333333,
              "#9c179e"
             ],
             [
              0.4444444444444444,
              "#bd3786"
             ],
             [
              0.5555555555555556,
              "#d8576b"
             ],
             [
              0.6666666666666666,
              "#ed7953"
             ],
             [
              0.7777777777777778,
              "#fb9f3a"
             ],
             [
              0.8888888888888888,
              "#fdca26"
             ],
             [
              1,
              "#f0f921"
             ]
            ],
            "type": "histogram2dcontour"
           }
          ],
          "mesh3d": [
           {
            "colorbar": {
             "outlinewidth": 0,
             "ticks": ""
            },
            "type": "mesh3d"
           }
          ],
          "parcoords": [
           {
            "line": {
             "colorbar": {
              "outlinewidth": 0,
              "ticks": ""
             }
            },
            "type": "parcoords"
           }
          ],
          "pie": [
           {
            "automargin": true,
            "type": "pie"
           }
          ],
          "scatter": [
           {
            "fillpattern": {
             "fillmode": "overlay",
             "size": 10,
             "solidity": 0.2
            },
            "type": "scatter"
           }
          ],
          "scatter3d": [
           {
            "line": {
             "colorbar": {
              "outlinewidth": 0,
              "ticks": ""
             }
            },
            "marker": {
             "colorbar": {
              "outlinewidth": 0,
              "ticks": ""
             }
            },
            "type": "scatter3d"
           }
          ],
          "scattercarpet": [
           {
            "marker": {
             "colorbar": {
              "outlinewidth": 0,
              "ticks": ""
             }
            },
            "type": "scattercarpet"
           }
          ],
          "scattergeo": [
           {
            "marker": {
             "colorbar": {
              "outlinewidth": 0,
              "ticks": ""
             }
            },
            "type": "scattergeo"
           }
          ],
          "scattergl": [
           {
            "marker": {
             "colorbar": {
              "outlinewidth": 0,
              "ticks": ""
             }
            },
            "type": "scattergl"
           }
          ],
          "scattermapbox": [
           {
            "marker": {
             "colorbar": {
              "outlinewidth": 0,
              "ticks": ""
             }
            },
            "type": "scattermapbox"
           }
          ],
          "scatterpolar": [
           {
            "marker": {
             "colorbar": {
              "outlinewidth": 0,
              "ticks": ""
             }
            },
            "type": "scatterpolar"
           }
          ],
          "scatterpolargl": [
           {
            "marker": {
             "colorbar": {
              "outlinewidth": 0,
              "ticks": ""
             }
            },
            "type": "scatterpolargl"
           }
          ],
          "scatterternary": [
           {
            "marker": {
             "colorbar": {
              "outlinewidth": 0,
              "ticks": ""
             }
            },
            "type": "scatterternary"
           }
          ],
          "surface": [
           {
            "colorbar": {
             "outlinewidth": 0,
             "ticks": ""
            },
            "colorscale": [
             [
              0,
              "#0d0887"
             ],
             [
              0.1111111111111111,
              "#46039f"
             ],
             [
              0.2222222222222222,
              "#7201a8"
             ],
             [
              0.3333333333333333,
              "#9c179e"
             ],
             [
              0.4444444444444444,
              "#bd3786"
             ],
             [
              0.5555555555555556,
              "#d8576b"
             ],
             [
              0.6666666666666666,
              "#ed7953"
             ],
             [
              0.7777777777777778,
              "#fb9f3a"
             ],
             [
              0.8888888888888888,
              "#fdca26"
             ],
             [
              1,
              "#f0f921"
             ]
            ],
            "type": "surface"
           }
          ],
          "table": [
           {
            "cells": {
             "fill": {
              "color": "#EBF0F8"
             },
             "line": {
              "color": "white"
             }
            },
            "header": {
             "fill": {
              "color": "#C8D4E3"
             },
             "line": {
              "color": "white"
             }
            },
            "type": "table"
           }
          ]
         },
         "layout": {
          "annotationdefaults": {
           "arrowcolor": "#2a3f5f",
           "arrowhead": 0,
           "arrowwidth": 1
          },
          "autotypenumbers": "strict",
          "coloraxis": {
           "colorbar": {
            "outlinewidth": 0,
            "ticks": ""
           }
          },
          "colorscale": {
           "diverging": [
            [
             0,
             "#8e0152"
            ],
            [
             0.1,
             "#c51b7d"
            ],
            [
             0.2,
             "#de77ae"
            ],
            [
             0.3,
             "#f1b6da"
            ],
            [
             0.4,
             "#fde0ef"
            ],
            [
             0.5,
             "#f7f7f7"
            ],
            [
             0.6,
             "#e6f5d0"
            ],
            [
             0.7,
             "#b8e186"
            ],
            [
             0.8,
             "#7fbc41"
            ],
            [
             0.9,
             "#4d9221"
            ],
            [
             1,
             "#276419"
            ]
           ],
           "sequential": [
            [
             0,
             "#0d0887"
            ],
            [
             0.1111111111111111,
             "#46039f"
            ],
            [
             0.2222222222222222,
             "#7201a8"
            ],
            [
             0.3333333333333333,
             "#9c179e"
            ],
            [
             0.4444444444444444,
             "#bd3786"
            ],
            [
             0.5555555555555556,
             "#d8576b"
            ],
            [
             0.6666666666666666,
             "#ed7953"
            ],
            [
             0.7777777777777778,
             "#fb9f3a"
            ],
            [
             0.8888888888888888,
             "#fdca26"
            ],
            [
             1,
             "#f0f921"
            ]
           ],
           "sequentialminus": [
            [
             0,
             "#0d0887"
            ],
            [
             0.1111111111111111,
             "#46039f"
            ],
            [
             0.2222222222222222,
             "#7201a8"
            ],
            [
             0.3333333333333333,
             "#9c179e"
            ],
            [
             0.4444444444444444,
             "#bd3786"
            ],
            [
             0.5555555555555556,
             "#d8576b"
            ],
            [
             0.6666666666666666,
             "#ed7953"
            ],
            [
             0.7777777777777778,
             "#fb9f3a"
            ],
            [
             0.8888888888888888,
             "#fdca26"
            ],
            [
             1,
             "#f0f921"
            ]
           ]
          },
          "colorway": [
           "#636efa",
           "#EF553B",
           "#00cc96",
           "#ab63fa",
           "#FFA15A",
           "#19d3f3",
           "#FF6692",
           "#B6E880",
           "#FF97FF",
           "#FECB52"
          ],
          "font": {
           "color": "#2a3f5f"
          },
          "geo": {
           "bgcolor": "white",
           "lakecolor": "white",
           "landcolor": "#E5ECF6",
           "showlakes": true,
           "showland": true,
           "subunitcolor": "white"
          },
          "hoverlabel": {
           "align": "left"
          },
          "hovermode": "closest",
          "mapbox": {
           "style": "light"
          },
          "paper_bgcolor": "white",
          "plot_bgcolor": "#E5ECF6",
          "polar": {
           "angularaxis": {
            "gridcolor": "white",
            "linecolor": "white",
            "ticks": ""
           },
           "bgcolor": "#E5ECF6",
           "radialaxis": {
            "gridcolor": "white",
            "linecolor": "white",
            "ticks": ""
           }
          },
          "scene": {
           "xaxis": {
            "backgroundcolor": "#E5ECF6",
            "gridcolor": "white",
            "gridwidth": 2,
            "linecolor": "white",
            "showbackground": true,
            "ticks": "",
            "zerolinecolor": "white"
           },
           "yaxis": {
            "backgroundcolor": "#E5ECF6",
            "gridcolor": "white",
            "gridwidth": 2,
            "linecolor": "white",
            "showbackground": true,
            "ticks": "",
            "zerolinecolor": "white"
           },
           "zaxis": {
            "backgroundcolor": "#E5ECF6",
            "gridcolor": "white",
            "gridwidth": 2,
            "linecolor": "white",
            "showbackground": true,
            "ticks": "",
            "zerolinecolor": "white"
           }
          },
          "shapedefaults": {
           "line": {
            "color": "#2a3f5f"
           }
          },
          "ternary": {
           "aaxis": {
            "gridcolor": "white",
            "linecolor": "white",
            "ticks": ""
           },
           "baxis": {
            "gridcolor": "white",
            "linecolor": "white",
            "ticks": ""
           },
           "bgcolor": "#E5ECF6",
           "caxis": {
            "gridcolor": "white",
            "linecolor": "white",
            "ticks": ""
           }
          },
          "title": {
           "x": 0.05
          },
          "xaxis": {
           "automargin": true,
           "gridcolor": "white",
           "linecolor": "white",
           "ticks": "",
           "title": {
            "standoff": 15
           },
           "zerolinecolor": "white",
           "zerolinewidth": 2
          },
          "yaxis": {
           "automargin": true,
           "gridcolor": "white",
           "linecolor": "white",
           "ticks": "",
           "title": {
            "standoff": 15
           },
           "zerolinecolor": "white",
           "zerolinewidth": 2
          }
         }
        },
        "width": 900,
        "xaxis": {
         "gridcolor": "#1f292f",
         "nticks": 5,
         "rangeslider": {
          "visible": false
         }
        },
        "yaxis": {
         "gridcolor": "#1f292f"
        }
       }
      }
     },
     "metadata": {},
     "output_type": "display_data"
    },
    {
     "name": "stdout",
     "output_type": "stream",
     "text": [
      "GBP_USD 423\n"
     ]
    },
    {
     "data": {
      "application/vnd.plotly.v1+json": {
       "config": {
        "plotlyServerURL": "https://plot.ly"
       },
       "data": [
        {
         "line": {
          "shape": "spline",
          "width": 2
         },
         "name": "GAIN_C",
         "type": "scatter",
         "x": [
          "s23-01-23 23:00",
          "s23-01-25 20:00",
          "s23-01-27 06:00",
          "s23-01-30 10:00",
          "s23-01-30 20:00",
          "s23-02-01 20:00",
          "s23-02-02 19:00",
          "s23-02-08 06:00",
          "s23-02-10 12:00",
          "s23-02-13 20:00",
          "s23-02-15 09:00",
          "s23-02-20 02:00",
          "s23-02-21 08:00",
          "s23-02-21 09:00",
          "s23-02-22 20:00",
          "s23-02-27 18:00",
          "s23-03-01 08:00",
          "s23-03-03 15:00",
          "s23-03-07 04:00",
          "s23-03-07 07:00",
          "s23-03-07 12:00",
          "s23-03-09 05:00",
          "s23-03-15 04:00",
          "s23-03-16 20:00",
          "s23-03-21 19:00",
          "s23-03-22 15:00",
          "s23-03-24 07:00",
          "s23-03-27 14:00",
          "s23-03-29 20:00",
          "s23-03-30 13:00",
          "s23-04-02 21:00",
          "s23-04-03 20:00",
          "s23-04-05 19:00",
          "s23-04-11 12:00",
          "s23-04-14 16:00",
          "s23-04-18 13:00",
          "s23-04-21 09:00",
          "s23-04-24 07:00",
          "s23-04-25 18:00",
          "s23-04-26 16:00",
          "s23-05-01 21:00",
          "s23-05-03 10:00",
          "s23-05-09 02:00",
          "s23-05-10 06:00",
          "s23-05-11 07:00",
          "s23-05-15 19:00",
          "s23-05-16 20:00",
          "s23-05-18 05:00",
          "s23-05-18 13:00",
          "s23-05-19 19:00",
          "s23-05-22 21:00",
          "s23-05-26 16:00",
          "s23-05-29 21:00",
          "s23-05-30 00:00",
          "s23-05-31 16:00",
          "s23-06-01 02:00",
          "s23-06-04 22:00",
          "s23-06-06 07:00",
          "s23-06-07 00:00",
          "s23-06-07 11:00",
          "s23-06-12 16:00",
          "s23-06-13 15:00",
          "s23-06-19 18:00",
          "s23-06-22 05:00",
          "s23-06-23 01:00",
          "s23-06-26 11:00",
          "s23-06-27 01:00",
          "s23-06-27 13:00",
          "s23-06-28 12:00",
          "s23-06-30 14:00",
          "s23-07-03 23:00",
          "s23-07-04 07:00",
          "s23-07-05 18:00",
          "s23-07-06 11:00",
          "s23-07-16 23:00",
          "s23-07-18 12:00",
          "s23-07-18 17:00",
          "s23-07-25 17:00",
          "s23-07-27 19:00",
          "s23-07-31 00:00",
          "s23-07-31 23:00",
          "s23-08-04 06:00",
          "s23-08-08 15:00",
          "s23-08-09 11:00",
          "s23-08-10 00:00",
          "s23-08-14 05:00",
          "s23-08-14 06:00",
          "s23-08-15 09:00",
          "s23-08-18 12:00",
          "s23-08-21 08:00",
          "s23-08-22 23:00",
          "s23-08-24 09:00",
          "s23-08-24 12:00",
          "s23-08-28 11:00",
          "s23-08-31 20:00"
         ],
         "y": [
          -18.400000000000638,
          -46.10000000000003,
          -86.20000000000073,
          -147.60000000000107,
          -173.60000000000042,
          -316.0000000000007,
          -130.60000000000068,
          -85.99999999999937,
          -132.29999999999848,
          -173.49999999999972,
          -107.90000000000073,
          -132.60000000000045,
          -218.00000000000037,
          -266.20000000000084,
          -280.6000000000019,
          -258.6000000000021,
          -155.00000000000068,
          -86.10000000000005,
          -89.79999999999987,
          -141,
          1.999999999999801,
          311.3999999999994,
          364.399999999998,
          471.49999999999795,
          458.79999999999916,
          499.1999999999996,
          497.6000000000002,
          542.0000000000002,
          480.799999999999,
          431.3999999999995,
          343.1000000000006,
          384.7,
          411.89999999999833,
          385.599999999997,
          369.59999999999656,
          332.69999999999686,
          279.7999999999967,
          249.39999999999517,
          188.59999999999434,
          214.49999999999525,
          202.9999999999954,
          309.9999999999947,
          296.3999999999944,
          236.99999999999386,
          271.59999999999405,
          224.1999999999944,
          240.39999999999395,
          194.79999999999276,
          168.49999999999145,
          155.9999999999917,
          248.79999999999347,
          261.6999999999936,
          257.09999999999235,
          282.59999999999286,
          232.19999999999354,
          231.79999999999313,
          234.7999999999928,
          232.79999999999302,
          193.1999999999934,
          216.49999999999284,
          100.99999999999335,
          271.399999999995,
          298.4999999999949,
          269.9999999999947,
          279.39999999999634,
          288.79999999999797,
          259.59999999999764,
          145.99999999999727,
          73.39999999999684,
          52.79999999999511,
          48.59999999999424,
          46.19999999999406,
          -33.30000000000494,
          282.29999999999535,
          282.1999999999947,
          232.19999999999578,
          393.39999999999714,
          298.9999999999982,
          225.29999999999941,
          199.40000000000072,
          318.8000000000013,
          333.0000000000011,
          324.9000000000013,
          303.70000000000226,
          336.0000000000029,
          331.6000000000029,
          281.600000000004,
          265.80000000000484,
          255.40000000000555,
          265.4000000000067,
          325.3000000000061,
          290.00000000000574,
          338.70000000000726,
          423.40000000000924,
          423.40000000000924
         ]
        }
       ],
       "layout": {
        "font": {
         "color": "#e1e1e1",
         "size": 12
        },
        "height": 400,
        "margin": {
         "b": 10,
         "l": 10,
         "r": 10,
         "t": 10
        },
        "paper_bgcolor": "#2c303c",
        "plot_bgcolor": "#2c303c",
        "template": {
         "data": {
          "bar": [
           {
            "error_x": {
             "color": "#2a3f5f"
            },
            "error_y": {
             "color": "#2a3f5f"
            },
            "marker": {
             "line": {
              "color": "#E5ECF6",
              "width": 0.5
             },
             "pattern": {
              "fillmode": "overlay",
              "size": 10,
              "solidity": 0.2
             }
            },
            "type": "bar"
           }
          ],
          "barpolar": [
           {
            "marker": {
             "line": {
              "color": "#E5ECF6",
              "width": 0.5
             },
             "pattern": {
              "fillmode": "overlay",
              "size": 10,
              "solidity": 0.2
             }
            },
            "type": "barpolar"
           }
          ],
          "carpet": [
           {
            "aaxis": {
             "endlinecolor": "#2a3f5f",
             "gridcolor": "white",
             "linecolor": "white",
             "minorgridcolor": "white",
             "startlinecolor": "#2a3f5f"
            },
            "baxis": {
             "endlinecolor": "#2a3f5f",
             "gridcolor": "white",
             "linecolor": "white",
             "minorgridcolor": "white",
             "startlinecolor": "#2a3f5f"
            },
            "type": "carpet"
           }
          ],
          "choropleth": [
           {
            "colorbar": {
             "outlinewidth": 0,
             "ticks": ""
            },
            "type": "choropleth"
           }
          ],
          "contour": [
           {
            "colorbar": {
             "outlinewidth": 0,
             "ticks": ""
            },
            "colorscale": [
             [
              0,
              "#0d0887"
             ],
             [
              0.1111111111111111,
              "#46039f"
             ],
             [
              0.2222222222222222,
              "#7201a8"
             ],
             [
              0.3333333333333333,
              "#9c179e"
             ],
             [
              0.4444444444444444,
              "#bd3786"
             ],
             [
              0.5555555555555556,
              "#d8576b"
             ],
             [
              0.6666666666666666,
              "#ed7953"
             ],
             [
              0.7777777777777778,
              "#fb9f3a"
             ],
             [
              0.8888888888888888,
              "#fdca26"
             ],
             [
              1,
              "#f0f921"
             ]
            ],
            "type": "contour"
           }
          ],
          "contourcarpet": [
           {
            "colorbar": {
             "outlinewidth": 0,
             "ticks": ""
            },
            "type": "contourcarpet"
           }
          ],
          "heatmap": [
           {
            "colorbar": {
             "outlinewidth": 0,
             "ticks": ""
            },
            "colorscale": [
             [
              0,
              "#0d0887"
             ],
             [
              0.1111111111111111,
              "#46039f"
             ],
             [
              0.2222222222222222,
              "#7201a8"
             ],
             [
              0.3333333333333333,
              "#9c179e"
             ],
             [
              0.4444444444444444,
              "#bd3786"
             ],
             [
              0.5555555555555556,
              "#d8576b"
             ],
             [
              0.6666666666666666,
              "#ed7953"
             ],
             [
              0.7777777777777778,
              "#fb9f3a"
             ],
             [
              0.8888888888888888,
              "#fdca26"
             ],
             [
              1,
              "#f0f921"
             ]
            ],
            "type": "heatmap"
           }
          ],
          "heatmapgl": [
           {
            "colorbar": {
             "outlinewidth": 0,
             "ticks": ""
            },
            "colorscale": [
             [
              0,
              "#0d0887"
             ],
             [
              0.1111111111111111,
              "#46039f"
             ],
             [
              0.2222222222222222,
              "#7201a8"
             ],
             [
              0.3333333333333333,
              "#9c179e"
             ],
             [
              0.4444444444444444,
              "#bd3786"
             ],
             [
              0.5555555555555556,
              "#d8576b"
             ],
             [
              0.6666666666666666,
              "#ed7953"
             ],
             [
              0.7777777777777778,
              "#fb9f3a"
             ],
             [
              0.8888888888888888,
              "#fdca26"
             ],
             [
              1,
              "#f0f921"
             ]
            ],
            "type": "heatmapgl"
           }
          ],
          "histogram": [
           {
            "marker": {
             "pattern": {
              "fillmode": "overlay",
              "size": 10,
              "solidity": 0.2
             }
            },
            "type": "histogram"
           }
          ],
          "histogram2d": [
           {
            "colorbar": {
             "outlinewidth": 0,
             "ticks": ""
            },
            "colorscale": [
             [
              0,
              "#0d0887"
             ],
             [
              0.1111111111111111,
              "#46039f"
             ],
             [
              0.2222222222222222,
              "#7201a8"
             ],
             [
              0.3333333333333333,
              "#9c179e"
             ],
             [
              0.4444444444444444,
              "#bd3786"
             ],
             [
              0.5555555555555556,
              "#d8576b"
             ],
             [
              0.6666666666666666,
              "#ed7953"
             ],
             [
              0.7777777777777778,
              "#fb9f3a"
             ],
             [
              0.8888888888888888,
              "#fdca26"
             ],
             [
              1,
              "#f0f921"
             ]
            ],
            "type": "histogram2d"
           }
          ],
          "histogram2dcontour": [
           {
            "colorbar": {
             "outlinewidth": 0,
             "ticks": ""
            },
            "colorscale": [
             [
              0,
              "#0d0887"
             ],
             [
              0.1111111111111111,
              "#46039f"
             ],
             [
              0.2222222222222222,
              "#7201a8"
             ],
             [
              0.3333333333333333,
              "#9c179e"
             ],
             [
              0.4444444444444444,
              "#bd3786"
             ],
             [
              0.5555555555555556,
              "#d8576b"
             ],
             [
              0.6666666666666666,
              "#ed7953"
             ],
             [
              0.7777777777777778,
              "#fb9f3a"
             ],
             [
              0.8888888888888888,
              "#fdca26"
             ],
             [
              1,
              "#f0f921"
             ]
            ],
            "type": "histogram2dcontour"
           }
          ],
          "mesh3d": [
           {
            "colorbar": {
             "outlinewidth": 0,
             "ticks": ""
            },
            "type": "mesh3d"
           }
          ],
          "parcoords": [
           {
            "line": {
             "colorbar": {
              "outlinewidth": 0,
              "ticks": ""
             }
            },
            "type": "parcoords"
           }
          ],
          "pie": [
           {
            "automargin": true,
            "type": "pie"
           }
          ],
          "scatter": [
           {
            "fillpattern": {
             "fillmode": "overlay",
             "size": 10,
             "solidity": 0.2
            },
            "type": "scatter"
           }
          ],
          "scatter3d": [
           {
            "line": {
             "colorbar": {
              "outlinewidth": 0,
              "ticks": ""
             }
            },
            "marker": {
             "colorbar": {
              "outlinewidth": 0,
              "ticks": ""
             }
            },
            "type": "scatter3d"
           }
          ],
          "scattercarpet": [
           {
            "marker": {
             "colorbar": {
              "outlinewidth": 0,
              "ticks": ""
             }
            },
            "type": "scattercarpet"
           }
          ],
          "scattergeo": [
           {
            "marker": {
             "colorbar": {
              "outlinewidth": 0,
              "ticks": ""
             }
            },
            "type": "scattergeo"
           }
          ],
          "scattergl": [
           {
            "marker": {
             "colorbar": {
              "outlinewidth": 0,
              "ticks": ""
             }
            },
            "type": "scattergl"
           }
          ],
          "scattermapbox": [
           {
            "marker": {
             "colorbar": {
              "outlinewidth": 0,
              "ticks": ""
             }
            },
            "type": "scattermapbox"
           }
          ],
          "scatterpolar": [
           {
            "marker": {
             "colorbar": {
              "outlinewidth": 0,
              "ticks": ""
             }
            },
            "type": "scatterpolar"
           }
          ],
          "scatterpolargl": [
           {
            "marker": {
             "colorbar": {
              "outlinewidth": 0,
              "ticks": ""
             }
            },
            "type": "scatterpolargl"
           }
          ],
          "scatterternary": [
           {
            "marker": {
             "colorbar": {
              "outlinewidth": 0,
              "ticks": ""
             }
            },
            "type": "scatterternary"
           }
          ],
          "surface": [
           {
            "colorbar": {
             "outlinewidth": 0,
             "ticks": ""
            },
            "colorscale": [
             [
              0,
              "#0d0887"
             ],
             [
              0.1111111111111111,
              "#46039f"
             ],
             [
              0.2222222222222222,
              "#7201a8"
             ],
             [
              0.3333333333333333,
              "#9c179e"
             ],
             [
              0.4444444444444444,
              "#bd3786"
             ],
             [
              0.5555555555555556,
              "#d8576b"
             ],
             [
              0.6666666666666666,
              "#ed7953"
             ],
             [
              0.7777777777777778,
              "#fb9f3a"
             ],
             [
              0.8888888888888888,
              "#fdca26"
             ],
             [
              1,
              "#f0f921"
             ]
            ],
            "type": "surface"
           }
          ],
          "table": [
           {
            "cells": {
             "fill": {
              "color": "#EBF0F8"
             },
             "line": {
              "color": "white"
             }
            },
            "header": {
             "fill": {
              "color": "#C8D4E3"
             },
             "line": {
              "color": "white"
             }
            },
            "type": "table"
           }
          ]
         },
         "layout": {
          "annotationdefaults": {
           "arrowcolor": "#2a3f5f",
           "arrowhead": 0,
           "arrowwidth": 1
          },
          "autotypenumbers": "strict",
          "coloraxis": {
           "colorbar": {
            "outlinewidth": 0,
            "ticks": ""
           }
          },
          "colorscale": {
           "diverging": [
            [
             0,
             "#8e0152"
            ],
            [
             0.1,
             "#c51b7d"
            ],
            [
             0.2,
             "#de77ae"
            ],
            [
             0.3,
             "#f1b6da"
            ],
            [
             0.4,
             "#fde0ef"
            ],
            [
             0.5,
             "#f7f7f7"
            ],
            [
             0.6,
             "#e6f5d0"
            ],
            [
             0.7,
             "#b8e186"
            ],
            [
             0.8,
             "#7fbc41"
            ],
            [
             0.9,
             "#4d9221"
            ],
            [
             1,
             "#276419"
            ]
           ],
           "sequential": [
            [
             0,
             "#0d0887"
            ],
            [
             0.1111111111111111,
             "#46039f"
            ],
            [
             0.2222222222222222,
             "#7201a8"
            ],
            [
             0.3333333333333333,
             "#9c179e"
            ],
            [
             0.4444444444444444,
             "#bd3786"
            ],
            [
             0.5555555555555556,
             "#d8576b"
            ],
            [
             0.6666666666666666,
             "#ed7953"
            ],
            [
             0.7777777777777778,
             "#fb9f3a"
            ],
            [
             0.8888888888888888,
             "#fdca26"
            ],
            [
             1,
             "#f0f921"
            ]
           ],
           "sequentialminus": [
            [
             0,
             "#0d0887"
            ],
            [
             0.1111111111111111,
             "#46039f"
            ],
            [
             0.2222222222222222,
             "#7201a8"
            ],
            [
             0.3333333333333333,
             "#9c179e"
            ],
            [
             0.4444444444444444,
             "#bd3786"
            ],
            [
             0.5555555555555556,
             "#d8576b"
            ],
            [
             0.6666666666666666,
             "#ed7953"
            ],
            [
             0.7777777777777778,
             "#fb9f3a"
            ],
            [
             0.8888888888888888,
             "#fdca26"
            ],
            [
             1,
             "#f0f921"
            ]
           ]
          },
          "colorway": [
           "#636efa",
           "#EF553B",
           "#00cc96",
           "#ab63fa",
           "#FFA15A",
           "#19d3f3",
           "#FF6692",
           "#B6E880",
           "#FF97FF",
           "#FECB52"
          ],
          "font": {
           "color": "#2a3f5f"
          },
          "geo": {
           "bgcolor": "white",
           "lakecolor": "white",
           "landcolor": "#E5ECF6",
           "showlakes": true,
           "showland": true,
           "subunitcolor": "white"
          },
          "hoverlabel": {
           "align": "left"
          },
          "hovermode": "closest",
          "mapbox": {
           "style": "light"
          },
          "paper_bgcolor": "white",
          "plot_bgcolor": "#E5ECF6",
          "polar": {
           "angularaxis": {
            "gridcolor": "white",
            "linecolor": "white",
            "ticks": ""
           },
           "bgcolor": "#E5ECF6",
           "radialaxis": {
            "gridcolor": "white",
            "linecolor": "white",
            "ticks": ""
           }
          },
          "scene": {
           "xaxis": {
            "backgroundcolor": "#E5ECF6",
            "gridcolor": "white",
            "gridwidth": 2,
            "linecolor": "white",
            "showbackground": true,
            "ticks": "",
            "zerolinecolor": "white"
           },
           "yaxis": {
            "backgroundcolor": "#E5ECF6",
            "gridcolor": "white",
            "gridwidth": 2,
            "linecolor": "white",
            "showbackground": true,
            "ticks": "",
            "zerolinecolor": "white"
           },
           "zaxis": {
            "backgroundcolor": "#E5ECF6",
            "gridcolor": "white",
            "gridwidth": 2,
            "linecolor": "white",
            "showbackground": true,
            "ticks": "",
            "zerolinecolor": "white"
           }
          },
          "shapedefaults": {
           "line": {
            "color": "#2a3f5f"
           }
          },
          "ternary": {
           "aaxis": {
            "gridcolor": "white",
            "linecolor": "white",
            "ticks": ""
           },
           "baxis": {
            "gridcolor": "white",
            "linecolor": "white",
            "ticks": ""
           },
           "bgcolor": "#E5ECF6",
           "caxis": {
            "gridcolor": "white",
            "linecolor": "white",
            "ticks": ""
           }
          },
          "title": {
           "x": 0.05
          },
          "xaxis": {
           "automargin": true,
           "gridcolor": "white",
           "linecolor": "white",
           "ticks": "",
           "title": {
            "standoff": 15
           },
           "zerolinecolor": "white",
           "zerolinewidth": 2
          },
          "yaxis": {
           "automargin": true,
           "gridcolor": "white",
           "linecolor": "white",
           "ticks": "",
           "title": {
            "standoff": 15
           },
           "zerolinecolor": "white",
           "zerolinewidth": 2
          }
         }
        },
        "width": 900,
        "xaxis": {
         "gridcolor": "#1f292f",
         "nticks": 5,
         "rangeslider": {
          "visible": false
         }
        },
        "yaxis": {
         "gridcolor": "#1f292f"
        }
       }
      }
     },
     "metadata": {},
     "output_type": "display_data"
    },
    {
     "name": "stdout",
     "output_type": "stream",
     "text": [
      "AUD_CAD 323\n"
     ]
    },
    {
     "data": {
      "application/vnd.plotly.v1+json": {
       "config": {
        "plotlyServerURL": "https://plot.ly"
       },
       "data": [
        {
         "line": {
          "shape": "spline",
          "width": 2
         },
         "name": "GAIN_C",
         "type": "scatter",
         "x": [
          "s23-01-20 13:00",
          "s23-01-27 00:00",
          "s23-02-01 19:00",
          "s23-02-03 00:00",
          "s23-02-07 11:00",
          "s23-02-09 06:00",
          "s23-02-09 09:00",
          "s23-02-10 09:00",
          "s23-02-13 22:00",
          "s23-02-15 09:00",
          "s23-02-16 17:00",
          "s23-02-17 07:00",
          "s23-02-20 02:00",
          "s23-02-21 12:00",
          "s23-02-28 09:00",
          "s23-03-02 07:00",
          "s23-03-03 15:00",
          "s23-03-06 16:00",
          "s23-03-08 21:00",
          "s23-03-10 13:00",
          "s23-03-10 15:00",
          "s23-03-10 18:00",
          "s23-03-12 21:00",
          "s23-03-14 12:00",
          "s23-03-15 07:00",
          "s23-03-15 19:00",
          "s23-03-16 17:00",
          "s23-03-20 15:00",
          "s23-03-22 10:00",
          "s23-03-24 00:00",
          "s23-03-28 15:00",
          "s23-03-29 09:00",
          "s23-03-30 20:00",
          "s23-03-31 17:00",
          "s23-04-03 19:00",
          "s23-04-04 19:00",
          "s23-04-07 17:00",
          "s23-04-10 06:00",
          "s23-04-11 17:00",
          "s23-04-11 22:00",
          "s23-04-12 18:00",
          "s23-04-14 16:00",
          "s23-04-18 03:00",
          "s23-04-21 17:00",
          "s23-04-25 05:00",
          "s23-04-25 14:00",
          "s23-04-27 13:00",
          "s23-04-28 06:00",
          "s23-05-01 15:00",
          "s23-05-03 19:00",
          "s23-05-04 05:00",
          "s23-05-04 12:00",
          "s23-05-05 11:00",
          "s23-05-05 14:00",
          "s23-05-08 20:00",
          "s23-05-09 15:00",
          "s23-05-10 18:00",
          "s23-05-11 14:00",
          "s23-05-15 13:00",
          "s23-05-16 07:00",
          "s23-05-19 10:00",
          "s23-05-22 16:00",
          "s23-05-23 06:00",
          "s23-05-23 13:00",
          "s23-05-26 12:00",
          "s23-05-30 06:00",
          "s23-06-01 17:00",
          "s23-06-05 10:00",
          "s23-06-05 23:00",
          "s23-06-07 19:00",
          "s23-06-08 19:00",
          "s23-06-14 02:00",
          "s23-06-14 17:00",
          "s23-06-16 19:00",
          "s23-06-27 10:00",
          "s23-06-28 09:00",
          "s23-06-29 15:00",
          "s23-07-05 20:00",
          "s23-07-06 09:00",
          "s23-07-10 10:00",
          "s23-07-11 08:00",
          "s23-07-11 22:00",
          "s23-07-12 12:00",
          "s23-07-17 01:00",
          "s23-07-17 02:00",
          "s23-07-17 03:00",
          "s23-07-17 04:00",
          "s23-07-17 12:00",
          "s23-07-20 10:00",
          "s23-07-21 05:00",
          "s23-07-25 12:00",
          "s23-07-26 17:00",
          "s23-07-27 05:00",
          "s23-07-27 21:00",
          "s23-07-31 10:00",
          "s23-08-01 10:00",
          "s23-08-04 00:00",
          "s23-08-07 22:00",
          "s23-08-09 05:00",
          "s23-08-10 02:00",
          "s23-08-10 18:00",
          "s23-08-11 07:00",
          "s23-08-15 02:00",
          "s23-08-15 22:00",
          "s23-08-18 04:00",
          "s23-08-20 22:00",
          "s23-08-21 04:00",
          "s23-08-21 11:00",
          "s23-08-22 03:00",
          "s23-08-24 19:00",
          "s23-08-27 23:00",
          "s23-08-31 06:00",
          "s23-08-31 07:00",
          "s23-08-31 08:00"
         ],
         "y": [
          175.30000000000044,
          191.5,
          138.299999999999,
          261.8999999999983,
          308.5999999999978,
          301.0999999999975,
          264.49999999999756,
          293.8999999999981,
          266.9999999999984,
          260.1999999999983,
          230.19999999999825,
          179.59999999999872,
          144.6999999999988,
          264.19999999999783,
          303.3999999999971,
          286.9999999999973,
          265.69999999999766,
          338.49999999999716,
          356.7999999999971,
          335.1999999999977,
          306.9999999999984,
          296.5999999999991,
          317.599999999999,
          315.5999999999981,
          285.0999999999981,
          275.19999999999874,
          340.4999999999991,
          348.99999999999926,
          335.9999999999996,
          364.9999999999997,
          307.9999999999993,
          307.59999999999894,
          274.6999999999988,
          206.6999999999985,
          173.59999999999815,
          240.99999999999784,
          230.39999999999722,
          269.39999999999736,
          264.7999999999983,
          225.4999999999984,
          195.59999999999792,
          174.79999999999822,
          255.3999999999989,
          271.19999999999914,
          250.09999999999857,
          284.9999999999985,
          286.1999999999986,
          297.2999999999981,
          398.19999999999743,
          396.099999999997,
          376.9999999999973,
          373.99999999999767,
          361.9999999999979,
          355.9999999999986,
          335.19999999999885,
          320.59999999999866,
          289.99999999999915,
          287.10000000000014,
          256.60000000000014,
          292.5999999999995,
          306.1999999999998,
          314.1000000000005,
          292.7000000000013,
          345.60000000000144,
          323.50000000000097,
          353.4000000000003,
          368.39999999999975,
          335.79999999999933,
          337.3999999999987,
          267.79999999999797,
          319.1999999999972,
          271.39999999999714,
          276.1999999999975,
          543.3999999999971,
          517.8999999999966,
          507.59999999999684,
          559.8999999999975,
          541.3999999999984,
          508.29999999999916,
          483.199999999999,
          483.9999999999987,
          436.49999999999835,
          558.1999999999985,
          554.1999999999989,
          533.7999999999985,
          523.9999999999986,
          494.9999999999996,
          501.99999999999994,
          449.59999999999974,
          442.3999999999992,
          424.2999999999983,
          382.79999999999734,
          298.1999999999971,
          303.19999999999766,
          233.7999999999982,
          263.9999999999984,
          289.5999999999985,
          284.0999999999991,
          255.19999999999965,
          250.7999999999997,
          246.80000000000013,
          279.8000000000009,
          254.60000000000124,
          295.9000000000009,
          308.3000000000011,
          317.70000000000164,
          313.5000000000019,
          285.4000000000021,
          302.4000000000024,
          292.4000000000024,
          341.2000000000024,
          336.00000000000273,
          323.80000000000274,
          323.80000000000274
         ]
        }
       ],
       "layout": {
        "font": {
         "color": "#e1e1e1",
         "size": 12
        },
        "height": 400,
        "margin": {
         "b": 10,
         "l": 10,
         "r": 10,
         "t": 10
        },
        "paper_bgcolor": "#2c303c",
        "plot_bgcolor": "#2c303c",
        "template": {
         "data": {
          "bar": [
           {
            "error_x": {
             "color": "#2a3f5f"
            },
            "error_y": {
             "color": "#2a3f5f"
            },
            "marker": {
             "line": {
              "color": "#E5ECF6",
              "width": 0.5
             },
             "pattern": {
              "fillmode": "overlay",
              "size": 10,
              "solidity": 0.2
             }
            },
            "type": "bar"
           }
          ],
          "barpolar": [
           {
            "marker": {
             "line": {
              "color": "#E5ECF6",
              "width": 0.5
             },
             "pattern": {
              "fillmode": "overlay",
              "size": 10,
              "solidity": 0.2
             }
            },
            "type": "barpolar"
           }
          ],
          "carpet": [
           {
            "aaxis": {
             "endlinecolor": "#2a3f5f",
             "gridcolor": "white",
             "linecolor": "white",
             "minorgridcolor": "white",
             "startlinecolor": "#2a3f5f"
            },
            "baxis": {
             "endlinecolor": "#2a3f5f",
             "gridcolor": "white",
             "linecolor": "white",
             "minorgridcolor": "white",
             "startlinecolor": "#2a3f5f"
            },
            "type": "carpet"
           }
          ],
          "choropleth": [
           {
            "colorbar": {
             "outlinewidth": 0,
             "ticks": ""
            },
            "type": "choropleth"
           }
          ],
          "contour": [
           {
            "colorbar": {
             "outlinewidth": 0,
             "ticks": ""
            },
            "colorscale": [
             [
              0,
              "#0d0887"
             ],
             [
              0.1111111111111111,
              "#46039f"
             ],
             [
              0.2222222222222222,
              "#7201a8"
             ],
             [
              0.3333333333333333,
              "#9c179e"
             ],
             [
              0.4444444444444444,
              "#bd3786"
             ],
             [
              0.5555555555555556,
              "#d8576b"
             ],
             [
              0.6666666666666666,
              "#ed7953"
             ],
             [
              0.7777777777777778,
              "#fb9f3a"
             ],
             [
              0.8888888888888888,
              "#fdca26"
             ],
             [
              1,
              "#f0f921"
             ]
            ],
            "type": "contour"
           }
          ],
          "contourcarpet": [
           {
            "colorbar": {
             "outlinewidth": 0,
             "ticks": ""
            },
            "type": "contourcarpet"
           }
          ],
          "heatmap": [
           {
            "colorbar": {
             "outlinewidth": 0,
             "ticks": ""
            },
            "colorscale": [
             [
              0,
              "#0d0887"
             ],
             [
              0.1111111111111111,
              "#46039f"
             ],
             [
              0.2222222222222222,
              "#7201a8"
             ],
             [
              0.3333333333333333,
              "#9c179e"
             ],
             [
              0.4444444444444444,
              "#bd3786"
             ],
             [
              0.5555555555555556,
              "#d8576b"
             ],
             [
              0.6666666666666666,
              "#ed7953"
             ],
             [
              0.7777777777777778,
              "#fb9f3a"
             ],
             [
              0.8888888888888888,
              "#fdca26"
             ],
             [
              1,
              "#f0f921"
             ]
            ],
            "type": "heatmap"
           }
          ],
          "heatmapgl": [
           {
            "colorbar": {
             "outlinewidth": 0,
             "ticks": ""
            },
            "colorscale": [
             [
              0,
              "#0d0887"
             ],
             [
              0.1111111111111111,
              "#46039f"
             ],
             [
              0.2222222222222222,
              "#7201a8"
             ],
             [
              0.3333333333333333,
              "#9c179e"
             ],
             [
              0.4444444444444444,
              "#bd3786"
             ],
             [
              0.5555555555555556,
              "#d8576b"
             ],
             [
              0.6666666666666666,
              "#ed7953"
             ],
             [
              0.7777777777777778,
              "#fb9f3a"
             ],
             [
              0.8888888888888888,
              "#fdca26"
             ],
             [
              1,
              "#f0f921"
             ]
            ],
            "type": "heatmapgl"
           }
          ],
          "histogram": [
           {
            "marker": {
             "pattern": {
              "fillmode": "overlay",
              "size": 10,
              "solidity": 0.2
             }
            },
            "type": "histogram"
           }
          ],
          "histogram2d": [
           {
            "colorbar": {
             "outlinewidth": 0,
             "ticks": ""
            },
            "colorscale": [
             [
              0,
              "#0d0887"
             ],
             [
              0.1111111111111111,
              "#46039f"
             ],
             [
              0.2222222222222222,
              "#7201a8"
             ],
             [
              0.3333333333333333,
              "#9c179e"
             ],
             [
              0.4444444444444444,
              "#bd3786"
             ],
             [
              0.5555555555555556,
              "#d8576b"
             ],
             [
              0.6666666666666666,
              "#ed7953"
             ],
             [
              0.7777777777777778,
              "#fb9f3a"
             ],
             [
              0.8888888888888888,
              "#fdca26"
             ],
             [
              1,
              "#f0f921"
             ]
            ],
            "type": "histogram2d"
           }
          ],
          "histogram2dcontour": [
           {
            "colorbar": {
             "outlinewidth": 0,
             "ticks": ""
            },
            "colorscale": [
             [
              0,
              "#0d0887"
             ],
             [
              0.1111111111111111,
              "#46039f"
             ],
             [
              0.2222222222222222,
              "#7201a8"
             ],
             [
              0.3333333333333333,
              "#9c179e"
             ],
             [
              0.4444444444444444,
              "#bd3786"
             ],
             [
              0.5555555555555556,
              "#d8576b"
             ],
             [
              0.6666666666666666,
              "#ed7953"
             ],
             [
              0.7777777777777778,
              "#fb9f3a"
             ],
             [
              0.8888888888888888,
              "#fdca26"
             ],
             [
              1,
              "#f0f921"
             ]
            ],
            "type": "histogram2dcontour"
           }
          ],
          "mesh3d": [
           {
            "colorbar": {
             "outlinewidth": 0,
             "ticks": ""
            },
            "type": "mesh3d"
           }
          ],
          "parcoords": [
           {
            "line": {
             "colorbar": {
              "outlinewidth": 0,
              "ticks": ""
             }
            },
            "type": "parcoords"
           }
          ],
          "pie": [
           {
            "automargin": true,
            "type": "pie"
           }
          ],
          "scatter": [
           {
            "fillpattern": {
             "fillmode": "overlay",
             "size": 10,
             "solidity": 0.2
            },
            "type": "scatter"
           }
          ],
          "scatter3d": [
           {
            "line": {
             "colorbar": {
              "outlinewidth": 0,
              "ticks": ""
             }
            },
            "marker": {
             "colorbar": {
              "outlinewidth": 0,
              "ticks": ""
             }
            },
            "type": "scatter3d"
           }
          ],
          "scattercarpet": [
           {
            "marker": {
             "colorbar": {
              "outlinewidth": 0,
              "ticks": ""
             }
            },
            "type": "scattercarpet"
           }
          ],
          "scattergeo": [
           {
            "marker": {
             "colorbar": {
              "outlinewidth": 0,
              "ticks": ""
             }
            },
            "type": "scattergeo"
           }
          ],
          "scattergl": [
           {
            "marker": {
             "colorbar": {
              "outlinewidth": 0,
              "ticks": ""
             }
            },
            "type": "scattergl"
           }
          ],
          "scattermapbox": [
           {
            "marker": {
             "colorbar": {
              "outlinewidth": 0,
              "ticks": ""
             }
            },
            "type": "scattermapbox"
           }
          ],
          "scatterpolar": [
           {
            "marker": {
             "colorbar": {
              "outlinewidth": 0,
              "ticks": ""
             }
            },
            "type": "scatterpolar"
           }
          ],
          "scatterpolargl": [
           {
            "marker": {
             "colorbar": {
              "outlinewidth": 0,
              "ticks": ""
             }
            },
            "type": "scatterpolargl"
           }
          ],
          "scatterternary": [
           {
            "marker": {
             "colorbar": {
              "outlinewidth": 0,
              "ticks": ""
             }
            },
            "type": "scatterternary"
           }
          ],
          "surface": [
           {
            "colorbar": {
             "outlinewidth": 0,
             "ticks": ""
            },
            "colorscale": [
             [
              0,
              "#0d0887"
             ],
             [
              0.1111111111111111,
              "#46039f"
             ],
             [
              0.2222222222222222,
              "#7201a8"
             ],
             [
              0.3333333333333333,
              "#9c179e"
             ],
             [
              0.4444444444444444,
              "#bd3786"
             ],
             [
              0.5555555555555556,
              "#d8576b"
             ],
             [
              0.6666666666666666,
              "#ed7953"
             ],
             [
              0.7777777777777778,
              "#fb9f3a"
             ],
             [
              0.8888888888888888,
              "#fdca26"
             ],
             [
              1,
              "#f0f921"
             ]
            ],
            "type": "surface"
           }
          ],
          "table": [
           {
            "cells": {
             "fill": {
              "color": "#EBF0F8"
             },
             "line": {
              "color": "white"
             }
            },
            "header": {
             "fill": {
              "color": "#C8D4E3"
             },
             "line": {
              "color": "white"
             }
            },
            "type": "table"
           }
          ]
         },
         "layout": {
          "annotationdefaults": {
           "arrowcolor": "#2a3f5f",
           "arrowhead": 0,
           "arrowwidth": 1
          },
          "autotypenumbers": "strict",
          "coloraxis": {
           "colorbar": {
            "outlinewidth": 0,
            "ticks": ""
           }
          },
          "colorscale": {
           "diverging": [
            [
             0,
             "#8e0152"
            ],
            [
             0.1,
             "#c51b7d"
            ],
            [
             0.2,
             "#de77ae"
            ],
            [
             0.3,
             "#f1b6da"
            ],
            [
             0.4,
             "#fde0ef"
            ],
            [
             0.5,
             "#f7f7f7"
            ],
            [
             0.6,
             "#e6f5d0"
            ],
            [
             0.7,
             "#b8e186"
            ],
            [
             0.8,
             "#7fbc41"
            ],
            [
             0.9,
             "#4d9221"
            ],
            [
             1,
             "#276419"
            ]
           ],
           "sequential": [
            [
             0,
             "#0d0887"
            ],
            [
             0.1111111111111111,
             "#46039f"
            ],
            [
             0.2222222222222222,
             "#7201a8"
            ],
            [
             0.3333333333333333,
             "#9c179e"
            ],
            [
             0.4444444444444444,
             "#bd3786"
            ],
            [
             0.5555555555555556,
             "#d8576b"
            ],
            [
             0.6666666666666666,
             "#ed7953"
            ],
            [
             0.7777777777777778,
             "#fb9f3a"
            ],
            [
             0.8888888888888888,
             "#fdca26"
            ],
            [
             1,
             "#f0f921"
            ]
           ],
           "sequentialminus": [
            [
             0,
             "#0d0887"
            ],
            [
             0.1111111111111111,
             "#46039f"
            ],
            [
             0.2222222222222222,
             "#7201a8"
            ],
            [
             0.3333333333333333,
             "#9c179e"
            ],
            [
             0.4444444444444444,
             "#bd3786"
            ],
            [
             0.5555555555555556,
             "#d8576b"
            ],
            [
             0.6666666666666666,
             "#ed7953"
            ],
            [
             0.7777777777777778,
             "#fb9f3a"
            ],
            [
             0.8888888888888888,
             "#fdca26"
            ],
            [
             1,
             "#f0f921"
            ]
           ]
          },
          "colorway": [
           "#636efa",
           "#EF553B",
           "#00cc96",
           "#ab63fa",
           "#FFA15A",
           "#19d3f3",
           "#FF6692",
           "#B6E880",
           "#FF97FF",
           "#FECB52"
          ],
          "font": {
           "color": "#2a3f5f"
          },
          "geo": {
           "bgcolor": "white",
           "lakecolor": "white",
           "landcolor": "#E5ECF6",
           "showlakes": true,
           "showland": true,
           "subunitcolor": "white"
          },
          "hoverlabel": {
           "align": "left"
          },
          "hovermode": "closest",
          "mapbox": {
           "style": "light"
          },
          "paper_bgcolor": "white",
          "plot_bgcolor": "#E5ECF6",
          "polar": {
           "angularaxis": {
            "gridcolor": "white",
            "linecolor": "white",
            "ticks": ""
           },
           "bgcolor": "#E5ECF6",
           "radialaxis": {
            "gridcolor": "white",
            "linecolor": "white",
            "ticks": ""
           }
          },
          "scene": {
           "xaxis": {
            "backgroundcolor": "#E5ECF6",
            "gridcolor": "white",
            "gridwidth": 2,
            "linecolor": "white",
            "showbackground": true,
            "ticks": "",
            "zerolinecolor": "white"
           },
           "yaxis": {
            "backgroundcolor": "#E5ECF6",
            "gridcolor": "white",
            "gridwidth": 2,
            "linecolor": "white",
            "showbackground": true,
            "ticks": "",
            "zerolinecolor": "white"
           },
           "zaxis": {
            "backgroundcolor": "#E5ECF6",
            "gridcolor": "white",
            "gridwidth": 2,
            "linecolor": "white",
            "showbackground": true,
            "ticks": "",
            "zerolinecolor": "white"
           }
          },
          "shapedefaults": {
           "line": {
            "color": "#2a3f5f"
           }
          },
          "ternary": {
           "aaxis": {
            "gridcolor": "white",
            "linecolor": "white",
            "ticks": ""
           },
           "baxis": {
            "gridcolor": "white",
            "linecolor": "white",
            "ticks": ""
           },
           "bgcolor": "#E5ECF6",
           "caxis": {
            "gridcolor": "white",
            "linecolor": "white",
            "ticks": ""
           }
          },
          "title": {
           "x": 0.05
          },
          "xaxis": {
           "automargin": true,
           "gridcolor": "white",
           "linecolor": "white",
           "ticks": "",
           "title": {
            "standoff": 15
           },
           "zerolinecolor": "white",
           "zerolinewidth": 2
          },
          "yaxis": {
           "automargin": true,
           "gridcolor": "white",
           "linecolor": "white",
           "ticks": "",
           "title": {
            "standoff": 15
           },
           "zerolinecolor": "white",
           "zerolinewidth": 2
          }
         }
        },
        "width": 900,
        "xaxis": {
         "gridcolor": "#1f292f",
         "nticks": 5,
         "rangeslider": {
          "visible": false
         }
        },
        "yaxis": {
         "gridcolor": "#1f292f"
        }
       }
      }
     },
     "metadata": {},
     "output_type": "display_data"
    },
    {
     "name": "stdout",
     "output_type": "stream",
     "text": [
      "GBP_JPY 245\n"
     ]
    },
    {
     "data": {
      "application/vnd.plotly.v1+json": {
       "config": {
        "plotlyServerURL": "https://plot.ly"
       },
       "data": [
        {
         "line": {
          "shape": "spline",
          "width": 2
         },
         "name": "GAIN_C",
         "type": "scatter",
         "x": [
          "s23-01-24 15:00",
          "s23-01-26 08:00",
          "s23-01-27 17:00",
          "s23-01-30 11:00",
          "s23-01-31 10:00",
          "s23-02-05 23:00",
          "s23-02-07 12:00",
          "s23-02-08 19:00",
          "s23-02-10 15:00",
          "s23-02-13 11:00",
          "s23-02-15 19:00",
          "s23-02-17 19:00",
          "s23-02-22 20:00",
          "s23-02-24 18:00",
          "s23-03-01 07:00",
          "s23-03-06 09:00",
          "s23-03-07 16:00",
          "s23-03-10 04:00",
          "s23-03-13 05:00",
          "s23-03-14 08:00",
          "s23-03-15 13:00",
          "s23-03-16 23:00",
          "s23-03-19 23:00",
          "s23-03-21 01:00",
          "s23-03-23 04:00",
          "s23-03-27 08:00",
          "s23-03-28 19:00",
          "s23-03-29 00:00",
          "s23-04-03 01:00",
          "s23-04-03 22:00",
          "s23-04-05 06:00",
          "s23-04-06 20:00",
          "s23-04-13 23:00",
          "s23-04-17 03:00",
          "s23-04-20 16:00",
          "s23-04-24 05:00",
          "s23-04-25 15:00",
          "s23-04-26 21:00",
          "s23-05-02 14:00",
          "s23-05-05 14:00",
          "s23-05-09 06:00",
          "s23-05-10 02:00",
          "s23-05-10 18:00",
          "s23-05-12 19:00",
          "s23-05-16 20:00",
          "s23-05-17 03:00",
          "s23-05-21 22:00",
          "s23-05-22 18:00",
          "s23-05-23 19:00",
          "s23-05-24 17:00",
          "s23-05-29 23:00",
          "s23-05-30 10:00",
          "s23-05-31 06:00",
          "s23-06-01 06:00",
          "s23-06-05 13:00",
          "s23-06-07 15:00",
          "s23-06-12 17:00",
          "s23-06-13 15:00",
          "s23-06-20 02:00",
          "s23-06-21 17:00",
          "s23-06-26 22:00",
          "s23-06-27 08:00",
          "s23-06-28 16:00",
          "s23-06-29 23:00",
          "s23-07-05 18:00",
          "s23-07-07 02:00",
          "s23-07-07 07:00",
          "s23-07-13 15:00",
          "s23-07-17 16:00",
          "s23-07-21 07:00",
          "s23-07-24 16:00",
          "s23-07-25 17:00",
          "s23-07-26 16:00",
          "s23-07-30 23:00",
          "s23-08-02 08:00",
          "s23-08-07 17:00",
          "s23-08-18 02:00",
          "s23-08-21 12:00",
          "s23-08-22 20:00",
          "s23-08-24 20:00",
          "s23-08-25 01:00",
          "s23-08-27 23:00",
          "s23-08-30 00:00",
          "s23-08-30 13:00",
          "s23-08-31 17:00"
         ],
         "y": [
          -66.90000000000111,
          -56.500000000002615,
          -79.50000000000443,
          -144.60000000000548,
          6.899999999993156,
          -74.90000000000805,
          -109.20000000000698,
          -107.30000000000643,
          -247.300000000007,
          -117.30000000000587,
          -146.80000000000462,
          -52.80000000000484,
          -100.10000000000616,
          17.799999999994043,
          65.49999999999443,
          -73.60000000000753,
          -133.1000000000074,
          -149.80000000000473,
          -189.90000000000293,
          -508.9000000000027,
          -664.5000000000039,
          -693.700000000004,
          -670.5000000000041,
          -659.9000000000046,
          -624.7000000000043,
          -554.400000000004,
          -609.5000000000027,
          -441.3000000000011,
          -507.30000000000075,
          -530.5000000000007,
          -505.89999999999975,
          -297.7000000000004,
          -322.7000000000004,
          -240.5000000000001,
          -238.70000000000005,
          -331.4999999999998,
          -386.10000000000184,
          -46.400000000002706,
          -57.70000000000266,
          -33.30000000000268,
          -67.10000000000207,
          -190.70000000000107,
          -140.5000000000001,
          -9.800000000001319,
          -16.40000000000157,
          94.10000000000025,
          -2.2999999999996135,
          -44.90000000000123,
          -73.30000000000325,
          45.499999999995566,
          -23.500000000004206,
          -175.5000000000024,
          -292.9000000000002,
          -336.9,
          -426.3000000000005,
          -391.3000000000011,
          -585.7000000000028,
          -108.10000000000457,
          -89.00000000000432,
          31.49999999999693,
          -40.300000000002,
          -108.60000000000127,
          -135.50000000000182,
          -35.10000000000275,
          0.09999999999763531,
          -92.10000000000207,
          53.69999999999777,
          112.29999999999905,
          67.69999999999925,
          5.099999999998772,
          -39.30000000000007,
          -54.299999999997794,
          14.00000000000432,
          123.3000000000061,
          112.9000000000076,
          461.50000000000944,
          393.1000000000097,
          338.9000000000095,
          539.800000000011,
          552.4000000000115,
          489.30000000001144,
          483.7000000000103,
          375.5000000000081,
          245.50000000000693,
          245.50000000000693
         ]
        }
       ],
       "layout": {
        "font": {
         "color": "#e1e1e1",
         "size": 12
        },
        "height": 400,
        "margin": {
         "b": 10,
         "l": 10,
         "r": 10,
         "t": 10
        },
        "paper_bgcolor": "#2c303c",
        "plot_bgcolor": "#2c303c",
        "template": {
         "data": {
          "bar": [
           {
            "error_x": {
             "color": "#2a3f5f"
            },
            "error_y": {
             "color": "#2a3f5f"
            },
            "marker": {
             "line": {
              "color": "#E5ECF6",
              "width": 0.5
             },
             "pattern": {
              "fillmode": "overlay",
              "size": 10,
              "solidity": 0.2
             }
            },
            "type": "bar"
           }
          ],
          "barpolar": [
           {
            "marker": {
             "line": {
              "color": "#E5ECF6",
              "width": 0.5
             },
             "pattern": {
              "fillmode": "overlay",
              "size": 10,
              "solidity": 0.2
             }
            },
            "type": "barpolar"
           }
          ],
          "carpet": [
           {
            "aaxis": {
             "endlinecolor": "#2a3f5f",
             "gridcolor": "white",
             "linecolor": "white",
             "minorgridcolor": "white",
             "startlinecolor": "#2a3f5f"
            },
            "baxis": {
             "endlinecolor": "#2a3f5f",
             "gridcolor": "white",
             "linecolor": "white",
             "minorgridcolor": "white",
             "startlinecolor": "#2a3f5f"
            },
            "type": "carpet"
           }
          ],
          "choropleth": [
           {
            "colorbar": {
             "outlinewidth": 0,
             "ticks": ""
            },
            "type": "choropleth"
           }
          ],
          "contour": [
           {
            "colorbar": {
             "outlinewidth": 0,
             "ticks": ""
            },
            "colorscale": [
             [
              0,
              "#0d0887"
             ],
             [
              0.1111111111111111,
              "#46039f"
             ],
             [
              0.2222222222222222,
              "#7201a8"
             ],
             [
              0.3333333333333333,
              "#9c179e"
             ],
             [
              0.4444444444444444,
              "#bd3786"
             ],
             [
              0.5555555555555556,
              "#d8576b"
             ],
             [
              0.6666666666666666,
              "#ed7953"
             ],
             [
              0.7777777777777778,
              "#fb9f3a"
             ],
             [
              0.8888888888888888,
              "#fdca26"
             ],
             [
              1,
              "#f0f921"
             ]
            ],
            "type": "contour"
           }
          ],
          "contourcarpet": [
           {
            "colorbar": {
             "outlinewidth": 0,
             "ticks": ""
            },
            "type": "contourcarpet"
           }
          ],
          "heatmap": [
           {
            "colorbar": {
             "outlinewidth": 0,
             "ticks": ""
            },
            "colorscale": [
             [
              0,
              "#0d0887"
             ],
             [
              0.1111111111111111,
              "#46039f"
             ],
             [
              0.2222222222222222,
              "#7201a8"
             ],
             [
              0.3333333333333333,
              "#9c179e"
             ],
             [
              0.4444444444444444,
              "#bd3786"
             ],
             [
              0.5555555555555556,
              "#d8576b"
             ],
             [
              0.6666666666666666,
              "#ed7953"
             ],
             [
              0.7777777777777778,
              "#fb9f3a"
             ],
             [
              0.8888888888888888,
              "#fdca26"
             ],
             [
              1,
              "#f0f921"
             ]
            ],
            "type": "heatmap"
           }
          ],
          "heatmapgl": [
           {
            "colorbar": {
             "outlinewidth": 0,
             "ticks": ""
            },
            "colorscale": [
             [
              0,
              "#0d0887"
             ],
             [
              0.1111111111111111,
              "#46039f"
             ],
             [
              0.2222222222222222,
              "#7201a8"
             ],
             [
              0.3333333333333333,
              "#9c179e"
             ],
             [
              0.4444444444444444,
              "#bd3786"
             ],
             [
              0.5555555555555556,
              "#d8576b"
             ],
             [
              0.6666666666666666,
              "#ed7953"
             ],
             [
              0.7777777777777778,
              "#fb9f3a"
             ],
             [
              0.8888888888888888,
              "#fdca26"
             ],
             [
              1,
              "#f0f921"
             ]
            ],
            "type": "heatmapgl"
           }
          ],
          "histogram": [
           {
            "marker": {
             "pattern": {
              "fillmode": "overlay",
              "size": 10,
              "solidity": 0.2
             }
            },
            "type": "histogram"
           }
          ],
          "histogram2d": [
           {
            "colorbar": {
             "outlinewidth": 0,
             "ticks": ""
            },
            "colorscale": [
             [
              0,
              "#0d0887"
             ],
             [
              0.1111111111111111,
              "#46039f"
             ],
             [
              0.2222222222222222,
              "#7201a8"
             ],
             [
              0.3333333333333333,
              "#9c179e"
             ],
             [
              0.4444444444444444,
              "#bd3786"
             ],
             [
              0.5555555555555556,
              "#d8576b"
             ],
             [
              0.6666666666666666,
              "#ed7953"
             ],
             [
              0.7777777777777778,
              "#fb9f3a"
             ],
             [
              0.8888888888888888,
              "#fdca26"
             ],
             [
              1,
              "#f0f921"
             ]
            ],
            "type": "histogram2d"
           }
          ],
          "histogram2dcontour": [
           {
            "colorbar": {
             "outlinewidth": 0,
             "ticks": ""
            },
            "colorscale": [
             [
              0,
              "#0d0887"
             ],
             [
              0.1111111111111111,
              "#46039f"
             ],
             [
              0.2222222222222222,
              "#7201a8"
             ],
             [
              0.3333333333333333,
              "#9c179e"
             ],
             [
              0.4444444444444444,
              "#bd3786"
             ],
             [
              0.5555555555555556,
              "#d8576b"
             ],
             [
              0.6666666666666666,
              "#ed7953"
             ],
             [
              0.7777777777777778,
              "#fb9f3a"
             ],
             [
              0.8888888888888888,
              "#fdca26"
             ],
             [
              1,
              "#f0f921"
             ]
            ],
            "type": "histogram2dcontour"
           }
          ],
          "mesh3d": [
           {
            "colorbar": {
             "outlinewidth": 0,
             "ticks": ""
            },
            "type": "mesh3d"
           }
          ],
          "parcoords": [
           {
            "line": {
             "colorbar": {
              "outlinewidth": 0,
              "ticks": ""
             }
            },
            "type": "parcoords"
           }
          ],
          "pie": [
           {
            "automargin": true,
            "type": "pie"
           }
          ],
          "scatter": [
           {
            "fillpattern": {
             "fillmode": "overlay",
             "size": 10,
             "solidity": 0.2
            },
            "type": "scatter"
           }
          ],
          "scatter3d": [
           {
            "line": {
             "colorbar": {
              "outlinewidth": 0,
              "ticks": ""
             }
            },
            "marker": {
             "colorbar": {
              "outlinewidth": 0,
              "ticks": ""
             }
            },
            "type": "scatter3d"
           }
          ],
          "scattercarpet": [
           {
            "marker": {
             "colorbar": {
              "outlinewidth": 0,
              "ticks": ""
             }
            },
            "type": "scattercarpet"
           }
          ],
          "scattergeo": [
           {
            "marker": {
             "colorbar": {
              "outlinewidth": 0,
              "ticks": ""
             }
            },
            "type": "scattergeo"
           }
          ],
          "scattergl": [
           {
            "marker": {
             "colorbar": {
              "outlinewidth": 0,
              "ticks": ""
             }
            },
            "type": "scattergl"
           }
          ],
          "scattermapbox": [
           {
            "marker": {
             "colorbar": {
              "outlinewidth": 0,
              "ticks": ""
             }
            },
            "type": "scattermapbox"
           }
          ],
          "scatterpolar": [
           {
            "marker": {
             "colorbar": {
              "outlinewidth": 0,
              "ticks": ""
             }
            },
            "type": "scatterpolar"
           }
          ],
          "scatterpolargl": [
           {
            "marker": {
             "colorbar": {
              "outlinewidth": 0,
              "ticks": ""
             }
            },
            "type": "scatterpolargl"
           }
          ],
          "scatterternary": [
           {
            "marker": {
             "colorbar": {
              "outlinewidth": 0,
              "ticks": ""
             }
            },
            "type": "scatterternary"
           }
          ],
          "surface": [
           {
            "colorbar": {
             "outlinewidth": 0,
             "ticks": ""
            },
            "colorscale": [
             [
              0,
              "#0d0887"
             ],
             [
              0.1111111111111111,
              "#46039f"
             ],
             [
              0.2222222222222222,
              "#7201a8"
             ],
             [
              0.3333333333333333,
              "#9c179e"
             ],
             [
              0.4444444444444444,
              "#bd3786"
             ],
             [
              0.5555555555555556,
              "#d8576b"
             ],
             [
              0.6666666666666666,
              "#ed7953"
             ],
             [
              0.7777777777777778,
              "#fb9f3a"
             ],
             [
              0.8888888888888888,
              "#fdca26"
             ],
             [
              1,
              "#f0f921"
             ]
            ],
            "type": "surface"
           }
          ],
          "table": [
           {
            "cells": {
             "fill": {
              "color": "#EBF0F8"
             },
             "line": {
              "color": "white"
             }
            },
            "header": {
             "fill": {
              "color": "#C8D4E3"
             },
             "line": {
              "color": "white"
             }
            },
            "type": "table"
           }
          ]
         },
         "layout": {
          "annotationdefaults": {
           "arrowcolor": "#2a3f5f",
           "arrowhead": 0,
           "arrowwidth": 1
          },
          "autotypenumbers": "strict",
          "coloraxis": {
           "colorbar": {
            "outlinewidth": 0,
            "ticks": ""
           }
          },
          "colorscale": {
           "diverging": [
            [
             0,
             "#8e0152"
            ],
            [
             0.1,
             "#c51b7d"
            ],
            [
             0.2,
             "#de77ae"
            ],
            [
             0.3,
             "#f1b6da"
            ],
            [
             0.4,
             "#fde0ef"
            ],
            [
             0.5,
             "#f7f7f7"
            ],
            [
             0.6,
             "#e6f5d0"
            ],
            [
             0.7,
             "#b8e186"
            ],
            [
             0.8,
             "#7fbc41"
            ],
            [
             0.9,
             "#4d9221"
            ],
            [
             1,
             "#276419"
            ]
           ],
           "sequential": [
            [
             0,
             "#0d0887"
            ],
            [
             0.1111111111111111,
             "#46039f"
            ],
            [
             0.2222222222222222,
             "#7201a8"
            ],
            [
             0.3333333333333333,
             "#9c179e"
            ],
            [
             0.4444444444444444,
             "#bd3786"
            ],
            [
             0.5555555555555556,
             "#d8576b"
            ],
            [
             0.6666666666666666,
             "#ed7953"
            ],
            [
             0.7777777777777778,
             "#fb9f3a"
            ],
            [
             0.8888888888888888,
             "#fdca26"
            ],
            [
             1,
             "#f0f921"
            ]
           ],
           "sequentialminus": [
            [
             0,
             "#0d0887"
            ],
            [
             0.1111111111111111,
             "#46039f"
            ],
            [
             0.2222222222222222,
             "#7201a8"
            ],
            [
             0.3333333333333333,
             "#9c179e"
            ],
            [
             0.4444444444444444,
             "#bd3786"
            ],
            [
             0.5555555555555556,
             "#d8576b"
            ],
            [
             0.6666666666666666,
             "#ed7953"
            ],
            [
             0.7777777777777778,
             "#fb9f3a"
            ],
            [
             0.8888888888888888,
             "#fdca26"
            ],
            [
             1,
             "#f0f921"
            ]
           ]
          },
          "colorway": [
           "#636efa",
           "#EF553B",
           "#00cc96",
           "#ab63fa",
           "#FFA15A",
           "#19d3f3",
           "#FF6692",
           "#B6E880",
           "#FF97FF",
           "#FECB52"
          ],
          "font": {
           "color": "#2a3f5f"
          },
          "geo": {
           "bgcolor": "white",
           "lakecolor": "white",
           "landcolor": "#E5ECF6",
           "showlakes": true,
           "showland": true,
           "subunitcolor": "white"
          },
          "hoverlabel": {
           "align": "left"
          },
          "hovermode": "closest",
          "mapbox": {
           "style": "light"
          },
          "paper_bgcolor": "white",
          "plot_bgcolor": "#E5ECF6",
          "polar": {
           "angularaxis": {
            "gridcolor": "white",
            "linecolor": "white",
            "ticks": ""
           },
           "bgcolor": "#E5ECF6",
           "radialaxis": {
            "gridcolor": "white",
            "linecolor": "white",
            "ticks": ""
           }
          },
          "scene": {
           "xaxis": {
            "backgroundcolor": "#E5ECF6",
            "gridcolor": "white",
            "gridwidth": 2,
            "linecolor": "white",
            "showbackground": true,
            "ticks": "",
            "zerolinecolor": "white"
           },
           "yaxis": {
            "backgroundcolor": "#E5ECF6",
            "gridcolor": "white",
            "gridwidth": 2,
            "linecolor": "white",
            "showbackground": true,
            "ticks": "",
            "zerolinecolor": "white"
           },
           "zaxis": {
            "backgroundcolor": "#E5ECF6",
            "gridcolor": "white",
            "gridwidth": 2,
            "linecolor": "white",
            "showbackground": true,
            "ticks": "",
            "zerolinecolor": "white"
           }
          },
          "shapedefaults": {
           "line": {
            "color": "#2a3f5f"
           }
          },
          "ternary": {
           "aaxis": {
            "gridcolor": "white",
            "linecolor": "white",
            "ticks": ""
           },
           "baxis": {
            "gridcolor": "white",
            "linecolor": "white",
            "ticks": ""
           },
           "bgcolor": "#E5ECF6",
           "caxis": {
            "gridcolor": "white",
            "linecolor": "white",
            "ticks": ""
           }
          },
          "title": {
           "x": 0.05
          },
          "xaxis": {
           "automargin": true,
           "gridcolor": "white",
           "linecolor": "white",
           "ticks": "",
           "title": {
            "standoff": 15
           },
           "zerolinecolor": "white",
           "zerolinewidth": 2
          },
          "yaxis": {
           "automargin": true,
           "gridcolor": "white",
           "linecolor": "white",
           "ticks": "",
           "title": {
            "standoff": 15
           },
           "zerolinecolor": "white",
           "zerolinewidth": 2
          }
         }
        },
        "width": 900,
        "xaxis": {
         "gridcolor": "#1f292f",
         "nticks": 5,
         "rangeslider": {
          "visible": false
         }
        },
        "yaxis": {
         "gridcolor": "#1f292f"
        }
       }
      }
     },
     "metadata": {},
     "output_type": "display_data"
    },
    {
     "name": "stdout",
     "output_type": "stream",
     "text": [
      "EUR_USD 132\n"
     ]
    },
    {
     "data": {
      "application/vnd.plotly.v1+json": {
       "config": {
        "plotlyServerURL": "https://plot.ly"
       },
       "data": [
        {
         "line": {
          "shape": "spline",
          "width": 2
         },
         "name": "GAIN_C",
         "type": "scatter",
         "x": [
          "s23-01-24 05:00",
          "s23-01-24 23:00",
          "s23-01-26 22:00",
          "s23-01-30 13:00",
          "s23-01-31 05:00",
          "s23-02-01 04:00",
          "s23-02-03 00:00",
          "s23-02-08 09:00",
          "s23-02-09 05:00",
          "s23-02-09 12:00",
          "s23-02-10 09:00",
          "s23-02-13 21:00",
          "s23-02-15 07:00",
          "s23-02-16 19:00",
          "s23-02-16 21:00",
          "s23-02-20 03:00",
          "s23-02-21 04:00",
          "s23-02-27 19:00",
          "s23-03-01 04:00",
          "s23-03-01 12:00",
          "s23-03-02 16:00",
          "s23-03-03 19:00",
          "s23-03-07 18:00",
          "s23-03-09 07:00",
          "s23-03-14 17:00",
          "s23-03-14 20:00",
          "s23-03-15 12:00",
          "s23-03-16 21:00",
          "s23-03-24 04:00",
          "s23-03-27 19:00",
          "s23-03-30 06:00",
          "s23-03-30 10:00",
          "s23-03-31 19:00",
          "s23-04-03 21:00",
          "s23-04-05 21:00",
          "s23-04-07 00:00",
          "s23-04-07 20:00",
          "s23-04-11 13:00",
          "s23-04-16 21:00",
          "s23-04-18 18:00",
          "s23-04-19 17:00",
          "s23-04-20 13:00",
          "s23-04-21 16:00",
          "s23-04-21 17:00",
          "s23-04-21 18:00",
          "s23-04-21 19:00",
          "s23-04-25 19:00",
          "s23-04-26 16:00",
          "s23-04-27 19:00",
          "s23-05-01 09:00",
          "s23-05-01 10:00",
          "s23-05-03 01:00",
          "s23-05-04 20:00",
          "s23-05-08 08:00",
          "s23-05-09 01:00",
          "s23-05-10 19:00",
          "s23-05-11 10:00",
          "s23-05-15 22:00",
          "s23-05-16 22:00",
          "s23-05-19 20:00",
          "s23-05-23 02:00",
          "s23-05-26 13:00",
          "s23-05-29 04:00",
          "s23-05-30 19:00",
          "s23-05-31 09:00",
          "s23-06-01 13:00",
          "s23-06-04 23:00",
          "s23-06-06 04:00",
          "s23-06-06 18:00",
          "s23-06-07 17:00",
          "s23-06-11 22:00",
          "s23-06-12 21:00",
          "s23-06-19 05:00",
          "s23-06-21 00:00",
          "s23-06-21 01:00",
          "s23-06-21 15:00",
          "s23-06-23 01:00",
          "s23-06-26 14:00",
          "s23-06-28 16:00",
          "s23-07-02 22:00",
          "s23-07-04 02:00",
          "s23-07-04 04:00",
          "s23-07-04 16:00",
          "s23-07-06 21:00",
          "s23-07-18 23:00",
          "s23-07-26 14:00",
          "s23-07-27 19:00",
          "s23-07-31 01:00",
          "s23-08-01 00:00",
          "s23-08-02 09:00",
          "s23-08-02 17:00",
          "s23-08-04 02:00",
          "s23-08-07 22:00",
          "s23-08-08 09:00",
          "s23-08-08 10:00",
          "s23-08-09 15:00",
          "s23-08-11 09:00",
          "s23-08-15 20:00",
          "s23-08-16 06:00",
          "s23-08-18 04:00",
          "s23-08-18 08:00",
          "s23-08-21 07:00",
          "s23-08-22 17:00",
          "s23-08-24 04:00",
          "s23-08-24 19:00",
          "s23-08-28 05:00",
          "s23-08-31 16:00"
         ],
         "y": [
          -11.699999999998933,
          -10.799999999997478,
          -6.1999999999962085,
          -57.59999999999543,
          -88.59999999999646,
          -56.899999999997505,
          85.40000000000214,
          65.80000000000251,
          32.000000000003126,
          -30.799999999997503,
          -48.39999999999734,
          -64.39999999999557,
          -46.599999999994424,
          -63.99999999999517,
          -72.7999999999951,
          -86.19999999999406,
          -25.399999999993213,
          -43.59999999999254,
          -140.8999999999927,
          -233.59999999999383,
          -274.299999999994,
          -352.9999999999922,
          -353.39999999999037,
          -176.7999999999903,
          -176.9999999999916,
          -353.799999999993,
          -410.699999999995,
          -189.69999999999712,
          -152.69999999999897,
          -103.40000000000018,
          -135.40000000000109,
          -168.20000000000059,
          -223.8000000000007,
          -218.7000000000028,
          -228.20000000000286,
          -243.0000000000021,
          -263.40000000000254,
          -192.20000000000238,
          -170.7000000000014,
          -185.8000000000004,
          -202.2999999999997,
          -195.7999999999993,
          -197.39999999999867,
          -201.59999999999732,
          -215.1999999999976,
          -235.49999999999957,
          -306.6000000000013,
          -323.20000000000124,
          -302.20000000000135,
          -296.6000000000024,
          -310.4000000000018,
          -320.0000000000003,
          -343,
          -391.5000000000002,
          -386.200000000001,
          -446.000000000002,
          -399.60000000000224,
          -413.3000000000032,
          -357.00000000000296,
          -353.10000000000184,
          -265.9000000000012,
          -252.6000000000007,
          -246.40000000000006,
          -300.39999999999856,
          -352.89999999999833,
          -384.5999999999995,
          -411.299999999999,
          -440.79999999999905,
          -445.5999999999994,
          -399.3999999999987,
          -412.1999999999982,
          -229.7999999999979,
          -205.599999999997,
          -207.49999999999613,
          -244.19999999999675,
          -248.1999999999963,
          -209.59999999999434,
          -206.8999999999944,
          -205.49999999999633,
          -209.19999999999615,
          -204.09999999999604,
          -210.2999999999967,
          -205.19999999999658,
          133.80000000000382,
          298.60000000000434,
          202.2000000000034,
          155.00000000000284,
          129.60000000000298,
          138.0000000000025,
          103.60000000000142,
          94.10000000000136,
          140.20000000000138,
          171.2000000000002,
          153.99999999999852,
          133.3999999999968,
          136.39999999999645,
          209.19999999999598,
          224.19999999999433,
          261.1999999999925,
          246.399999999991,
          225.39999999999108,
          189.3999999999906,
          172.0999999999905,
          108.19999999999155,
          103.99999999999068,
          132.49999999998866,
          132.49999999998866
         ]
        }
       ],
       "layout": {
        "font": {
         "color": "#e1e1e1",
         "size": 12
        },
        "height": 400,
        "margin": {
         "b": 10,
         "l": 10,
         "r": 10,
         "t": 10
        },
        "paper_bgcolor": "#2c303c",
        "plot_bgcolor": "#2c303c",
        "template": {
         "data": {
          "bar": [
           {
            "error_x": {
             "color": "#2a3f5f"
            },
            "error_y": {
             "color": "#2a3f5f"
            },
            "marker": {
             "line": {
              "color": "#E5ECF6",
              "width": 0.5
             },
             "pattern": {
              "fillmode": "overlay",
              "size": 10,
              "solidity": 0.2
             }
            },
            "type": "bar"
           }
          ],
          "barpolar": [
           {
            "marker": {
             "line": {
              "color": "#E5ECF6",
              "width": 0.5
             },
             "pattern": {
              "fillmode": "overlay",
              "size": 10,
              "solidity": 0.2
             }
            },
            "type": "barpolar"
           }
          ],
          "carpet": [
           {
            "aaxis": {
             "endlinecolor": "#2a3f5f",
             "gridcolor": "white",
             "linecolor": "white",
             "minorgridcolor": "white",
             "startlinecolor": "#2a3f5f"
            },
            "baxis": {
             "endlinecolor": "#2a3f5f",
             "gridcolor": "white",
             "linecolor": "white",
             "minorgridcolor": "white",
             "startlinecolor": "#2a3f5f"
            },
            "type": "carpet"
           }
          ],
          "choropleth": [
           {
            "colorbar": {
             "outlinewidth": 0,
             "ticks": ""
            },
            "type": "choropleth"
           }
          ],
          "contour": [
           {
            "colorbar": {
             "outlinewidth": 0,
             "ticks": ""
            },
            "colorscale": [
             [
              0,
              "#0d0887"
             ],
             [
              0.1111111111111111,
              "#46039f"
             ],
             [
              0.2222222222222222,
              "#7201a8"
             ],
             [
              0.3333333333333333,
              "#9c179e"
             ],
             [
              0.4444444444444444,
              "#bd3786"
             ],
             [
              0.5555555555555556,
              "#d8576b"
             ],
             [
              0.6666666666666666,
              "#ed7953"
             ],
             [
              0.7777777777777778,
              "#fb9f3a"
             ],
             [
              0.8888888888888888,
              "#fdca26"
             ],
             [
              1,
              "#f0f921"
             ]
            ],
            "type": "contour"
           }
          ],
          "contourcarpet": [
           {
            "colorbar": {
             "outlinewidth": 0,
             "ticks": ""
            },
            "type": "contourcarpet"
           }
          ],
          "heatmap": [
           {
            "colorbar": {
             "outlinewidth": 0,
             "ticks": ""
            },
            "colorscale": [
             [
              0,
              "#0d0887"
             ],
             [
              0.1111111111111111,
              "#46039f"
             ],
             [
              0.2222222222222222,
              "#7201a8"
             ],
             [
              0.3333333333333333,
              "#9c179e"
             ],
             [
              0.4444444444444444,
              "#bd3786"
             ],
             [
              0.5555555555555556,
              "#d8576b"
             ],
             [
              0.6666666666666666,
              "#ed7953"
             ],
             [
              0.7777777777777778,
              "#fb9f3a"
             ],
             [
              0.8888888888888888,
              "#fdca26"
             ],
             [
              1,
              "#f0f921"
             ]
            ],
            "type": "heatmap"
           }
          ],
          "heatmapgl": [
           {
            "colorbar": {
             "outlinewidth": 0,
             "ticks": ""
            },
            "colorscale": [
             [
              0,
              "#0d0887"
             ],
             [
              0.1111111111111111,
              "#46039f"
             ],
             [
              0.2222222222222222,
              "#7201a8"
             ],
             [
              0.3333333333333333,
              "#9c179e"
             ],
             [
              0.4444444444444444,
              "#bd3786"
             ],
             [
              0.5555555555555556,
              "#d8576b"
             ],
             [
              0.6666666666666666,
              "#ed7953"
             ],
             [
              0.7777777777777778,
              "#fb9f3a"
             ],
             [
              0.8888888888888888,
              "#fdca26"
             ],
             [
              1,
              "#f0f921"
             ]
            ],
            "type": "heatmapgl"
           }
          ],
          "histogram": [
           {
            "marker": {
             "pattern": {
              "fillmode": "overlay",
              "size": 10,
              "solidity": 0.2
             }
            },
            "type": "histogram"
           }
          ],
          "histogram2d": [
           {
            "colorbar": {
             "outlinewidth": 0,
             "ticks": ""
            },
            "colorscale": [
             [
              0,
              "#0d0887"
             ],
             [
              0.1111111111111111,
              "#46039f"
             ],
             [
              0.2222222222222222,
              "#7201a8"
             ],
             [
              0.3333333333333333,
              "#9c179e"
             ],
             [
              0.4444444444444444,
              "#bd3786"
             ],
             [
              0.5555555555555556,
              "#d8576b"
             ],
             [
              0.6666666666666666,
              "#ed7953"
             ],
             [
              0.7777777777777778,
              "#fb9f3a"
             ],
             [
              0.8888888888888888,
              "#fdca26"
             ],
             [
              1,
              "#f0f921"
             ]
            ],
            "type": "histogram2d"
           }
          ],
          "histogram2dcontour": [
           {
            "colorbar": {
             "outlinewidth": 0,
             "ticks": ""
            },
            "colorscale": [
             [
              0,
              "#0d0887"
             ],
             [
              0.1111111111111111,
              "#46039f"
             ],
             [
              0.2222222222222222,
              "#7201a8"
             ],
             [
              0.3333333333333333,
              "#9c179e"
             ],
             [
              0.4444444444444444,
              "#bd3786"
             ],
             [
              0.5555555555555556,
              "#d8576b"
             ],
             [
              0.6666666666666666,
              "#ed7953"
             ],
             [
              0.7777777777777778,
              "#fb9f3a"
             ],
             [
              0.8888888888888888,
              "#fdca26"
             ],
             [
              1,
              "#f0f921"
             ]
            ],
            "type": "histogram2dcontour"
           }
          ],
          "mesh3d": [
           {
            "colorbar": {
             "outlinewidth": 0,
             "ticks": ""
            },
            "type": "mesh3d"
           }
          ],
          "parcoords": [
           {
            "line": {
             "colorbar": {
              "outlinewidth": 0,
              "ticks": ""
             }
            },
            "type": "parcoords"
           }
          ],
          "pie": [
           {
            "automargin": true,
            "type": "pie"
           }
          ],
          "scatter": [
           {
            "fillpattern": {
             "fillmode": "overlay",
             "size": 10,
             "solidity": 0.2
            },
            "type": "scatter"
           }
          ],
          "scatter3d": [
           {
            "line": {
             "colorbar": {
              "outlinewidth": 0,
              "ticks": ""
             }
            },
            "marker": {
             "colorbar": {
              "outlinewidth": 0,
              "ticks": ""
             }
            },
            "type": "scatter3d"
           }
          ],
          "scattercarpet": [
           {
            "marker": {
             "colorbar": {
              "outlinewidth": 0,
              "ticks": ""
             }
            },
            "type": "scattercarpet"
           }
          ],
          "scattergeo": [
           {
            "marker": {
             "colorbar": {
              "outlinewidth": 0,
              "ticks": ""
             }
            },
            "type": "scattergeo"
           }
          ],
          "scattergl": [
           {
            "marker": {
             "colorbar": {
              "outlinewidth": 0,
              "ticks": ""
             }
            },
            "type": "scattergl"
           }
          ],
          "scattermapbox": [
           {
            "marker": {
             "colorbar": {
              "outlinewidth": 0,
              "ticks": ""
             }
            },
            "type": "scattermapbox"
           }
          ],
          "scatterpolar": [
           {
            "marker": {
             "colorbar": {
              "outlinewidth": 0,
              "ticks": ""
             }
            },
            "type": "scatterpolar"
           }
          ],
          "scatterpolargl": [
           {
            "marker": {
             "colorbar": {
              "outlinewidth": 0,
              "ticks": ""
             }
            },
            "type": "scatterpolargl"
           }
          ],
          "scatterternary": [
           {
            "marker": {
             "colorbar": {
              "outlinewidth": 0,
              "ticks": ""
             }
            },
            "type": "scatterternary"
           }
          ],
          "surface": [
           {
            "colorbar": {
             "outlinewidth": 0,
             "ticks": ""
            },
            "colorscale": [
             [
              0,
              "#0d0887"
             ],
             [
              0.1111111111111111,
              "#46039f"
             ],
             [
              0.2222222222222222,
              "#7201a8"
             ],
             [
              0.3333333333333333,
              "#9c179e"
             ],
             [
              0.4444444444444444,
              "#bd3786"
             ],
             [
              0.5555555555555556,
              "#d8576b"
             ],
             [
              0.6666666666666666,
              "#ed7953"
             ],
             [
              0.7777777777777778,
              "#fb9f3a"
             ],
             [
              0.8888888888888888,
              "#fdca26"
             ],
             [
              1,
              "#f0f921"
             ]
            ],
            "type": "surface"
           }
          ],
          "table": [
           {
            "cells": {
             "fill": {
              "color": "#EBF0F8"
             },
             "line": {
              "color": "white"
             }
            },
            "header": {
             "fill": {
              "color": "#C8D4E3"
             },
             "line": {
              "color": "white"
             }
            },
            "type": "table"
           }
          ]
         },
         "layout": {
          "annotationdefaults": {
           "arrowcolor": "#2a3f5f",
           "arrowhead": 0,
           "arrowwidth": 1
          },
          "autotypenumbers": "strict",
          "coloraxis": {
           "colorbar": {
            "outlinewidth": 0,
            "ticks": ""
           }
          },
          "colorscale": {
           "diverging": [
            [
             0,
             "#8e0152"
            ],
            [
             0.1,
             "#c51b7d"
            ],
            [
             0.2,
             "#de77ae"
            ],
            [
             0.3,
             "#f1b6da"
            ],
            [
             0.4,
             "#fde0ef"
            ],
            [
             0.5,
             "#f7f7f7"
            ],
            [
             0.6,
             "#e6f5d0"
            ],
            [
             0.7,
             "#b8e186"
            ],
            [
             0.8,
             "#7fbc41"
            ],
            [
             0.9,
             "#4d9221"
            ],
            [
             1,
             "#276419"
            ]
           ],
           "sequential": [
            [
             0,
             "#0d0887"
            ],
            [
             0.1111111111111111,
             "#46039f"
            ],
            [
             0.2222222222222222,
             "#7201a8"
            ],
            [
             0.3333333333333333,
             "#9c179e"
            ],
            [
             0.4444444444444444,
             "#bd3786"
            ],
            [
             0.5555555555555556,
             "#d8576b"
            ],
            [
             0.6666666666666666,
             "#ed7953"
            ],
            [
             0.7777777777777778,
             "#fb9f3a"
            ],
            [
             0.8888888888888888,
             "#fdca26"
            ],
            [
             1,
             "#f0f921"
            ]
           ],
           "sequentialminus": [
            [
             0,
             "#0d0887"
            ],
            [
             0.1111111111111111,
             "#46039f"
            ],
            [
             0.2222222222222222,
             "#7201a8"
            ],
            [
             0.3333333333333333,
             "#9c179e"
            ],
            [
             0.4444444444444444,
             "#bd3786"
            ],
            [
             0.5555555555555556,
             "#d8576b"
            ],
            [
             0.6666666666666666,
             "#ed7953"
            ],
            [
             0.7777777777777778,
             "#fb9f3a"
            ],
            [
             0.8888888888888888,
             "#fdca26"
            ],
            [
             1,
             "#f0f921"
            ]
           ]
          },
          "colorway": [
           "#636efa",
           "#EF553B",
           "#00cc96",
           "#ab63fa",
           "#FFA15A",
           "#19d3f3",
           "#FF6692",
           "#B6E880",
           "#FF97FF",
           "#FECB52"
          ],
          "font": {
           "color": "#2a3f5f"
          },
          "geo": {
           "bgcolor": "white",
           "lakecolor": "white",
           "landcolor": "#E5ECF6",
           "showlakes": true,
           "showland": true,
           "subunitcolor": "white"
          },
          "hoverlabel": {
           "align": "left"
          },
          "hovermode": "closest",
          "mapbox": {
           "style": "light"
          },
          "paper_bgcolor": "white",
          "plot_bgcolor": "#E5ECF6",
          "polar": {
           "angularaxis": {
            "gridcolor": "white",
            "linecolor": "white",
            "ticks": ""
           },
           "bgcolor": "#E5ECF6",
           "radialaxis": {
            "gridcolor": "white",
            "linecolor": "white",
            "ticks": ""
           }
          },
          "scene": {
           "xaxis": {
            "backgroundcolor": "#E5ECF6",
            "gridcolor": "white",
            "gridwidth": 2,
            "linecolor": "white",
            "showbackground": true,
            "ticks": "",
            "zerolinecolor": "white"
           },
           "yaxis": {
            "backgroundcolor": "#E5ECF6",
            "gridcolor": "white",
            "gridwidth": 2,
            "linecolor": "white",
            "showbackground": true,
            "ticks": "",
            "zerolinecolor": "white"
           },
           "zaxis": {
            "backgroundcolor": "#E5ECF6",
            "gridcolor": "white",
            "gridwidth": 2,
            "linecolor": "white",
            "showbackground": true,
            "ticks": "",
            "zerolinecolor": "white"
           }
          },
          "shapedefaults": {
           "line": {
            "color": "#2a3f5f"
           }
          },
          "ternary": {
           "aaxis": {
            "gridcolor": "white",
            "linecolor": "white",
            "ticks": ""
           },
           "baxis": {
            "gridcolor": "white",
            "linecolor": "white",
            "ticks": ""
           },
           "bgcolor": "#E5ECF6",
           "caxis": {
            "gridcolor": "white",
            "linecolor": "white",
            "ticks": ""
           }
          },
          "title": {
           "x": 0.05
          },
          "xaxis": {
           "automargin": true,
           "gridcolor": "white",
           "linecolor": "white",
           "ticks": "",
           "title": {
            "standoff": 15
           },
           "zerolinecolor": "white",
           "zerolinewidth": 2
          },
          "yaxis": {
           "automargin": true,
           "gridcolor": "white",
           "linecolor": "white",
           "ticks": "",
           "title": {
            "standoff": 15
           },
           "zerolinecolor": "white",
           "zerolinewidth": 2
          }
         }
        },
        "width": 900,
        "xaxis": {
         "gridcolor": "#1f292f",
         "nticks": 5,
         "rangeslider": {
          "visible": false
         }
        },
        "yaxis": {
         "gridcolor": "#1f292f"
        }
       }
      }
     },
     "metadata": {},
     "output_type": "display_data"
    },
    {
     "name": "stdout",
     "output_type": "stream",
     "text": [
      "EUR_JPY 62\n"
     ]
    },
    {
     "data": {
      "application/vnd.plotly.v1+json": {
       "config": {
        "plotlyServerURL": "https://plot.ly"
       },
       "data": [
        {
         "line": {
          "shape": "spline",
          "width": 2
         },
         "name": "GAIN_C",
         "type": "scatter",
         "x": [
          "s23-01-24 17:00",
          "s23-01-25 06:00",
          "s23-01-25 20:00",
          "s23-01-26 20:00",
          "s23-01-27 14:00",
          "s23-01-30 13:00",
          "s23-01-31 11:00",
          "s23-02-01 08:00",
          "s23-02-02 17:00",
          "s23-02-03 21:00",
          "s23-02-07 09:00",
          "s23-02-09 01:00",
          "s23-02-10 12:00",
          "s23-02-13 11:00",
          "s23-02-16 23:00",
          "s23-02-17 14:00",
          "s23-02-20 16:00",
          "s23-02-21 09:00",
          "s23-02-22 15:00",
          "s23-02-24 16:00",
          "s23-03-01 06:00",
          "s23-03-01 17:00",
          "s23-03-03 00:00",
          "s23-03-06 17:00",
          "s23-03-07 21:00",
          "s23-03-10 10:00",
          "s23-03-13 00:00",
          "s23-03-14 13:00",
          "s23-03-15 14:00",
          "s23-03-16 23:00",
          "s23-03-17 20:00",
          "s23-03-21 04:00",
          "s23-03-23 09:00",
          "s23-03-27 10:00",
          "s23-03-28 19:00",
          "s23-03-28 23:00",
          "s23-04-02 23:00",
          "s23-04-03 23:00",
          "s23-04-05 03:00",
          "s23-04-06 20:00",
          "s23-04-18 01:00",
          "s23-04-18 13:00",
          "s23-04-20 19:00",
          "s23-04-24 02:00",
          "s23-04-25 16:00",
          "s23-04-26 20:00",
          "s23-05-02 18:00",
          "s23-05-05 20:00",
          "s23-05-09 04:00",
          "s23-05-12 16:00",
          "s23-05-19 19:00",
          "s23-05-22 14:00",
          "s23-05-23 19:00",
          "s23-05-24 19:00",
          "s23-05-29 20:00",
          "s23-06-01 17:00",
          "s23-06-05 22:00",
          "s23-06-07 19:00",
          "s23-06-12 04:00",
          "s23-06-12 19:00",
          "s23-06-20 02:00",
          "s23-06-21 14:00",
          "s23-06-23 17:00",
          "s23-06-26 07:00",
          "s23-06-29 00:00",
          "s23-07-03 02:00",
          "s23-07-04 13:00",
          "s23-07-07 03:00",
          "s23-07-07 09:00",
          "s23-07-13 07:00",
          "s23-07-18 16:00",
          "s23-07-19 04:00",
          "s23-07-20 09:00",
          "s23-07-21 11:00",
          "s23-07-24 15:00",
          "s23-07-30 23:00",
          "s23-08-02 16:00",
          "s23-08-04 19:00",
          "s23-08-07 11:00",
          "s23-08-07 16:00",
          "s23-08-09 04:00",
          "s23-08-09 08:00",
          "s23-08-13 22:00",
          "s23-08-15 02:00",
          "s23-08-16 06:00",
          "s23-08-16 20:00",
          "s23-08-17 19:00",
          "s23-08-21 11:00",
          "s23-08-22 18:00",
          "s23-08-24 14:00",
          "s23-08-25 11:00",
          "s23-08-27 21:00",
          "s23-08-31 14:00"
         ],
         "y": [
          -70.79999999999984,
          -147.20000000000084,
          -189.00000000000148,
          -262.80000000000143,
          -316.6000000000025,
          -349.5000000000033,
          -363.3000000000038,
          -494.6000000000055,
          -640.8000000000072,
          -685.600000000008,
          -674.2000000000075,
          -793.0000000000064,
          -970.8000000000055,
          -836.4000000000061,
          -858.9000000000084,
          -848.2000000000085,
          -867.4000000000063,
          -913.0000000000052,
          -985.6000000000051,
          -904.6000000000049,
          -943.0000000000035,
          -945.2000000000027,
          -972.8000000000037,
          -1027.2000000000048,
          -1061.000000000004,
          -1210.4000000000042,
          -1283.400000000006,
          -1686.200000000008,
          -1817.4000000000092,
          -1909.4000000000108,
          -1906.8000000000125,
          -1693.800000000013,
          -1576.4000000000124,
          -1544.0000000000111,
          -1560.000000000011,
          -1358.8000000000109,
          -1385.2000000000119,
          -1394.000000000014,
          -1357.0000000000164,
          -1036.6000000000186,
          -1030.40000000002,
          -1009.2000000000212,
          -1050.60000000002,
          -1134.6000000000174,
          -1213.8000000000175,
          -930.200000000019,
          -745.0000000000186,
          -766.2000000000176,
          -651.800000000017,
          -464.20000000001653,
          -521.8000000000159,
          -566.2000000000147,
          -621.0000000000149,
          -558.8000000000163,
          -462.40000000001646,
          -464.4000000000175,
          -520.5000000000182,
          -537.5000000000169,
          -575.8000000000151,
          -117.2000000000138,
          -202.80000000001326,
          -106.70000000001198,
          -59.000000000011596,
          63.8999999999869,
          17.599999999984675,
          -32.400000000015325,
          28.399999999985084,
          -69.3000000000153,
          65.59999999998365,
          229.19999999998322,
          189.29999999998313,
          193.19999999998186,
          74.29999999998256,
          -41.50000000001614,
          88.79999999998358,
          248.99999999998397,
          315.29999999998506,
          322.1999999999839,
          261.79999999998256,
          291.1999999999837,
          257.9999999999843,
          375.79999999998404,
          355.5999999999842,
          347.9999999999849,
          297.39999999998486,
          218.4999999999833,
          151.59999999998217,
          70.7999999999829,
          117.89999999998327,
          107.99999999998147,
          68.6999999999814,
          62.39999999998258,
          62.39999999998258
         ]
        }
       ],
       "layout": {
        "font": {
         "color": "#e1e1e1",
         "size": 12
        },
        "height": 400,
        "margin": {
         "b": 10,
         "l": 10,
         "r": 10,
         "t": 10
        },
        "paper_bgcolor": "#2c303c",
        "plot_bgcolor": "#2c303c",
        "template": {
         "data": {
          "bar": [
           {
            "error_x": {
             "color": "#2a3f5f"
            },
            "error_y": {
             "color": "#2a3f5f"
            },
            "marker": {
             "line": {
              "color": "#E5ECF6",
              "width": 0.5
             },
             "pattern": {
              "fillmode": "overlay",
              "size": 10,
              "solidity": 0.2
             }
            },
            "type": "bar"
           }
          ],
          "barpolar": [
           {
            "marker": {
             "line": {
              "color": "#E5ECF6",
              "width": 0.5
             },
             "pattern": {
              "fillmode": "overlay",
              "size": 10,
              "solidity": 0.2
             }
            },
            "type": "barpolar"
           }
          ],
          "carpet": [
           {
            "aaxis": {
             "endlinecolor": "#2a3f5f",
             "gridcolor": "white",
             "linecolor": "white",
             "minorgridcolor": "white",
             "startlinecolor": "#2a3f5f"
            },
            "baxis": {
             "endlinecolor": "#2a3f5f",
             "gridcolor": "white",
             "linecolor": "white",
             "minorgridcolor": "white",
             "startlinecolor": "#2a3f5f"
            },
            "type": "carpet"
           }
          ],
          "choropleth": [
           {
            "colorbar": {
             "outlinewidth": 0,
             "ticks": ""
            },
            "type": "choropleth"
           }
          ],
          "contour": [
           {
            "colorbar": {
             "outlinewidth": 0,
             "ticks": ""
            },
            "colorscale": [
             [
              0,
              "#0d0887"
             ],
             [
              0.1111111111111111,
              "#46039f"
             ],
             [
              0.2222222222222222,
              "#7201a8"
             ],
             [
              0.3333333333333333,
              "#9c179e"
             ],
             [
              0.4444444444444444,
              "#bd3786"
             ],
             [
              0.5555555555555556,
              "#d8576b"
             ],
             [
              0.6666666666666666,
              "#ed7953"
             ],
             [
              0.7777777777777778,
              "#fb9f3a"
             ],
             [
              0.8888888888888888,
              "#fdca26"
             ],
             [
              1,
              "#f0f921"
             ]
            ],
            "type": "contour"
           }
          ],
          "contourcarpet": [
           {
            "colorbar": {
             "outlinewidth": 0,
             "ticks": ""
            },
            "type": "contourcarpet"
           }
          ],
          "heatmap": [
           {
            "colorbar": {
             "outlinewidth": 0,
             "ticks": ""
            },
            "colorscale": [
             [
              0,
              "#0d0887"
             ],
             [
              0.1111111111111111,
              "#46039f"
             ],
             [
              0.2222222222222222,
              "#7201a8"
             ],
             [
              0.3333333333333333,
              "#9c179e"
             ],
             [
              0.4444444444444444,
              "#bd3786"
             ],
             [
              0.5555555555555556,
              "#d8576b"
             ],
             [
              0.6666666666666666,
              "#ed7953"
             ],
             [
              0.7777777777777778,
              "#fb9f3a"
             ],
             [
              0.8888888888888888,
              "#fdca26"
             ],
             [
              1,
              "#f0f921"
             ]
            ],
            "type": "heatmap"
           }
          ],
          "heatmapgl": [
           {
            "colorbar": {
             "outlinewidth": 0,
             "ticks": ""
            },
            "colorscale": [
             [
              0,
              "#0d0887"
             ],
             [
              0.1111111111111111,
              "#46039f"
             ],
             [
              0.2222222222222222,
              "#7201a8"
             ],
             [
              0.3333333333333333,
              "#9c179e"
             ],
             [
              0.4444444444444444,
              "#bd3786"
             ],
             [
              0.5555555555555556,
              "#d8576b"
             ],
             [
              0.6666666666666666,
              "#ed7953"
             ],
             [
              0.7777777777777778,
              "#fb9f3a"
             ],
             [
              0.8888888888888888,
              "#fdca26"
             ],
             [
              1,
              "#f0f921"
             ]
            ],
            "type": "heatmapgl"
           }
          ],
          "histogram": [
           {
            "marker": {
             "pattern": {
              "fillmode": "overlay",
              "size": 10,
              "solidity": 0.2
             }
            },
            "type": "histogram"
           }
          ],
          "histogram2d": [
           {
            "colorbar": {
             "outlinewidth": 0,
             "ticks": ""
            },
            "colorscale": [
             [
              0,
              "#0d0887"
             ],
             [
              0.1111111111111111,
              "#46039f"
             ],
             [
              0.2222222222222222,
              "#7201a8"
             ],
             [
              0.3333333333333333,
              "#9c179e"
             ],
             [
              0.4444444444444444,
              "#bd3786"
             ],
             [
              0.5555555555555556,
              "#d8576b"
             ],
             [
              0.6666666666666666,
              "#ed7953"
             ],
             [
              0.7777777777777778,
              "#fb9f3a"
             ],
             [
              0.8888888888888888,
              "#fdca26"
             ],
             [
              1,
              "#f0f921"
             ]
            ],
            "type": "histogram2d"
           }
          ],
          "histogram2dcontour": [
           {
            "colorbar": {
             "outlinewidth": 0,
             "ticks": ""
            },
            "colorscale": [
             [
              0,
              "#0d0887"
             ],
             [
              0.1111111111111111,
              "#46039f"
             ],
             [
              0.2222222222222222,
              "#7201a8"
             ],
             [
              0.3333333333333333,
              "#9c179e"
             ],
             [
              0.4444444444444444,
              "#bd3786"
             ],
             [
              0.5555555555555556,
              "#d8576b"
             ],
             [
              0.6666666666666666,
              "#ed7953"
             ],
             [
              0.7777777777777778,
              "#fb9f3a"
             ],
             [
              0.8888888888888888,
              "#fdca26"
             ],
             [
              1,
              "#f0f921"
             ]
            ],
            "type": "histogram2dcontour"
           }
          ],
          "mesh3d": [
           {
            "colorbar": {
             "outlinewidth": 0,
             "ticks": ""
            },
            "type": "mesh3d"
           }
          ],
          "parcoords": [
           {
            "line": {
             "colorbar": {
              "outlinewidth": 0,
              "ticks": ""
             }
            },
            "type": "parcoords"
           }
          ],
          "pie": [
           {
            "automargin": true,
            "type": "pie"
           }
          ],
          "scatter": [
           {
            "fillpattern": {
             "fillmode": "overlay",
             "size": 10,
             "solidity": 0.2
            },
            "type": "scatter"
           }
          ],
          "scatter3d": [
           {
            "line": {
             "colorbar": {
              "outlinewidth": 0,
              "ticks": ""
             }
            },
            "marker": {
             "colorbar": {
              "outlinewidth": 0,
              "ticks": ""
             }
            },
            "type": "scatter3d"
           }
          ],
          "scattercarpet": [
           {
            "marker": {
             "colorbar": {
              "outlinewidth": 0,
              "ticks": ""
             }
            },
            "type": "scattercarpet"
           }
          ],
          "scattergeo": [
           {
            "marker": {
             "colorbar": {
              "outlinewidth": 0,
              "ticks": ""
             }
            },
            "type": "scattergeo"
           }
          ],
          "scattergl": [
           {
            "marker": {
             "colorbar": {
              "outlinewidth": 0,
              "ticks": ""
             }
            },
            "type": "scattergl"
           }
          ],
          "scattermapbox": [
           {
            "marker": {
             "colorbar": {
              "outlinewidth": 0,
              "ticks": ""
             }
            },
            "type": "scattermapbox"
           }
          ],
          "scatterpolar": [
           {
            "marker": {
             "colorbar": {
              "outlinewidth": 0,
              "ticks": ""
             }
            },
            "type": "scatterpolar"
           }
          ],
          "scatterpolargl": [
           {
            "marker": {
             "colorbar": {
              "outlinewidth": 0,
              "ticks": ""
             }
            },
            "type": "scatterpolargl"
           }
          ],
          "scatterternary": [
           {
            "marker": {
             "colorbar": {
              "outlinewidth": 0,
              "ticks": ""
             }
            },
            "type": "scatterternary"
           }
          ],
          "surface": [
           {
            "colorbar": {
             "outlinewidth": 0,
             "ticks": ""
            },
            "colorscale": [
             [
              0,
              "#0d0887"
             ],
             [
              0.1111111111111111,
              "#46039f"
             ],
             [
              0.2222222222222222,
              "#7201a8"
             ],
             [
              0.3333333333333333,
              "#9c179e"
             ],
             [
              0.4444444444444444,
              "#bd3786"
             ],
             [
              0.5555555555555556,
              "#d8576b"
             ],
             [
              0.6666666666666666,
              "#ed7953"
             ],
             [
              0.7777777777777778,
              "#fb9f3a"
             ],
             [
              0.8888888888888888,
              "#fdca26"
             ],
             [
              1,
              "#f0f921"
             ]
            ],
            "type": "surface"
           }
          ],
          "table": [
           {
            "cells": {
             "fill": {
              "color": "#EBF0F8"
             },
             "line": {
              "color": "white"
             }
            },
            "header": {
             "fill": {
              "color": "#C8D4E3"
             },
             "line": {
              "color": "white"
             }
            },
            "type": "table"
           }
          ]
         },
         "layout": {
          "annotationdefaults": {
           "arrowcolor": "#2a3f5f",
           "arrowhead": 0,
           "arrowwidth": 1
          },
          "autotypenumbers": "strict",
          "coloraxis": {
           "colorbar": {
            "outlinewidth": 0,
            "ticks": ""
           }
          },
          "colorscale": {
           "diverging": [
            [
             0,
             "#8e0152"
            ],
            [
             0.1,
             "#c51b7d"
            ],
            [
             0.2,
             "#de77ae"
            ],
            [
             0.3,
             "#f1b6da"
            ],
            [
             0.4,
             "#fde0ef"
            ],
            [
             0.5,
             "#f7f7f7"
            ],
            [
             0.6,
             "#e6f5d0"
            ],
            [
             0.7,
             "#b8e186"
            ],
            [
             0.8,
             "#7fbc41"
            ],
            [
             0.9,
             "#4d9221"
            ],
            [
             1,
             "#276419"
            ]
           ],
           "sequential": [
            [
             0,
             "#0d0887"
            ],
            [
             0.1111111111111111,
             "#46039f"
            ],
            [
             0.2222222222222222,
             "#7201a8"
            ],
            [
             0.3333333333333333,
             "#9c179e"
            ],
            [
             0.4444444444444444,
             "#bd3786"
            ],
            [
             0.5555555555555556,
             "#d8576b"
            ],
            [
             0.6666666666666666,
             "#ed7953"
            ],
            [
             0.7777777777777778,
             "#fb9f3a"
            ],
            [
             0.8888888888888888,
             "#fdca26"
            ],
            [
             1,
             "#f0f921"
            ]
           ],
           "sequentialminus": [
            [
             0,
             "#0d0887"
            ],
            [
             0.1111111111111111,
             "#46039f"
            ],
            [
             0.2222222222222222,
             "#7201a8"
            ],
            [
             0.3333333333333333,
             "#9c179e"
            ],
            [
             0.4444444444444444,
             "#bd3786"
            ],
            [
             0.5555555555555556,
             "#d8576b"
            ],
            [
             0.6666666666666666,
             "#ed7953"
            ],
            [
             0.7777777777777778,
             "#fb9f3a"
            ],
            [
             0.8888888888888888,
             "#fdca26"
            ],
            [
             1,
             "#f0f921"
            ]
           ]
          },
          "colorway": [
           "#636efa",
           "#EF553B",
           "#00cc96",
           "#ab63fa",
           "#FFA15A",
           "#19d3f3",
           "#FF6692",
           "#B6E880",
           "#FF97FF",
           "#FECB52"
          ],
          "font": {
           "color": "#2a3f5f"
          },
          "geo": {
           "bgcolor": "white",
           "lakecolor": "white",
           "landcolor": "#E5ECF6",
           "showlakes": true,
           "showland": true,
           "subunitcolor": "white"
          },
          "hoverlabel": {
           "align": "left"
          },
          "hovermode": "closest",
          "mapbox": {
           "style": "light"
          },
          "paper_bgcolor": "white",
          "plot_bgcolor": "#E5ECF6",
          "polar": {
           "angularaxis": {
            "gridcolor": "white",
            "linecolor": "white",
            "ticks": ""
           },
           "bgcolor": "#E5ECF6",
           "radialaxis": {
            "gridcolor": "white",
            "linecolor": "white",
            "ticks": ""
           }
          },
          "scene": {
           "xaxis": {
            "backgroundcolor": "#E5ECF6",
            "gridcolor": "white",
            "gridwidth": 2,
            "linecolor": "white",
            "showbackground": true,
            "ticks": "",
            "zerolinecolor": "white"
           },
           "yaxis": {
            "backgroundcolor": "#E5ECF6",
            "gridcolor": "white",
            "gridwidth": 2,
            "linecolor": "white",
            "showbackground": true,
            "ticks": "",
            "zerolinecolor": "white"
           },
           "zaxis": {
            "backgroundcolor": "#E5ECF6",
            "gridcolor": "white",
            "gridwidth": 2,
            "linecolor": "white",
            "showbackground": true,
            "ticks": "",
            "zerolinecolor": "white"
           }
          },
          "shapedefaults": {
           "line": {
            "color": "#2a3f5f"
           }
          },
          "ternary": {
           "aaxis": {
            "gridcolor": "white",
            "linecolor": "white",
            "ticks": ""
           },
           "baxis": {
            "gridcolor": "white",
            "linecolor": "white",
            "ticks": ""
           },
           "bgcolor": "#E5ECF6",
           "caxis": {
            "gridcolor": "white",
            "linecolor": "white",
            "ticks": ""
           }
          },
          "title": {
           "x": 0.05
          },
          "xaxis": {
           "automargin": true,
           "gridcolor": "white",
           "linecolor": "white",
           "ticks": "",
           "title": {
            "standoff": 15
           },
           "zerolinecolor": "white",
           "zerolinewidth": 2
          },
          "yaxis": {
           "automargin": true,
           "gridcolor": "white",
           "linecolor": "white",
           "ticks": "",
           "title": {
            "standoff": 15
           },
           "zerolinecolor": "white",
           "zerolinewidth": 2
          }
         }
        },
        "width": 900,
        "xaxis": {
         "gridcolor": "#1f292f",
         "nticks": 5,
         "rangeslider": {
          "visible": false
         }
        },
        "yaxis": {
         "gridcolor": "#1f292f"
        }
       }
      }
     },
     "metadata": {},
     "output_type": "display_data"
    },
    {
     "name": "stdout",
     "output_type": "stream",
     "text": [
      "AUD_USD 14\n"
     ]
    },
    {
     "data": {
      "application/vnd.plotly.v1+json": {
       "config": {
        "plotlyServerURL": "https://plot.ly"
       },
       "data": [
        {
         "line": {
          "shape": "spline",
          "width": 2
         },
         "name": "GAIN_C",
         "type": "scatter",
         "x": [
          "s23-01-27 09:00",
          "s23-01-27 12:00",
          "s23-01-27 16:00",
          "s23-02-01 07:00",
          "s23-02-03 00:00",
          "s23-02-07 12:00",
          "s23-02-09 03:00",
          "s23-02-09 16:00",
          "s23-02-10 07:00",
          "s23-02-13 17:00",
          "s23-02-15 07:00",
          "s23-02-16 18:00",
          "s23-02-17 00:00",
          "s23-02-20 05:00",
          "s23-02-21 13:00",
          "s23-02-28 02:00",
          "s23-03-01 00:00",
          "s23-03-01 03:00",
          "s23-03-02 10:00",
          "s23-03-03 11:00",
          "s23-03-06 14:00",
          "s23-03-09 05:00",
          "s23-03-10 06:00",
          "s23-03-13 00:00",
          "s23-03-14 16:00",
          "s23-03-14 19:00",
          "s23-03-15 16:00",
          "s23-03-16 18:00",
          "s23-03-20 18:00",
          "s23-03-20 21:00",
          "s23-03-21 12:00",
          "s23-03-22 14:00",
          "s23-03-24 02:00",
          "s23-03-27 23:00",
          "s23-03-29 16:00",
          "s23-03-30 12:00",
          "s23-03-31 18:00",
          "s23-04-03 15:00",
          "s23-04-04 20:00",
          "s23-04-11 12:00",
          "s23-04-14 19:00",
          "s23-04-18 07:00",
          "s23-04-19 12:00",
          "s23-04-20 15:00",
          "s23-04-21 12:00",
          "s23-04-25 02:00",
          "s23-04-25 10:00",
          "s23-04-27 14:00",
          "s23-04-28 13:00",
          "s23-05-01 07:00",
          "s23-05-03 12:00",
          "s23-05-04 03:00",
          "s23-05-09 12:00",
          "s23-05-10 16:00",
          "s23-05-11 11:00",
          "s23-05-15 16:00",
          "s23-05-16 16:00",
          "s23-05-18 04:00",
          "s23-05-18 08:00",
          "s23-05-18 10:00",
          "s23-05-18 11:00",
          "s23-05-19 13:00",
          "s23-05-22 14:00",
          "s23-05-23 08:00",
          "s23-05-23 09:00",
          "s23-05-26 19:00",
          "s23-05-30 12:00",
          "s23-06-01 08:00",
          "s23-06-05 10:00",
          "s23-06-06 02:00",
          "s23-06-08 02:00",
          "s23-06-08 16:00",
          "s23-06-19 03:00",
          "s23-06-22 02:00",
          "s23-06-22 17:00",
          "s23-06-27 02:00",
          "s23-06-28 02:00",
          "s23-06-29 20:00",
          "s23-07-05 13:00",
          "s23-07-07 18:00",
          "s23-07-10 18:00",
          "s23-07-11 07:00",
          "s23-07-14 20:00",
          "s23-07-20 08:00",
          "s23-07-21 04:00",
          "s23-07-24 21:00",
          "s23-07-26 14:00",
          "s23-07-27 07:00",
          "s23-07-27 23:00",
          "s23-07-31 11:00",
          "s23-08-01 11:00",
          "s23-08-04 02:00",
          "s23-08-07 14:00",
          "s23-08-09 09:00",
          "s23-08-10 03:00",
          "s23-08-10 12:00",
          "s23-08-11 05:00",
          "s23-08-15 03:00",
          "s23-08-15 18:00",
          "s23-08-18 04:00",
          "s23-08-18 08:00",
          "s23-08-21 07:00",
          "s23-08-21 15:00",
          "s23-08-21 16:00",
          "s23-08-24 19:00",
          "s23-08-28 11:00",
          "s23-08-31 20:00"
         ],
         "y": [
          1.80000000000069,
          -0.1999999999990898,
          26.000000000000465,
          21.600000000000506,
          167.20000000000067,
          199.50000000000023,
          193.40000000000023,
          172.20000000000013,
          147.39999999999975,
          84.40000000000003,
          88.5999999999998,
          53.39999999999901,
          12.799999999998377,
          -27.20000000000166,
          93.99999999999852,
          50.19999999999802,
          1.9999999999975557,
          -24.8000000000026,
          -60.60000000000288,
          -80.30000000000315,
          49.3999999999961,
          27.699999999996045,
          2.999999999996323,
          60.399999999996,
          43.79999999999605,
          -46.200000000004025,
          -100.40000000000383,
          -33.800000000003834,
          -35.200000000004124,
          -68.70000000000377,
          -69.60000000000412,
          -85.90000000000433,
          -77.00000000000375,
          -57.400000000003025,
          -76.00000000000276,
          -91.20000000000353,
          -191.4000000000038,
          -222.60000000000394,
          -128.10000000000437,
          -77.80000000000459,
          -100.80000000000427,
          -112.50000000000432,
          -146.80000000000476,
          -197.000000000005,
          -176.4000000000055,
          -197.4000000000054,
          -151.00000000000563,
          -179.3000000000056,
          -231.7000000000047,
          -214.8000000000039,
          -246.30000000000376,
          -181.20000000000363,
          -193.50000000000315,
          -224.70000000000329,
          -199.20000000000388,
          -250.00000000000472,
          -244.00000000000537,
          -262.30000000000535,
          -274.3000000000051,
          -279.80000000000564,
          -300.20000000000607,
          -317.2000000000064,
          -304.20000000000675,
          -314.5000000000065,
          -214.00000000000645,
          -197.6000000000067,
          -167.0000000000072,
          -82.80000000000736,
          -112.20000000000678,
          -61.40000000000594,
          -106.90000000000536,
          16.199999999995057,
          63.09999999999589,
          26.399999999996375,
          66.7999999999968,
          -6.400000000003132,
          16.999999999996955,
          68.79999999999768,
          43.499999999998465,
          26.699999999999427,
          30.999999999999844,
          195.99999999999943,
          202.79999999999956,
          150.20000000000024,
          188.79999999999998,
          200.50000000000003,
          138.00000000000026,
          35.800000000000196,
          39.10000000000072,
          -40.99999999999889,
          21.40000000000134,
          24.100000000001266,
          46.20000000000061,
          38.20000000000038,
          -8.399999999999594,
          -74.09999999999924,
          -61.3999999999982,
          -105.79999999999819,
          -41.999999999998785,
          -42.39999999999918,
          -44.69999999999982,
          -53.19999999999999,
          -67.19999999999956,
          -57.59999999999884,
          -55.79999999999815,
          14.200000000001907,
          14.200000000001907
         ]
        }
       ],
       "layout": {
        "font": {
         "color": "#e1e1e1",
         "size": 12
        },
        "height": 400,
        "margin": {
         "b": 10,
         "l": 10,
         "r": 10,
         "t": 10
        },
        "paper_bgcolor": "#2c303c",
        "plot_bgcolor": "#2c303c",
        "template": {
         "data": {
          "bar": [
           {
            "error_x": {
             "color": "#2a3f5f"
            },
            "error_y": {
             "color": "#2a3f5f"
            },
            "marker": {
             "line": {
              "color": "#E5ECF6",
              "width": 0.5
             },
             "pattern": {
              "fillmode": "overlay",
              "size": 10,
              "solidity": 0.2
             }
            },
            "type": "bar"
           }
          ],
          "barpolar": [
           {
            "marker": {
             "line": {
              "color": "#E5ECF6",
              "width": 0.5
             },
             "pattern": {
              "fillmode": "overlay",
              "size": 10,
              "solidity": 0.2
             }
            },
            "type": "barpolar"
           }
          ],
          "carpet": [
           {
            "aaxis": {
             "endlinecolor": "#2a3f5f",
             "gridcolor": "white",
             "linecolor": "white",
             "minorgridcolor": "white",
             "startlinecolor": "#2a3f5f"
            },
            "baxis": {
             "endlinecolor": "#2a3f5f",
             "gridcolor": "white",
             "linecolor": "white",
             "minorgridcolor": "white",
             "startlinecolor": "#2a3f5f"
            },
            "type": "carpet"
           }
          ],
          "choropleth": [
           {
            "colorbar": {
             "outlinewidth": 0,
             "ticks": ""
            },
            "type": "choropleth"
           }
          ],
          "contour": [
           {
            "colorbar": {
             "outlinewidth": 0,
             "ticks": ""
            },
            "colorscale": [
             [
              0,
              "#0d0887"
             ],
             [
              0.1111111111111111,
              "#46039f"
             ],
             [
              0.2222222222222222,
              "#7201a8"
             ],
             [
              0.3333333333333333,
              "#9c179e"
             ],
             [
              0.4444444444444444,
              "#bd3786"
             ],
             [
              0.5555555555555556,
              "#d8576b"
             ],
             [
              0.6666666666666666,
              "#ed7953"
             ],
             [
              0.7777777777777778,
              "#fb9f3a"
             ],
             [
              0.8888888888888888,
              "#fdca26"
             ],
             [
              1,
              "#f0f921"
             ]
            ],
            "type": "contour"
           }
          ],
          "contourcarpet": [
           {
            "colorbar": {
             "outlinewidth": 0,
             "ticks": ""
            },
            "type": "contourcarpet"
           }
          ],
          "heatmap": [
           {
            "colorbar": {
             "outlinewidth": 0,
             "ticks": ""
            },
            "colorscale": [
             [
              0,
              "#0d0887"
             ],
             [
              0.1111111111111111,
              "#46039f"
             ],
             [
              0.2222222222222222,
              "#7201a8"
             ],
             [
              0.3333333333333333,
              "#9c179e"
             ],
             [
              0.4444444444444444,
              "#bd3786"
             ],
             [
              0.5555555555555556,
              "#d8576b"
             ],
             [
              0.6666666666666666,
              "#ed7953"
             ],
             [
              0.7777777777777778,
              "#fb9f3a"
             ],
             [
              0.8888888888888888,
              "#fdca26"
             ],
             [
              1,
              "#f0f921"
             ]
            ],
            "type": "heatmap"
           }
          ],
          "heatmapgl": [
           {
            "colorbar": {
             "outlinewidth": 0,
             "ticks": ""
            },
            "colorscale": [
             [
              0,
              "#0d0887"
             ],
             [
              0.1111111111111111,
              "#46039f"
             ],
             [
              0.2222222222222222,
              "#7201a8"
             ],
             [
              0.3333333333333333,
              "#9c179e"
             ],
             [
              0.4444444444444444,
              "#bd3786"
             ],
             [
              0.5555555555555556,
              "#d8576b"
             ],
             [
              0.6666666666666666,
              "#ed7953"
             ],
             [
              0.7777777777777778,
              "#fb9f3a"
             ],
             [
              0.8888888888888888,
              "#fdca26"
             ],
             [
              1,
              "#f0f921"
             ]
            ],
            "type": "heatmapgl"
           }
          ],
          "histogram": [
           {
            "marker": {
             "pattern": {
              "fillmode": "overlay",
              "size": 10,
              "solidity": 0.2
             }
            },
            "type": "histogram"
           }
          ],
          "histogram2d": [
           {
            "colorbar": {
             "outlinewidth": 0,
             "ticks": ""
            },
            "colorscale": [
             [
              0,
              "#0d0887"
             ],
             [
              0.1111111111111111,
              "#46039f"
             ],
             [
              0.2222222222222222,
              "#7201a8"
             ],
             [
              0.3333333333333333,
              "#9c179e"
             ],
             [
              0.4444444444444444,
              "#bd3786"
             ],
             [
              0.5555555555555556,
              "#d8576b"
             ],
             [
              0.6666666666666666,
              "#ed7953"
             ],
             [
              0.7777777777777778,
              "#fb9f3a"
             ],
             [
              0.8888888888888888,
              "#fdca26"
             ],
             [
              1,
              "#f0f921"
             ]
            ],
            "type": "histogram2d"
           }
          ],
          "histogram2dcontour": [
           {
            "colorbar": {
             "outlinewidth": 0,
             "ticks": ""
            },
            "colorscale": [
             [
              0,
              "#0d0887"
             ],
             [
              0.1111111111111111,
              "#46039f"
             ],
             [
              0.2222222222222222,
              "#7201a8"
             ],
             [
              0.3333333333333333,
              "#9c179e"
             ],
             [
              0.4444444444444444,
              "#bd3786"
             ],
             [
              0.5555555555555556,
              "#d8576b"
             ],
             [
              0.6666666666666666,
              "#ed7953"
             ],
             [
              0.7777777777777778,
              "#fb9f3a"
             ],
             [
              0.8888888888888888,
              "#fdca26"
             ],
             [
              1,
              "#f0f921"
             ]
            ],
            "type": "histogram2dcontour"
           }
          ],
          "mesh3d": [
           {
            "colorbar": {
             "outlinewidth": 0,
             "ticks": ""
            },
            "type": "mesh3d"
           }
          ],
          "parcoords": [
           {
            "line": {
             "colorbar": {
              "outlinewidth": 0,
              "ticks": ""
             }
            },
            "type": "parcoords"
           }
          ],
          "pie": [
           {
            "automargin": true,
            "type": "pie"
           }
          ],
          "scatter": [
           {
            "fillpattern": {
             "fillmode": "overlay",
             "size": 10,
             "solidity": 0.2
            },
            "type": "scatter"
           }
          ],
          "scatter3d": [
           {
            "line": {
             "colorbar": {
              "outlinewidth": 0,
              "ticks": ""
             }
            },
            "marker": {
             "colorbar": {
              "outlinewidth": 0,
              "ticks": ""
             }
            },
            "type": "scatter3d"
           }
          ],
          "scattercarpet": [
           {
            "marker": {
             "colorbar": {
              "outlinewidth": 0,
              "ticks": ""
             }
            },
            "type": "scattercarpet"
           }
          ],
          "scattergeo": [
           {
            "marker": {
             "colorbar": {
              "outlinewidth": 0,
              "ticks": ""
             }
            },
            "type": "scattergeo"
           }
          ],
          "scattergl": [
           {
            "marker": {
             "colorbar": {
              "outlinewidth": 0,
              "ticks": ""
             }
            },
            "type": "scattergl"
           }
          ],
          "scattermapbox": [
           {
            "marker": {
             "colorbar": {
              "outlinewidth": 0,
              "ticks": ""
             }
            },
            "type": "scattermapbox"
           }
          ],
          "scatterpolar": [
           {
            "marker": {
             "colorbar": {
              "outlinewidth": 0,
              "ticks": ""
             }
            },
            "type": "scatterpolar"
           }
          ],
          "scatterpolargl": [
           {
            "marker": {
             "colorbar": {
              "outlinewidth": 0,
              "ticks": ""
             }
            },
            "type": "scatterpolargl"
           }
          ],
          "scatterternary": [
           {
            "marker": {
             "colorbar": {
              "outlinewidth": 0,
              "ticks": ""
             }
            },
            "type": "scatterternary"
           }
          ],
          "surface": [
           {
            "colorbar": {
             "outlinewidth": 0,
             "ticks": ""
            },
            "colorscale": [
             [
              0,
              "#0d0887"
             ],
             [
              0.1111111111111111,
              "#46039f"
             ],
             [
              0.2222222222222222,
              "#7201a8"
             ],
             [
              0.3333333333333333,
              "#9c179e"
             ],
             [
              0.4444444444444444,
              "#bd3786"
             ],
             [
              0.5555555555555556,
              "#d8576b"
             ],
             [
              0.6666666666666666,
              "#ed7953"
             ],
             [
              0.7777777777777778,
              "#fb9f3a"
             ],
             [
              0.8888888888888888,
              "#fdca26"
             ],
             [
              1,
              "#f0f921"
             ]
            ],
            "type": "surface"
           }
          ],
          "table": [
           {
            "cells": {
             "fill": {
              "color": "#EBF0F8"
             },
             "line": {
              "color": "white"
             }
            },
            "header": {
             "fill": {
              "color": "#C8D4E3"
             },
             "line": {
              "color": "white"
             }
            },
            "type": "table"
           }
          ]
         },
         "layout": {
          "annotationdefaults": {
           "arrowcolor": "#2a3f5f",
           "arrowhead": 0,
           "arrowwidth": 1
          },
          "autotypenumbers": "strict",
          "coloraxis": {
           "colorbar": {
            "outlinewidth": 0,
            "ticks": ""
           }
          },
          "colorscale": {
           "diverging": [
            [
             0,
             "#8e0152"
            ],
            [
             0.1,
             "#c51b7d"
            ],
            [
             0.2,
             "#de77ae"
            ],
            [
             0.3,
             "#f1b6da"
            ],
            [
             0.4,
             "#fde0ef"
            ],
            [
             0.5,
             "#f7f7f7"
            ],
            [
             0.6,
             "#e6f5d0"
            ],
            [
             0.7,
             "#b8e186"
            ],
            [
             0.8,
             "#7fbc41"
            ],
            [
             0.9,
             "#4d9221"
            ],
            [
             1,
             "#276419"
            ]
           ],
           "sequential": [
            [
             0,
             "#0d0887"
            ],
            [
             0.1111111111111111,
             "#46039f"
            ],
            [
             0.2222222222222222,
             "#7201a8"
            ],
            [
             0.3333333333333333,
             "#9c179e"
            ],
            [
             0.4444444444444444,
             "#bd3786"
            ],
            [
             0.5555555555555556,
             "#d8576b"
            ],
            [
             0.6666666666666666,
             "#ed7953"
            ],
            [
             0.7777777777777778,
             "#fb9f3a"
            ],
            [
             0.8888888888888888,
             "#fdca26"
            ],
            [
             1,
             "#f0f921"
            ]
           ],
           "sequentialminus": [
            [
             0,
             "#0d0887"
            ],
            [
             0.1111111111111111,
             "#46039f"
            ],
            [
             0.2222222222222222,
             "#7201a8"
            ],
            [
             0.3333333333333333,
             "#9c179e"
            ],
            [
             0.4444444444444444,
             "#bd3786"
            ],
            [
             0.5555555555555556,
             "#d8576b"
            ],
            [
             0.6666666666666666,
             "#ed7953"
            ],
            [
             0.7777777777777778,
             "#fb9f3a"
            ],
            [
             0.8888888888888888,
             "#fdca26"
            ],
            [
             1,
             "#f0f921"
            ]
           ]
          },
          "colorway": [
           "#636efa",
           "#EF553B",
           "#00cc96",
           "#ab63fa",
           "#FFA15A",
           "#19d3f3",
           "#FF6692",
           "#B6E880",
           "#FF97FF",
           "#FECB52"
          ],
          "font": {
           "color": "#2a3f5f"
          },
          "geo": {
           "bgcolor": "white",
           "lakecolor": "white",
           "landcolor": "#E5ECF6",
           "showlakes": true,
           "showland": true,
           "subunitcolor": "white"
          },
          "hoverlabel": {
           "align": "left"
          },
          "hovermode": "closest",
          "mapbox": {
           "style": "light"
          },
          "paper_bgcolor": "white",
          "plot_bgcolor": "#E5ECF6",
          "polar": {
           "angularaxis": {
            "gridcolor": "white",
            "linecolor": "white",
            "ticks": ""
           },
           "bgcolor": "#E5ECF6",
           "radialaxis": {
            "gridcolor": "white",
            "linecolor": "white",
            "ticks": ""
           }
          },
          "scene": {
           "xaxis": {
            "backgroundcolor": "#E5ECF6",
            "gridcolor": "white",
            "gridwidth": 2,
            "linecolor": "white",
            "showbackground": true,
            "ticks": "",
            "zerolinecolor": "white"
           },
           "yaxis": {
            "backgroundcolor": "#E5ECF6",
            "gridcolor": "white",
            "gridwidth": 2,
            "linecolor": "white",
            "showbackground": true,
            "ticks": "",
            "zerolinecolor": "white"
           },
           "zaxis": {
            "backgroundcolor": "#E5ECF6",
            "gridcolor": "white",
            "gridwidth": 2,
            "linecolor": "white",
            "showbackground": true,
            "ticks": "",
            "zerolinecolor": "white"
           }
          },
          "shapedefaults": {
           "line": {
            "color": "#2a3f5f"
           }
          },
          "ternary": {
           "aaxis": {
            "gridcolor": "white",
            "linecolor": "white",
            "ticks": ""
           },
           "baxis": {
            "gridcolor": "white",
            "linecolor": "white",
            "ticks": ""
           },
           "bgcolor": "#E5ECF6",
           "caxis": {
            "gridcolor": "white",
            "linecolor": "white",
            "ticks": ""
           }
          },
          "title": {
           "x": 0.05
          },
          "xaxis": {
           "automargin": true,
           "gridcolor": "white",
           "linecolor": "white",
           "ticks": "",
           "title": {
            "standoff": 15
           },
           "zerolinecolor": "white",
           "zerolinewidth": 2
          },
          "yaxis": {
           "automargin": true,
           "gridcolor": "white",
           "linecolor": "white",
           "ticks": "",
           "title": {
            "standoff": 15
           },
           "zerolinecolor": "white",
           "zerolinewidth": 2
          }
         }
        },
        "width": 900,
        "xaxis": {
         "gridcolor": "#1f292f",
         "nticks": 5,
         "rangeslider": {
          "visible": false
         }
        },
        "yaxis": {
         "gridcolor": "#1f292f"
        }
       }
      }
     },
     "metadata": {},
     "output_type": "display_data"
    }
   ],
   "source": [
    "for curr in df_MA_20_MA_40[df_MA_20_MA_40.total_gain > 0].pair.unique():\n",
    "    temp_gains = df_ma_trades_h1[(df_ma_trades_h1.cross==cross)&(df_ma_trades_h1.pair==curr)].copy()\n",
    "    print(curr, int(temp_gains.GAIN.sum()))\n",
    "    cp = CandlePlot(temp_gains, candles=False)\n",
    "    cp.show_plot(line_traces=['GAIN_C'])"
   ]
  },
  {
   "cell_type": "code",
   "execution_count": null,
   "metadata": {},
   "outputs": [],
   "source": []
  },
  {
   "cell_type": "code",
   "execution_count": null,
   "metadata": {},
   "outputs": [],
   "source": []
  },
  {
   "cell_type": "code",
   "execution_count": null,
   "metadata": {},
   "outputs": [],
   "source": []
  },
  {
   "cell_type": "code",
   "execution_count": null,
   "metadata": {},
   "outputs": [],
   "source": []
  }
 ],
 "metadata": {
  "kernelspec": {
   "display_name": "venv",
   "language": "python",
   "name": "python3"
  },
  "language_info": {
   "codemirror_mode": {
    "name": "ipython",
    "version": 3
   },
   "file_extension": ".py",
   "mimetype": "text/x-python",
   "name": "python",
   "nbconvert_exporter": "python",
   "pygments_lexer": "ipython3",
   "version": "3.11.1"
  },
  "orig_nbformat": 4
 },
 "nbformat": 4,
 "nbformat_minor": 2
}
